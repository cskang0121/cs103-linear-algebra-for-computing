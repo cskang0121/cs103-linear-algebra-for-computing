{
 "cells": [
  {
   "cell_type": "markdown",
   "metadata": {},
   "source": [
    "<div style=\"color:darkgreen;background-color:lightgreen;padding:10px\">\n",
    "\n",
    "# <center>Assignment 2</center>\n",
    "\n",
    "</div>\n",
    "\n",
    "## Instructions\n",
    "1. Create a Jupyter notebook, using this file as the skeleton\n",
    "1. Please add extra code or markdown cells as needed for clarity and formatting\n",
    "1. You may be able to use the Labs, homeworks or practice exercises as samples to work out the solutions\n",
    "1. Please do not copy files from your classmates, or cut and paste\n",
    "1. Before submitting, make sure that everything recomputes properly\n",
    "    - Save and close the Jupyter notebook, restart *SageMath* and load the file again\n",
    "    - Clear all output from **Cell >> All Output >> Clear**\n",
    "    - Repopulate everything by  **Cell >> Run All**\n",
    "    - Check carefully to ensure that all answers are computed correcly\n",
    "1. Rename your file using your name, like: `manoj-A2.ipynb`\n",
    "1. Submit to **eLearn >> Assignments >> Assignment 2** folder\n",
    "    - You can submit as many times as you want, but only the last submission will be retained and graded\n",
    "    - To be clear, the previous versions will be *overwritten*\n",
    "    - All submissions are timestamped, and late submissions will be penalized\n",
    "    - After a short grace period, the Assignment folder will be locked\n",
    "    - Please do not try to submit by email or any other means\n",
    "\n",
    "## Valuation\n",
    "Assignment will be graded using the following criteria\n",
    "   - 70% : Correctness\n",
    "   - 10% : Brevity and elegance of the solutions\n",
    "   - 10% : Clarity and formatting\n",
    "   - 10% : Creativity  \n",
    "Do not ask us to specify what creativity is. If we were to specify it, it wouldn't be *creativity*, but *instructions*!\n"
   ]
  },
  {
   "cell_type": "markdown",
   "metadata": {},
   "source": [
    "<div style=\"color:darkgreen;background-color:lightgreen;padding:10px\">\n",
    "\n",
    "### Question 1 \n",
    "<div style=\"text-align: right; font-size: 1.1em; color:red\"> [10 marks]</div>\n",
    "</div>\n"
   ]
  },
  {
   "cell_type": "markdown",
   "metadata": {},
   "source": [
    "### 1(a)\n",
    "<div style=\"text-align: right; font-size: 1.1em; color:red\"> [2 marks]</div>\n",
    "\n",
    "Compute the column space and row space of given matrix using elementary row operations.\n",
    "\n",
    "$$ \\boldsymbol{A} =  \\left(\\begin{array}{rr}\n",
    "-3 & 6 & -1 & 1 & -7 \\\\\n",
    "1 & -2 & 2 & 3 & -1 \\\\\n",
    "2 & -4 & 5 & 8 & -4\n",
    "\\end{array}\\right) $$"
   ]
  },
  {
   "cell_type": "code",
   "execution_count": 36,
   "metadata": {},
   "outputs": [
    {
     "data": {
      "text/html": [
       "<html><script type=\"math/tex; mode=display\">\\newcommand{\\Bold}[1]{\\mathbf{#1}}\\verb|Matrix|\\phantom{\\verb!x!}\\verb|A:|</script></html>"
      ],
      "text/latex": [
       "\\begin{math}\n",
       "\\newcommand{\\Bold}[1]{\\mathbf{#1}}\\verb|Matrix|\\phantom{\\verb!x!}\\verb|A:|\n",
       "\\end{math}"
      ],
      "text/plain": [
       "'Matrix A:'"
      ]
     },
     "metadata": {},
     "output_type": "display_data"
    },
    {
     "data": {
      "text/html": [
       "<html><script type=\"math/tex; mode=display\">\\newcommand{\\Bold}[1]{\\mathbf{#1}}\\left(\\begin{array}{rrrrr}\n",
       "-3 & 6 & -1 & 1 & -7 \\\\\n",
       "1 & -2 & 2 & 3 & -1 \\\\\n",
       "2 & -4 & 5 & 8 & -4\n",
       "\\end{array}\\right)</script></html>"
      ],
      "text/latex": [
       "\\begin{math}\n",
       "\\newcommand{\\Bold}[1]{\\mathbf{#1}}\\left(\\begin{array}{rrrrr}\n",
       "-3 & 6 & -1 & 1 & -7 \\\\\n",
       "1 & -2 & 2 & 3 & -1 \\\\\n",
       "2 & -4 & 5 & 8 & -4\n",
       "\\end{array}\\right)\n",
       "\\end{math}"
      ],
      "text/plain": [
       "[-3  6 -1  1 -7]\n",
       "[ 1 -2  2  3 -1]\n",
       "[ 2 -4  5  8 -4]"
      ]
     },
     "metadata": {},
     "output_type": "display_data"
    },
    {
     "data": {
      "text/html": [
       "<html><script type=\"math/tex; mode=display\">\\newcommand{\\Bold}[1]{\\mathbf{#1}}\\verb|REF|\\phantom{\\verb!x!}\\verb|computation|\\phantom{\\verb!x!}\\verb|of|\\phantom{\\verb!x!}\\verb|matrix|\\phantom{\\verb!x!}\\verb|A|\\phantom{\\verb!x!}\\verb|(killed|\\phantom{\\verb!x!}\\verb|column|\\phantom{\\verb!x!}\\verb|under|\\phantom{\\verb!x!}\\verb|first|\\phantom{\\verb!x!}\\verb|row's|\\phantom{\\verb!x!}\\verb|pivot):|</script></html>"
      ],
      "text/latex": [
       "\\begin{math}\n",
       "\\newcommand{\\Bold}[1]{\\mathbf{#1}}\\verb|REF|\\phantom{\\verb!x!}\\verb|computation|\\phantom{\\verb!x!}\\verb|of|\\phantom{\\verb!x!}\\verb|matrix|\\phantom{\\verb!x!}\\verb|A|\\phantom{\\verb!x!}\\verb|(killed|\\phantom{\\verb!x!}\\verb|column|\\phantom{\\verb!x!}\\verb|under|\\phantom{\\verb!x!}\\verb|first|\\phantom{\\verb!x!}\\verb|row's|\\phantom{\\verb!x!}\\verb|pivot):|\n",
       "\\end{math}"
      ],
      "text/plain": [
       "\"REF computation of matrix A (killed column under first row's pivot): \""
      ]
     },
     "metadata": {},
     "output_type": "display_data"
    },
    {
     "data": {
      "text/html": [
       "<html><script type=\"math/tex; mode=display\">\\newcommand{\\Bold}[1]{\\mathbf{#1}}\\left(\\begin{array}{rrrrr}\n",
       "-3 & 6 & -1 & 1 & -7 \\\\\n",
       "0 & 0 & \\frac{5}{3} & \\frac{10}{3} & -\\frac{10}{3} \\\\\n",
       "0 & 0 & \\frac{13}{3} & \\frac{26}{3} & -\\frac{26}{3}\n",
       "\\end{array}\\right)</script></html>"
      ],
      "text/latex": [
       "\\begin{math}\n",
       "\\newcommand{\\Bold}[1]{\\mathbf{#1}}\\left(\\begin{array}{rrrrr}\n",
       "-3 & 6 & -1 & 1 & -7 \\\\\n",
       "0 & 0 & \\frac{5}{3} & \\frac{10}{3} & -\\frac{10}{3} \\\\\n",
       "0 & 0 & \\frac{13}{3} & \\frac{26}{3} & -\\frac{26}{3}\n",
       "\\end{array}\\right)\n",
       "\\end{math}"
      ],
      "text/plain": [
       "[   -3     6    -1     1    -7]\n",
       "[    0     0   5/3  10/3 -10/3]\n",
       "[    0     0  13/3  26/3 -26/3]"
      ]
     },
     "metadata": {},
     "output_type": "display_data"
    },
    {
     "data": {
      "text/html": [
       "<html><script type=\"math/tex; mode=display\">\\newcommand{\\Bold}[1]{\\mathbf{#1}}\\verb|REF|\\phantom{\\verb!x!}\\verb|computation|\\phantom{\\verb!x!}\\verb|of|\\phantom{\\verb!x!}\\verb|matrix|\\phantom{\\verb!x!}\\verb|A|\\phantom{\\verb!x!}\\verb|(killed|\\phantom{\\verb!x!}\\verb|the|\\phantom{\\verb!x!}\\verb|dependent|\\phantom{\\verb!x!}\\verb|row):|</script></html>"
      ],
      "text/latex": [
       "\\begin{math}\n",
       "\\newcommand{\\Bold}[1]{\\mathbf{#1}}\\verb|REF|\\phantom{\\verb!x!}\\verb|computation|\\phantom{\\verb!x!}\\verb|of|\\phantom{\\verb!x!}\\verb|matrix|\\phantom{\\verb!x!}\\verb|A|\\phantom{\\verb!x!}\\verb|(killed|\\phantom{\\verb!x!}\\verb|the|\\phantom{\\verb!x!}\\verb|dependent|\\phantom{\\verb!x!}\\verb|row):|\n",
       "\\end{math}"
      ],
      "text/plain": [
       "'REF computation of matrix A (killed the dependent row): '"
      ]
     },
     "metadata": {},
     "output_type": "display_data"
    },
    {
     "data": {
      "text/html": [
       "<html><script type=\"math/tex; mode=display\">\\newcommand{\\Bold}[1]{\\mathbf{#1}}\\left(\\begin{array}{rrrrr}\n",
       "-3 & 6 & -1 & 1 & -7 \\\\\n",
       "0 & 0 & \\frac{5}{3} & \\frac{10}{3} & -\\frac{10}{3} \\\\\n",
       "0 & 0 & 0 & 0 & 0\n",
       "\\end{array}\\right)</script></html>"
      ],
      "text/latex": [
       "\\begin{math}\n",
       "\\newcommand{\\Bold}[1]{\\mathbf{#1}}\\left(\\begin{array}{rrrrr}\n",
       "-3 & 6 & -1 & 1 & -7 \\\\\n",
       "0 & 0 & \\frac{5}{3} & \\frac{10}{3} & -\\frac{10}{3} \\\\\n",
       "0 & 0 & 0 & 0 & 0\n",
       "\\end{array}\\right)\n",
       "\\end{math}"
      ],
      "text/plain": [
       "[   -3     6    -1     1    -7]\n",
       "[    0     0   5/3  10/3 -10/3]\n",
       "[    0     0     0     0     0]"
      ]
     },
     "metadata": {},
     "output_type": "display_data"
    },
    {
     "data": {
      "text/html": [
       "<html><script type=\"math/tex; mode=display\">\\newcommand{\\Bold}[1]{\\mathbf{#1}}\\verb|We|\\phantom{\\verb!x!}\\verb|have|\\phantom{\\verb!x!}\\verb|two|\\phantom{\\verb!x!}\\verb|pivots|\\phantom{\\verb!x!}\\verb|in|\\phantom{\\verb!x!}\\verb|REF|\\phantom{\\verb!x!}\\verb|of|\\phantom{\\verb!x!}\\verb|A.|\\phantom{\\verb!x!}\\verb|Hence,|\\phantom{\\verb!x!}\\verb|A|\\phantom{\\verb!x!}\\verb|is|\\phantom{\\verb!x!}\\verb|a|\\phantom{\\verb!x!}\\verb|rank|\\phantom{\\verb!x!}\\verb|2|\\phantom{\\verb!x!}\\verb|matrix.|</script></html>"
      ],
      "text/latex": [
       "\\begin{math}\n",
       "\\newcommand{\\Bold}[1]{\\mathbf{#1}}\\verb|We|\\phantom{\\verb!x!}\\verb|have|\\phantom{\\verb!x!}\\verb|two|\\phantom{\\verb!x!}\\verb|pivots|\\phantom{\\verb!x!}\\verb|in|\\phantom{\\verb!x!}\\verb|REF|\\phantom{\\verb!x!}\\verb|of|\\phantom{\\verb!x!}\\verb|A.|\\phantom{\\verb!x!}\\verb|Hence,|\\phantom{\\verb!x!}\\verb|A|\\phantom{\\verb!x!}\\verb|is|\\phantom{\\verb!x!}\\verb|a|\\phantom{\\verb!x!}\\verb|rank|\\phantom{\\verb!x!}\\verb|2|\\phantom{\\verb!x!}\\verb|matrix.|\n",
       "\\end{math}"
      ],
      "text/plain": [
       "'We have two pivots in REF of A. Hence, A is a rank 2 matrix.'"
      ]
     },
     "metadata": {},
     "output_type": "display_data"
    }
   ],
   "source": [
    "#Create matrix A\n",
    "A = matrix(QQ, [[-3,6,-1,1,-7],[1,-2,2,3,-1],[2,-4,5,8,-4]])\n",
    "pretty_print(\"Matrix A:\")\n",
    "pretty_print(A)\n",
    "\n",
    "#Create a matrix A_REF for REF computation\n",
    "A_REF = copy(A)\n",
    "\n",
    "#Compute REF of matrix A\n",
    "pretty_print(\"REF computation of matrix A (killed column under first row's pivot): \")\n",
    "A_REF.add_multiple_of_row(1, 0, 1/3)\n",
    "A_REF.add_multiple_of_row(2, 0, 2/3)\n",
    "pretty_print(A_REF)\n",
    "\n",
    "pretty_print(\"REF computation of matrix A (killed the dependent row): \")\n",
    "A_REF.add_multiple_of_row(2, 1, -(13/3)/(5/3))\n",
    "pretty_print(A_REF)\n",
    "\n",
    "#Show conclusion from REF of A\n",
    "pretty_print(\"We have two pivots in REF of A. Hence, A is a rank 2 matrix.\")"
   ]
  },
  {
   "cell_type": "code",
   "execution_count": 37,
   "metadata": {},
   "outputs": [
    {
     "data": {
      "text/html": [
       "<html><script type=\"math/tex; mode=display\">\\newcommand{\\Bold}[1]{\\mathbf{#1}}\\verb|Define|\\phantom{\\verb!x!}\\verb|C(A):|</script></html>"
      ],
      "text/latex": [
       "\\begin{math}\n",
       "\\newcommand{\\Bold}[1]{\\mathbf{#1}}\\verb|Define|\\phantom{\\verb!x!}\\verb|C(A):|\n",
       "\\end{math}"
      ],
      "text/plain": [
       "'Define C(A):'"
      ]
     },
     "metadata": {},
     "output_type": "display_data"
    },
    {
     "data": {
      "text/html": [
       "<html><script type=\"math/tex; mode=display\">\\newcommand{\\Bold}[1]{\\mathbf{#1}}\\verb|i.|\\phantom{\\verb!x!}\\verb|C(A)|\\phantom{\\verb!x!}\\verb|is|\\phantom{\\verb!x!}\\verb|a|\\phantom{\\verb!x!}\\verb|subspace|\\phantom{\\verb!x!}\\verb|of|\\phantom{\\verb!x!}\\verb|R^3.|</script></html>"
      ],
      "text/latex": [
       "\\begin{math}\n",
       "\\newcommand{\\Bold}[1]{\\mathbf{#1}}\\verb|i.|\\phantom{\\verb!x!}\\verb|C(A)|\\phantom{\\verb!x!}\\verb|is|\\phantom{\\verb!x!}\\verb|a|\\phantom{\\verb!x!}\\verb|subspace|\\phantom{\\verb!x!}\\verb|of|\\phantom{\\verb!x!}\\verb|R^3.|\n",
       "\\end{math}"
      ],
      "text/plain": [
       "'i. C(A) is a subspace of R^3.'"
      ]
     },
     "metadata": {},
     "output_type": "display_data"
    },
    {
     "data": {
      "text/html": [
       "<html><script type=\"math/tex; mode=display\">\\newcommand{\\Bold}[1]{\\mathbf{#1}}\\verb|ii.|\\phantom{\\verb!x!}\\verb|Basis|\\phantom{\\verb!x!}\\verb|of|\\phantom{\\verb!x!}\\verb|C(A):|</script></html>"
      ],
      "text/latex": [
       "\\begin{math}\n",
       "\\newcommand{\\Bold}[1]{\\mathbf{#1}}\\verb|ii.|\\phantom{\\verb!x!}\\verb|Basis|\\phantom{\\verb!x!}\\verb|of|\\phantom{\\verb!x!}\\verb|C(A):|\n",
       "\\end{math}"
      ],
      "text/plain": [
       "'ii. Basis of C(A):'"
      ]
     },
     "metadata": {},
     "output_type": "display_data"
    },
    {
     "data": {
      "text/html": [
       "<html><script type=\"math/tex; mode=display\">\\newcommand{\\Bold}[1]{\\mathbf{#1}}\\left(\\begin{array}{rr}\n",
       "-3 & -1 \\\\\n",
       "1 & 2 \\\\\n",
       "2 & 5\n",
       "\\end{array}\\right)</script></html>"
      ],
      "text/latex": [
       "\\begin{math}\n",
       "\\newcommand{\\Bold}[1]{\\mathbf{#1}}\\left(\\begin{array}{rr}\n",
       "-3 & -1 \\\\\n",
       "1 & 2 \\\\\n",
       "2 & 5\n",
       "\\end{array}\\right)\n",
       "\\end{math}"
      ],
      "text/plain": [
       "[-3 -1]\n",
       "[ 1  2]\n",
       "[ 2  5]"
      ]
     },
     "metadata": {},
     "output_type": "display_data"
    },
    {
     "data": {
      "text/html": [
       "<html><script type=\"math/tex; mode=display\">\\newcommand{\\Bold}[1]{\\mathbf{#1}}\\verb|iii.|\\phantom{\\verb!x!}\\verb|dim(C(A))=| 2</script></html>"
      ],
      "text/latex": [
       "\\begin{math}\n",
       "\\newcommand{\\Bold}[1]{\\mathbf{#1}}\\verb|iii.|\\phantom{\\verb!x!}\\verb|dim(C(A))=| 2\n",
       "\\end{math}"
      ],
      "text/plain": [
       "'iii. dim(C(A))=' 2"
      ]
     },
     "metadata": {},
     "output_type": "display_data"
    }
   ],
   "source": [
    "#Compute column space of A\n",
    "#Define column space, C(A) by specifying the following\n",
    "pretty_print('Define C(A):')\n",
    "\n",
    "#    i. The containing space of C(A)\n",
    "pretty_print('i. C(A) is a subspace of R^3.')\n",
    "\n",
    "#    ii. The basis of C(A)\n",
    "basisCA = A.matrix_from_columns([0, 2])\n",
    "pretty_print('ii. Basis of C(A):')\n",
    "pretty_print(basisCA)\n",
    "\n",
    "#    iii. The dimension of C(A)\n",
    "pretty_print('iii. dim(C(A))=', basisCA.rank())"
   ]
  },
  {
   "cell_type": "code",
   "execution_count": 38,
   "metadata": {},
   "outputs": [
    {
     "data": {
      "text/html": [
       "<html><script type=\"math/tex; mode=display\">\\newcommand{\\Bold}[1]{\\mathbf{#1}}\\verb|Define|\\phantom{\\verb!x!}\\verb|C(A^T):|</script></html>"
      ],
      "text/latex": [
       "\\begin{math}\n",
       "\\newcommand{\\Bold}[1]{\\mathbf{#1}}\\verb|Define|\\phantom{\\verb!x!}\\verb|C(A^T):|\n",
       "\\end{math}"
      ],
      "text/plain": [
       "'Define C(A^T):'"
      ]
     },
     "metadata": {},
     "output_type": "display_data"
    },
    {
     "data": {
      "text/html": [
       "<html><script type=\"math/tex; mode=display\">\\newcommand{\\Bold}[1]{\\mathbf{#1}}\\verb|i.|\\phantom{\\verb!x!}\\verb|C(A^T)|\\phantom{\\verb!x!}\\verb|is|\\phantom{\\verb!x!}\\verb|a|\\phantom{\\verb!x!}\\verb|subspace|\\phantom{\\verb!x!}\\verb|of|\\phantom{\\verb!x!}\\verb|R^5.|</script></html>"
      ],
      "text/latex": [
       "\\begin{math}\n",
       "\\newcommand{\\Bold}[1]{\\mathbf{#1}}\\verb|i.|\\phantom{\\verb!x!}\\verb|C(A^T)|\\phantom{\\verb!x!}\\verb|is|\\phantom{\\verb!x!}\\verb|a|\\phantom{\\verb!x!}\\verb|subspace|\\phantom{\\verb!x!}\\verb|of|\\phantom{\\verb!x!}\\verb|R^5.|\n",
       "\\end{math}"
      ],
      "text/plain": [
       "'i. C(A^T) is a subspace of R^5.'"
      ]
     },
     "metadata": {},
     "output_type": "display_data"
    },
    {
     "data": {
      "text/html": [
       "<html><script type=\"math/tex; mode=display\">\\newcommand{\\Bold}[1]{\\mathbf{#1}}\\verb|ii.|\\phantom{\\verb!x!}\\verb|Basis|\\phantom{\\verb!x!}\\verb|of|\\phantom{\\verb!x!}\\verb|C(A^T):|</script></html>"
      ],
      "text/latex": [
       "\\begin{math}\n",
       "\\newcommand{\\Bold}[1]{\\mathbf{#1}}\\verb|ii.|\\phantom{\\verb!x!}\\verb|Basis|\\phantom{\\verb!x!}\\verb|of|\\phantom{\\verb!x!}\\verb|C(A^T):|\n",
       "\\end{math}"
      ],
      "text/plain": [
       "'ii. Basis of C(A^T):'"
      ]
     },
     "metadata": {},
     "output_type": "display_data"
    },
    {
     "data": {
      "text/html": [
       "<html><script type=\"math/tex; mode=display\">\\newcommand{\\Bold}[1]{\\mathbf{#1}}\\left(\\begin{array}{rr}\n",
       "-3 & 1 \\\\\n",
       "6 & -2 \\\\\n",
       "-1 & 2 \\\\\n",
       "1 & 3 \\\\\n",
       "-7 & -1\n",
       "\\end{array}\\right)</script></html>"
      ],
      "text/latex": [
       "\\begin{math}\n",
       "\\newcommand{\\Bold}[1]{\\mathbf{#1}}\\left(\\begin{array}{rr}\n",
       "-3 & 1 \\\\\n",
       "6 & -2 \\\\\n",
       "-1 & 2 \\\\\n",
       "1 & 3 \\\\\n",
       "-7 & -1\n",
       "\\end{array}\\right)\n",
       "\\end{math}"
      ],
      "text/plain": [
       "[-3  1]\n",
       "[ 6 -2]\n",
       "[-1  2]\n",
       "[ 1  3]\n",
       "[-7 -1]"
      ]
     },
     "metadata": {},
     "output_type": "display_data"
    },
    {
     "data": {
      "text/html": [
       "<html><script type=\"math/tex; mode=display\">\\newcommand{\\Bold}[1]{\\mathbf{#1}}\\verb|iii.|\\phantom{\\verb!x!}\\verb|dim(C(A^T))=| 2</script></html>"
      ],
      "text/latex": [
       "\\begin{math}\n",
       "\\newcommand{\\Bold}[1]{\\mathbf{#1}}\\verb|iii.|\\phantom{\\verb!x!}\\verb|dim(C(A^T))=| 2\n",
       "\\end{math}"
      ],
      "text/plain": [
       "'iii. dim(C(A^T))=' 2"
      ]
     },
     "metadata": {},
     "output_type": "display_data"
    }
   ],
   "source": [
    "#Compute row space of A\n",
    "#Define row space, C(A^T) by specifying the following\n",
    "pretty_print('Define C(A^T):')\n",
    "\n",
    "#    i. The containing space of C(A^T)\n",
    "pretty_print('i. C(A^T) is a subspace of R^5.')\n",
    "\n",
    "#    ii. The basis of C(A^T)\n",
    "basisCAT = A.matrix_from_rows([0, 1])\n",
    "pretty_print('ii. Basis of C(A^T):')\n",
    "pretty_print(basisCAT.T)\n",
    "\n",
    "#    iii. The dimension of C(A^T)\n",
    "pretty_print('iii. dim(C(A^T))=', basisCAT.rank())\n",
    "\n",
    "marks = 0\n",
    "marks += 2"
   ]
  },
  {
   "cell_type": "markdown",
   "metadata": {},
   "source": [
    "### 1(b)\n",
    "<div style=\"text-align: right; font-size: 1.1em; color:red\"> [2 marks]</div>\n",
    "\n",
    "Find the null space for $\\boldsymbol A$ using its $RREF$? Prove that it is indeed a vector subspace."
   ]
  },
  {
   "cell_type": "code",
   "execution_count": 39,
   "metadata": {},
   "outputs": [
    {
     "data": {
      "text/html": [
       "<html><script type=\"math/tex; mode=display\">\\newcommand{\\Bold}[1]{\\mathbf{#1}}\\verb|Augmented|\\phantom{\\verb!x!}\\verb|matrix|\\phantom{\\verb!x!}\\verb|with|\\phantom{\\verb!x!}\\verb|REF|\\phantom{\\verb!x!}\\verb|of|\\phantom{\\verb!x!}\\verb|A|\\phantom{\\verb!x!}\\verb|as|\\phantom{\\verb!x!}\\verb|coefficient|\\phantom{\\verb!x!}\\verb|matrix|\\phantom{\\verb!x!}\\verb|and|\\phantom{\\verb!x!}\\verb|0|\\phantom{\\verb!x!}\\verb|vector|\\phantom{\\verb!x!}\\verb|as|\\phantom{\\verb!x!}\\verb|constant|\\phantom{\\verb!x!}\\verb|vector:|</script></html>"
      ],
      "text/latex": [
       "\\begin{math}\n",
       "\\newcommand{\\Bold}[1]{\\mathbf{#1}}\\verb|Augmented|\\phantom{\\verb!x!}\\verb|matrix|\\phantom{\\verb!x!}\\verb|with|\\phantom{\\verb!x!}\\verb|REF|\\phantom{\\verb!x!}\\verb|of|\\phantom{\\verb!x!}\\verb|A|\\phantom{\\verb!x!}\\verb|as|\\phantom{\\verb!x!}\\verb|coefficient|\\phantom{\\verb!x!}\\verb|matrix|\\phantom{\\verb!x!}\\verb|and|\\phantom{\\verb!x!}\\verb|0|\\phantom{\\verb!x!}\\verb|vector|\\phantom{\\verb!x!}\\verb|as|\\phantom{\\verb!x!}\\verb|constant|\\phantom{\\verb!x!}\\verb|vector:|\n",
       "\\end{math}"
      ],
      "text/plain": [
       "'Augmented matrix with REF of A as coefficient matrix and 0 vector as constant vector: '"
      ]
     },
     "metadata": {},
     "output_type": "display_data"
    },
    {
     "data": {
      "text/html": [
       "<html><script type=\"math/tex; mode=display\">\\newcommand{\\Bold}[1]{\\mathbf{#1}}\\left(\\begin{array}{rrrrr|r}\n",
       "-3 & 6 & -1 & 1 & -7 & 0 \\\\\n",
       "0 & 0 & \\frac{5}{3} & \\frac{10}{3} & -\\frac{10}{3} & 0 \\\\\n",
       "0 & 0 & 0 & 0 & 0 & 0\n",
       "\\end{array}\\right)</script></html>"
      ],
      "text/latex": [
       "\\begin{math}\n",
       "\\newcommand{\\Bold}[1]{\\mathbf{#1}}\\left(\\begin{array}{rrrrr|r}\n",
       "-3 & 6 & -1 & 1 & -7 & 0 \\\\\n",
       "0 & 0 & \\frac{5}{3} & \\frac{10}{3} & -\\frac{10}{3} & 0 \\\\\n",
       "0 & 0 & 0 & 0 & 0 & 0\n",
       "\\end{array}\\right)\n",
       "\\end{math}"
      ],
      "text/plain": [
       "[   -3     6    -1     1    -7|    0]\n",
       "[    0     0   5/3  10/3 -10/3|    0]\n",
       "[    0     0     0     0     0|    0]"
      ]
     },
     "metadata": {},
     "output_type": "display_data"
    },
    {
     "data": {
      "text/html": [
       "<html><script type=\"math/tex; mode=display\">\\newcommand{\\Bold}[1]{\\mathbf{#1}}\\verb|RREF|\\phantom{\\verb!x!}\\verb|computation|\\phantom{\\verb!x!}\\verb|of|\\phantom{\\verb!x!}\\verb|matrix|\\phantom{\\verb!x!}\\verb|A|\\phantom{\\verb!x!}\\verb|-|\\phantom{\\verb!x!}\\verb|scaled|\\phantom{\\verb!x!}\\verb|pivot|\\phantom{\\verb!x!}\\verb|of|\\phantom{\\verb!x!}\\verb|second|\\phantom{\\verb!x!}\\verb|row|\\phantom{\\verb!x!}\\verb|to|\\phantom{\\verb!x!}\\verb|1:|</script></html>"
      ],
      "text/latex": [
       "\\begin{math}\n",
       "\\newcommand{\\Bold}[1]{\\mathbf{#1}}\\verb|RREF|\\phantom{\\verb!x!}\\verb|computation|\\phantom{\\verb!x!}\\verb|of|\\phantom{\\verb!x!}\\verb|matrix|\\phantom{\\verb!x!}\\verb|A|\\phantom{\\verb!x!}\\verb|-|\\phantom{\\verb!x!}\\verb|scaled|\\phantom{\\verb!x!}\\verb|pivot|\\phantom{\\verb!x!}\\verb|of|\\phantom{\\verb!x!}\\verb|second|\\phantom{\\verb!x!}\\verb|row|\\phantom{\\verb!x!}\\verb|to|\\phantom{\\verb!x!}\\verb|1:|\n",
       "\\end{math}"
      ],
      "text/plain": [
       "'RREF computation of matrix A - scaled pivot of second row to 1: '"
      ]
     },
     "metadata": {},
     "output_type": "display_data"
    },
    {
     "data": {
      "text/html": [
       "<html><script type=\"math/tex; mode=display\">\\newcommand{\\Bold}[1]{\\mathbf{#1}}\\left(\\begin{array}{rrrrr|r}\n",
       "-3 & 6 & -1 & 1 & -7 & 0 \\\\\n",
       "0 & 0 & 1 & 2 & -2 & 0 \\\\\n",
       "0 & 0 & 0 & 0 & 0 & 0\n",
       "\\end{array}\\right)</script></html>"
      ],
      "text/latex": [
       "\\begin{math}\n",
       "\\newcommand{\\Bold}[1]{\\mathbf{#1}}\\left(\\begin{array}{rrrrr|r}\n",
       "-3 & 6 & -1 & 1 & -7 & 0 \\\\\n",
       "0 & 0 & 1 & 2 & -2 & 0 \\\\\n",
       "0 & 0 & 0 & 0 & 0 & 0\n",
       "\\end{array}\\right)\n",
       "\\end{math}"
      ],
      "text/plain": [
       "[-3  6 -1  1 -7| 0]\n",
       "[ 0  0  1  2 -2| 0]\n",
       "[ 0  0  0  0  0| 0]"
      ]
     },
     "metadata": {},
     "output_type": "display_data"
    },
    {
     "data": {
      "text/html": [
       "<html><script type=\"math/tex; mode=display\">\\newcommand{\\Bold}[1]{\\mathbf{#1}}\\verb|RREF|\\phantom{\\verb!x!}\\verb|computation|\\phantom{\\verb!x!}\\verb|of|\\phantom{\\verb!x!}\\verb|matrix|\\phantom{\\verb!x!}\\verb|A|\\phantom{\\verb!x!}\\verb|-|\\phantom{\\verb!x!}\\verb|killed|\\phantom{\\verb!x!}\\verb|third|\\phantom{\\verb!x!}\\verb|element|\\phantom{\\verb!x!}\\verb|of|\\phantom{\\verb!x!}\\verb|first|\\phantom{\\verb!x!}\\verb|row|\\phantom{\\verb!x!}\\verb|and|\\phantom{\\verb!x!}\\verb|scaled|\\phantom{\\verb!x!}\\verb|pivot|\\phantom{\\verb!x!}\\verb|of|\\phantom{\\verb!x!}\\verb|first|\\phantom{\\verb!x!}\\verb|row|\\phantom{\\verb!x!}\\verb|to|\\phantom{\\verb!x!}\\verb|1:|</script></html>"
      ],
      "text/latex": [
       "\\begin{math}\n",
       "\\newcommand{\\Bold}[1]{\\mathbf{#1}}\\verb|RREF|\\phantom{\\verb!x!}\\verb|computation|\\phantom{\\verb!x!}\\verb|of|\\phantom{\\verb!x!}\\verb|matrix|\\phantom{\\verb!x!}\\verb|A|\\phantom{\\verb!x!}\\verb|-|\\phantom{\\verb!x!}\\verb|killed|\\phantom{\\verb!x!}\\verb|third|\\phantom{\\verb!x!}\\verb|element|\\phantom{\\verb!x!}\\verb|of|\\phantom{\\verb!x!}\\verb|first|\\phantom{\\verb!x!}\\verb|row|\\phantom{\\verb!x!}\\verb|and|\\phantom{\\verb!x!}\\verb|scaled|\\phantom{\\verb!x!}\\verb|pivot|\\phantom{\\verb!x!}\\verb|of|\\phantom{\\verb!x!}\\verb|first|\\phantom{\\verb!x!}\\verb|row|\\phantom{\\verb!x!}\\verb|to|\\phantom{\\verb!x!}\\verb|1:|\n",
       "\\end{math}"
      ],
      "text/plain": [
       "'RREF computation of matrix A - killed third element of first row and scaled pivot of first row to 1: '"
      ]
     },
     "metadata": {},
     "output_type": "display_data"
    },
    {
     "data": {
      "text/html": [
       "<html><script type=\"math/tex; mode=display\">\\newcommand{\\Bold}[1]{\\mathbf{#1}}\\left(\\begin{array}{rrrrr|r}\n",
       "1 & -2 & 0 & -1 & 3 & 0 \\\\\n",
       "0 & 0 & 1 & 2 & -2 & 0 \\\\\n",
       "0 & 0 & 0 & 0 & 0 & 0\n",
       "\\end{array}\\right)</script></html>"
      ],
      "text/latex": [
       "\\begin{math}\n",
       "\\newcommand{\\Bold}[1]{\\mathbf{#1}}\\left(\\begin{array}{rrrrr|r}\n",
       "1 & -2 & 0 & -1 & 3 & 0 \\\\\n",
       "0 & 0 & 1 & 2 & -2 & 0 \\\\\n",
       "0 & 0 & 0 & 0 & 0 & 0\n",
       "\\end{array}\\right)\n",
       "\\end{math}"
      ],
      "text/plain": [
       "[ 1 -2  0 -1  3| 0]\n",
       "[ 0  0  1  2 -2| 0]\n",
       "[ 0  0  0  0  0| 0]"
      ]
     },
     "metadata": {},
     "output_type": "display_data"
    }
   ],
   "source": [
    "#Compute RREF of matrix A\n",
    "A_RREF = copy(A_REF)\n",
    "A_aug_RREF = A_RREF.augment(vector(QQ, [0, 0, 0]), subdivide=true)\n",
    "pretty_print('Augmented matrix with REF of A as coefficient matrix and 0 vector as constant vector: ')\n",
    "pretty_print(A_aug_RREF)\n",
    "\n",
    "pretty_print(\"RREF computation of matrix A - scaled pivot of second row to 1: \")\n",
    "A_aug_RREF.rescale_row(1, 3/5)\n",
    "pretty_print(A_aug_RREF)\n",
    "\n",
    "pretty_print(\"RREF computation of matrix A - killed third element of first row and scaled pivot of first row to 1: \")\n",
    "A_aug_RREF.add_multiple_of_row(0, 1, 1)\n",
    "A_aug_RREF.rescale_row(0, -1/3)\n",
    "pretty_print(A_aug_RREF)"
   ]
  },
  {
   "cell_type": "markdown",
   "metadata": {},
   "source": [
    "According to RREF computation of A (using 0 vector as constant vector), we obtain two equations: <br>\n",
    "1. $(1 * x1) + (-2 * x2) + (0 * x3) + (-1 * x4) + (3 * x5) = 0$\n",
    "2. $(0 * x1) + (0 * x2) + (1 * x3) + (2 * x4) + (-2 * x5) = 0$"
   ]
  },
  {
   "cell_type": "code",
   "execution_count": 40,
   "metadata": {},
   "outputs": [
    {
     "data": {
      "text/html": [
       "<html><script type=\"math/tex; mode=display\">\\newcommand{\\Bold}[1]{\\mathbf{#1}}\\verb|First|\\phantom{\\verb!x!}\\verb|basis|\\phantom{\\verb!x!}\\verb|vector|\\phantom{\\verb!x!}\\verb|of|\\phantom{\\verb!x!}\\verb|N(A):|</script></html>"
      ],
      "text/latex": [
       "\\begin{math}\n",
       "\\newcommand{\\Bold}[1]{\\mathbf{#1}}\\verb|First|\\phantom{\\verb!x!}\\verb|basis|\\phantom{\\verb!x!}\\verb|vector|\\phantom{\\verb!x!}\\verb|of|\\phantom{\\verb!x!}\\verb|N(A):|\n",
       "\\end{math}"
      ],
      "text/plain": [
       "'First basis vector of N(A):'"
      ]
     },
     "metadata": {},
     "output_type": "display_data"
    },
    {
     "data": {
      "text/html": [
       "<html><script type=\"math/tex; mode=display\">\\newcommand{\\Bold}[1]{\\mathbf{#1}}\\left(2,\\,1,\\,0,\\,0,\\,0\\right)</script></html>"
      ],
      "text/latex": [
       "\\begin{math}\n",
       "\\newcommand{\\Bold}[1]{\\mathbf{#1}}\\left(2,\\,1,\\,0,\\,0,\\,0\\right)\n",
       "\\end{math}"
      ],
      "text/plain": [
       "(2, 1, 0, 0, 0)"
      ]
     },
     "metadata": {},
     "output_type": "display_data"
    },
    {
     "data": {
      "text/html": [
       "<html><script type=\"math/tex; mode=display\">\\newcommand{\\Bold}[1]{\\mathbf{#1}}\\verb|Second|\\phantom{\\verb!x!}\\verb|basis|\\phantom{\\verb!x!}\\verb|vector|\\phantom{\\verb!x!}\\verb|of|\\phantom{\\verb!x!}\\verb|N(A):|</script></html>"
      ],
      "text/latex": [
       "\\begin{math}\n",
       "\\newcommand{\\Bold}[1]{\\mathbf{#1}}\\verb|Second|\\phantom{\\verb!x!}\\verb|basis|\\phantom{\\verb!x!}\\verb|vector|\\phantom{\\verb!x!}\\verb|of|\\phantom{\\verb!x!}\\verb|N(A):|\n",
       "\\end{math}"
      ],
      "text/plain": [
       "'Second basis vector of N(A):'"
      ]
     },
     "metadata": {},
     "output_type": "display_data"
    },
    {
     "data": {
      "text/html": [
       "<html><script type=\"math/tex; mode=display\">\\newcommand{\\Bold}[1]{\\mathbf{#1}}\\left(1,\\,0,\\,-2,\\,1,\\,0\\right)</script></html>"
      ],
      "text/latex": [
       "\\begin{math}\n",
       "\\newcommand{\\Bold}[1]{\\mathbf{#1}}\\left(1,\\,0,\\,-2,\\,1,\\,0\\right)\n",
       "\\end{math}"
      ],
      "text/plain": [
       "(1, 0, -2, 1, 0)"
      ]
     },
     "metadata": {},
     "output_type": "display_data"
    },
    {
     "data": {
      "text/html": [
       "<html><script type=\"math/tex; mode=display\">\\newcommand{\\Bold}[1]{\\mathbf{#1}}\\verb|Third|\\phantom{\\verb!x!}\\verb|basis|\\phantom{\\verb!x!}\\verb|vector|\\phantom{\\verb!x!}\\verb|of|\\phantom{\\verb!x!}\\verb|N(A):|</script></html>"
      ],
      "text/latex": [
       "\\begin{math}\n",
       "\\newcommand{\\Bold}[1]{\\mathbf{#1}}\\verb|Third|\\phantom{\\verb!x!}\\verb|basis|\\phantom{\\verb!x!}\\verb|vector|\\phantom{\\verb!x!}\\verb|of|\\phantom{\\verb!x!}\\verb|N(A):|\n",
       "\\end{math}"
      ],
      "text/plain": [
       "'Third basis vector of N(A):'"
      ]
     },
     "metadata": {},
     "output_type": "display_data"
    },
    {
     "data": {
      "text/html": [
       "<html><script type=\"math/tex; mode=display\">\\newcommand{\\Bold}[1]{\\mathbf{#1}}\\left(-3,\\,0,\\,2,\\,0,\\,1\\right)</script></html>"
      ],
      "text/latex": [
       "\\begin{math}\n",
       "\\newcommand{\\Bold}[1]{\\mathbf{#1}}\\left(-3,\\,0,\\,2,\\,0,\\,1\\right)\n",
       "\\end{math}"
      ],
      "text/plain": [
       "(-3, 0, 2, 0, 1)"
      ]
     },
     "metadata": {},
     "output_type": "display_data"
    }
   ],
   "source": [
    "#Compute the null space\n",
    "#Finding the null space means finding the corresponding special solutions that form the basis\n",
    "#There are 3 free variables here: x2, x4, and x5\n",
    "\n",
    "#Computation of first basis vector of N(A)\n",
    "#Set x2 = 1, x4 = 0, x5 = 0\n",
    "var('x1,x2,x3,x4,x5')\n",
    "x2 = 1\n",
    "x4 = 0\n",
    "x5 = 0\n",
    "eqn1 = x1 - 2*x2 - x4 + 3*x5 == 0\n",
    "eqn2 = x3 + 2*x4 - 2*x5 == 0\n",
    "x1 = solve([eqn1],x1)[0].rhs()\n",
    "x3 = solve([eqn2],x3)[0].rhs()\n",
    "nullA_basis_vector_1 = vector([x1,x2,x3,x4,x5])\n",
    "pretty_print('First basis vector of N(A):')\n",
    "pretty_print(nullA_basis_vector_1)\n",
    "\n",
    "#Computation of second basis vector of N(A)\n",
    "#Set x2 = 0, x4 = 1, x5 = 0\n",
    "var('x1,x2,x3,x4,x5')\n",
    "x2 = 0\n",
    "x4 = 1\n",
    "x5 = 0\n",
    "eqn1 = x1 - 2*x2 - x4 + 3*x5 == 0\n",
    "eqn2 = x3 + 2*x4 - 2*x5 == 0\n",
    "x1 = solve([eqn1],x1)[0].rhs()\n",
    "x3 = solve([eqn2],x3)[0].rhs()\n",
    "nullA_basis_vector_2 = vector([x1,x2,x3,x4,x5])\n",
    "pretty_print('Second basis vector of N(A):')\n",
    "pretty_print(nullA_basis_vector_2)\n",
    "\n",
    "#Computation of third basis vector of N(A)\n",
    "#Set x2 = 0, x4 = 0, x5 = 1\n",
    "var('x1,x2,x3,x4,x5')\n",
    "x2 = 0\n",
    "x4 = 0\n",
    "x5 = 1\n",
    "eqn1 = x1 - 2*x2 - x4 + 3*x5 == 0\n",
    "eqn2 = x3 + 2*x4 - 2*x5 == 0\n",
    "x1 = solve([eqn1],x1)[0].rhs()\n",
    "x3 = solve([eqn2],x3)[0].rhs()\n",
    "nullA_basis_vector_3 = vector([x1,x2,x3,x4,x5])\n",
    "pretty_print('Third basis vector of N(A):')\n",
    "pretty_print(nullA_basis_vector_3)"
   ]
  },
  {
   "cell_type": "code",
   "execution_count": 41,
   "metadata": {},
   "outputs": [
    {
     "data": {
      "text/html": [
       "<html><script type=\"math/tex; mode=display\">\\newcommand{\\Bold}[1]{\\mathbf{#1}}\\verb|Define|\\phantom{\\verb!x!}\\verb|N(A):|</script></html>"
      ],
      "text/latex": [
       "\\begin{math}\n",
       "\\newcommand{\\Bold}[1]{\\mathbf{#1}}\\verb|Define|\\phantom{\\verb!x!}\\verb|N(A):|\n",
       "\\end{math}"
      ],
      "text/plain": [
       "'Define N(A):'"
      ]
     },
     "metadata": {},
     "output_type": "display_data"
    },
    {
     "data": {
      "text/html": [
       "<html><script type=\"math/tex; mode=display\">\\newcommand{\\Bold}[1]{\\mathbf{#1}}\\verb|i.|\\phantom{\\verb!x!}\\verb|N(A)|\\phantom{\\verb!x!}\\verb|is|\\phantom{\\verb!x!}\\verb|a|\\phantom{\\verb!x!}\\verb|subspace|\\phantom{\\verb!x!}\\verb|of|\\phantom{\\verb!x!}\\verb|R^5.|</script></html>"
      ],
      "text/latex": [
       "\\begin{math}\n",
       "\\newcommand{\\Bold}[1]{\\mathbf{#1}}\\verb|i.|\\phantom{\\verb!x!}\\verb|N(A)|\\phantom{\\verb!x!}\\verb|is|\\phantom{\\verb!x!}\\verb|a|\\phantom{\\verb!x!}\\verb|subspace|\\phantom{\\verb!x!}\\verb|of|\\phantom{\\verb!x!}\\verb|R^5.|\n",
       "\\end{math}"
      ],
      "text/plain": [
       "'i. N(A) is a subspace of R^5.'"
      ]
     },
     "metadata": {},
     "output_type": "display_data"
    },
    {
     "data": {
      "text/html": [
       "<html><script type=\"math/tex; mode=display\">\\newcommand{\\Bold}[1]{\\mathbf{#1}}\\verb|ii.|\\phantom{\\verb!x!}\\verb|Basis|\\phantom{\\verb!x!}\\verb|of|\\phantom{\\verb!x!}\\verb|N(A):|</script></html>"
      ],
      "text/latex": [
       "\\begin{math}\n",
       "\\newcommand{\\Bold}[1]{\\mathbf{#1}}\\verb|ii.|\\phantom{\\verb!x!}\\verb|Basis|\\phantom{\\verb!x!}\\verb|of|\\phantom{\\verb!x!}\\verb|N(A):|\n",
       "\\end{math}"
      ],
      "text/plain": [
       "'ii. Basis of N(A):'"
      ]
     },
     "metadata": {},
     "output_type": "display_data"
    },
    {
     "data": {
      "text/html": [
       "<html><script type=\"math/tex; mode=display\">\\newcommand{\\Bold}[1]{\\mathbf{#1}}\\left(\\begin{array}{rrr}\n",
       "2 & 1 & -3 \\\\\n",
       "1 & 0 & 0 \\\\\n",
       "0 & -2 & 2 \\\\\n",
       "0 & 1 & 0 \\\\\n",
       "0 & 0 & 1\n",
       "\\end{array}\\right)</script></html>"
      ],
      "text/latex": [
       "\\begin{math}\n",
       "\\newcommand{\\Bold}[1]{\\mathbf{#1}}\\left(\\begin{array}{rrr}\n",
       "2 & 1 & -3 \\\\\n",
       "1 & 0 & 0 \\\\\n",
       "0 & -2 & 2 \\\\\n",
       "0 & 1 & 0 \\\\\n",
       "0 & 0 & 1\n",
       "\\end{array}\\right)\n",
       "\\end{math}"
      ],
      "text/plain": [
       "[ 2  1 -3]\n",
       "[ 1  0  0]\n",
       "[ 0 -2  2]\n",
       "[ 0  1  0]\n",
       "[ 0  0  1]"
      ]
     },
     "metadata": {},
     "output_type": "display_data"
    },
    {
     "data": {
      "text/html": [
       "<html><script type=\"math/tex; mode=display\">\\newcommand{\\Bold}[1]{\\mathbf{#1}}\\verb|iii.|\\phantom{\\verb!x!}\\verb|dim(N(A))=| 3</script></html>"
      ],
      "text/latex": [
       "\\begin{math}\n",
       "\\newcommand{\\Bold}[1]{\\mathbf{#1}}\\verb|iii.|\\phantom{\\verb!x!}\\verb|dim(N(A))=| 3\n",
       "\\end{math}"
      ],
      "text/plain": [
       "'iii. dim(N(A))=' 3"
      ]
     },
     "metadata": {},
     "output_type": "display_data"
    }
   ],
   "source": [
    "#Define null space, N(A) by specifying the following\n",
    "pretty_print('Define N(A):')\n",
    "\n",
    "#    i. The containing space of N(A)\n",
    "pretty_print('i. N(A) is a subspace of R^5.')\n",
    "\n",
    "#    ii. The basis of N(A)\n",
    "basisNA = matrix([nullA_basis_vector_1, nullA_basis_vector_2, nullA_basis_vector_3])\n",
    "basisNA = basisNA.T\n",
    "pretty_print('ii. Basis of N(A):')\n",
    "pretty_print(basisNA)\n",
    "\n",
    "#    iii. The dimension of N(A) = number of variables - rank of matrix \n",
    "pretty_print('iii. dim(N(A))=', basisNA.rank())"
   ]
  },
  {
   "cell_type": "code",
   "execution_count": 42,
   "metadata": {},
   "outputs": [
    {
     "data": {
      "text/html": [
       "<html><script type=\"math/tex; mode=display\">\\newcommand{\\Bold}[1]{\\mathbf{#1}}\\verb|Is|\\phantom{\\verb!x!}\\verb|N(A)|\\phantom{\\verb!x!}\\verb|a|\\phantom{\\verb!x!}\\verb|subspace|\\phantom{\\verb!x!}\\verb|of|\\phantom{\\verb!x!}\\verb|R^5?|\\phantom{\\verb!x!}\\verb|:| \\mathrm{True}</script></html>"
      ],
      "text/latex": [
       "\\begin{math}\n",
       "\\newcommand{\\Bold}[1]{\\mathbf{#1}}\\verb|Is|\\phantom{\\verb!x!}\\verb|N(A)|\\phantom{\\verb!x!}\\verb|a|\\phantom{\\verb!x!}\\verb|subspace|\\phantom{\\verb!x!}\\verb|of|\\phantom{\\verb!x!}\\verb|R^5?|\\phantom{\\verb!x!}\\verb|:| \\mathrm{True}\n",
       "\\end{math}"
      ],
      "text/plain": [
       "'Is N(A) a subspace of R^5? :' True"
      ]
     },
     "metadata": {},
     "output_type": "display_data"
    }
   ],
   "source": [
    "#Null space is a subspace of R^5\n",
    "\n",
    "#Sagemath Proof\n",
    "R5 = VectorSpace(RR, 5)\n",
    "A_null_space = span([nullA_basis_vector_1, nullA_basis_vector_2, nullA_basis_vector_3], RR)\n",
    "\n",
    "pretty_print(\"Is N(A) a subspace of R^5? :\", A_null_space.is_subspace(R5))\n",
    "\n",
    "\n",
    "#closure properties proof must be done using sagemath\n",
    "marks += 1"
   ]
  },
  {
   "cell_type": "markdown",
   "metadata": {},
   "source": [
    "**To prove that the null space is a subspace of $R^5$, the following conditions must be satisfied:**\n",
    "\n",
    "1. If $x,y∈𝒩(A)$, then $x+y∈𝒩(A)$. (Subspaces must be closed under vector addition)<br><br>\n",
    "Justification: Since we know $x∈𝒩(A)$ and $y∈𝒩(A)$, then $Ax = 0$ and $Ay = 0$. Let $z = x + y$. Therefore, $Az = A(x + y) = Ax + Ay = 0 + 0 = 0$. Thus, $z∈𝒩(A)$ must be true.<br><br>\n",
    "2. If $x∈𝒩(A)$ and $c∈R$, then $cx∈𝒩(A)$. (Subspaces must be closed under scalar multiplication)<br><br>\n",
    "Justification: Since $x∈𝒩(A)$, then $Ax = 0$. Let $z = cx$. Therefore, $Az = A(cx) = c*Ax = c * 0 = 0$. Thus, $z∈𝒩(A)$ must be true. <br><br>\n",
    "3. Zero vector of $R^5$ lives in the subspace. <br><br>\n",
    "Justification: Since zero vector of $R^5$ is simply the linearly combination each column vector in basis of $N(A)$ scaled by 0, it lives in the subspace spanned by $N(A)$.\n",
    "\n",
    "All the conditions hold, we proved that the null space is a subspace of $R^5$."
   ]
  },
  {
   "cell_type": "markdown",
   "metadata": {},
   "source": [
    "### 1(c)\n",
    "<div style=\"text-align: right; font-size: 1.1em; color:red\"> [3 marks]</div>\n",
    "Here's a vector $\\boldsymbol b$.\n",
    "$$ \\boldsymbol b = \\left(\\begin{array}{r}\n",
    "-6 \\\\\n",
    "-8\\\\\n",
    "-22\n",
    "\\end{array}\\right) $$\n",
    "\n",
    "Is $\\boldsymbol b$ in the Column Space of $\\boldsymbol A$? Find the complete solution (particular and special solutions) for $\\boldsymbol{Ax = b}$.\n",
    "\n"
   ]
  },
  {
   "cell_type": "code",
   "execution_count": 43,
   "metadata": {},
   "outputs": [
    {
     "data": {
      "text/html": [
       "<html><script type=\"math/tex; mode=display\">\\newcommand{\\Bold}[1]{\\mathbf{#1}}\\verb|Is|\\phantom{\\verb!x!}\\verb|b|\\phantom{\\verb!x!}\\verb|in|\\phantom{\\verb!x!}\\verb|the|\\phantom{\\verb!x!}\\verb|column|\\phantom{\\verb!x!}\\verb|space|\\phantom{\\verb!x!}\\verb|of|\\phantom{\\verb!x!}\\verb|A?|\\phantom{\\verb!x!}\\verb|:| \\mathrm{True}</script></html>"
      ],
      "text/latex": [
       "\\begin{math}\n",
       "\\newcommand{\\Bold}[1]{\\mathbf{#1}}\\verb|Is|\\phantom{\\verb!x!}\\verb|b|\\phantom{\\verb!x!}\\verb|in|\\phantom{\\verb!x!}\\verb|the|\\phantom{\\verb!x!}\\verb|column|\\phantom{\\verb!x!}\\verb|space|\\phantom{\\verb!x!}\\verb|of|\\phantom{\\verb!x!}\\verb|A?|\\phantom{\\verb!x!}\\verb|:| \\mathrm{True}\n",
       "\\end{math}"
      ],
      "text/plain": [
       "'Is b in the column space of A? :' True"
      ]
     },
     "metadata": {},
     "output_type": "display_data"
    }
   ],
   "source": [
    "#Create vector b and check if it in the column space of matrix A\n",
    "b = vector([-6, -8, -22])\n",
    "pretty_print(\"Is b in the column space of A? :\", b in A.column_space())"
   ]
  },
  {
   "cell_type": "code",
   "execution_count": 44,
   "metadata": {},
   "outputs": [
    {
     "data": {
      "text/html": [
       "<html><script type=\"math/tex; mode=display\">\\newcommand{\\Bold}[1]{\\mathbf{#1}}\\verb|Particular|\\phantom{\\verb!x!}\\verb|solution|\\phantom{\\verb!x!}\\verb|:| \\left(4,\\,0,\\,-6,\\,0,\\,0\\right)</script></html>"
      ],
      "text/latex": [
       "\\begin{math}\n",
       "\\newcommand{\\Bold}[1]{\\mathbf{#1}}\\verb|Particular|\\phantom{\\verb!x!}\\verb|solution|\\phantom{\\verb!x!}\\verb|:| \\left(4,\\,0,\\,-6,\\,0,\\,0\\right)\n",
       "\\end{math}"
      ],
      "text/plain": [
       "'Particular solution :' (4, 0, -6, 0, 0)"
      ]
     },
     "metadata": {},
     "output_type": "display_data"
    },
    {
     "data": {
      "text/html": [
       "<html><script type=\"math/tex; mode=display\">\\newcommand{\\Bold}[1]{\\mathbf{#1}}\\verb|Special|\\phantom{\\verb!x!}\\verb|solution|\\phantom{\\verb!x!}\\verb|(first|\\phantom{\\verb!x!}\\verb|vector)|\\phantom{\\verb!x!}\\verb|:| \\left(2,\\,1,\\,0,\\,0,\\,0\\right)</script></html>"
      ],
      "text/latex": [
       "\\begin{math}\n",
       "\\newcommand{\\Bold}[1]{\\mathbf{#1}}\\verb|Special|\\phantom{\\verb!x!}\\verb|solution|\\phantom{\\verb!x!}\\verb|(first|\\phantom{\\verb!x!}\\verb|vector)|\\phantom{\\verb!x!}\\verb|:| \\left(2,\\,1,\\,0,\\,0,\\,0\\right)\n",
       "\\end{math}"
      ],
      "text/plain": [
       "'Special solution (first vector) :' (2, 1, 0, 0, 0)"
      ]
     },
     "metadata": {},
     "output_type": "display_data"
    },
    {
     "data": {
      "text/html": [
       "<html><script type=\"math/tex; mode=display\">\\newcommand{\\Bold}[1]{\\mathbf{#1}}\\verb|Special|\\phantom{\\verb!x!}\\verb|solution|\\phantom{\\verb!x!}\\verb|(second|\\phantom{\\verb!x!}\\verb|vector)|\\phantom{\\verb!x!}\\verb|:| \\left(1,\\,0,\\,-2,\\,1,\\,0\\right)</script></html>"
      ],
      "text/latex": [
       "\\begin{math}\n",
       "\\newcommand{\\Bold}[1]{\\mathbf{#1}}\\verb|Special|\\phantom{\\verb!x!}\\verb|solution|\\phantom{\\verb!x!}\\verb|(second|\\phantom{\\verb!x!}\\verb|vector)|\\phantom{\\verb!x!}\\verb|:| \\left(1,\\,0,\\,-2,\\,1,\\,0\\right)\n",
       "\\end{math}"
      ],
      "text/plain": [
       "'Special solution (second vector) :' (1, 0, -2, 1, 0)"
      ]
     },
     "metadata": {},
     "output_type": "display_data"
    },
    {
     "data": {
      "text/html": [
       "<html><script type=\"math/tex; mode=display\">\\newcommand{\\Bold}[1]{\\mathbf{#1}}\\verb|Special|\\phantom{\\verb!x!}\\verb|solution|\\phantom{\\verb!x!}\\verb|(third|\\phantom{\\verb!x!}\\verb|vector)|\\phantom{\\verb!x!}\\verb|:| \\left(-3,\\,0,\\,2,\\,0,\\,1\\right)</script></html>"
      ],
      "text/latex": [
       "\\begin{math}\n",
       "\\newcommand{\\Bold}[1]{\\mathbf{#1}}\\verb|Special|\\phantom{\\verb!x!}\\verb|solution|\\phantom{\\verb!x!}\\verb|(third|\\phantom{\\verb!x!}\\verb|vector)|\\phantom{\\verb!x!}\\verb|:| \\left(-3,\\,0,\\,2,\\,0,\\,1\\right)\n",
       "\\end{math}"
      ],
      "text/plain": [
       "'Special solution (third vector) :' (-3, 0, 2, 0, 1)"
      ]
     },
     "metadata": {},
     "output_type": "display_data"
    },
    {
     "data": {
      "text/html": [
       "<html><script type=\"math/tex; mode=display\">\\newcommand{\\Bold}[1]{\\mathbf{#1}}\\verb|Complete|\\phantom{\\verb!x!}\\verb|solution|\\phantom{\\verb!x!}\\verb|=| \\left(\\begin{array}{r}\n",
       "4 \\\\\n",
       "0 \\\\\n",
       "-6 \\\\\n",
       "0 \\\\\n",
       "0\n",
       "\\end{array}\\right) \\verb|+|\\phantom{\\verb!x!}\\verb|x2| \\left(\\begin{array}{r}\n",
       "2 \\\\\n",
       "1 \\\\\n",
       "0 \\\\\n",
       "0 \\\\\n",
       "0\n",
       "\\end{array}\\right) \\verb|+|\\phantom{\\verb!x!}\\verb|x4| \\left(\\begin{array}{r}\n",
       "1 \\\\\n",
       "0 \\\\\n",
       "-2 \\\\\n",
       "1 \\\\\n",
       "0\n",
       "\\end{array}\\right) \\verb|+|\\phantom{\\verb!x!}\\verb|x5| \\left(\\begin{array}{r}\n",
       "-3 \\\\\n",
       "0 \\\\\n",
       "2 \\\\\n",
       "0 \\\\\n",
       "1\n",
       "\\end{array}\\right)</script></html>"
      ],
      "text/latex": [
       "\\begin{math}\n",
       "\\newcommand{\\Bold}[1]{\\mathbf{#1}}\\verb|Complete|\\phantom{\\verb!x!}\\verb|solution|\\phantom{\\verb!x!}\\verb|=| \\left(\\begin{array}{r}\n",
       "4 \\\\\n",
       "0 \\\\\n",
       "-6 \\\\\n",
       "0 \\\\\n",
       "0\n",
       "\\end{array}\\right) \\verb|+|\\phantom{\\verb!x!}\\verb|x2| \\left(\\begin{array}{r}\n",
       "2 \\\\\n",
       "1 \\\\\n",
       "0 \\\\\n",
       "0 \\\\\n",
       "0\n",
       "\\end{array}\\right) \\verb|+|\\phantom{\\verb!x!}\\verb|x4| \\left(\\begin{array}{r}\n",
       "1 \\\\\n",
       "0 \\\\\n",
       "-2 \\\\\n",
       "1 \\\\\n",
       "0\n",
       "\\end{array}\\right) \\verb|+|\\phantom{\\verb!x!}\\verb|x5| \\left(\\begin{array}{r}\n",
       "-3 \\\\\n",
       "0 \\\\\n",
       "2 \\\\\n",
       "0 \\\\\n",
       "1\n",
       "\\end{array}\\right)\n",
       "\\end{math}"
      ],
      "text/plain": [
       "'Complete solution = ' [ 4]\n",
       "[ 0]\n",
       "[-6]\n",
       "[ 0]\n",
       "[ 0] '+ x2' [2]\n",
       "[1]\n",
       "[0]\n",
       "[0]\n",
       "[0] '+ x4' [ 1]\n",
       "[ 0]\n",
       "[-2]\n",
       "[ 1]\n",
       "[ 0] '+ x5' [-3]\n",
       "[ 0]\n",
       "[ 2]\n",
       "[ 0]\n",
       "[ 1]"
      ]
     },
     "metadata": {},
     "output_type": "display_data"
    }
   ],
   "source": [
    "#Compute complete solution\n",
    "#Compute particular solution - set x2, x4, and x5 (the free variables to 0)\n",
    "var('x1, x2, x3, x4, x5')\n",
    "x2 = 0\n",
    "x4 = 0\n",
    "x5 = 0\n",
    "eq_1 = -3*x1 + 6*x2 + -1*x3 + 1*x4 + -7*x5 == -6\n",
    "eq_2 = 1*x1 + -2*x2 + 2*x3 + 3*x4 + -1*x5 == -8\n",
    "eq_3 = 2*x1 + -4*x2 + 5*x3 + 8*x4 + -4*x5 == -22\n",
    "solution = solve([eq_1, eq_2, eq_3],x1,x3)[0]\n",
    "x1 = solution[0].rhs()\n",
    "x3 = solution[1].rhs()\n",
    "particular_solution = vector([x1, x2, x3, x4, x5])\n",
    "pretty_print(\"Particular solution :\", particular_solution)\n",
    "\n",
    "#Compute the special solutions\n",
    "#Set x2 = 1, x4 = 0, x5 = 0\n",
    "var('x1, x2, x3, x4, x5')\n",
    "x2 = 1\n",
    "x4 = 0\n",
    "x5 = 0\n",
    "eq_1 = -3*x1 + 6*x2 + -1*x3 + 1*x4 + -7*x5 == 0\n",
    "eq_2 = 1*x1 + -2*x2 + 2*x3 + 3*x4 + -1*x5 == 0\n",
    "eq_3 = 2*x1 + -4*x2 + 5*x3 + 8*x4 + -4*x5 == 0\n",
    "solution = solve([eq_1, eq_2, eq_3],x1,x3)[0]\n",
    "x1 = solution[0].rhs()\n",
    "x3 = solution[1].rhs()\n",
    "special_solution_1 = vector([x1, x2, x3, x4, x5])\n",
    "pretty_print(\"Special solution (first vector) :\", special_solution_1)\n",
    "\n",
    "# Set x2 = 0, x4 = 1, x5 = 0\n",
    "var('x1, x2, x3, x4, x5')\n",
    "x2 = 0\n",
    "x4 = 1\n",
    "x5 = 0\n",
    "eq_1 = -3*x1 + 6*x2 + -1*x3 + 1*x4 + -7*x5 == 0\n",
    "eq_2 = 1*x1 + -2*x2 + 2*x3 + 3*x4 + -1*x5 == 0\n",
    "eq_3 = 2*x1 + -4*x2 + 5*x3 + 8*x4 + -4*x5 == 0\n",
    "solution = solve([eq_1, eq_2, eq_3],x1,x3)[0]\n",
    "x1 = solution[0].rhs()\n",
    "x3 = solution[1].rhs()\n",
    "special_solution_2 = vector([x1, x2, x3, x4, x5])\n",
    "pretty_print(\"Special solution (second vector) :\", special_solution_2)\n",
    "\n",
    "# Set x2 = 0, x4 = 0, x5 = 1\n",
    "var('x1, x2, x3, x4, x5')\n",
    "x2 = 0\n",
    "x4 = 0\n",
    "x5 = 1\n",
    "eq_1 = -3*x1 + 6*x2 + -1*x3 + 1*x4 + -7*x5 == 0\n",
    "eq_2 = 1*x1 + -2*x2 + 2*x3 + 3*x4 + -1*x5 == 0\n",
    "eq_3 = 2*x1 + -4*x2 + 5*x3 + 8*x4 + -4*x5 == 0\n",
    "solution = solve([eq_1, eq_2, eq_3],x1,x3)[0]\n",
    "x1 = solution[0].rhs()\n",
    "x3 = solution[1].rhs()\n",
    "special_solution_3 = vector([x1, x2, x3, x4, x5])\n",
    "pretty_print(\"Special solution (third vector) :\", special_solution_3)\n",
    "\n",
    "pretty_print(\"Complete solution = \", matrix(particular_solution).T, \"+ x2\", matrix(special_solution_1).T, \"+ x4\", matrix(special_solution_2).T, \"+ x5\", matrix(special_solution_3).T)\n",
    "\n",
    "\n",
    "marks += 3"
   ]
  },
  {
   "cell_type": "markdown",
   "metadata": {},
   "source": [
    "### 1(d)\n",
    "<div style=\"text-align: right; font-size: 1.1em; color:red\"> [3 marks]</div>\n",
    "\n",
    "Given a subspace $\\mathcal S$ spanned by vectors $\\boldsymbol{x_1}$ and $\\boldsymbol{x_2}$\n",
    "$$ \\boldsymbol{x_1} = \\left(\\begin{array}{r}\n",
    "1 \\\\\n",
    "2 \\\\\n",
    "2 \\\\\n",
    "3\n",
    "\\end{array}\\right) $$\n",
    "\n",
    "$$ \\boldsymbol{x_2} = \\left(\\begin{array}{r}\n",
    "1 \\\\\n",
    "3 \\\\\n",
    "3 \\\\\n",
    "2\n",
    "\\end{array}\\right) $$\n",
    "Find a basis for a subspace that is perpencicular to $\\cal S$. i.e, find a basis for $\\mathcal S{^\\perp}$. Prove that every vector in $\\mathbb R{^4}$ can be written uniquely in terms of $\\mathcal S$ and $\\mathcal S{^\\perp}$."
   ]
  },
  {
   "cell_type": "code",
   "execution_count": 45,
   "metadata": {},
   "outputs": [
    {
     "data": {
      "text/html": [
       "<html><script type=\"math/tex; mode=display\">\\newcommand{\\Bold}[1]{\\mathbf{#1}}\\verb|S_matrix:|</script></html>"
      ],
      "text/latex": [
       "\\begin{math}\n",
       "\\newcommand{\\Bold}[1]{\\mathbf{#1}}\\verb|S_matrix:|\n",
       "\\end{math}"
      ],
      "text/plain": [
       "'S_matrix:'"
      ]
     },
     "metadata": {},
     "output_type": "display_data"
    },
    {
     "data": {
      "text/html": [
       "<html><script type=\"math/tex; mode=display\">\\newcommand{\\Bold}[1]{\\mathbf{#1}}\\left(\\begin{array}{rr}\n",
       "1 & 1 \\\\\n",
       "2 & 3 \\\\\n",
       "2 & 3 \\\\\n",
       "3 & 2\n",
       "\\end{array}\\right)</script></html>"
      ],
      "text/latex": [
       "\\begin{math}\n",
       "\\newcommand{\\Bold}[1]{\\mathbf{#1}}\\left(\\begin{array}{rr}\n",
       "1 & 1 \\\\\n",
       "2 & 3 \\\\\n",
       "2 & 3 \\\\\n",
       "3 & 2\n",
       "\\end{array}\\right)\n",
       "\\end{math}"
      ],
      "text/plain": [
       "[1 1]\n",
       "[2 3]\n",
       "[2 3]\n",
       "[3 2]"
      ]
     },
     "metadata": {},
     "output_type": "display_data"
    },
    {
     "data": {
      "text/html": [
       "<html><script type=\"math/tex; mode=display\">\\newcommand{\\Bold}[1]{\\mathbf{#1}}\\verb|Is|\\phantom{\\verb!x!}\\verb|x1|\\phantom{\\verb!x!}\\verb|and|\\phantom{\\verb!x!}\\verb|x2|\\phantom{\\verb!x!}\\verb|linearly|\\phantom{\\verb!x!}\\verb|independent?|\\phantom{\\verb!x!}\\verb|:| \\mathrm{True}</script></html>"
      ],
      "text/latex": [
       "\\begin{math}\n",
       "\\newcommand{\\Bold}[1]{\\mathbf{#1}}\\verb|Is|\\phantom{\\verb!x!}\\verb|x1|\\phantom{\\verb!x!}\\verb|and|\\phantom{\\verb!x!}\\verb|x2|\\phantom{\\verb!x!}\\verb|linearly|\\phantom{\\verb!x!}\\verb|independent?|\\phantom{\\verb!x!}\\verb|:| \\mathrm{True}\n",
       "\\end{math}"
      ],
      "text/plain": [
       "'Is x1 and x2 linearly independent? : ' True"
      ]
     },
     "metadata": {},
     "output_type": "display_data"
    }
   ],
   "source": [
    "#Create vector x1,x2 and matrix S\n",
    "x1_vector = vector([1, 2, 2, 3])\n",
    "x2_vector = vector([1, 3, 3, 2])\n",
    "S_matrix = matrix(QQ, [x1_vector, x2_vector]).T\n",
    "pretty_print(\"S_matrix:\")\n",
    "pretty_print(S_matrix)\n",
    "\n",
    "#Check if x1 and x2 are linearly independent of \n",
    "pretty_print(\"Is x1 and x2 linearly independent? : \", S_matrix.rank() == 2)"
   ]
  },
  {
   "cell_type": "markdown",
   "metadata": {},
   "source": [
    "If $x1$ and $x2$ are linearly independent, both of them can be the 2 basis vectors that span subspace S. Therefore, we place $x1$ and $x2$ in a matrix, and named it S_matrix as shown above, compute the rank of S_matrix for checking linear dependency between columns. \n",
    "\n",
    "Since the column space is all the linear combinations of the columns of S_matrix (which is x1 and x2), it is equivalent to the subspace S.\n",
    "\n",
    "A subspace perpendicular to S (i.e., column space of S_Matrix) would be the **left null space** of S_matrix. To find this, we solve for $x$ where S_Matrix$^Tx = 0$"
   ]
  },
  {
   "cell_type": "code",
   "execution_count": 46,
   "metadata": {},
   "outputs": [
    {
     "data": {
      "text/html": [
       "<html><script type=\"math/tex; mode=display\">\\newcommand{\\Bold}[1]{\\mathbf{#1}}\\verb\"[S_matrix^T\"\\phantom{\\verb!x!}\\verb\"|\"\\phantom{\\verb!x!}\\verb\"0]:\"</script></html>"
      ],
      "text/latex": [
       "\\begin{math}\n",
       "\\newcommand{\\Bold}[1]{\\mathbf{#1}}\\verb\"[S_matrix^T\"\\phantom{\\verb!x!}\\verb\"|\"\\phantom{\\verb!x!}\\verb\"0]:\"\n",
       "\\end{math}"
      ],
      "text/plain": [
       "'[S_matrix^T | 0]: '"
      ]
     },
     "metadata": {},
     "output_type": "display_data"
    },
    {
     "data": {
      "text/html": [
       "<html><script type=\"math/tex; mode=display\">\\newcommand{\\Bold}[1]{\\mathbf{#1}}\\left(\\begin{array}{rrrr|r}\n",
       "1 & 2 & 2 & 3 & 0 \\\\\n",
       "1 & 3 & 3 & 2 & 0\n",
       "\\end{array}\\right)</script></html>"
      ],
      "text/latex": [
       "\\begin{math}\n",
       "\\newcommand{\\Bold}[1]{\\mathbf{#1}}\\left(\\begin{array}{rrrr|r}\n",
       "1 & 2 & 2 & 3 & 0 \\\\\n",
       "1 & 3 & 3 & 2 & 0\n",
       "\\end{array}\\right)\n",
       "\\end{math}"
      ],
      "text/plain": [
       "[1 2 2 3|0]\n",
       "[1 3 3 2|0]"
      ]
     },
     "metadata": {},
     "output_type": "display_data"
    },
    {
     "data": {
      "text/html": [
       "<html><script type=\"math/tex; mode=display\">\\newcommand{\\Bold}[1]{\\mathbf{#1}}\\verb\"RREF\"\\phantom{\\verb!x!}\\verb\"of\"\\phantom{\\verb!x!}\\verb\"[S_matrix^T\"\\phantom{\\verb!x!}\\verb\"|\"\\phantom{\\verb!x!}\\verb\"0]:\"</script></html>"
      ],
      "text/latex": [
       "\\begin{math}\n",
       "\\newcommand{\\Bold}[1]{\\mathbf{#1}}\\verb\"RREF\"\\phantom{\\verb!x!}\\verb\"of\"\\phantom{\\verb!x!}\\verb\"[S_matrix^T\"\\phantom{\\verb!x!}\\verb\"|\"\\phantom{\\verb!x!}\\verb\"0]:\"\n",
       "\\end{math}"
      ],
      "text/plain": [
       "'RREF of [S_matrix^T | 0]: '"
      ]
     },
     "metadata": {},
     "output_type": "display_data"
    },
    {
     "data": {
      "text/html": [
       "<html><script type=\"math/tex; mode=display\">\\newcommand{\\Bold}[1]{\\mathbf{#1}}\\left(\\begin{array}{rrrr|r}\n",
       "1 & 0 & 0 & 5 & 0 \\\\\n",
       "0 & 1 & 1 & -1 & 0\n",
       "\\end{array}\\right)</script></html>"
      ],
      "text/latex": [
       "\\begin{math}\n",
       "\\newcommand{\\Bold}[1]{\\mathbf{#1}}\\left(\\begin{array}{rrrr|r}\n",
       "1 & 0 & 0 & 5 & 0 \\\\\n",
       "0 & 1 & 1 & -1 & 0\n",
       "\\end{array}\\right)\n",
       "\\end{math}"
      ],
      "text/plain": [
       "[ 1  0  0  5| 0]\n",
       "[ 0  1  1 -1| 0]"
      ]
     },
     "metadata": {},
     "output_type": "display_data"
    }
   ],
   "source": [
    "#Create matrix S_matrixT(Transpose of S_matrix)\n",
    "S_matrixT = S_matrix.T\n",
    "\n",
    "#Create matrix S_matrixT_aug(S_matrixT as the coefficient matrix and 0 vector as the constant vector)\n",
    "S_matrixT_aug = S_matrixT.augment(vector([0, 0]), subdivide=true)\n",
    "pretty_print(\"[S_matrix^T | 0]: \")\n",
    "pretty_print(S_matrixT_aug)\n",
    "\n",
    "#Compute RREF of S_matrixT_aug\n",
    "S_matrixT_aug_RREF = S_matrixT_aug.rref()\n",
    "pretty_print(\"RREF of [S_matrix^T | 0]: \")\n",
    "pretty_print(S_matrixT_aug_RREF)"
   ]
  },
  {
   "cell_type": "markdown",
   "metadata": {},
   "source": [
    "According to RREF computation of S_matrix^T (using 0 vector as constant vector), we obtain two equations: <br>\n",
    "1. $(1 * x1) + (0 * x2) + (0 * x3) + (5 * x4) = 0$\n",
    "2. $(0 * x1) + (1 * x2) + (1 * x3) + (-1 * x4) = 0$"
   ]
  },
  {
   "cell_type": "code",
   "execution_count": 47,
   "metadata": {},
   "outputs": [
    {
     "data": {
      "text/html": [
       "<html><script type=\"math/tex; mode=display\">\\newcommand{\\Bold}[1]{\\mathbf{#1}}\\verb|Basis|\\phantom{\\verb!x!}\\verb|of|\\phantom{\\verb!x!}\\verb|left|\\phantom{\\verb!x!}\\verb|null|\\phantom{\\verb!x!}\\verb|space|\\phantom{\\verb!x!}\\verb|(Sperpendicular):|</script></html>"
      ],
      "text/latex": [
       "\\begin{math}\n",
       "\\newcommand{\\Bold}[1]{\\mathbf{#1}}\\verb|Basis|\\phantom{\\verb!x!}\\verb|of|\\phantom{\\verb!x!}\\verb|left|\\phantom{\\verb!x!}\\verb|null|\\phantom{\\verb!x!}\\verb|space|\\phantom{\\verb!x!}\\verb|(Sperpendicular):|\n",
       "\\end{math}"
      ],
      "text/plain": [
       "'Basis of left null space (Sperpendicular):'"
      ]
     },
     "metadata": {},
     "output_type": "display_data"
    },
    {
     "data": {
      "text/html": [
       "<html><script type=\"math/tex; mode=display\">\\newcommand{\\Bold}[1]{\\mathbf{#1}}\\left(\\begin{array}{rr}\n",
       "0 & -5 \\\\\n",
       "-1 & 1 \\\\\n",
       "1 & 0 \\\\\n",
       "0 & 1\n",
       "\\end{array}\\right)</script></html>"
      ],
      "text/latex": [
       "\\begin{math}\n",
       "\\newcommand{\\Bold}[1]{\\mathbf{#1}}\\left(\\begin{array}{rr}\n",
       "0 & -5 \\\\\n",
       "-1 & 1 \\\\\n",
       "1 & 0 \\\\\n",
       "0 & 1\n",
       "\\end{array}\\right)\n",
       "\\end{math}"
      ],
      "text/plain": [
       "[ 0 -5]\n",
       "[-1  1]\n",
       "[ 1  0]\n",
       "[ 0  1]"
      ]
     },
     "metadata": {},
     "output_type": "display_data"
    }
   ],
   "source": [
    "#Compute the left null space\n",
    "\n",
    "#Computation of first basis vector of N(S_matrix_T)\n",
    "# Set x3 = 1, x4 = 0\n",
    "var('x1,x2,x3,x4')\n",
    "x3 = 1\n",
    "x4 = 0\n",
    "eqn1 = x1 + 5*x4 == 0\n",
    "eqn2 = x2 + x3 - x4 == 0\n",
    "x1 = solve([eqn1],x1)[0].rhs()\n",
    "x2 = solve([eqn2],x2)[0].rhs()\n",
    "leftnull_basis_1 = vector([x1,x2,x3,x4])\n",
    "\n",
    "#Computation of second basis vector of N(S_matrix_T)\n",
    "# Set x3 = 0, x4 = 1\n",
    "var('x1,x2,x3,x4')\n",
    "x3 = 0\n",
    "x4 = 1\n",
    "eqn1 = x1 + 5*x4 == 0\n",
    "eqn2 = x2 + x3 - x4 == 0\n",
    "x1 = solve([eqn1],x1)[0].rhs()\n",
    "x2 = solve([eqn2],x2)[0].rhs()\n",
    "leftnull_basis_2 = vector([x1,x2,x3,x4])\n",
    "\n",
    "#Compute the basis of N(S_matrix_T)\n",
    "basisLN_S = matrix(QQ,[leftnull_basis_1, leftnull_basis_2])\n",
    "basisLN_S = basisLN_S.T\n",
    "pretty_print('Basis of left null space (Sperpendicular):')\n",
    "pretty_print(basisLN_S)"
   ]
  },
  {
   "cell_type": "markdown",
   "metadata": {},
   "source": [
    "Basis vectors for $\\mathcal S{^\\perp}$ : $(0, -1, 1, 0)$ and $(-5, 1, 0, 1)$"
   ]
  },
  {
   "cell_type": "markdown",
   "metadata": {},
   "source": [
    "**To prove that every vector in $\\mathbb R{^4}$ can be written uniquely in terms of $\\mathcal S$ and $\\mathcal S{^\\perp}$, we can combine the S_matrix and basis of N(S_matrix$^T$) as a single matrix as follows:**"
   ]
  },
  {
   "cell_type": "code",
   "execution_count": 48,
   "metadata": {},
   "outputs": [
    {
     "data": {
      "text/html": [
       "<html><script type=\"math/tex; mode=display\">\\newcommand{\\Bold}[1]{\\mathbf{#1}}\\verb|The|\\phantom{\\verb!x!}\\verb|combined|\\phantom{\\verb!x!}\\verb|matrix|\\phantom{\\verb!x!}\\verb|is:|</script></html>"
      ],
      "text/latex": [
       "\\begin{math}\n",
       "\\newcommand{\\Bold}[1]{\\mathbf{#1}}\\verb|The|\\phantom{\\verb!x!}\\verb|combined|\\phantom{\\verb!x!}\\verb|matrix|\\phantom{\\verb!x!}\\verb|is:|\n",
       "\\end{math}"
      ],
      "text/plain": [
       "'The combined matrix is: '"
      ]
     },
     "metadata": {},
     "output_type": "display_data"
    },
    {
     "data": {
      "text/html": [
       "<html><script type=\"math/tex; mode=display\">\\newcommand{\\Bold}[1]{\\mathbf{#1}}\\left(\\begin{array}{rrrr}\n",
       "1 & 1 & 0 & -5 \\\\\n",
       "2 & 3 & -1 & 1 \\\\\n",
       "2 & 3 & 1 & 0 \\\\\n",
       "3 & 2 & 0 & 1\n",
       "\\end{array}\\right)</script></html>"
      ],
      "text/latex": [
       "\\begin{math}\n",
       "\\newcommand{\\Bold}[1]{\\mathbf{#1}}\\left(\\begin{array}{rrrr}\n",
       "1 & 1 & 0 & -5 \\\\\n",
       "2 & 3 & -1 & 1 \\\\\n",
       "2 & 3 & 1 & 0 \\\\\n",
       "3 & 2 & 0 & 1\n",
       "\\end{array}\\right)\n",
       "\\end{math}"
      ],
      "text/plain": [
       "[ 1  1  0 -5]\n",
       "[ 2  3 -1  1]\n",
       "[ 2  3  1  0]\n",
       "[ 3  2  0  1]"
      ]
     },
     "metadata": {},
     "output_type": "display_data"
    },
    {
     "data": {
      "text/html": [
       "<html><script type=\"math/tex; mode=display\">\\newcommand{\\Bold}[1]{\\mathbf{#1}}\\verb|Rank|\\phantom{\\verb!x!}\\verb|of|\\phantom{\\verb!x!}\\verb|the|\\phantom{\\verb!x!}\\verb|combined|\\phantom{\\verb!x!}\\verb|matrix|\\phantom{\\verb!x!}\\verb|of|\\phantom{\\verb!x!}\\verb|S|\\phantom{\\verb!x!}\\verb|and|\\phantom{\\verb!x!}\\verb|Sperpendicular:| 4</script></html>"
      ],
      "text/latex": [
       "\\begin{math}\n",
       "\\newcommand{\\Bold}[1]{\\mathbf{#1}}\\verb|Rank|\\phantom{\\verb!x!}\\verb|of|\\phantom{\\verb!x!}\\verb|the|\\phantom{\\verb!x!}\\verb|combined|\\phantom{\\verb!x!}\\verb|matrix|\\phantom{\\verb!x!}\\verb|of|\\phantom{\\verb!x!}\\verb|S|\\phantom{\\verb!x!}\\verb|and|\\phantom{\\verb!x!}\\verb|Sperpendicular:| 4\n",
       "\\end{math}"
      ],
      "text/plain": [
       "'Rank of the combined matrix of S and Sperpendicular: ' 4"
      ]
     },
     "metadata": {},
     "output_type": "display_data"
    }
   ],
   "source": [
    "#Create a matrix S_combined_SLN made of S_matrix and Sperpendicular (or basis of N(S_matrix_T))\n",
    "S_combined_SLN = matrix([x1_vector, x2_vector, leftnull_basis_1, leftnull_basis_2]).T\n",
    "pretty_print(\"The combined matrix is: \")\n",
    "pretty_print(S_combined_SLN)\n",
    "\n",
    "#Compute the rank of the combined matrix\n",
    "pretty_print(\"Rank of the combined matrix of S and Sperpendicular: \", S_combined_SLN.rank())\n",
    "\n",
    "marks += 3"
   ]
  },
  {
   "cell_type": "markdown",
   "metadata": {},
   "source": [
    "Since the 4x4 combined matrix made by putting together the column vectors of S and Sperpendicular has full rank, this implies that there are 4 linearly independent vectors in R^4. In fact, all vectors in R^4 can be written as unique linear combinations of the column vectors in S and column vectors of Sperpendicular."
   ]
  },
  {
   "cell_type": "markdown",
   "metadata": {},
   "source": [
    "<div style=\"color:darkgreen;background-color:lightgreen;padding:10px\">\n",
    "\n",
    "### Question 2 \n",
    "<div style=\"text-align: right; font-size: 1.1em; color:red\"> [15 marks]</div>\n",
    "</div>"
   ]
  },
  {
   "cell_type": "markdown",
   "metadata": {},
   "source": [
    "This question is based on the perspective correction exercise (`Lab-1-Wk7.ipynb` and `Lab-2-Wk7.ipynb`) we did in the class.\n",
    "\n",
    "##### Hints:\n",
    " - You can use the Paint program (on Windows) and hover over a point to get the pixel coordinates\n",
    " - You can also use Preview (on Mac) and click and drag to select a rectangle from the point to the origin (top-left corner of the image) to see the pixel coordinates"
   ]
  },
  {
   "cell_type": "markdown",
   "metadata": {},
   "source": [
    "### 2(a)\n",
    "<div style=\"text-align: right; font-size: 1.1em; color:red\"> [2 marks]</div>\n",
    "\n",
    "Read in the image file `Book.png` and display it."
   ]
  },
  {
   "cell_type": "code",
   "execution_count": 49,
   "metadata": {},
   "outputs": [],
   "source": [
    "import numpy as np\n",
    "import matplotlib.image\n",
    "import matplotlib.pyplot as plt"
   ]
  },
  {
   "cell_type": "code",
   "execution_count": 50,
   "metadata": {},
   "outputs": [
    {
     "name": "stdout",
     "output_type": "stream",
     "text": [
      "book shape: \n"
     ]
    },
    {
     "data": {
      "image/png": "[encoded data removed]",
      "text/plain": [
       "<Figure size 432x288 with 1 Axes>"
      ]
     },
     "metadata": {
      "needs_background": "light"
     },
     "output_type": "display_data"
    }
   ],
   "source": [
    "book = matplotlib.image.imread('book.png')\n",
    "print(\"book shape: \"), book.shape\n",
    "bookPlot = plt.imshow(book)\n",
    "\n",
    "marks += 2"
   ]
  },
  {
   "cell_type": "markdown",
   "metadata": {},
   "source": [
    "### 2(b)\n",
    "<div style=\"text-align: right; font-size: 1.1em; color:red\"> [2 marks]</div>\n",
    "\n",
    "Measure the pixel locations of the corners of the book in the image and display it as a quadrangle. Call these coordiates $\\boldsymbol b$ vectors.\n",
    "\n",
    "##### Hints:\n",
    " - Use the lab document as a guide\n",
    " - Define a function `plotList()` and use it"
   ]
  },
  {
   "cell_type": "code",
   "execution_count": 51,
   "metadata": {},
   "outputs": [
    {
     "data": {
      "text/html": [
       "<html><script type=\"math/tex; mode=display\">\\newcommand{\\Bold}[1]{\\mathbf{#1}}\\left[\\left(67,\\,277,\\,1\\right), \\left(449,\\,460,\\,1\\right), \\left(796,\\,379,\\,1\\right), \\left(445,\\,148,\\,1\\right)\\right]</script></html>"
      ],
      "text/latex": [
       "\\begin{math}\n",
       "\\newcommand{\\Bold}[1]{\\mathbf{#1}}\\left[\\left(67,\\,277,\\,1\\right), \\left(449,\\,460,\\,1\\right), \\left(796,\\,379,\\,1\\right), \\left(445,\\,148,\\,1\\right)\\right]\n",
       "\\end{math}"
      ],
      "text/plain": [
       "[(67, 277, 1), (449, 460, 1), (796, 379, 1), (445, 148, 1)]"
      ]
     },
     "metadata": {},
     "output_type": "display_data"
    }
   ],
   "source": [
    "#Pixel locations of the corners of the book in the image measured using Mac's Preview\n",
    "#first point: 67, 266\n",
    "#second point: 449, 83 \n",
    "#third point: 796, 164\n",
    "#fourth point: 445, 395\n",
    "\n",
    "#Create b vectors\n",
    "#543- coordinate so that the shape looks similar to the image in the plotList call\n",
    "b0 = vector(SR, [67, 543-266, 1]) \n",
    "b1 = vector(SR, [449, 543-83, 1])\n",
    "b2 = vector(SR, [796, 543-164, 1])\n",
    "b3 = vector(SR, [445, 543-395, 1])\n",
    "bList = [b0, b1, b2, b3]\n",
    "show(bList)\n",
    "\n",
    "#Plot list function -- takes in a list of vectors with 3 components & color of figure\n",
    "#returns a 2d polygon image of the vectors with the color\n",
    "def plotList(v3List, color):\n",
    "    v2List = [vector([v3[0], v3[1]]) for v3 in v3List]\n",
    "    return polygon2d(v2List, color = color)\n",
    "\n",
    "#Plot the image\n",
    "plotList(bList, 'blue')\n",
    "\n",
    "marks += 2"
   ]
  },
  {
   "cell_type": "markdown",
   "metadata": {},
   "source": [
    "### 2(c)\n",
    "<div style=\"text-align: right; font-size: 1.1em; color:red\"> [2 marks]</div>\n",
    "\n",
    "Assume that the real size of the book (in terms of the pixel coordinates of the corners) is this:  \n",
    "` The real positions of the corners:  \n",
    " x0 = vector(SR, [1, 1, 1])\n",
    " x1 = vector(SR, [420, 1, 1])\n",
    " x2 = vector(SR, [420, 450, 1])\n",
    " x3 = vector(SR, [1, 450, 1]))`\n",
    "\n",
    "Display this rectangle."
   ]
  },
  {
   "cell_type": "code",
   "execution_count": 52,
   "metadata": {},
   "outputs": [
    {
     "data": {
      "text/html": [
       "<html><script type=\"math/tex; mode=display\">\\newcommand{\\Bold}[1]{\\mathbf{#1}}\\left[\\left(1,\\,1,\\,1\\right), \\left(420,\\,1,\\,1\\right), \\left(420,\\,450,\\,1\\right), \\left(1,\\,450,\\,1\\right)\\right]</script></html>"
      ],
      "text/latex": [
       "\\begin{math}\n",
       "\\newcommand{\\Bold}[1]{\\mathbf{#1}}\\left[\\left(1,\\,1,\\,1\\right), \\left(420,\\,1,\\,1\\right), \\left(420,\\,450,\\,1\\right), \\left(1,\\,450,\\,1\\right)\\right]\n",
       "\\end{math}"
      ],
      "text/plain": [
       "[(1, 1, 1), (420, 1, 1), (420, 450, 1), (1, 450, 1)]"
      ]
     },
     "metadata": {},
     "output_type": "display_data"
    }
   ],
   "source": [
    "# Coordinates of rectangle - real size of the book\n",
    "x0 = vector(SR, [1, 1, 1])\n",
    "x1 = vector(SR, [420, 1, 1])\n",
    "x2 = vector(SR, [420, 450, 1])\n",
    "x3 = vector(SR, [1, 450, 1])\n",
    "xList = [x0, x1, x2, x3]\n",
    "\n",
    "#Plot the rectangle using plotList()\n",
    "pretty_print(xList)\n",
    "plotList(xList, 'grey')\n",
    "\n",
    "marks += 2"
   ]
  },
  {
   "cell_type": "markdown",
   "metadata": {},
   "source": [
    "### 2(d)\n",
    "<div style=\"text-align: right; font-size: 1.1em; color:red\"> [2 marks]</div>\n",
    "\n",
    "Construct the matrices $\\boldsymbol B$ and $\\boldsymbol X$. $\\boldsymbol X$ with contain perspective-corrected coordinates of the corners of the book. Write down a matrix equation (in a **markdown** cell) connecting $\\boldsymbol B$ and $\\boldsymbol X$ and explain why it works."
   ]
  },
  {
   "cell_type": "code",
   "execution_count": 53,
   "metadata": {},
   "outputs": [
    {
     "data": {
      "text/html": [
       "<html><script type=\"math/tex; mode=display\">\\newcommand{\\Bold}[1]{\\mathbf{#1}}\\verb|Matrix|\\phantom{\\verb!x!}\\verb|B:|</script></html>"
      ],
      "text/latex": [
       "\\begin{math}\n",
       "\\newcommand{\\Bold}[1]{\\mathbf{#1}}\\verb|Matrix|\\phantom{\\verb!x!}\\verb|B:|\n",
       "\\end{math}"
      ],
      "text/plain": [
       "'Matrix B:'"
      ]
     },
     "metadata": {},
     "output_type": "display_data"
    },
    {
     "data": {
      "text/html": [
       "<html><script type=\"math/tex; mode=display\">\\newcommand{\\Bold}[1]{\\mathbf{#1}}\\left(\\begin{array}{rrrr}\n",
       "67 & 449 & 796 & 445 \\\\\n",
       "277 & 460 & 379 & 148 \\\\\n",
       "1 & 1 & 1 & 1\n",
       "\\end{array}\\right)</script></html>"
      ],
      "text/latex": [
       "\\begin{math}\n",
       "\\newcommand{\\Bold}[1]{\\mathbf{#1}}\\left(\\begin{array}{rrrr}\n",
       "67 & 449 & 796 & 445 \\\\\n",
       "277 & 460 & 379 & 148 \\\\\n",
       "1 & 1 & 1 & 1\n",
       "\\end{array}\\right)\n",
       "\\end{math}"
      ],
      "text/plain": [
       "[ 67 449 796 445]\n",
       "[277 460 379 148]\n",
       "[  1   1   1   1]"
      ]
     },
     "metadata": {},
     "output_type": "display_data"
    },
    {
     "data": {
      "text/html": [
       "<html><script type=\"math/tex; mode=display\">\\newcommand{\\Bold}[1]{\\mathbf{#1}}\\verb|Matrix|\\phantom{\\verb!x!}\\verb|X:|</script></html>"
      ],
      "text/latex": [
       "\\begin{math}\n",
       "\\newcommand{\\Bold}[1]{\\mathbf{#1}}\\verb|Matrix|\\phantom{\\verb!x!}\\verb|X:|\n",
       "\\end{math}"
      ],
      "text/plain": [
       "'Matrix X:'"
      ]
     },
     "metadata": {},
     "output_type": "display_data"
    },
    {
     "data": {
      "text/html": [
       "<html><script type=\"math/tex; mode=display\">\\newcommand{\\Bold}[1]{\\mathbf{#1}}\\left(\\begin{array}{rrrr}\n",
       "1 & 420 & 420 & 1 \\\\\n",
       "1 & 1 & 450 & 450 \\\\\n",
       "1 & 1 & 1 & 1\n",
       "\\end{array}\\right)</script></html>"
      ],
      "text/latex": [
       "\\begin{math}\n",
       "\\newcommand{\\Bold}[1]{\\mathbf{#1}}\\left(\\begin{array}{rrrr}\n",
       "1 & 420 & 420 & 1 \\\\\n",
       "1 & 1 & 450 & 450 \\\\\n",
       "1 & 1 & 1 & 1\n",
       "\\end{array}\\right)\n",
       "\\end{math}"
      ],
      "text/plain": [
       "[  1 420 420   1]\n",
       "[  1   1 450 450]\n",
       "[  1   1   1   1]"
      ]
     },
     "metadata": {},
     "output_type": "display_data"
    }
   ],
   "source": [
    "#Create matrix B and matrix X\n",
    "B_matrix = matrix(SR, bList).T\n",
    "X_matrix = matrix(SR, xList).T\n",
    "\n",
    "pretty_print(\"Matrix B:\")\n",
    "pretty_print(B_matrix)\n",
    "pretty_print(\"Matrix X:\")\n",
    "pretty_print(X_matrix)"
   ]
  },
  {
   "cell_type": "code",
   "execution_count": 54,
   "metadata": {},
   "outputs": [
    {
     "data": {
      "text/html": [
       "<html><script type=\"math/tex; mode=display\">\\newcommand{\\Bold}[1]{\\mathbf{#1}}\\verb|Is|\\phantom{\\verb!x!}\\verb|matrix|\\phantom{\\verb!x!}\\verb|B|\\phantom{\\verb!x!}\\verb|full|\\phantom{\\verb!x!}\\verb|rank?|\\phantom{\\verb!x!}\\verb|:| \\mathrm{True}</script></html>"
      ],
      "text/latex": [
       "\\begin{math}\n",
       "\\newcommand{\\Bold}[1]{\\mathbf{#1}}\\verb|Is|\\phantom{\\verb!x!}\\verb|matrix|\\phantom{\\verb!x!}\\verb|B|\\phantom{\\verb!x!}\\verb|full|\\phantom{\\verb!x!}\\verb|rank?|\\phantom{\\verb!x!}\\verb|:| \\mathrm{True}\n",
       "\\end{math}"
      ],
      "text/plain": [
       "'Is matrix B full rank? :' True"
      ]
     },
     "metadata": {},
     "output_type": "display_data"
    }
   ],
   "source": [
    "pretty_print(\"Is matrix B full rank? :\", B_matrix.rank() == 3)\n",
    "\n",
    "marks += 2"
   ]
  },
  {
   "cell_type": "markdown",
   "metadata": {},
   "source": [
    "Justification: \n",
    "\n",
    "- $X$ is the corrected version. Hence, we transform the vectors of $B$ into the vectors in $X$. \n",
    "\n",
    "- Let $B = [b_i]$, $X = [x_i]$, then find some matrix $C$ such that it transforms all $b_i$ into corresponding $x_i$, i.e., $Cb_i = x_i$.\n",
    "\n",
    "- Perform matrix multiplication based on the concept of column picture, the column vectors of $C$ scaled by the columns of $B$ = the columns of $X$, which gives us $CB = X$.\n",
    "\n",
    "- Since $B$ and $X$ are known, to find matrix $C$, we multiply $B$ with the inverse of $B$ on the right. However, $B$ is a full rank (as shown in the cell above) 3 by 4 wide matrix, which implies its inverse does not exist, so we look for the right inverse $B_{right}^{-1}$. This gives us $CBB_{right}^{-1} = XB_{right}^{-1}$.\n",
    "\n",
    "- Since $BB_{right}^{-1} = I$, $C = XB_{right}^{-1}$.\n",
    "\n",
    "- Also, note that the formula for right inverse of $B$ is: $B_{right}^{-1} = B^T(BB^T)^{-1}$. Therefore, $C = XB^T(BB^T)^{-1}$.\n",
    "\n",
    "- Suppose that we want to distort the perspective-corrected version ($X$) to distorted version ($B$) by a matrix $D$, we encode it similarly, i.e., $DX = B$\n",
    "\n",
    "- By following through a similar logic as above, we will get: $D = BX^T(XX^T)^{-1}$"
   ]
  },
  {
   "cell_type": "markdown",
   "metadata": {},
   "source": [
    "### 2(e)\n",
    "<div style=\"text-align: right; font-size: 1.1em; color:red\"> [3 marks]</div>\n",
    "\n",
    "Compute the matrix of transformation using $\\boldsymbol X$ and $\\boldsymbol B$. \n",
    "Apply the inverse of this transformation matrix to $\\boldsymbol B$ and display the $\\boldsymbol X$ found."
   ]
  },
  {
   "cell_type": "markdown",
   "metadata": {},
   "source": [
    "* Assumption : Matrix of transformation $D$, means the matrix which distort the perspective-corrected version, $X$ into distorted version, $B$. Hence, $DX = B$."
   ]
  },
  {
   "cell_type": "code",
   "execution_count": 55,
   "metadata": {},
   "outputs": [
    {
     "data": {
      "text/html": [
       "<html><script type=\"math/tex; mode=display\">\\newcommand{\\Bold}[1]{\\mathbf{#1}}\\verb|Matrix|\\phantom{\\verb!x!}\\verb|D:|</script></html>"
      ],
      "text/latex": [
       "\\begin{math}\n",
       "\\newcommand{\\Bold}[1]{\\mathbf{#1}}\\verb|Matrix|\\phantom{\\verb!x!}\\verb|D:|\n",
       "\\end{math}"
      ],
      "text/plain": [
       "'Matrix D: '"
      ]
     },
     "metadata": {},
     "output_type": "display_data"
    },
    {
     "data": {
      "text/html": [
       "<html><script type=\"math/tex; mode=display\">\\newcommand{\\Bold}[1]{\\mathbf{#1}}\\left(\\begin{array}{rrr}\n",
       "\\frac{733}{838} & \\frac{725}{898} & \\frac{54985385}{752524} \\\\\n",
       "\\frac{207}{419} & -\\frac{105}{449} & \\frac{49805767}{188131} \\\\\n",
       "0 & 0 & 1\n",
       "\\end{array}\\right)</script></html>"
      ],
      "text/latex": [
       "\\begin{math}\n",
       "\\newcommand{\\Bold}[1]{\\mathbf{#1}}\\left(\\begin{array}{rrr}\n",
       "\\frac{733}{838} & \\frac{725}{898} & \\frac{54985385}{752524} \\\\\n",
       "\\frac{207}{419} & -\\frac{105}{449} & \\frac{49805767}{188131} \\\\\n",
       "0 & 0 & 1\n",
       "\\end{array}\\right)\n",
       "\\end{math}"
      ],
      "text/plain": [
       "[        733/838         725/898 54985385/752524]\n",
       "[        207/419        -105/449 49805767/188131]\n",
       "[              0               0               1]"
      ]
     },
     "metadata": {},
     "output_type": "display_data"
    }
   ],
   "source": [
    "#Compute matrix D\n",
    "D_matrix = B_matrix * (X_matrix.T * (X_matrix * X_matrix.T).inverse())\n",
    "pretty_print(\"Matrix D: \")\n",
    "pretty_print(D_matrix)"
   ]
  },
  {
   "cell_type": "code",
   "execution_count": 56,
   "metadata": {},
   "outputs": [
    {
     "data": {
      "text/html": [
       "<html><script type=\"math/tex; mode=display\">\\newcommand{\\Bold}[1]{\\mathbf{#1}}\\verb|Inverse|\\phantom{\\verb!x!}\\verb|of|\\phantom{\\verb!x!}\\verb|matrix|\\phantom{\\verb!x!}\\verb|D:|</script></html>"
      ],
      "text/latex": [
       "\\begin{math}\n",
       "\\newcommand{\\Bold}[1]{\\mathbf{#1}}\\verb|Inverse|\\phantom{\\verb!x!}\\verb|of|\\phantom{\\verb!x!}\\verb|matrix|\\phantom{\\verb!x!}\\verb|D:|\n",
       "\\end{math}"
      ],
      "text/plain": [
       "'Inverse of matrix D: '"
      ]
     },
     "metadata": {},
     "output_type": "display_data"
    },
    {
     "data": {
      "text/html": [
       "<html><script type=\"math/tex; mode=display\">\\newcommand{\\Bold}[1]{\\mathbf{#1}}\\left(\\begin{array}{rrr}\n",
       "\\frac{2933}{7568} & \\frac{60755}{45408} & -\\frac{34740235}{90816} \\\\\n",
       "\\frac{30981}{37840} & -\\frac{329117}{227040} & \\frac{147096133}{454080} \\\\\n",
       "0 & 0 & 1\n",
       "\\end{array}\\right)</script></html>"
      ],
      "text/latex": [
       "\\begin{math}\n",
       "\\newcommand{\\Bold}[1]{\\mathbf{#1}}\\left(\\begin{array}{rrr}\n",
       "\\frac{2933}{7568} & \\frac{60755}{45408} & -\\frac{34740235}{90816} \\\\\n",
       "\\frac{30981}{37840} & -\\frac{329117}{227040} & \\frac{147096133}{454080} \\\\\n",
       "0 & 0 & 1\n",
       "\\end{array}\\right)\n",
       "\\end{math}"
      ],
      "text/plain": [
       "[       2933/7568      60755/45408  -34740235/90816]\n",
       "[     30981/37840   -329117/227040 147096133/454080]\n",
       "[               0                0                1]"
      ]
     },
     "metadata": {},
     "output_type": "display_data"
    }
   ],
   "source": [
    "#Compute inverse of D\n",
    "D_inverse = D_matrix.inverse()\n",
    "pretty_print(\"Inverse of matrix D: \")\n",
    "pretty_print(D_inverse)"
   ]
  },
  {
   "cell_type": "code",
   "execution_count": 57,
   "metadata": {},
   "outputs": [
    {
     "data": {
      "text/html": [
       "<html><script type=\"math/tex; mode=display\">\\newcommand{\\Bold}[1]{\\mathbf{#1}}\\verb|The|\\phantom{\\verb!x!}\\verb|X|\\phantom{\\verb!x!}\\verb|found:|</script></html>"
      ],
      "text/latex": [
       "\\begin{math}\n",
       "\\newcommand{\\Bold}[1]{\\mathbf{#1}}\\verb|The|\\phantom{\\verb!x!}\\verb|X|\\phantom{\\verb!x!}\\verb|found:|\n",
       "\\end{math}"
      ],
      "text/plain": [
       "'The X found: '"
      ]
     },
     "metadata": {},
     "output_type": "display_data"
    },
    {
     "data": {
      "text/html": [
       "<html><script type=\"math/tex; mode=display\">\\newcommand{\\Bold}[1]{\\mathbf{#1}}\\left(\\begin{array}{rrrr}\n",
       "\\frac{425389}{30272} & \\frac{12319123}{30272} & \\frac{13109357}{30272} & -\\frac{364845}{30272} \\\\\n",
       "-\\frac{3441987}{151360} & \\frac{3744707}{151360} & \\frac{64518653}{151360} & \\frac{71705347}{151360} \\\\\n",
       "1 & 1 & 1 & 1\n",
       "\\end{array}\\right)</script></html>"
      ],
      "text/latex": [
       "\\begin{math}\n",
       "\\newcommand{\\Bold}[1]{\\mathbf{#1}}\\left(\\begin{array}{rrrr}\n",
       "\\frac{425389}{30272} & \\frac{12319123}{30272} & \\frac{13109357}{30272} & -\\frac{364845}{30272} \\\\\n",
       "-\\frac{3441987}{151360} & \\frac{3744707}{151360} & \\frac{64518653}{151360} & \\frac{71705347}{151360} \\\\\n",
       "1 & 1 & 1 & 1\n",
       "\\end{array}\\right)\n",
       "\\end{math}"
      ],
      "text/plain": [
       "[   425389/30272  12319123/30272  13109357/30272   -364845/30272]\n",
       "[-3441987/151360  3744707/151360 64518653/151360 71705347/151360]\n",
       "[              1               1               1               1]"
      ]
     },
     "metadata": {},
     "output_type": "display_data"
    }
   ],
   "source": [
    "#Apply inverse of D to B -- because X = D^-1 B\n",
    "new_X = D_inverse * B_matrix\n",
    "pretty_print(\"The X found: \")\n",
    "pretty_print(new_X)"
   ]
  },
  {
   "cell_type": "code",
   "execution_count": 58,
   "metadata": {},
   "outputs": [
    {
     "data": {
      "text/html": [
       "<html><script type=\"math/tex; mode=display\">\\newcommand{\\Bold}[1]{\\mathbf{#1}}\\verb|Visualisation|\\phantom{\\verb!x!}\\verb|of|\\phantom{\\verb!x!}\\verb|X|\\phantom{\\verb!x!}\\verb|found:|</script></html>"
      ],
      "text/latex": [
       "\\begin{math}\n",
       "\\newcommand{\\Bold}[1]{\\mathbf{#1}}\\verb|Visualisation|\\phantom{\\verb!x!}\\verb|of|\\phantom{\\verb!x!}\\verb|X|\\phantom{\\verb!x!}\\verb|found:|\n",
       "\\end{math}"
      ],
      "text/plain": [
       "'Visualisation of X found: '"
      ]
     },
     "metadata": {},
     "output_type": "display_data"
    },
    {
     "data": {
      "text/html": [
       "<html><script type=\"math/tex; mode=display\">\\newcommand{\\Bold}[1]{\\mathbf{#1}}\\left[\\left(\\frac{425389}{30272},\\,-\\frac{3441987}{151360},\\,1\\right), \\left(\\frac{12319123}{30272},\\,\\frac{3744707}{151360},\\,1\\right), \\left(\\frac{13109357}{30272},\\,\\frac{64518653}{151360},\\,1\\right), \\left(-\\frac{364845}{30272},\\,\\frac{71705347}{151360},\\,1\\right)\\right]</script></html>"
      ],
      "text/latex": [
       "\\begin{math}\n",
       "\\newcommand{\\Bold}[1]{\\mathbf{#1}}\\left[\\left(\\frac{425389}{30272},\\,-\\frac{3441987}{151360},\\,1\\right), \\left(\\frac{12319123}{30272},\\,\\frac{3744707}{151360},\\,1\\right), \\left(\\frac{13109357}{30272},\\,\\frac{64518653}{151360},\\,1\\right), \\left(-\\frac{364845}{30272},\\,\\frac{71705347}{151360},\\,1\\right)\\right]\n",
       "\\end{math}"
      ],
      "text/plain": [
       "[(425389/30272, -3441987/151360, 1),\n",
       " (12319123/30272, 3744707/151360, 1),\n",
       " (13109357/30272, 64518653/151360, 1),\n",
       " (-364845/30272, 71705347/151360, 1)]"
      ]
     },
     "metadata": {},
     "output_type": "display_data"
    }
   ],
   "source": [
    "#Visualize the computation\n",
    "x_newList = [vector(new_x) for new_x in new_X.columns()]\n",
    "pretty_print('Visualisation of X found: ')\n",
    "pretty_print(x_newList)\n",
    "plotList(x_newList, 'red')\n",
    "\n",
    "marks += 3"
   ]
  },
  {
   "cell_type": "markdown",
   "metadata": {},
   "source": [
    "### 2(f)\n",
    "<div style=\"text-align: right; font-size: 1.1em; color:red\"> [4 marks]</div>\n",
    "If $\\boldsymbol{C}$ is the matrix that will take us from a distorted image to the perspective-rectified image, then verify whether $\\boldsymbol C$ is same as the inverse of the transformation matrix computed in $2(e)$. If they are not same, calculate the relative size of the difference."
   ]
  },
  {
   "cell_type": "markdown",
   "metadata": {},
   "source": [
    "Given $CB = X$. Therefore, $C = XB^T(BB^T)^{-1}$"
   ]
  },
  {
   "cell_type": "code",
   "execution_count": 59,
   "metadata": {},
   "outputs": [
    {
     "data": {
      "text/html": [
       "<html><script type=\"math/tex; mode=display\">\\newcommand{\\Bold}[1]{\\mathbf{#1}}\\verb|Matrix|\\phantom{\\verb!x!}\\verb|C:|</script></html>"
      ],
      "text/latex": [
       "\\begin{math}\n",
       "\\newcommand{\\Bold}[1]{\\mathbf{#1}}\\verb|Matrix|\\phantom{\\verb!x!}\\verb|C:|\n",
       "\\end{math}"
      ],
      "text/plain": [
       "'Matrix C:'"
      ]
     },
     "metadata": {},
     "output_type": "display_data"
    },
    {
     "data": {
      "text/html": [
       "<html><script type=\"math/tex; mode=display\">\\newcommand{\\Bold}[1]{\\mathbf{#1}}\\left(\\begin{array}{rrr}\n",
       "\\frac{1136673256}{2906870817} & \\frac{7697880989}{5813741634} & -\\frac{735768411321}{1937913878} \\\\\n",
       "\\frac{2361578360}{2906870817} & -\\frac{2760216275}{1937913878} & \\frac{1853037177907}{5813741634} \\\\\n",
       "0 & 0 & 1\n",
       "\\end{array}\\right)</script></html>"
      ],
      "text/latex": [
       "\\begin{math}\n",
       "\\newcommand{\\Bold}[1]{\\mathbf{#1}}\\left(\\begin{array}{rrr}\n",
       "\\frac{1136673256}{2906870817} & \\frac{7697880989}{5813741634} & -\\frac{735768411321}{1937913878} \\\\\n",
       "\\frac{2361578360}{2906870817} & -\\frac{2760216275}{1937913878} & \\frac{1853037177907}{5813741634} \\\\\n",
       "0 & 0 & 1\n",
       "\\end{array}\\right)\n",
       "\\end{math}"
      ],
      "text/plain": [
       "[   1136673256/2906870817    7697880989/5813741634 -735768411321/1937913878]\n",
       "[   2361578360/2906870817   -2760216275/1937913878 1853037177907/5813741634]\n",
       "[                       0                        0                        1]"
      ]
     },
     "metadata": {},
     "output_type": "display_data"
    },
    {
     "data": {
      "text/html": [
       "<html><script type=\"math/tex; mode=display\">\\newcommand{\\Bold}[1]{\\mathbf{#1}}\\verb|Inverse|\\phantom{\\verb!x!}\\verb|of|\\phantom{\\verb!x!}\\verb|matrix|\\phantom{\\verb!x!}\\verb|D:|</script></html>"
      ],
      "text/latex": [
       "\\begin{math}\n",
       "\\newcommand{\\Bold}[1]{\\mathbf{#1}}\\verb|Inverse|\\phantom{\\verb!x!}\\verb|of|\\phantom{\\verb!x!}\\verb|matrix|\\phantom{\\verb!x!}\\verb|D:|\n",
       "\\end{math}"
      ],
      "text/plain": [
       "'Inverse of matrix D:'"
      ]
     },
     "metadata": {},
     "output_type": "display_data"
    },
    {
     "data": {
      "text/html": [
       "<html><script type=\"math/tex; mode=display\">\\newcommand{\\Bold}[1]{\\mathbf{#1}}\\left(\\begin{array}{rrr}\n",
       "\\frac{2933}{7568} & \\frac{60755}{45408} & -\\frac{34740235}{90816} \\\\\n",
       "\\frac{30981}{37840} & -\\frac{329117}{227040} & \\frac{147096133}{454080} \\\\\n",
       "0 & 0 & 1\n",
       "\\end{array}\\right)</script></html>"
      ],
      "text/latex": [
       "\\begin{math}\n",
       "\\newcommand{\\Bold}[1]{\\mathbf{#1}}\\left(\\begin{array}{rrr}\n",
       "\\frac{2933}{7568} & \\frac{60755}{45408} & -\\frac{34740235}{90816} \\\\\n",
       "\\frac{30981}{37840} & -\\frac{329117}{227040} & \\frac{147096133}{454080} \\\\\n",
       "0 & 0 & 1\n",
       "\\end{array}\\right)\n",
       "\\end{math}"
      ],
      "text/plain": [
       "[       2933/7568      60755/45408  -34740235/90816]\n",
       "[     30981/37840   -329117/227040 147096133/454080]\n",
       "[               0                0                1]"
      ]
     },
     "metadata": {},
     "output_type": "display_data"
    },
    {
     "data": {
      "text/html": [
       "<html><script type=\"math/tex; mode=display\">\\newcommand{\\Bold}[1]{\\mathbf{#1}}\\verb|Is|\\phantom{\\verb!x!}\\verb|C|\\phantom{\\verb!x!}\\verb|equal|\\phantom{\\verb!x!}\\verb|to|\\phantom{\\verb!x!}\\verb|D|\\phantom{\\verb!x!}\\verb|inverse?|\\phantom{\\verb!x!}\\verb|:| \\mathrm{False}</script></html>"
      ],
      "text/latex": [
       "\\begin{math}\n",
       "\\newcommand{\\Bold}[1]{\\mathbf{#1}}\\verb|Is|\\phantom{\\verb!x!}\\verb|C|\\phantom{\\verb!x!}\\verb|equal|\\phantom{\\verb!x!}\\verb|to|\\phantom{\\verb!x!}\\verb|D|\\phantom{\\verb!x!}\\verb|inverse?|\\phantom{\\verb!x!}\\verb|:| \\mathrm{False}\n",
       "\\end{math}"
      ],
      "text/plain": [
       "'Is C equal to D inverse? :' False"
      ]
     },
     "metadata": {},
     "output_type": "display_data"
    }
   ],
   "source": [
    "#Compute matrix C\n",
    "C_matrix = X_matrix * (B_matrix.T * (B_matrix * B_matrix.T).inverse())\n",
    "pretty_print(\"Matrix C:\")\n",
    "pretty_print(C_matrix)\n",
    "\n",
    "#Display D_inverse\n",
    "pretty_print(\"Inverse of matrix D:\")\n",
    "pretty_print(D_inverse)\n",
    "\n",
    "#Compare if matrix C is the same of inverse of matrix D\n",
    "pretty_print(\"Is C equal to D inverse? :\", C_matrix == D_inverse)"
   ]
  },
  {
   "cell_type": "code",
   "execution_count": 60,
   "metadata": {},
   "outputs": [
    {
     "data": {
      "text/html": [
       "<html><script type=\"math/tex; mode=display\">\\newcommand{\\Bold}[1]{\\mathbf{#1}}\\verb|Relative|\\phantom{\\verb!x!}\\verb|size|\\phantom{\\verb!x!}\\verb|of|\\phantom{\\verb!x!}\\verb|difference|\\phantom{\\verb!x!}\\verb|:|\\phantom{\\verb!x!}\\verb|[(C-D.Inv).norm()|\\phantom{\\verb!x!}\\verb|/|\\phantom{\\verb!x!}\\verb|C.norm()]|\\phantom{\\verb!x!}\\verb|=| 1.2 \\verb|%|</script></html>"
      ],
      "text/latex": [
       "\\begin{math}\n",
       "\\newcommand{\\Bold}[1]{\\mathbf{#1}}\\verb|Relative|\\phantom{\\verb!x!}\\verb|size|\\phantom{\\verb!x!}\\verb|of|\\phantom{\\verb!x!}\\verb|difference|\\phantom{\\verb!x!}\\verb|:|\\phantom{\\verb!x!}\\verb|[(C-D.Inv).norm()|\\phantom{\\verb!x!}\\verb|/|\\phantom{\\verb!x!}\\verb|C.norm()]|\\phantom{\\verb!x!}\\verb|=| 1.2 \\verb|%|\n",
       "\\end{math}"
      ],
      "text/plain": [
       "'Relative size of difference : [(C-D.Inv).norm() / C.norm()] =' 1.2 '%'"
      ]
     },
     "metadata": {},
     "output_type": "display_data"
    }
   ],
   "source": [
    "#Compute the relative difference\n",
    "pretty_print(\"Relative size of difference : [(C-D.Inv).norm() / C.norm()] =\",\\\n",
    "(((C_matrix-D_inverse).norm()/C_matrix.norm())*100 ).n(digits=2), \"%\")\n",
    "\n",
    "marks += 4"
   ]
  },
  {
   "cell_type": "markdown",
   "metadata": {},
   "source": [
    "<div style=\"color:darkgreen;background-color:lightgreen;padding:10px\">\n",
    "\n",
    "### Question 3 \n",
    "<div style=\"text-align: right; font-size: 1.1em; color:red\"> [15 marks]</div>\n",
    "</div>"
   ]
  },
  {
   "cell_type": "markdown",
   "metadata": {},
   "source": [
    "The data set provided (**`HDB-Resale.csv`**) contains five columns. **`District`**, **`Number of Rooms`**, **`Floor Area`**, **`Remaining Lease`** and **`Resale Price`**. Your job is to develop a linear regression model using the projection and best possible solution learned in class during Week 10. "
   ]
  },
  {
   "cell_type": "markdown",
   "metadata": {},
   "source": [
    "### 3(a)\n",
    "<div style=\"text-align: right; font-size: 1.1em; color:red\"> [1 mark]</div>\n",
    "\n",
    "Read in the data file **`HDB-Resale.csv`**. How many *observations* are there in the data?  "
   ]
  },
  {
   "cell_type": "code",
   "execution_count": 61,
   "metadata": {},
   "outputs": [
    {
     "data": {
      "text/html": [
       "<html><script type=\"math/tex; mode=display\">\\newcommand{\\Bold}[1]{\\mathbf{#1}}\\verb|Number|\\phantom{\\verb!x!}\\verb|of|\\phantom{\\verb!x!}\\verb|features(columns)|\\phantom{\\verb!x!}\\verb|in|\\phantom{\\verb!x!}\\verb|the|\\phantom{\\verb!x!}\\verb|data|\\phantom{\\verb!x!}\\verb|file|\\phantom{\\verb!x!}\\verb|HDB_Resale.csv|\\phantom{\\verb!x!}\\verb|:| 5</script></html>"
      ],
      "text/latex": [
       "\\begin{math}\n",
       "\\newcommand{\\Bold}[1]{\\mathbf{#1}}\\verb|Number|\\phantom{\\verb!x!}\\verb|of|\\phantom{\\verb!x!}\\verb|features(columns)|\\phantom{\\verb!x!}\\verb|in|\\phantom{\\verb!x!}\\verb|the|\\phantom{\\verb!x!}\\verb|data|\\phantom{\\verb!x!}\\verb|file|\\phantom{\\verb!x!}\\verb|HDB_Resale.csv|\\phantom{\\verb!x!}\\verb|:| 5\n",
       "\\end{math}"
      ],
      "text/plain": [
       "'Number of features(columns) in the data file HDB_Resale.csv :' 5"
      ]
     },
     "metadata": {},
     "output_type": "display_data"
    },
    {
     "data": {
      "text/html": [
       "<html><script type=\"math/tex; mode=display\">\\newcommand{\\Bold}[1]{\\mathbf{#1}}\\verb|Number|\\phantom{\\verb!x!}\\verb|of|\\phantom{\\verb!x!}\\verb|observations(rows)|\\phantom{\\verb!x!}\\verb|in|\\phantom{\\verb!x!}\\verb|the|\\phantom{\\verb!x!}\\verb|data|\\phantom{\\verb!x!}\\verb|file|\\phantom{\\verb!x!}\\verb|HDB_Resale.csv|\\phantom{\\verb!x!}\\verb|:| 605</script></html>"
      ],
      "text/latex": [
       "\\begin{math}\n",
       "\\newcommand{\\Bold}[1]{\\mathbf{#1}}\\verb|Number|\\phantom{\\verb!x!}\\verb|of|\\phantom{\\verb!x!}\\verb|observations(rows)|\\phantom{\\verb!x!}\\verb|in|\\phantom{\\verb!x!}\\verb|the|\\phantom{\\verb!x!}\\verb|data|\\phantom{\\verb!x!}\\verb|file|\\phantom{\\verb!x!}\\verb|HDB_Resale.csv|\\phantom{\\verb!x!}\\verb|:| 605\n",
       "\\end{math}"
      ],
      "text/plain": [
       "'Number of observations(rows) in the data file HDB_Resale.csv :' 605"
      ]
     },
     "metadata": {},
     "output_type": "display_data"
    }
   ],
   "source": [
    "#Read the data from csv file\n",
    "import csv\n",
    "reader=csv.reader(open('HDB_Resale.csv'), delimiter=',')\n",
    "\n",
    "#Skip the headers\n",
    "next(reader, None)  \n",
    "\n",
    "#Import all the columns\n",
    "data = matrix(QQ, [map(float, row) for row in reader])\n",
    "pretty_print(\"Number of features(columns) in the data file HDB_Resale.csv :\", data.dimensions()[1])\n",
    "pretty_print(\"Number of observations(rows) in the data file HDB_Resale.csv :\", data.dimensions()[0])\n",
    "\n",
    "\n",
    "marks += 1"
   ]
  },
  {
   "cell_type": "markdown",
   "metadata": {},
   "source": [
    "### 3(b)\n",
    "<div style=\"text-align: right; font-size: 1.1em; color:red\"> [2 marks]</div>\n",
    "\n",
    "Use **`District`** and **`Floor Area`** as the independent variables and **`Resale Price`** as the dependent variable. Prepare the **design matrix** ($\\boldsymbol X$)  and the **dependent column vector** ($\\boldsymbol y$). Print out the ***first ten rows*** of ($\\boldsymbol X$) and the ***first ten elements*** of ($\\boldsymbol y$).\n"
   ]
  },
  {
   "cell_type": "code",
   "execution_count": 62,
   "metadata": {},
   "outputs": [
    {
     "data": {
      "text/html": [
       "<html><script type=\"math/tex; mode=display\">\\newcommand{\\Bold}[1]{\\mathbf{#1}}\\verb|First|\\phantom{\\verb!x!}\\verb|ten|\\phantom{\\verb!x!}\\verb|rows|\\phantom{\\verb!x!}\\verb|of|\\phantom{\\verb!x!}\\verb|design|\\phantom{\\verb!x!}\\verb|matrix|\\phantom{\\verb!x!}\\verb|(X)|\\phantom{\\verb!x!}\\verb|:|</script></html>"
      ],
      "text/latex": [
       "\\begin{math}\n",
       "\\newcommand{\\Bold}[1]{\\mathbf{#1}}\\verb|First|\\phantom{\\verb!x!}\\verb|ten|\\phantom{\\verb!x!}\\verb|rows|\\phantom{\\verb!x!}\\verb|of|\\phantom{\\verb!x!}\\verb|design|\\phantom{\\verb!x!}\\verb|matrix|\\phantom{\\verb!x!}\\verb|(X)|\\phantom{\\verb!x!}\\verb|:|\n",
       "\\end{math}"
      ],
      "text/plain": [
       "'First ten rows of design matrix (X) :'"
      ]
     },
     "metadata": {},
     "output_type": "display_data"
    },
    {
     "data": {
      "text/html": [
       "<html><script type=\"math/tex; mode=display\">\\newcommand{\\Bold}[1]{\\mathbf{#1}}\\left(\\begin{array}{rrr}\n",
       "1.0 & 1.0 & 44.0 \\\\\n",
       "1.0 & 1.0 & 45.0 \\\\\n",
       "1.0 & 1.0 & 44.0 \\\\\n",
       "1.0 & 1.0 & 44.0 \\\\\n",
       "1.0 & 1.0 & 44.0 \\\\\n",
       "1.0 & 1.0 & 44.0 \\\\\n",
       "1.0 & 1.0 & 44.0 \\\\\n",
       "1.0 & 1.0 & 44.0 \\\\\n",
       "1.0 & 1.0 & 44.0 \\\\\n",
       "1.0 & 1.0 & 44.0\n",
       "\\end{array}\\right)</script></html>"
      ],
      "text/latex": [
       "\\begin{math}\n",
       "\\newcommand{\\Bold}[1]{\\mathbf{#1}}\\left(\\begin{array}{rrr}\n",
       "1.0 & 1.0 & 44.0 \\\\\n",
       "1.0 & 1.0 & 45.0 \\\\\n",
       "1.0 & 1.0 & 44.0 \\\\\n",
       "1.0 & 1.0 & 44.0 \\\\\n",
       "1.0 & 1.0 & 44.0 \\\\\n",
       "1.0 & 1.0 & 44.0 \\\\\n",
       "1.0 & 1.0 & 44.0 \\\\\n",
       "1.0 & 1.0 & 44.0 \\\\\n",
       "1.0 & 1.0 & 44.0 \\\\\n",
       "1.0 & 1.0 & 44.0\n",
       "\\end{array}\\right)\n",
       "\\end{math}"
      ],
      "text/plain": [
       "[ 1.0  1.0 44.0]\n",
       "[ 1.0  1.0 45.0]\n",
       "[ 1.0  1.0 44.0]\n",
       "[ 1.0  1.0 44.0]\n",
       "[ 1.0  1.0 44.0]\n",
       "[ 1.0  1.0 44.0]\n",
       "[ 1.0  1.0 44.0]\n",
       "[ 1.0  1.0 44.0]\n",
       "[ 1.0  1.0 44.0]\n",
       "[ 1.0  1.0 44.0]"
      ]
     },
     "metadata": {},
     "output_type": "display_data"
    },
    {
     "data": {
      "text/html": [
       "<html><script type=\"math/tex; mode=display\">\\newcommand{\\Bold}[1]{\\mathbf{#1}}\\verb|First|\\phantom{\\verb!x!}\\verb|ten|\\phantom{\\verb!x!}\\verb|elements|\\phantom{\\verb!x!}\\verb|of|\\phantom{\\verb!x!}\\verb|dependent|\\phantom{\\verb!x!}\\verb|column|\\phantom{\\verb!x!}\\verb|vector|\\phantom{\\verb!x!}\\verb|(y)|\\phantom{\\verb!x!}\\verb|:|</script></html>"
      ],
      "text/latex": [
       "\\begin{math}\n",
       "\\newcommand{\\Bold}[1]{\\mathbf{#1}}\\verb|First|\\phantom{\\verb!x!}\\verb|ten|\\phantom{\\verb!x!}\\verb|elements|\\phantom{\\verb!x!}\\verb|of|\\phantom{\\verb!x!}\\verb|dependent|\\phantom{\\verb!x!}\\verb|column|\\phantom{\\verb!x!}\\verb|vector|\\phantom{\\verb!x!}\\verb|(y)|\\phantom{\\verb!x!}\\verb|:|\n",
       "\\end{math}"
      ],
      "text/plain": [
       "'First ten elements of dependent column vector (y) :'"
      ]
     },
     "metadata": {},
     "output_type": "display_data"
    },
    {
     "data": {
      "text/html": [
       "<html><script type=\"math/tex; mode=display\">\\newcommand{\\Bold}[1]{\\mathbf{#1}}\\left(\\begin{array}{r}\n",
       "245000 \\\\\n",
       "250000 \\\\\n",
       "230000 \\\\\n",
       "240000 \\\\\n",
       "241000 \\\\\n",
       "245000 \\\\\n",
       "265000 \\\\\n",
       "272000 \\\\\n",
       "255000 \\\\\n",
       "230000\n",
       "\\end{array}\\right)</script></html>"
      ],
      "text/latex": [
       "\\begin{math}\n",
       "\\newcommand{\\Bold}[1]{\\mathbf{#1}}\\left(\\begin{array}{r}\n",
       "245000 \\\\\n",
       "250000 \\\\\n",
       "230000 \\\\\n",
       "240000 \\\\\n",
       "241000 \\\\\n",
       "245000 \\\\\n",
       "265000 \\\\\n",
       "272000 \\\\\n",
       "255000 \\\\\n",
       "230000\n",
       "\\end{array}\\right)\n",
       "\\end{math}"
      ],
      "text/plain": [
       "[245000]\n",
       "[250000]\n",
       "[230000]\n",
       "[240000]\n",
       "[241000]\n",
       "[245000]\n",
       "[265000]\n",
       "[272000]\n",
       "[255000]\n",
       "[230000]"
      ]
     },
     "metadata": {},
     "output_type": "display_data"
    }
   ],
   "source": [
    "#Construct design matrix, X - [intercept(1's), district, floor area]\n",
    "dim = data.dimensions()\n",
    "\n",
    "#The dimension of design matrix X is set as 3, for intercept, district, floor_area\n",
    "X_des_matrix = ones_matrix(RDF, dim[0], 3)\n",
    "X_des_matrix[:, 1] = data.column(0)\n",
    "X_des_matrix[:, 2] = data.column(2)\n",
    "pretty_print(\"First ten rows of design matrix (X) :\")\n",
    "pretty_print(X_des_matrix[0:10,:])\n",
    "\n",
    "#Construct the dependent column vector, y\n",
    "y_dpd_vec = matrix(data.column(4)).transpose()\n",
    "pretty_print(\"First ten elements of dependent column vector (y) :\")\n",
    "pretty_print(y_dpd_vec[0:10,:])\n",
    "\n",
    "marks += 2"
   ]
  },
  {
   "cell_type": "markdown",
   "metadata": {},
   "source": [
    "### 3(c)\n",
    "<div style=\"text-align: right; font-size: 1.1em; color:red\"> [2 marks]</div>\n",
    "\n",
    "Prepare the matrix equation for the parameters $(\\boldsymbol\\beta)$ for a multiple linear regression model (in a **markdown cell**).  \n",
    "How many *parameters* are there in the model? "
   ]
  },
  {
   "cell_type": "markdown",
   "metadata": {},
   "source": [
    "$\\boldsymbol{X^TX\\hat\\beta = X^Ty}$\n",
    "\n",
    "$\\boldsymbol{\\hat\\beta = (X^TX)^{-1}X^Ty}$\n",
    "\n",
    "3 parameters are required, ${\\beta_0}$(for intercept), ${\\beta_1}$(for district), ${\\beta_2}$(for floor_area)"
   ]
  },
  {
   "cell_type": "code",
   "execution_count": 63,
   "metadata": {},
   "outputs": [],
   "source": [
    "marks += 2"
   ]
  },
  {
   "cell_type": "markdown",
   "metadata": {},
   "source": [
    "### 3(d)\n",
    "<div style=\"text-align: right; font-size: 1.1em; color:red\"> [2 marks]</div>\n",
    "\n",
    "Check the following (using *SageMath* functions where possible):\n",
    "   1. What is the rank of $\\boldsymbol X$?\n",
    "   1. What is the rank of  $\\boldsymbol X^\\text T\\boldsymbol X$? (Use the Python variable name `XTX`, if appropriate)\n",
    "   1. Compare the four fundamental subspaces of $\\boldsymbol{X}$ and $\\boldsymbol{X^\\text TX}$. Which of them are the same?\n",
    "   1. Is $\\boldsymbol{y}$ in the **column space** of $\\boldsymbol{X}$?\n",
    "   1. Is $\\boldsymbol{X^\\text Ty}$ in the **column space** of $\\boldsymbol{X^\\text TX}$?"
   ]
  },
  {
   "cell_type": "code",
   "execution_count": 64,
   "metadata": {},
   "outputs": [
    {
     "data": {
      "text/html": [
       "<html><script type=\"math/tex; mode=display\">\\newcommand{\\Bold}[1]{\\mathbf{#1}}\\verb|Rank|\\phantom{\\verb!x!}\\verb|of|\\phantom{\\verb!x!}\\verb|X|\\phantom{\\verb!x!}\\verb|:| 3</script></html>"
      ],
      "text/latex": [
       "\\begin{math}\n",
       "\\newcommand{\\Bold}[1]{\\mathbf{#1}}\\verb|Rank|\\phantom{\\verb!x!}\\verb|of|\\phantom{\\verb!x!}\\verb|X|\\phantom{\\verb!x!}\\verb|:| 3\n",
       "\\end{math}"
      ],
      "text/plain": [
       "'Rank of X :' 3"
      ]
     },
     "metadata": {},
     "output_type": "display_data"
    }
   ],
   "source": [
    "#1 Check the rank of X\n",
    "pretty_print(\"Rank of X :\", X_des_matrix.rank())"
   ]
  },
  {
   "cell_type": "code",
   "execution_count": 65,
   "metadata": {},
   "outputs": [
    {
     "data": {
      "text/html": [
       "<html><script type=\"math/tex; mode=display\">\\newcommand{\\Bold}[1]{\\mathbf{#1}}\\verb|Rank|\\phantom{\\verb!x!}\\verb|of|\\phantom{\\verb!x!}\\verb|(X^T)X|\\phantom{\\verb!x!}\\verb|:| 3</script></html>"
      ],
      "text/latex": [
       "\\begin{math}\n",
       "\\newcommand{\\Bold}[1]{\\mathbf{#1}}\\verb|Rank|\\phantom{\\verb!x!}\\verb|of|\\phantom{\\verb!x!}\\verb|(X^T)X|\\phantom{\\verb!x!}\\verb|:| 3\n",
       "\\end{math}"
      ],
      "text/plain": [
       "'Rank of (X^T)X :' 3"
      ]
     },
     "metadata": {},
     "output_type": "display_data"
    }
   ],
   "source": [
    "#2 Check the rank of (X^T)X\n",
    "\n",
    "#Create XTX to store the result of (X^T)X\n",
    "XTX_matrix = (X_des_matrix).T * X_des_matrix\n",
    "pretty_print(\"Rank of (X^T)X :\", XTX_matrix.rank())"
   ]
  },
  {
   "cell_type": "code",
   "execution_count": 66,
   "metadata": {},
   "outputs": [
    {
     "data": {
      "text/html": [
       "<html><script type=\"math/tex; mode=display\">\\newcommand{\\Bold}[1]{\\mathbf{#1}}\\verb|Is|\\phantom{\\verb!x!}\\verb|column|\\phantom{\\verb!x!}\\verb|space|\\phantom{\\verb!x!}\\verb|of|\\phantom{\\verb!x!}\\verb|X|\\phantom{\\verb!x!}\\verb|==|\\phantom{\\verb!x!}\\verb|X^TX?|\\phantom{\\verb!x!}\\verb|:| \\mathrm{False}</script></html>"
      ],
      "text/latex": [
       "\\begin{math}\n",
       "\\newcommand{\\Bold}[1]{\\mathbf{#1}}\\verb|Is|\\phantom{\\verb!x!}\\verb|column|\\phantom{\\verb!x!}\\verb|space|\\phantom{\\verb!x!}\\verb|of|\\phantom{\\verb!x!}\\verb|X|\\phantom{\\verb!x!}\\verb|==|\\phantom{\\verb!x!}\\verb|X^TX?|\\phantom{\\verb!x!}\\verb|:| \\mathrm{False}\n",
       "\\end{math}"
      ],
      "text/plain": [
       "'Is column space of X == X^TX? :' False"
      ]
     },
     "metadata": {},
     "output_type": "display_data"
    },
    {
     "data": {
      "text/html": [
       "<html><script type=\"math/tex; mode=display\">\\newcommand{\\Bold}[1]{\\mathbf{#1}}\\verb|Is|\\phantom{\\verb!x!}\\verb|row|\\phantom{\\verb!x!}\\verb|space|\\phantom{\\verb!x!}\\verb|of|\\phantom{\\verb!x!}\\verb|X|\\phantom{\\verb!x!}\\verb|==|\\phantom{\\verb!x!}\\verb|X^TX?|\\phantom{\\verb!x!}\\verb|:| \\mathrm{True}</script></html>"
      ],
      "text/latex": [
       "\\begin{math}\n",
       "\\newcommand{\\Bold}[1]{\\mathbf{#1}}\\verb|Is|\\phantom{\\verb!x!}\\verb|row|\\phantom{\\verb!x!}\\verb|space|\\phantom{\\verb!x!}\\verb|of|\\phantom{\\verb!x!}\\verb|X|\\phantom{\\verb!x!}\\verb|==|\\phantom{\\verb!x!}\\verb|X^TX?|\\phantom{\\verb!x!}\\verb|:| \\mathrm{True}\n",
       "\\end{math}"
      ],
      "text/plain": [
       "'Is row space of X == X^TX? :' True"
      ]
     },
     "metadata": {},
     "output_type": "display_data"
    },
    {
     "data": {
      "text/html": [
       "<html><script type=\"math/tex; mode=display\">\\newcommand{\\Bold}[1]{\\mathbf{#1}}\\verb|Is|\\phantom{\\verb!x!}\\verb|null|\\phantom{\\verb!x!}\\verb|space|\\phantom{\\verb!x!}\\verb|of|\\phantom{\\verb!x!}\\verb|X|\\phantom{\\verb!x!}\\verb|==|\\phantom{\\verb!x!}\\verb|X^TX?|\\phantom{\\verb!x!}\\verb|:| \\mathrm{True}</script></html>"
      ],
      "text/latex": [
       "\\begin{math}\n",
       "\\newcommand{\\Bold}[1]{\\mathbf{#1}}\\verb|Is|\\phantom{\\verb!x!}\\verb|null|\\phantom{\\verb!x!}\\verb|space|\\phantom{\\verb!x!}\\verb|of|\\phantom{\\verb!x!}\\verb|X|\\phantom{\\verb!x!}\\verb|==|\\phantom{\\verb!x!}\\verb|X^TX?|\\phantom{\\verb!x!}\\verb|:| \\mathrm{True}\n",
       "\\end{math}"
      ],
      "text/plain": [
       "'Is null space of X == X^TX? :' True"
      ]
     },
     "metadata": {},
     "output_type": "display_data"
    },
    {
     "data": {
      "text/html": [
       "<html><script type=\"math/tex; mode=display\">\\newcommand{\\Bold}[1]{\\mathbf{#1}}\\verb|Is|\\phantom{\\verb!x!}\\verb|left|\\phantom{\\verb!x!}\\verb|null|\\phantom{\\verb!x!}\\verb|space|\\phantom{\\verb!x!}\\verb|of|\\phantom{\\verb!x!}\\verb|X|\\phantom{\\verb!x!}\\verb|==|\\phantom{\\verb!x!}\\verb|X^TX?|\\phantom{\\verb!x!}\\verb|:| \\mathrm{False}</script></html>"
      ],
      "text/latex": [
       "\\begin{math}\n",
       "\\newcommand{\\Bold}[1]{\\mathbf{#1}}\\verb|Is|\\phantom{\\verb!x!}\\verb|left|\\phantom{\\verb!x!}\\verb|null|\\phantom{\\verb!x!}\\verb|space|\\phantom{\\verb!x!}\\verb|of|\\phantom{\\verb!x!}\\verb|X|\\phantom{\\verb!x!}\\verb|==|\\phantom{\\verb!x!}\\verb|X^TX?|\\phantom{\\verb!x!}\\verb|:| \\mathrm{False}\n",
       "\\end{math}"
      ],
      "text/plain": [
       "'Is left null space of X == X^TX? :' False"
      ]
     },
     "metadata": {},
     "output_type": "display_data"
    }
   ],
   "source": [
    "#3 Compare the four fundamental spaces of X (*Note: This takes some time for computation)\n",
    "pretty_print(\"Is column space of X == X^TX? :\", X_des_matrix.column_space() == XTX_matrix.column_space())\n",
    "pretty_print(\"Is row space of X == X^TX? :\", X_des_matrix.row_space() == XTX_matrix.row_space())\n",
    "pretty_print(\"Is null space of X == X^TX? :\", X_des_matrix.right_kernel() == XTX_matrix.right_kernel())\n",
    "pretty_print(\"Is left null space of X == X^TX? :\", X_des_matrix.left_kernel() == XTX_matrix.left_kernel())"
   ]
  },
  {
   "cell_type": "code",
   "execution_count": 67,
   "metadata": {},
   "outputs": [
    {
     "data": {
      "text/html": [
       "<html><script type=\"math/tex; mode=display\">\\newcommand{\\Bold}[1]{\\mathbf{#1}}\\verb|Is|\\phantom{\\verb!x!}\\verb|y|\\phantom{\\verb!x!}\\verb|in|\\phantom{\\verb!x!}\\verb|the|\\phantom{\\verb!x!}\\verb|column|\\phantom{\\verb!x!}\\verb|space|\\phantom{\\verb!x!}\\verb|of|\\phantom{\\verb!x!}\\verb|X?|\\phantom{\\verb!x!}\\verb|:| \\mathrm{False}</script></html>"
      ],
      "text/latex": [
       "\\begin{math}\n",
       "\\newcommand{\\Bold}[1]{\\mathbf{#1}}\\verb|Is|\\phantom{\\verb!x!}\\verb|y|\\phantom{\\verb!x!}\\verb|in|\\phantom{\\verb!x!}\\verb|the|\\phantom{\\verb!x!}\\verb|column|\\phantom{\\verb!x!}\\verb|space|\\phantom{\\verb!x!}\\verb|of|\\phantom{\\verb!x!}\\verb|X?|\\phantom{\\verb!x!}\\verb|:| \\mathrm{False}\n",
       "\\end{math}"
      ],
      "text/plain": [
       "'Is y in the column space of X? :' False"
      ]
     },
     "metadata": {},
     "output_type": "display_data"
    }
   ],
   "source": [
    "#4 Check if y is in the column space of X\n",
    "pretty_print(\"Is y in the column space of X? :\", vector(y_dpd_vec) in X_des_matrix.column_space())"
   ]
  },
  {
   "cell_type": "code",
   "execution_count": 68,
   "metadata": {},
   "outputs": [
    {
     "data": {
      "text/html": [
       "<html><script type=\"math/tex; mode=display\">\\newcommand{\\Bold}[1]{\\mathbf{#1}}\\verb|Is|\\phantom{\\verb!x!}\\verb|X^Ty|\\phantom{\\verb!x!}\\verb|in|\\phantom{\\verb!x!}\\verb|the|\\phantom{\\verb!x!}\\verb|column|\\phantom{\\verb!x!}\\verb|space|\\phantom{\\verb!x!}\\verb|of|\\phantom{\\verb!x!}\\verb|X^TX?|\\phantom{\\verb!x!}\\verb|:| \\mathrm{True}</script></html>"
      ],
      "text/latex": [
       "\\begin{math}\n",
       "\\newcommand{\\Bold}[1]{\\mathbf{#1}}\\verb|Is|\\phantom{\\verb!x!}\\verb|X^Ty|\\phantom{\\verb!x!}\\verb|in|\\phantom{\\verb!x!}\\verb|the|\\phantom{\\verb!x!}\\verb|column|\\phantom{\\verb!x!}\\verb|space|\\phantom{\\verb!x!}\\verb|of|\\phantom{\\verb!x!}\\verb|X^TX?|\\phantom{\\verb!x!}\\verb|:| \\mathrm{True}\n",
       "\\end{math}"
      ],
      "text/plain": [
       "'Is X^Ty in the column space of X^TX? :' True"
      ]
     },
     "metadata": {},
     "output_type": "display_data"
    }
   ],
   "source": [
    "#5 Check if (X^T)y is in the column space of (X^T)X\n",
    "pretty_print(\"Is X^Ty in the column space of X^TX? :\", vector(X_des_matrix.T * y_dpd_vec) in XTX_matrix.column_space())\n",
    "\n",
    "\n",
    "marks += 2"
   ]
  },
  {
   "cell_type": "markdown",
   "metadata": {},
   "source": [
    "### 3(e)\n",
    "<div style=\"text-align: right; font-size: 1.1em; color:red\"> [2 marks]</div>\n",
    "\n",
    "Compute the parameters $\\boldsymbol\\beta$ of linear regression."
   ]
  },
  {
   "cell_type": "markdown",
   "metadata": {},
   "source": [
    "$\\boldsymbol{\\hat\\beta = (X^TX)^{-1}X^Ty}$"
   ]
  },
  {
   "cell_type": "code",
   "execution_count": 69,
   "metadata": {},
   "outputs": [
    {
     "data": {
      "text/html": [
       "<html><script type=\"math/tex; mode=display\">\\newcommand{\\Bold}[1]{\\mathbf{#1}}\\verb|Parameter(Estimates)|\\phantom{\\verb!x!}\\verb|B|\\phantom{\\verb!x!}\\verb|of|\\phantom{\\verb!x!}\\verb|linear|\\phantom{\\verb!x!}\\verb|regression:| \\left(22181.23125338572,\\,-2032.1166670533535,\\,4516.121554907566\\right)</script></html>"
      ],
      "text/latex": [
       "\\begin{math}\n",
       "\\newcommand{\\Bold}[1]{\\mathbf{#1}}\\verb|Parameter(Estimates)|\\phantom{\\verb!x!}\\verb|B|\\phantom{\\verb!x!}\\verb|of|\\phantom{\\verb!x!}\\verb|linear|\\phantom{\\verb!x!}\\verb|regression:| \\left(22181.23125338572,\\,-2032.1166670533535,\\,4516.121554907566\\right)\n",
       "\\end{math}"
      ],
      "text/plain": [
       "'Parameter(Estimates) B of linear regression: ' (22181.23125338572, -2032.1166670533535, 4516.121554907566)"
      ]
     },
     "metadata": {},
     "output_type": "display_data"
    }
   ],
   "source": [
    "#Compute Beta (vectors that holds the parameters of linear regressiom)\n",
    "Beta = XTX_matrix.inverse() * X_des_matrix.transpose() * y_dpd_vec\n",
    "Beta = vector(Beta)\n",
    "pretty_print(\"Parameter(Estimates) B of linear regression: \", Beta)\n",
    "\n",
    "marks += 2"
   ]
  },
  {
   "cell_type": "markdown",
   "metadata": {},
   "source": [
    "### 3(f)\n",
    "<div style=\"text-align: right; font-size: 1.1em; color:red\"> [2 marks]</div>\n",
    "\n",
    "What is the *shape* of the model here? (Use a *markdown* cell to answer.)"
   ]
  },
  {
   "cell_type": "markdown",
   "metadata": {},
   "source": [
    "The model is a **plane** because it is a linear equation in 3 dimensions."
   ]
  },
  {
   "cell_type": "code",
   "execution_count": 70,
   "metadata": {},
   "outputs": [],
   "source": [
    "marks += 2"
   ]
  },
  {
   "cell_type": "markdown",
   "metadata": {},
   "source": [
    "### 3(g)\n",
    "<div style=\"text-align: right; font-size: 1.1em; color:red\"> [2 marks]</div>\n",
    "\n",
    "Create a plot to visualize the data and the model."
   ]
  },
  {
   "cell_type": "code",
   "execution_count": 71,
   "metadata": {},
   "outputs": [
    {
     "data": {
      "text/html": [
       "\n",
       "<iframe srcdoc=\"<!DOCTYPE html>\n",
       "<html>\n",
       "<head>\n",
       "<title></title>\n",
       "<meta charset=&quot;utf-8&quot;>\n",
       "<meta name=viewport content=&quot;width=device-width, user-scalable=no, minimum-scale=1.0, maximum-scale=1.0&quot;>\n",
       "<style>\n",
       "\n",
       "    body { margin: 0px; overflow: hidden; }\n",
       "\n",
       "    #menu-container { position: absolute; bottom: 30px; right: 40px; cursor: default; }\n",
       "\n",
       "    #menu-message { position: absolute; bottom: 0px; right: 0px; white-space: nowrap;\n",
       "                    display: none; background-color: #F5F5F5; padding: 10px; }\n",
       "\n",
       "    #menu-content { position: absolute; bottom: 0px; right: 0px;\n",
       "                    display: none; background-color: #F5F5F5; border-bottom: 1px solid black;\n",
       "                    border-right: 1px solid black; border-left: 1px solid black; }\n",
       "\n",
       "    #menu-content div { border-top: 1px solid black; padding: 10px; white-space: nowrap; }\n",
       "\n",
       "    #menu-content div:hover { background-color: #FEFEFE;; }\n",
       "\n",
       "</style>\n",
       "\n",
       "</head>\n",
       "\n",
       "<body>\n",
       "\n",
       "<script src=&quot;/nbextensions/threejs/build/three.min.js&quot;></script>\n",
       "<script src=&quot;/nbextensions/threejs/examples/js/controls/OrbitControls.js&quot;></script>\n",
       "<script>\n",
       "  if ( !window.THREE ) document.write(' \\\n",
       "<script src=&quot;https://cdn.jsdelivr.net/gh/mrdoob/three.js@r117/build/three.min.js&quot;><\\/script> \\\n",
       "<script src=&quot;https://cdn.jsdelivr.net/gh/mrdoob/three.js@r117/examples/js/controls/OrbitControls.js&quot;><\\/script> \\\n",
       "            ');\n",
       "</script>\n",
       "        \n",
       "<script>\n",
       "\n",
       "    var scene = new THREE.Scene();\n",
       "\n",
       "    var renderer = new THREE.WebGLRenderer( { antialias: true, preserveDrawingBuffer: true } );\n",
       "    renderer.setPixelRatio( window.devicePixelRatio );\n",
       "    renderer.setSize( window.innerWidth, window.innerHeight );\n",
       "    renderer.setClearColor( 0xffffff, 1 );\n",
       "    document.body.appendChild( renderer.domElement );\n",
       "\n",
       "    var options = {&quot;animate&quot;: false, &quot;animationControls&quot;: true, &quot;aspectRatio&quot;: [1.0, 1.0, 1.0], &quot;autoPlay&quot;: true, &quot;axes&quot;: false, &quot;axesLabels&quot;: [&quot;x&quot;, &quot;y&quot;, &quot;z&quot;], &quot;decimals&quot;: 2, &quot;delay&quot;: 20, &quot;frame&quot;: true, &quot;loop&quot;: true, &quot;projection&quot;: &quot;perspective&quot;, &quot;viewpoint&quot;: false};\n",
       "    var animate = options.animate;\n",
       "\n",
       "    var b = [{&quot;x&quot;:0.0, &quot;y&quot;:0.0, &quot;z&quot;:-211512.18545774993}, {&quot;x&quot;:115.0, &quot;y&quot;:237.0, &quot;z&quot;:1092502.0397664788}]; // bounds\n",
       "\n",
       "    if ( b[0].x === b[1].x ) {\n",
       "        b[0].x -= 1;\n",
       "        b[1].x += 1;\n",
       "    }\n",
       "    if ( b[0].y === b[1].y ) {\n",
       "        b[0].y -= 1;\n",
       "        b[1].y += 1;\n",
       "    }\n",
       "    if ( b[0].z === b[1].z ) {\n",
       "        b[0].z -= 1;\n",
       "        b[1].z += 1;\n",
       "    }\n",
       "\n",
       "    var rRange = Math.sqrt( Math.pow( b[1].x - b[0].x, 2 )\n",
       "                            + Math.pow( b[1].y - b[0].y, 2 ) );\n",
       "    var xRange = b[1].x - b[0].x;\n",
       "    var yRange = b[1].y - b[0].y;\n",
       "    var zRange = b[1].z - b[0].z;\n",
       "\n",
       "    var ar = options.aspectRatio;\n",
       "    var a = [ ar[0], ar[1], ar[2] ]; // aspect multipliers\n",
       "    var autoAspect = 2.5;\n",
       "    if ( zRange > autoAspect * rRange && a[2] === 1 ) a[2] = autoAspect * rRange / zRange;\n",
       "\n",
       "    // Distance from (xMid,yMid,zMid) to any corner of the bounding box, after applying aspectRatio\n",
       "    var midToCorner = Math.sqrt( a[0]*a[0]*xRange*xRange + a[1]*a[1]*yRange*yRange + a[2]*a[2]*zRange*zRange ) / 2;\n",
       "\n",
       "    var xMid = ( b[0].x + b[1].x ) / 2;\n",
       "    var yMid = ( b[0].y + b[1].y ) / 2;\n",
       "    var zMid = ( b[0].z + b[1].z ) / 2;\n",
       "\n",
       "    var box = new THREE.Geometry();\n",
       "    box.vertices.push( new THREE.Vector3( a[0]*b[0].x, a[1]*b[0].y, a[2]*b[0].z ) );\n",
       "    box.vertices.push( new THREE.Vector3( a[0]*b[1].x, a[1]*b[1].y, a[2]*b[1].z ) );\n",
       "    var boxMesh = new THREE.Line( box );\n",
       "    if ( options.frame ) scene.add( new THREE.BoxHelper( boxMesh, 'black' ) );\n",
       "\n",
       "    if ( options.axesLabels ) {\n",
       "\n",
       "        var d = options.decimals; // decimals\n",
       "        var offsetRatio = 0.1;\n",
       "        var al = options.axesLabels;\n",
       "\n",
       "        var offset = offsetRatio * a[1]*( b[1].y - b[0].y );\n",
       "        var xm = xMid.toFixed(d);\n",
       "        if ( /^-0.?0*$/.test(xm) ) xm = xm.substr(1);\n",
       "        addLabel( al[0] + '=' + xm, a[0]*xMid, a[1]*b[1].y+offset, a[2]*b[0].z );\n",
       "        addLabel( ( b[0].x ).toFixed(d), a[0]*b[0].x, a[1]*b[1].y+offset, a[2]*b[0].z );\n",
       "        addLabel( ( b[1].x ).toFixed(d), a[0]*b[1].x, a[1]*b[1].y+offset, a[2]*b[0].z );\n",
       "\n",
       "        var offset = offsetRatio * a[0]*( b[1].x - b[0].x );\n",
       "        var ym = yMid.toFixed(d);\n",
       "        if ( /^-0.?0*$/.test(ym) ) ym = ym.substr(1);\n",
       "        addLabel( al[1] + '=' + ym, a[0]*b[1].x+offset, a[1]*yMid, a[2]*b[0].z );\n",
       "        addLabel( ( b[0].y ).toFixed(d), a[0]*b[1].x+offset, a[1]*b[0].y, a[2]*b[0].z );\n",
       "        addLabel( ( b[1].y ).toFixed(d), a[0]*b[1].x+offset, a[1]*b[1].y, a[2]*b[0].z );\n",
       "\n",
       "        var offset = offsetRatio * a[1]*( b[1].y - b[0].y );\n",
       "        var zm = zMid.toFixed(d);\n",
       "        if ( /^-0.?0*$/.test(zm) ) zm = zm.substr(1);\n",
       "        addLabel( al[2] + '=' + zm, a[0]*b[1].x, a[1]*b[0].y-offset, a[2]*zMid );\n",
       "        addLabel( ( b[0].z ).toFixed(d), a[0]*b[1].x, a[1]*b[0].y-offset, a[2]*b[0].z );\n",
       "        addLabel( ( b[1].z ).toFixed(d), a[0]*b[1].x, a[1]*b[0].y-offset, a[2]*b[1].z );\n",
       "\n",
       "    }\n",
       "\n",
       "    function addLabel( text, x, y, z, color='black', fontSize=14, fontFamily='monospace',\n",
       "                       fontStyle='normal', fontWeight='normal', opacity=1 ) {\n",
       "\n",
       "        var canvas = document.createElement( 'canvas' );\n",
       "        var context = canvas.getContext( '2d' );\n",
       "        var pixelRatio = Math.round( window.devicePixelRatio );\n",
       "\n",
       "        var font = [fontStyle, fontWeight, fontSize + 'px', fontFamily].join(' ');\n",
       "\n",
       "        context.font = font;\n",
       "        var width = context.measureText( text ).width;\n",
       "        var height = fontSize;\n",
       "\n",
       "        // The dimensions of the canvas's underlying image data need to be powers\n",
       "        // of two in order for the resulting texture to support mipmapping.\n",
       "        canvas.width = THREE.MathUtils.ceilPowerOfTwo( width * pixelRatio );\n",
       "        canvas.height = THREE.MathUtils.ceilPowerOfTwo( height * pixelRatio );\n",
       "\n",
       "        // Re-compute the unscaled dimensions after the power of two conversion.\n",
       "        width = canvas.width / pixelRatio;\n",
       "        height = canvas.height / pixelRatio;\n",
       "\n",
       "        canvas.style.width = width + 'px';\n",
       "        canvas.style.height = height + 'px';\n",
       "\n",
       "        context.scale( pixelRatio, pixelRatio );\n",
       "        context.fillStyle = color;\n",
       "        context.font = font; // Must be set again after measureText.\n",
       "        context.textAlign = 'center';\n",
       "        context.textBaseline = 'middle';\n",
       "        context.fillText( text, width/2, height/2 );\n",
       "\n",
       "        var texture = new THREE.Texture( canvas );\n",
       "        texture.needsUpdate = true;\n",
       "\n",
       "        var materialOptions = { map: texture, sizeAttenuation: false };\n",
       "        if ( opacity < 1 ) {\n",
       "            // Setting opacity=1 would cause the texture's alpha component to be\n",
       "            // discarded, giving the text a black background instead of the\n",
       "            // background being transparent.\n",
       "            materialOptions.opacity = opacity;\n",
       "        }\n",
       "        var sprite = new THREE.Sprite( new THREE.SpriteMaterial( materialOptions ) );\n",
       "        sprite.position.set( x, y, z );\n",
       "\n",
       "        // Scaling factor, chosen somewhat arbitrarily so that the size of the text\n",
       "        // is consistent with previously generated plots.\n",
       "        var scale = 1/625;\n",
       "        if ( options.projection === 'orthographic' ) {\n",
       "            scale = midToCorner/256; // Needs to scale along with the plot itself.\n",
       "        }\n",
       "        sprite.scale.set( scale * width, scale * height, 1 );\n",
       "\n",
       "        scene.add( sprite );\n",
       "\n",
       "        return sprite;\n",
       "\n",
       "    }\n",
       "\n",
       "    if ( options.axes ) scene.add( new THREE.AxesHelper( Math.min( a[0]*b[1].x, a[1]*b[1].y, a[2]*b[1].z ) ) );\n",
       "\n",
       "    var camera = createCamera();\n",
       "    camera.up.set( 0, 0, 1 );\n",
       "    camera.position.set( a[0]*xMid, a[1]*yMid, a[2]*zMid );\n",
       "\n",
       "    var offset = new THREE.Vector3( a[0]*xRange, a[1]*yRange, a[2]*zRange );\n",
       "\n",
       "    if ( options.viewpoint ) {\n",
       "\n",
       "        var aa = options.viewpoint;\n",
       "        var axis = new THREE.Vector3( aa[0][0], aa[0][1], aa[0][2] ).normalize();\n",
       "        var angle = aa[1] * Math.PI / 180;\n",
       "        var q = new THREE.Quaternion().setFromAxisAngle( axis, angle ).inverse();\n",
       "\n",
       "        offset.set( 0, 0, offset.length() );\n",
       "        offset.applyQuaternion( q );\n",
       "\n",
       "    }\n",
       "\n",
       "    camera.position.add( offset );\n",
       "\n",
       "    function createCamera() {\n",
       "\n",
       "        var aspect = window.innerWidth / window.innerHeight;\n",
       "\n",
       "        if ( options.projection === 'orthographic' ) {\n",
       "            var camera = new THREE.OrthographicCamera( -1, 1, 1, -1, -1000, 1000 );\n",
       "            updateCameraAspect( camera, aspect );\n",
       "            return camera;\n",
       "        }\n",
       "\n",
       "        return new THREE.PerspectiveCamera( 45, aspect, 0.1, 1000 );\n",
       "\n",
       "    }\n",
       "\n",
       "    function updateCameraAspect( camera, aspect ) {\n",
       "\n",
       "        if ( camera.isPerspectiveCamera ) {\n",
       "            camera.aspect = aspect;\n",
       "        } else if ( camera.isOrthographicCamera ) {\n",
       "            // Fit the camera frustum to the bounding box's diagonal so that the entire plot fits\n",
       "            // within at the default zoom level and camera position.\n",
       "            if ( aspect > 1 ) { // Wide window\n",
       "                camera.top = midToCorner;\n",
       "                camera.right = midToCorner * aspect;\n",
       "            } else { // Tall or square window\n",
       "                camera.top = midToCorner / aspect;\n",
       "                camera.right = midToCorner;\n",
       "            }\n",
       "            camera.bottom = -camera.top;\n",
       "            camera.left = -camera.right;\n",
       "        }\n",
       "\n",
       "        camera.updateProjectionMatrix();\n",
       "\n",
       "    }\n",
       "\n",
       "    var lights = [{&quot;x&quot;:-5, &quot;y&quot;:3, &quot;z&quot;:0, &quot;color&quot;:&quot;#7f7f7f&quot;, &quot;parent&quot;:&quot;camera&quot;}];\n",
       "    for ( var i=0 ; i < lights.length ; i++ ) {\n",
       "        var light = new THREE.DirectionalLight( lights[i].color, 1 );\n",
       "        light.position.set( a[0]*lights[i].x, a[1]*lights[i].y, a[2]*lights[i].z );\n",
       "        if ( lights[i].parent === 'camera' ) {\n",
       "            light.target.position.set( a[0]*xMid, a[1]*yMid, a[2]*zMid );\n",
       "            scene.add( light.target );\n",
       "            camera.add( light );\n",
       "        } else scene.add( light );\n",
       "    }\n",
       "    scene.add( camera );\n",
       "\n",
       "    var ambient = {&quot;color&quot;:&quot;#7f7f7f&quot;};\n",
       "    scene.add( new THREE.AmbientLight( ambient.color, 1 ) );\n",
       "\n",
       "    var controls = new THREE.OrbitControls( camera, renderer.domElement );\n",
       "    controls.target.set( a[0]*xMid, a[1]*yMid, a[2]*zMid );\n",
       "    controls.addEventListener( 'change', function() { if ( !animate ) render(); } );\n",
       "\n",
       "    window.addEventListener( 'resize', function() {\n",
       "\n",
       "        renderer.setSize( window.innerWidth, window.innerHeight );\n",
       "        updateCameraAspect( camera, window.innerWidth / window.innerHeight );\n",
       "        if ( !animate ) render();\n",
       "\n",
       "    } );\n",
       "\n",
       "    var texts = [];\n",
       "    for ( var i=0 ; i < texts.length ; i++ ) addText( texts[i] );\n",
       "\n",
       "    function addText( json ) {\n",
       "        json.fontFamily = json.fontFamily.map( function( f ) {\n",
       "            // Need to put quotes around fonts that have whitespace in their names.\n",
       "            return /\\s/.test( f ) ? '&quot;' + f + '&quot;' : f;\n",
       "        }).join(', ');\n",
       "        var sprite = addLabel( json.text, a[0]*json.x, a[1]*json.y, a[2]*json.z, json.color,\n",
       "                               json.fontSize, json.fontFamily, json.fontStyle, json.fontWeight,\n",
       "                               json.opacity );\n",
       "        sprite.userData = json;\n",
       "    }\n",
       "\n",
       "    var points = [];\n",
       "    for ( var i=0 ; i < points.length ; i++ ) addPoint( points[i] );\n",
       "\n",
       "    function addPoint( json ) {\n",
       "\n",
       "        var geometry = new THREE.Geometry();\n",
       "        var v = json.point;\n",
       "        geometry.vertices.push( new THREE.Vector3( a[0]*v[0], a[1]*v[1], a[2]*v[2] ) );\n",
       "\n",
       "        var canvas = document.createElement( 'canvas' );\n",
       "        canvas.width = 128;\n",
       "        canvas.height = 128;\n",
       "\n",
       "        var context = canvas.getContext( '2d' );\n",
       "        context.arc( 64, 64, 64, 0, 2 * Math.PI );\n",
       "        context.fillStyle = json.color;\n",
       "        context.fill();\n",
       "\n",
       "        var texture = new THREE.Texture( canvas );\n",
       "        texture.needsUpdate = true;\n",
       "\n",
       "        var transparent = json.opacity < 1 ? true : false;\n",
       "        var size = camera.isOrthographicCamera ? json.size : json.size/100;\n",
       "        var material = new THREE.PointsMaterial( { size: size, map: texture,\n",
       "                                                   transparent: transparent, opacity: json.opacity,\n",
       "                                                   alphaTest: .1 } );\n",
       "\n",
       "        var c = new THREE.Vector3();\n",
       "        geometry.computeBoundingBox();\n",
       "        geometry.boundingBox.getCenter( c );\n",
       "        geometry.translate( -c.x, -c.y, -c.z );\n",
       "\n",
       "        var mesh = new THREE.Points( geometry, material );\n",
       "        mesh.position.set( c.x, c.y, c.z );\n",
       "        mesh.userData = json;\n",
       "        scene.add( mesh );\n",
       "\n",
       "    }\n",
       "\n",
       "    var lines = [];\n",
       "    for ( var i=0 ; i < lines.length ; i++ ) addLine( lines[i] );\n",
       "\n",
       "    function addLine( json ) {\n",
       "\n",
       "        var geometry = new THREE.Geometry();\n",
       "        for ( var i=0 ; i < json.points.length ; i++ ) {\n",
       "            var v = json.points[i];\n",
       "            geometry.vertices.push( new THREE.Vector3( a[0]*v[0], a[1]*v[1], a[2]*v[2] ) );\n",
       "        }\n",
       "\n",
       "        var transparent = json.opacity < 1 ? true : false;\n",
       "        var material = new THREE.LineBasicMaterial( { color: json.color, linewidth: json.linewidth,\n",
       "                                                      transparent: transparent, opacity: json.opacity } );\n",
       "\n",
       "        var c = new THREE.Vector3();\n",
       "        geometry.computeBoundingBox();\n",
       "        geometry.boundingBox.getCenter( c );\n",
       "        geometry.translate( -c.x, -c.y, -c.z );\n",
       "\n",
       "        var mesh = new THREE.Line( geometry, material );\n",
       "        mesh.position.set( c.x, c.y, c.z );\n",
       "        mesh.userData = json;\n",
       "        scene.add( mesh );\n",
       "\n",
       "    }\n",
       "\n",
       "    var surfaces = [{&quot;vertices&quot;: [{&quot;x&quot;: 0.0, &quot;y&quot;: 0.0, &quot;z&quot;: 22181.23125338572}, {&quot;x&quot;: 0.0, &quot;y&quot;: 6.076923076923077, &quot;z&quot;: 49625.35454859323}, {&quot;x&quot;: 2.948717948717949, &quot;y&quot;: 6.076923076923077, &quot;z&quot;: 43633.21565856411}, {&quot;x&quot;: 2.948717948717949, &quot;y&quot;: 0.0, &quot;z&quot;: 16189.092363356598}, {&quot;x&quot;: 0.0, &quot;y&quot;: 12.153846153846153, &quot;z&quot;: 77069.47784380075}, {&quot;x&quot;: 2.948717948717949, &quot;y&quot;: 12.153846153846153, &quot;z&quot;: 71077.33895377163}, {&quot;x&quot;: 0.0, &quot;y&quot;: 18.23076923076923, &quot;z&quot;: 104513.60113900826}, {&quot;x&quot;: 2.948717948717949, &quot;y&quot;: 18.23076923076923, &quot;z&quot;: 98521.46224897914}, {&quot;x&quot;: 0.0, &quot;y&quot;: 24.307692307692307, &quot;z&quot;: 131957.72443421578}, {&quot;x&quot;: 2.948717948717949, &quot;y&quot;: 24.307692307692307, &quot;z&quot;: 125965.58554418666}, {&quot;x&quot;: 0.0, &quot;y&quot;: 30.384615384615383, &quot;z&quot;: 159401.8477294233}, {&quot;x&quot;: 2.948717948717949, &quot;y&quot;: 30.384615384615383, &quot;z&quot;: 153409.70883939418}, {&quot;x&quot;: 0.0, &quot;y&quot;: 36.46153846153846, &quot;z&quot;: 186845.9710246308}, {&quot;x&quot;: 2.948717948717949, &quot;y&quot;: 36.46153846153846, &quot;z&quot;: 180853.8321346017}, {&quot;x&quot;: 0.0, &quot;y&quot;: 42.53846153846153, &quot;z&quot;: 214290.0943198383}, {&quot;x&quot;: 2.948717948717949, &quot;y&quot;: 42.53846153846153, &quot;z&quot;: 208297.9554298092}, {&quot;x&quot;: 0.0, &quot;y&quot;: 48.61538461538461, &quot;z&quot;: 241734.21761504584}, {&quot;x&quot;: 2.948717948717949, &quot;y&quot;: 48.61538461538461, &quot;z&quot;: 235742.07872501673}, {&quot;x&quot;: 0.0, &quot;y&quot;: 54.69230769230769, &quot;z&quot;: 269178.34091025335}, {&quot;x&quot;: 2.948717948717949, &quot;y&quot;: 54.69230769230769, &quot;z&quot;: 263186.2020202243}, {&quot;x&quot;: 0.0, &quot;y&quot;: 60.769230769230774, &quot;z&quot;: 296622.4642054609}, {&quot;x&quot;: 2.948717948717949, &quot;y&quot;: 60.769230769230774, &quot;z&quot;: 290630.3253154318}, {&quot;x&quot;: 0.0, &quot;y&quot;: 66.84615384615385, &quot;z&quot;: 324066.5875006684}, {&quot;x&quot;: 2.948717948717949, &quot;y&quot;: 66.84615384615385, &quot;z&quot;: 318074.4486106393}, {&quot;x&quot;: 0.0, &quot;y&quot;: 72.92307692307693, &quot;z&quot;: 351510.710795876}, {&quot;x&quot;: 2.948717948717949, &quot;y&quot;: 72.92307692307693, &quot;z&quot;: 345518.5719058469}, {&quot;x&quot;: 0.0, &quot;y&quot;: 79.00000000000001, &quot;z&quot;: 378954.8340910835}, {&quot;x&quot;: 2.948717948717949, &quot;y&quot;: 79.00000000000001, &quot;z&quot;: 372962.6952010544}, {&quot;x&quot;: 0.0, &quot;y&quot;: 85.0769230769231, &quot;z&quot;: 406398.957386291}, {&quot;x&quot;: 2.948717948717949, &quot;y&quot;: 85.0769230769231, &quot;z&quot;: 400406.8184962619}, {&quot;x&quot;: 0.0, &quot;y&quot;: 91.15384615384617, &quot;z&quot;: 433843.08068149857}, {&quot;x&quot;: 2.948717948717949, &quot;y&quot;: 91.15384615384617, &quot;z&quot;: 427850.94179146946}, {&quot;x&quot;: 0.0, &quot;y&quot;: 97.23076923076925, &quot;z&quot;: 461287.2039767061}, {&quot;x&quot;: 2.948717948717949, &quot;y&quot;: 97.23076923076925, &quot;z&quot;: 455295.065086677}, {&quot;x&quot;: 0.0, &quot;y&quot;: 103.30769230769234, &quot;z&quot;: 488731.32727191364}, {&quot;x&quot;: 2.948717948717949, &quot;y&quot;: 103.30769230769234, &quot;z&quot;: 482739.18838188454}, {&quot;x&quot;: 0.0, &quot;y&quot;: 109.38461538461542, &quot;z&quot;: 516175.45056712115}, {&quot;x&quot;: 2.948717948717949, &quot;y&quot;: 109.38461538461542, &quot;z&quot;: 510183.31167709205}, {&quot;x&quot;: 0.0, &quot;y&quot;: 115.4615384615385, &quot;z&quot;: 543619.5738623287}, {&quot;x&quot;: 2.948717948717949, &quot;y&quot;: 115.4615384615385, &quot;z&quot;: 537627.4349722995}, {&quot;x&quot;: 0.0, &quot;y&quot;: 121.53846153846158, &quot;z&quot;: 571063.6971575362}, {&quot;x&quot;: 2.948717948717949, &quot;y&quot;: 121.53846153846158, &quot;z&quot;: 565071.558267507}, {&quot;x&quot;: 0.0, &quot;y&quot;: 127.61538461538466, &quot;z&quot;: 598507.8204527437}, {&quot;x&quot;: 2.948717948717949, &quot;y&quot;: 127.61538461538466, &quot;z&quot;: 592515.6815627145}, {&quot;x&quot;: 0.0, &quot;y&quot;: 133.69230769230774, &quot;z&quot;: 625951.9437479512}, {&quot;x&quot;: 2.948717948717949, &quot;y&quot;: 133.69230769230774, &quot;z&quot;: 619959.804857922}, {&quot;x&quot;: 0.0, &quot;y&quot;: 139.7692307692308, &quot;z&quot;: 653396.0670431587}, {&quot;x&quot;: 2.948717948717949, &quot;y&quot;: 139.7692307692308, &quot;z&quot;: 647403.9281531295}, {&quot;x&quot;: 0.0, &quot;y&quot;: 145.84615384615387, &quot;z&quot;: 680840.1903383662}, {&quot;x&quot;: 2.948717948717949, &quot;y&quot;: 145.84615384615387, &quot;z&quot;: 674848.051448337}, {&quot;x&quot;: 0.0, &quot;y&quot;: 151.92307692307693, &quot;z&quot;: 708284.3136335737}, {&quot;x&quot;: 2.948717948717949, &quot;y&quot;: 151.92307692307693, &quot;z&quot;: 702292.1747435445}, {&quot;x&quot;: 0.0, &quot;y&quot;: 158.0, &quot;z&quot;: 735728.4369287812}, {&quot;x&quot;: 2.948717948717949, &quot;y&quot;: 158.0, &quot;z&quot;: 729736.298038752}, {&quot;x&quot;: 0.0, &quot;y&quot;: 164.07692307692307, &quot;z&quot;: 763172.5602239885}, {&quot;x&quot;: 2.948717948717949, &quot;y&quot;: 164.07692307692307, &quot;z&quot;: 757180.4213339593}, {&quot;x&quot;: 0.0, &quot;y&quot;: 170.15384615384613, &quot;z&quot;: 790616.683519196}, {&quot;x&quot;: 2.948717948717949, &quot;y&quot;: 170.15384615384613, &quot;z&quot;: 784624.5446291668}, {&quot;x&quot;: 0.0, &quot;y&quot;: 176.2307692307692, &quot;z&quot;: 818060.8068144035}, {&quot;x&quot;: 2.948717948717949, &quot;y&quot;: 176.2307692307692, &quot;z&quot;: 812068.6679243743}, {&quot;x&quot;: 0.0, &quot;y&quot;: 182.30769230769226, &quot;z&quot;: 845504.930109611}, {&quot;x&quot;: 2.948717948717949, &quot;y&quot;: 182.30769230769226, &quot;z&quot;: 839512.7912195818}, {&quot;x&quot;: 0.0, &quot;y&quot;: 188.38461538461533, &quot;z&quot;: 872949.0534048185}, {&quot;x&quot;: 2.948717948717949, &quot;y&quot;: 188.38461538461533, &quot;z&quot;: 866956.9145147894}, {&quot;x&quot;: 0.0, &quot;y&quot;: 194.4615384615384, &quot;z&quot;: 900393.176700026}, {&quot;x&quot;: 2.948717948717949, &quot;y&quot;: 194.4615384615384, &quot;z&quot;: 894401.0378099969}, {&quot;x&quot;: 0.0, &quot;y&quot;: 200.53846153846146, &quot;z&quot;: 927837.2999952333}, {&quot;x&quot;: 2.948717948717949, &quot;y&quot;: 200.53846153846146, &quot;z&quot;: 921845.1611052041}, {&quot;x&quot;: 0.0, &quot;y&quot;: 206.61538461538453, &quot;z&quot;: 955281.4232904408}, {&quot;x&quot;: 2.948717948717949, &quot;y&quot;: 206.61538461538453, &quot;z&quot;: 949289.2844004116}, {&quot;x&quot;: 0.0, &quot;y&quot;: 212.6923076923076, &quot;z&quot;: 982725.5465856483}, {&quot;x&quot;: 2.948717948717949, &quot;y&quot;: 212.6923076923076, &quot;z&quot;: 976733.4076956192}, {&quot;x&quot;: 0.0, &quot;y&quot;: 218.76923076923066, &quot;z&quot;: 1010169.6698808558}, {&quot;x&quot;: 2.948717948717949, &quot;y&quot;: 218.76923076923066, &quot;z&quot;: 1004177.5309908267}, {&quot;x&quot;: 0.0, &quot;y&quot;: 224.84615384615373, &quot;z&quot;: 1037613.7931760633}, {&quot;x&quot;: 2.948717948717949, &quot;y&quot;: 224.84615384615373, &quot;z&quot;: 1031621.6542860342}, {&quot;x&quot;: 0.0, &quot;y&quot;: 230.9230769230768, &quot;z&quot;: 1065057.9164712708}, {&quot;x&quot;: 2.948717948717949, &quot;y&quot;: 230.9230769230768, &quot;z&quot;: 1059065.7775812417}, {&quot;x&quot;: 0.0, &quot;y&quot;: 237.0, &quot;z&quot;: 1092502.0397664788}, {&quot;x&quot;: 2.948717948717949, &quot;y&quot;: 237.0, &quot;z&quot;: 1086509.9008764497}, {&quot;x&quot;: 5.897435897435898, &quot;y&quot;: 6.076923076923077, &quot;z&quot;: 37641.07676853499}, {&quot;x&quot;: 5.897435897435898, &quot;y&quot;: 0.0, &quot;z&quot;: 10196.95347332748}, {&quot;x&quot;: 5.897435897435898, &quot;y&quot;: 12.153846153846153, &quot;z&quot;: 65085.20006374251}, {&quot;x&quot;: 5.897435897435898, &quot;y&quot;: 18.23076923076923, &quot;z&quot;: 92529.32335895002}, {&quot;x&quot;: 5.897435897435898, &quot;y&quot;: 24.307692307692307, &quot;z&quot;: 119973.44665415754}, {&quot;x&quot;: 5.897435897435898, &quot;y&quot;: 30.384615384615383, &quot;z&quot;: 147417.56994936505}, {&quot;x&quot;: 5.897435897435898, &quot;y&quot;: 36.46153846153846, &quot;z&quot;: 174861.69324457255}, {&quot;x&quot;: 5.897435897435898, &quot;y&quot;: 42.53846153846153, &quot;z&quot;: 202305.81653978006}, {&quot;x&quot;: 5.897435897435898, &quot;y&quot;: 48.61538461538461, &quot;z&quot;: 229749.9398349876}, {&quot;x&quot;: 5.897435897435898, &quot;y&quot;: 54.69230769230769, &quot;z&quot;: 257194.06313019514}, {&quot;x&quot;: 5.897435897435898, &quot;y&quot;: 60.769230769230774, &quot;z&quot;: 284638.1864254027}, {&quot;x&quot;: 5.897435897435898, &quot;y&quot;: 66.84615384615385, &quot;z&quot;: 312082.3097206102}, {&quot;x&quot;: 5.897435897435898, &quot;y&quot;: 72.92307692307693, &quot;z&quot;: 339526.4330158178}, {&quot;x&quot;: 5.897435897435898, &quot;y&quot;: 79.00000000000001, &quot;z&quot;: 366970.5563110253}, {&quot;x&quot;: 5.897435897435898, &quot;y&quot;: 85.0769230769231, &quot;z&quot;: 394414.6796062328}, {&quot;x&quot;: 5.897435897435898, &quot;y&quot;: 91.15384615384617, &quot;z&quot;: 421858.80290144036}, {&quot;x&quot;: 5.897435897435898, &quot;y&quot;: 97.23076923076925, &quot;z&quot;: 449302.92619664787}, {&quot;x&quot;: 5.897435897435898, &quot;y&quot;: 103.30769230769234, &quot;z&quot;: 476747.04949185543}, {&quot;x&quot;: 5.897435897435898, &quot;y&quot;: 109.38461538461542, &quot;z&quot;: 504191.17278706294}, {&quot;x&quot;: 5.897435897435898, &quot;y&quot;: 115.4615384615385, &quot;z&quot;: 531635.2960822704}, {&quot;x&quot;: 5.897435897435898, &quot;y&quot;: 121.53846153846158, &quot;z&quot;: 559079.4193774781}, {&quot;x&quot;: 5.897435897435898, &quot;y&quot;: 127.61538461538466, &quot;z&quot;: 586523.5426726856}, {&quot;x&quot;: 5.897435897435898, &quot;y&quot;: 133.69230769230774, &quot;z&quot;: 613967.6659678931}, {&quot;x&quot;: 5.897435897435898, &quot;y&quot;: 139.7692307692308, &quot;z&quot;: 641411.7892631006}, {&quot;x&quot;: 5.897435897435898, &quot;y&quot;: 145.84615384615387, &quot;z&quot;: 668855.9125583081}, {&quot;x&quot;: 5.897435897435898, &quot;y&quot;: 151.92307692307693, &quot;z&quot;: 696300.0358535154}, {&quot;x&quot;: 5.897435897435898, &quot;y&quot;: 158.0, &quot;z&quot;: 723744.1591487229}, {&quot;x&quot;: 5.897435897435898, &quot;y&quot;: 164.07692307692307, &quot;z&quot;: 751188.2824439304}, {&quot;x&quot;: 5.897435897435898, &quot;y&quot;: 170.15384615384613, &quot;z&quot;: 778632.4057391379}, {&quot;x&quot;: 5.897435897435898, &quot;y&quot;: 176.2307692307692, &quot;z&quot;: 806076.5290343454}, {&quot;x&quot;: 5.897435897435898, &quot;y&quot;: 182.30769230769226, &quot;z&quot;: 833520.6523295527}, {&quot;x&quot;: 5.897435897435898, &quot;y&quot;: 188.38461538461533, &quot;z&quot;: 860964.7756247602}, {&quot;x&quot;: 5.897435897435898, &quot;y&quot;: 194.4615384615384, &quot;z&quot;: 888408.8989199677}, {&quot;x&quot;: 5.897435897435898, &quot;y&quot;: 200.53846153846146, &quot;z&quot;: 915853.0222151752}, {&quot;x&quot;: 5.897435897435898, &quot;y&quot;: 206.61538461538453, &quot;z&quot;: 943297.1455103827}, {&quot;x&quot;: 5.897435897435898, &quot;y&quot;: 212.6923076923076, &quot;z&quot;: 970741.2688055902}, {&quot;x&quot;: 5.897435897435898, &quot;y&quot;: 218.76923076923066, &quot;z&quot;: 998185.3921007975}, {&quot;x&quot;: 5.897435897435898, &quot;y&quot;: 224.84615384615373, &quot;z&quot;: 1025629.515396005}, {&quot;x&quot;: 5.897435897435898, &quot;y&quot;: 230.9230769230768, &quot;z&quot;: 1053073.6386912125}, {&quot;x&quot;: 5.897435897435898, &quot;y&quot;: 237.0, &quot;z&quot;: 1080517.7619864205}, {&quot;x&quot;: 8.846153846153847, &quot;y&quot;: 6.076923076923077, &quot;z&quot;: 31648.937878505876}, {&quot;x&quot;: 8.846153846153847, &quot;y&quot;: 0.0, &quot;z&quot;: 4204.814583298361}, {&quot;x&quot;: 8.846153846153847, &quot;y&quot;: 12.153846153846153, &quot;z&quot;: 59093.06117371339}, {&quot;x&quot;: 8.846153846153847, &quot;y&quot;: 18.23076923076923, &quot;z&quot;: 86537.1844689209}, {&quot;x&quot;: 8.846153846153847, &quot;y&quot;: 24.307692307692307, &quot;z&quot;: 113981.30776412842}, {&quot;x&quot;: 8.846153846153847, &quot;y&quot;: 30.384615384615383, &quot;z&quot;: 141425.43105933594}, {&quot;x&quot;: 8.846153846153847, &quot;y&quot;: 36.46153846153846, &quot;z&quot;: 168869.55435454345}, {&quot;x&quot;: 8.846153846153847, &quot;y&quot;: 42.53846153846153, &quot;z&quot;: 196313.67764975096}, {&quot;x&quot;: 8.846153846153847, &quot;y&quot;: 48.61538461538461, &quot;z&quot;: 223757.8009449585}, {&quot;x&quot;: 8.846153846153847, &quot;y&quot;: 54.69230769230769, &quot;z&quot;: 251201.92424016603}, {&quot;x&quot;: 8.846153846153847, &quot;y&quot;: 60.769230769230774, &quot;z&quot;: 278646.0475353736}, {&quot;x&quot;: 8.846153846153847, &quot;y&quot;: 66.84615384615385, &quot;z&quot;: 306090.17083058105}, {&quot;x&quot;: 8.846153846153847, &quot;y&quot;: 72.92307692307693, &quot;z&quot;: 333534.2941257886}, {&quot;x&quot;: 8.846153846153847, &quot;y&quot;: 79.00000000000001, &quot;z&quot;: 360978.4174209961}, {&quot;x&quot;: 8.846153846153847, &quot;y&quot;: 85.0769230769231, &quot;z&quot;: 388422.5407162036}, {&quot;x&quot;: 8.846153846153847, &quot;y&quot;: 91.15384615384617, &quot;z&quot;: 415866.6640114112}, {&quot;x&quot;: 8.846153846153847, &quot;y&quot;: 97.23076923076925, &quot;z&quot;: 443310.7873066187}, {&quot;x&quot;: 8.846153846153847, &quot;y&quot;: 103.30769230769234, &quot;z&quot;: 470754.91060182627}, {&quot;x&quot;: 8.846153846153847, &quot;y&quot;: 109.38461538461542, &quot;z&quot;: 498199.0338970338}, {&quot;x&quot;: 8.846153846153847, &quot;y&quot;: 115.4615384615385, &quot;z&quot;: 525643.1571922413}, {&quot;x&quot;: 8.846153846153847, &quot;y&quot;: 121.53846153846158, &quot;z&quot;: 553087.2804874489}, {&quot;x&quot;: 8.846153846153847, &quot;y&quot;: 127.61538461538466, &quot;z&quot;: 580531.4037826564}, {&quot;x&quot;: 8.846153846153847, &quot;y&quot;: 133.69230769230774, &quot;z&quot;: 607975.5270778639}, {&quot;x&quot;: 8.846153846153847, &quot;y&quot;: 139.7692307692308, &quot;z&quot;: 635419.6503730714}, {&quot;x&quot;: 8.846153846153847, &quot;y&quot;: 145.84615384615387, &quot;z&quot;: 662863.7736682789}, {&quot;x&quot;: 8.846153846153847, &quot;y&quot;: 151.92307692307693, &quot;z&quot;: 690307.8969634862}, {&quot;x&quot;: 8.846153846153847, &quot;y&quot;: 158.0, &quot;z&quot;: 717752.0202586937}, {&quot;x&quot;: 8.846153846153847, &quot;y&quot;: 164.07692307692307, &quot;z&quot;: 745196.1435539012}, {&quot;x&quot;: 8.846153846153847, &quot;y&quot;: 170.15384615384613, &quot;z&quot;: 772640.2668491087}, {&quot;x&quot;: 8.846153846153847, &quot;y&quot;: 176.2307692307692, &quot;z&quot;: 800084.3901443162}, {&quot;x&quot;: 8.846153846153847, &quot;y&quot;: 182.30769230769226, &quot;z&quot;: 827528.5134395235}, {&quot;x&quot;: 8.846153846153847, &quot;y&quot;: 188.38461538461533, &quot;z&quot;: 854972.636734731}, {&quot;x&quot;: 8.846153846153847, &quot;y&quot;: 194.4615384615384, &quot;z&quot;: 882416.7600299385}, {&quot;x&quot;: 8.846153846153847, &quot;y&quot;: 200.53846153846146, &quot;z&quot;: 909860.883325146}, {&quot;x&quot;: 8.846153846153847, &quot;y&quot;: 206.61538461538453, &quot;z&quot;: 937305.0066203536}, {&quot;x&quot;: 8.846153846153847, &quot;y&quot;: 212.6923076923076, &quot;z&quot;: 964749.1299155611}, {&quot;x&quot;: 8.846153846153847, &quot;y&quot;: 218.76923076923066, &quot;z&quot;: 992193.2532107683}, {&quot;x&quot;: 8.846153846153847, &quot;y&quot;: 224.84615384615373, &quot;z&quot;: 1019637.3765059758}, {&quot;x&quot;: 8.846153846153847, &quot;y&quot;: 230.9230769230768, &quot;z&quot;: 1047081.4998011834}, {&quot;x&quot;: 8.846153846153847, &quot;y&quot;: 237.0, &quot;z&quot;: 1074525.6230963916}, {&quot;x&quot;: 11.794871794871796, &quot;y&quot;: 6.076923076923077, &quot;z&quot;: 25656.798988476756}, {&quot;x&quot;: 11.794871794871796, &quot;y&quot;: 0.0, &quot;z&quot;: -1787.3243067307594}, {&quot;x&quot;: 11.794871794871796, &quot;y&quot;: 12.153846153846153, &quot;z&quot;: 53100.92228368427}, {&quot;x&quot;: 11.794871794871796, &quot;y&quot;: 18.23076923076923, &quot;z&quot;: 80545.04557889178}, {&quot;x&quot;: 11.794871794871796, &quot;y&quot;: 24.307692307692307, &quot;z&quot;: 107989.1688740993}, {&quot;x&quot;: 11.794871794871796, &quot;y&quot;: 30.384615384615383, &quot;z&quot;: 135433.2921693068}, {&quot;x&quot;: 11.794871794871796, &quot;y&quot;: 36.46153846153846, &quot;z&quot;: 162877.4154645143}, {&quot;x&quot;: 11.794871794871796, &quot;y&quot;: 42.53846153846153, &quot;z&quot;: 190321.53875972182}, {&quot;x&quot;: 11.794871794871796, &quot;y&quot;: 48.61538461538461, &quot;z&quot;: 217765.66205492936}, {&quot;x&quot;: 11.794871794871796, &quot;y&quot;: 54.69230769230769, &quot;z&quot;: 245209.7853501369}, {&quot;x&quot;: 11.794871794871796, &quot;y&quot;: 60.769230769230774, &quot;z&quot;: 272653.90864534443}, {&quot;x&quot;: 11.794871794871796, &quot;y&quot;: 66.84615384615385, &quot;z&quot;: 300098.03194055194}, {&quot;x&quot;: 11.794871794871796, &quot;y&quot;: 72.92307692307693, &quot;z&quot;: 327542.1552357595}, {&quot;x&quot;: 11.794871794871796, &quot;y&quot;: 79.00000000000001, &quot;z&quot;: 354986.278530967}, {&quot;x&quot;: 11.794871794871796, &quot;y&quot;: 85.0769230769231, &quot;z&quot;: 382430.4018261745}, {&quot;x&quot;: 11.794871794871796, &quot;y&quot;: 91.15384615384617, &quot;z&quot;: 409874.5251213821}, {&quot;x&quot;: 11.794871794871796, &quot;y&quot;: 97.23076923076925, &quot;z&quot;: 437318.6484165896}, {&quot;x&quot;: 11.794871794871796, &quot;y&quot;: 103.30769230769234, &quot;z&quot;: 464762.77171179716}, {&quot;x&quot;: 11.794871794871796, &quot;y&quot;: 109.38461538461542, &quot;z&quot;: 492206.89500700467}, {&quot;x&quot;: 11.794871794871796, &quot;y&quot;: 115.4615384615385, &quot;z&quot;: 519651.0183022122}, {&quot;x&quot;: 11.794871794871796, &quot;y&quot;: 121.53846153846158, &quot;z&quot;: 547095.1415974197}, {&quot;x&quot;: 11.794871794871796, &quot;y&quot;: 127.61538461538466, &quot;z&quot;: 574539.2648926273}, {&quot;x&quot;: 11.794871794871796, &quot;y&quot;: 133.69230769230774, &quot;z&quot;: 601983.3881878348}, {&quot;x&quot;: 11.794871794871796, &quot;y&quot;: 139.7692307692308, &quot;z&quot;: 629427.5114830423}, {&quot;x&quot;: 11.794871794871796, &quot;y&quot;: 145.84615384615387, &quot;z&quot;: 656871.6347782498}, {&quot;x&quot;: 11.794871794871796, &quot;y&quot;: 151.92307692307693, &quot;z&quot;: 684315.7580734573}, {&quot;x&quot;: 11.794871794871796, &quot;y&quot;: 158.0, &quot;z&quot;: 711759.8813686648}, {&quot;x&quot;: 11.794871794871796, &quot;y&quot;: 164.07692307692307, &quot;z&quot;: 739204.0046638721}, {&quot;x&quot;: 11.794871794871796, &quot;y&quot;: 170.15384615384613, &quot;z&quot;: 766648.1279590796}, {&quot;x&quot;: 11.794871794871796, &quot;y&quot;: 176.2307692307692, &quot;z&quot;: 794092.2512542871}, {&quot;x&quot;: 11.794871794871796, &quot;y&quot;: 182.30769230769226, &quot;z&quot;: 821536.3745494946}, {&quot;x&quot;: 11.794871794871796, &quot;y&quot;: 188.38461538461533, &quot;z&quot;: 848980.4978447021}, {&quot;x&quot;: 11.794871794871796, &quot;y&quot;: 194.4615384615384, &quot;z&quot;: 876424.6211399096}, {&quot;x&quot;: 11.794871794871796, &quot;y&quot;: 200.53846153846146, &quot;z&quot;: 903868.7444351169}, {&quot;x&quot;: 11.794871794871796, &quot;y&quot;: 206.61538461538453, &quot;z&quot;: 931312.8677303244}, {&quot;x&quot;: 11.794871794871796, &quot;y&quot;: 212.6923076923076, &quot;z&quot;: 958756.9910255319}, {&quot;x&quot;: 11.794871794871796, &quot;y&quot;: 218.76923076923066, &quot;z&quot;: 986201.1143207394}, {&quot;x&quot;: 11.794871794871796, &quot;y&quot;: 224.84615384615373, &quot;z&quot;: 1013645.2376159469}, {&quot;x&quot;: 11.794871794871796, &quot;y&quot;: 230.9230769230768, &quot;z&quot;: 1041089.3609111544}, {&quot;x&quot;: 11.794871794871796, &quot;y&quot;: 237.0, &quot;z&quot;: 1068533.4842063624}, {&quot;x&quot;: 14.743589743589745, &quot;y&quot;: 6.076923076923077, &quot;z&quot;: 19664.660098447635}, {&quot;x&quot;: 14.743589743589745, &quot;y&quot;: 0.0, &quot;z&quot;: -7779.46319675988}, {&quot;x&quot;: 14.743589743589745, &quot;y&quot;: 12.153846153846153, &quot;z&quot;: 47108.78339365515}, {&quot;x&quot;: 14.743589743589745, &quot;y&quot;: 18.23076923076923, &quot;z&quot;: 74552.90668886265}, {&quot;x&quot;: 14.743589743589745, &quot;y&quot;: 24.307692307692307, &quot;z&quot;: 101997.02998407018}, {&quot;x&quot;: 14.743589743589745, &quot;y&quot;: 30.384615384615383, &quot;z&quot;: 129441.15327927769}, {&quot;x&quot;: 14.743589743589745, &quot;y&quot;: 36.46153846153846, &quot;z&quot;: 156885.2765744852}, {&quot;x&quot;: 14.743589743589745, &quot;y&quot;: 42.53846153846153, &quot;z&quot;: 184329.39986969272}, {&quot;x&quot;: 14.743589743589745, &quot;y&quot;: 48.61538461538461, &quot;z&quot;: 211773.52316490025}, {&quot;x&quot;: 14.743589743589745, &quot;y&quot;: 54.69230769230769, &quot;z&quot;: 239217.6464601078}, {&quot;x&quot;: 14.743589743589745, &quot;y&quot;: 60.769230769230774, &quot;z&quot;: 266661.7697553153}, {&quot;x&quot;: 14.743589743589745, &quot;y&quot;: 66.84615384615385, &quot;z&quot;: 294105.89305052283}, {&quot;x&quot;: 14.743589743589745, &quot;y&quot;: 72.92307692307693, &quot;z&quot;: 321550.0163457304}, {&quot;x&quot;: 14.743589743589745, &quot;y&quot;: 79.00000000000001, &quot;z&quot;: 348994.1396409379}, {&quot;x&quot;: 14.743589743589745, &quot;y&quot;: 85.0769230769231, &quot;z&quot;: 376438.2629361454}, {&quot;x&quot;: 14.743589743589745, &quot;y&quot;: 91.15384615384617, &quot;z&quot;: 403882.386231353}, {&quot;x&quot;: 14.743589743589745, &quot;y&quot;: 97.23076923076925, &quot;z&quot;: 431326.5095265605}, {&quot;x&quot;: 14.743589743589745, &quot;y&quot;: 103.30769230769234, &quot;z&quot;: 458770.63282176806}, {&quot;x&quot;: 14.743589743589745, &quot;y&quot;: 109.38461538461542, &quot;z&quot;: 486214.75611697556}, {&quot;x&quot;: 14.743589743589745, &quot;y&quot;: 115.4615384615385, &quot;z&quot;: 513658.8794121831}, {&quot;x&quot;: 14.743589743589745, &quot;y&quot;: 121.53846153846158, &quot;z&quot;: 541103.0027073906}, {&quot;x&quot;: 14.743589743589745, &quot;y&quot;: 127.61538461538466, &quot;z&quot;: 568547.1260025981}, {&quot;x&quot;: 14.743589743589745, &quot;y&quot;: 133.69230769230774, &quot;z&quot;: 595991.2492978056}, {&quot;x&quot;: 14.743589743589745, &quot;y&quot;: 139.7692307692308, &quot;z&quot;: 623435.3725930131}, {&quot;x&quot;: 14.743589743589745, &quot;y&quot;: 145.84615384615387, &quot;z&quot;: 650879.4958882206}, {&quot;x&quot;: 14.743589743589745, &quot;y&quot;: 151.92307692307693, &quot;z&quot;: 678323.6191834281}, {&quot;x&quot;: 14.743589743589745, &quot;y&quot;: 158.0, &quot;z&quot;: 705767.7424786356}, {&quot;x&quot;: 14.743589743589745, &quot;y&quot;: 164.07692307692307, &quot;z&quot;: 733211.8657738429}, {&quot;x&quot;: 14.743589743589745, &quot;y&quot;: 170.15384615384613, &quot;z&quot;: 760655.9890690504}, {&quot;x&quot;: 14.743589743589745, &quot;y&quot;: 176.2307692307692, &quot;z&quot;: 788100.1123642579}, {&quot;x&quot;: 14.743589743589745, &quot;y&quot;: 182.30769230769226, &quot;z&quot;: 815544.2356594654}, {&quot;x&quot;: 14.743589743589745, &quot;y&quot;: 188.38461538461533, &quot;z&quot;: 842988.3589546729}, {&quot;x&quot;: 14.743589743589745, &quot;y&quot;: 194.4615384615384, &quot;z&quot;: 870432.4822498804}, {&quot;x&quot;: 14.743589743589745, &quot;y&quot;: 200.53846153846146, &quot;z&quot;: 897876.6055450877}, {&quot;x&quot;: 14.743589743589745, &quot;y&quot;: 206.61538461538453, &quot;z&quot;: 925320.7288402952}, {&quot;x&quot;: 14.743589743589745, &quot;y&quot;: 212.6923076923076, &quot;z&quot;: 952764.8521355027}, {&quot;x&quot;: 14.743589743589745, &quot;y&quot;: 218.76923076923066, &quot;z&quot;: 980208.9754307102}, {&quot;x&quot;: 14.743589743589745, &quot;y&quot;: 224.84615384615373, &quot;z&quot;: 1007653.0987259177}, {&quot;x&quot;: 14.743589743589745, &quot;y&quot;: 230.9230769230768, &quot;z&quot;: 1035097.2220211253}, {&quot;x&quot;: 14.743589743589745, &quot;y&quot;: 237.0, &quot;z&quot;: 1062541.3453163332}, {&quot;x&quot;: 17.692307692307693, &quot;y&quot;: 6.076923076923077, &quot;z&quot;: 13672.521208418519}, {&quot;x&quot;: 17.692307692307693, &quot;y&quot;: 0.0, &quot;z&quot;: -13771.602086788997}, {&quot;x&quot;: 17.692307692307693, &quot;y&quot;: 12.153846153846153, &quot;z&quot;: 41116.644503626034}, {&quot;x&quot;: 17.692307692307693, &quot;y&quot;: 18.23076923076923, &quot;z&quot;: 68560.76779883355}, {&quot;x&quot;: 17.692307692307693, &quot;y&quot;: 24.307692307692307, &quot;z&quot;: 96004.89109404106}, {&quot;x&quot;: 17.692307692307693, &quot;y&quot;: 30.384615384615383, &quot;z&quot;: 123449.01438924856}, {&quot;x&quot;: 17.692307692307693, &quot;y&quot;: 36.46153846153846, &quot;z&quot;: 150893.13768445607}, {&quot;x&quot;: 17.692307692307693, &quot;y&quot;: 42.53846153846153, &quot;z&quot;: 178337.26097966358}, {&quot;x&quot;: 17.692307692307693, &quot;y&quot;: 48.61538461538461, &quot;z&quot;: 205781.38427487112}, {&quot;x&quot;: 17.692307692307693, &quot;y&quot;: 54.69230769230769, &quot;z&quot;: 233225.50757007865}, {&quot;x&quot;: 17.692307692307693, &quot;y&quot;: 60.769230769230774, &quot;z&quot;: 260669.6308652862}, {&quot;x&quot;: 17.692307692307693, &quot;y&quot;: 66.84615384615385, &quot;z&quot;: 288113.7541604937}, {&quot;x&quot;: 17.692307692307693, &quot;y&quot;: 72.92307692307693, &quot;z&quot;: 315557.8774557013}, {&quot;x&quot;: 17.692307692307693, &quot;y&quot;: 79.00000000000001, &quot;z&quot;: 343002.0007509088}, {&quot;x&quot;: 17.692307692307693, &quot;y&quot;: 85.0769230769231, &quot;z&quot;: 370446.1240461163}, {&quot;x&quot;: 17.692307692307693, &quot;y&quot;: 91.15384615384617, &quot;z&quot;: 397890.2473413239}, {&quot;x&quot;: 17.692307692307693, &quot;y&quot;: 97.23076923076925, &quot;z&quot;: 425334.3706365314}, {&quot;x&quot;: 17.692307692307693, &quot;y&quot;: 103.30769230769234, &quot;z&quot;: 452778.49393173895}, {&quot;x&quot;: 17.692307692307693, &quot;y&quot;: 109.38461538461542, &quot;z&quot;: 480222.61722694646}, {&quot;x&quot;: 17.692307692307693, &quot;y&quot;: 115.4615384615385, &quot;z&quot;: 507666.74052215397}, {&quot;x&quot;: 17.692307692307693, &quot;y&quot;: 121.53846153846158, &quot;z&quot;: 535110.8638173615}, {&quot;x&quot;: 17.692307692307693, &quot;y&quot;: 127.61538461538466, &quot;z&quot;: 562554.9871125689}, {&quot;x&quot;: 17.692307692307693, &quot;y&quot;: 133.69230769230774, &quot;z&quot;: 589999.1104077764}, {&quot;x&quot;: 17.692307692307693, &quot;y&quot;: 139.7692307692308, &quot;z&quot;: 617443.2337029839}, {&quot;x&quot;: 17.692307692307693, &quot;y&quot;: 145.84615384615387, &quot;z&quot;: 644887.3569981914}, {&quot;x&quot;: 17.692307692307693, &quot;y&quot;: 151.92307692307693, &quot;z&quot;: 672331.480293399}, {&quot;x&quot;: 17.692307692307693, &quot;y&quot;: 158.0, &quot;z&quot;: 699775.6035886065}, {&quot;x&quot;: 17.692307692307693, &quot;y&quot;: 164.07692307692307, &quot;z&quot;: 727219.7268838137}, {&quot;x&quot;: 17.692307692307693, &quot;y&quot;: 170.15384615384613, &quot;z&quot;: 754663.8501790212}, {&quot;x&quot;: 17.692307692307693, &quot;y&quot;: 176.2307692307692, &quot;z&quot;: 782107.9734742288}, {&quot;x&quot;: 17.692307692307693, &quot;y&quot;: 182.30769230769226, &quot;z&quot;: 809552.0967694363}, {&quot;x&quot;: 17.692307692307693, &quot;y&quot;: 188.38461538461533, &quot;z&quot;: 836996.2200646438}, {&quot;x&quot;: 17.692307692307693, &quot;y&quot;: 194.4615384615384, &quot;z&quot;: 864440.3433598513}, {&quot;x&quot;: 17.692307692307693, &quot;y&quot;: 200.53846153846146, &quot;z&quot;: 891884.4666550586}, {&quot;x&quot;: 17.692307692307693, &quot;y&quot;: 206.61538461538453, &quot;z&quot;: 919328.5899502661}, {&quot;x&quot;: 17.692307692307693, &quot;y&quot;: 212.6923076923076, &quot;z&quot;: 946772.7132454736}, {&quot;x&quot;: 17.692307692307693, &quot;y&quot;: 218.76923076923066, &quot;z&quot;: 974216.8365406811}, {&quot;x&quot;: 17.692307692307693, &quot;y&quot;: 224.84615384615373, &quot;z&quot;: 1001660.9598358886}, {&quot;x&quot;: 17.692307692307693, &quot;y&quot;: 230.9230769230768, &quot;z&quot;: 1029105.0831310961}, {&quot;x&quot;: 17.692307692307693, &quot;y&quot;: 237.0, &quot;z&quot;: 1056549.206426304}, {&quot;x&quot;: 20.641025641025642, &quot;y&quot;: 6.076923076923077, &quot;z&quot;: 7680.382318389398}, {&quot;x&quot;: 20.641025641025642, &quot;y&quot;: 0.0, &quot;z&quot;: -19763.740976818117}, {&quot;x&quot;: 20.641025641025642, &quot;y&quot;: 12.153846153846153, &quot;z&quot;: 35124.50561359691}, {&quot;x&quot;: 20.641025641025642, &quot;y&quot;: 18.23076923076923, &quot;z&quot;: 62568.62890880442}, {&quot;x&quot;: 20.641025641025642, &quot;y&quot;: 24.307692307692307, &quot;z&quot;: 90012.75220401195}, {&quot;x&quot;: 20.641025641025642, &quot;y&quot;: 30.384615384615383, &quot;z&quot;: 117456.87549921946}, {&quot;x&quot;: 20.641025641025642, &quot;y&quot;: 36.46153846153846, &quot;z&quot;: 144900.99879442697}, {&quot;x&quot;: 20.641025641025642, &quot;y&quot;: 42.53846153846153, &quot;z&quot;: 172345.12208963447}, {&quot;x&quot;: 20.641025641025642, &quot;y&quot;: 48.61538461538461, &quot;z&quot;: 199789.245384842}, {&quot;x&quot;: 20.641025641025642, &quot;y&quot;: 54.69230769230769, &quot;z&quot;: 227233.36868004955}, {&quot;x&quot;: 20.641025641025642, &quot;y&quot;: 60.769230769230774, &quot;z&quot;: 254677.4919752571}, {&quot;x&quot;: 20.641025641025642, &quot;y&quot;: 66.84615384615385, &quot;z&quot;: 282121.61527046456}, {&quot;x&quot;: 20.641025641025642, &quot;y&quot;: 72.92307692307693, &quot;z&quot;: 309565.73856567213}, {&quot;x&quot;: 20.641025641025642, &quot;y&quot;: 79.00000000000001, &quot;z&quot;: 337009.86186087964}, {&quot;x&quot;: 20.641025641025642, &quot;y&quot;: 85.0769230769231, &quot;z&quot;: 364453.98515608715}, {&quot;x&quot;: 20.641025641025642, &quot;y&quot;: 91.15384615384617, &quot;z&quot;: 391898.1084512947}, {&quot;x&quot;: 20.641025641025642, &quot;y&quot;: 97.23076923076925, &quot;z&quot;: 419342.2317465022}, {&quot;x&quot;: 20.641025641025642, &quot;y&quot;: 103.30769230769234, &quot;z&quot;: 446786.3550417098}, {&quot;x&quot;: 20.641025641025642, &quot;y&quot;: 109.38461538461542, &quot;z&quot;: 474230.4783369173}, {&quot;x&quot;: 20.641025641025642, &quot;y&quot;: 115.4615384615385, &quot;z&quot;: 501674.6016321248}, {&quot;x&quot;: 20.641025641025642, &quot;y&quot;: 121.53846153846158, &quot;z&quot;: 529118.7249273324}, {&quot;x&quot;: 20.641025641025642, &quot;y&quot;: 127.61538461538466, &quot;z&quot;: 556562.84822254}, {&quot;x&quot;: 20.641025641025642, &quot;y&quot;: 133.69230769230774, &quot;z&quot;: 584006.9715177475}, {&quot;x&quot;: 20.641025641025642, &quot;y&quot;: 139.7692307692308, &quot;z&quot;: 611451.094812955}, {&quot;x&quot;: 20.641025641025642, &quot;y&quot;: 145.84615384615387, &quot;z&quot;: 638895.2181081625}, {&quot;x&quot;: 20.641025641025642, &quot;y&quot;: 151.92307692307693, &quot;z&quot;: 666339.3414033698}, {&quot;x&quot;: 20.641025641025642, &quot;y&quot;: 158.0, &quot;z&quot;: 693783.4646985773}, {&quot;x&quot;: 20.641025641025642, &quot;y&quot;: 164.07692307692307, &quot;z&quot;: 721227.5879937848}, {&quot;x&quot;: 20.641025641025642, &quot;y&quot;: 170.15384615384613, &quot;z&quot;: 748671.7112889923}, {&quot;x&quot;: 20.641025641025642, &quot;y&quot;: 176.2307692307692, &quot;z&quot;: 776115.8345841998}, {&quot;x&quot;: 20.641025641025642, &quot;y&quot;: 182.30769230769226, &quot;z&quot;: 803559.9578794071}, {&quot;x&quot;: 20.641025641025642, &quot;y&quot;: 188.38461538461533, &quot;z&quot;: 831004.0811746146}, {&quot;x&quot;: 20.641025641025642, &quot;y&quot;: 194.4615384615384, &quot;z&quot;: 858448.2044698221}, {&quot;x&quot;: 20.641025641025642, &quot;y&quot;: 200.53846153846146, &quot;z&quot;: 885892.3277650296}, {&quot;x&quot;: 20.641025641025642, &quot;y&quot;: 206.61538461538453, &quot;z&quot;: 913336.4510602371}, {&quot;x&quot;: 20.641025641025642, &quot;y&quot;: 212.6923076923076, &quot;z&quot;: 940780.5743554446}, {&quot;x&quot;: 20.641025641025642, &quot;y&quot;: 218.76923076923066, &quot;z&quot;: 968224.6976506519}, {&quot;x&quot;: 20.641025641025642, &quot;y&quot;: 224.84615384615373, &quot;z&quot;: 995668.8209458594}, {&quot;x&quot;: 20.641025641025642, &quot;y&quot;: 230.9230769230768, &quot;z&quot;: 1023112.9442410669}, {&quot;x&quot;: 20.641025641025642, &quot;y&quot;: 237.0, &quot;z&quot;: 1050557.067536275}, {&quot;x&quot;: 23.58974358974359, &quot;y&quot;: 6.076923076923077, &quot;z&quot;: 1688.243428360278}, {&quot;x&quot;: 23.58974358974359, &quot;y&quot;: 0.0, &quot;z&quot;: -25755.879866847237}, {&quot;x&quot;: 23.58974358974359, &quot;y&quot;: 12.153846153846153, &quot;z&quot;: 29132.366723567793}, {&quot;x&quot;: 23.58974358974359, &quot;y&quot;: 18.23076923076923, &quot;z&quot;: 56576.4900187753}, {&quot;x&quot;: 23.58974358974359, &quot;y&quot;: 24.307692307692307, &quot;z&quot;: 84020.61331398282}, {&quot;x&quot;: 23.58974358974359, &quot;y&quot;: 30.384615384615383, &quot;z&quot;: 111464.73660919032}, {&quot;x&quot;: 23.58974358974359, &quot;y&quot;: 36.46153846153846, &quot;z&quot;: 138908.85990439783}, {&quot;x&quot;: 23.58974358974359, &quot;y&quot;: 42.53846153846153, &quot;z&quot;: 166352.98319960534}, {&quot;x&quot;: 23.58974358974359, &quot;y&quot;: 48.61538461538461, &quot;z&quot;: 193797.10649481288}, {&quot;x&quot;: 23.58974358974359, &quot;y&quot;: 54.69230769230769, &quot;z&quot;: 221241.2297900204}, {&quot;x&quot;: 23.58974358974359, &quot;y&quot;: 60.769230769230774, &quot;z&quot;: 248685.35308522795}, {&quot;x&quot;: 23.58974358974359, &quot;y&quot;: 66.84615384615385, &quot;z&quot;: 276129.47638043546}, {&quot;x&quot;: 23.58974358974359, &quot;y&quot;: 72.92307692307693, &quot;z&quot;: 303573.599675643}, {&quot;x&quot;: 23.58974358974359, &quot;y&quot;: 79.00000000000001, &quot;z&quot;: 331017.72297085053}, {&quot;x&quot;: 23.58974358974359, &quot;y&quot;: 85.0769230769231, &quot;z&quot;: 358461.84626605804}, {&quot;x&quot;: 23.58974358974359, &quot;y&quot;: 91.15384615384617, &quot;z&quot;: 385905.9695612656}, {&quot;x&quot;: 23.58974358974359, &quot;y&quot;: 97.23076923076925, &quot;z&quot;: 413350.0928564731}, {&quot;x&quot;: 23.58974358974359, &quot;y&quot;: 103.30769230769234, &quot;z&quot;: 440794.2161516807}, {&quot;x&quot;: 23.58974358974359, &quot;y&quot;: 109.38461538461542, &quot;z&quot;: 468238.3394468882}, {&quot;x&quot;: 23.58974358974359, &quot;y&quot;: 115.4615384615385, &quot;z&quot;: 495682.4627420957}, {&quot;x&quot;: 23.58974358974359, &quot;y&quot;: 121.53846153846158, &quot;z&quot;: 523126.58603730326}, {&quot;x&quot;: 23.58974358974359, &quot;y&quot;: 127.61538461538466, &quot;z&quot;: 550570.7093325108}, {&quot;x&quot;: 23.58974358974359, &quot;y&quot;: 133.69230769230774, &quot;z&quot;: 578014.8326277183}, {&quot;x&quot;: 23.58974358974359, &quot;y&quot;: 139.7692307692308, &quot;z&quot;: 605458.9559229258}, {&quot;x&quot;: 23.58974358974359, &quot;y&quot;: 145.84615384615387, &quot;z&quot;: 632903.0792181334}, {&quot;x&quot;: 23.58974358974359, &quot;y&quot;: 151.92307692307693, &quot;z&quot;: 660347.2025133406}, {&quot;x&quot;: 23.58974358974359, &quot;y&quot;: 158.0, &quot;z&quot;: 687791.3258085481}, {&quot;x&quot;: 23.58974358974359, &quot;y&quot;: 164.07692307692307, &quot;z&quot;: 715235.4491037556}, {&quot;x&quot;: 23.58974358974359, &quot;y&quot;: 170.15384615384613, &quot;z&quot;: 742679.5723989632}, {&quot;x&quot;: 23.58974358974359, &quot;y&quot;: 176.2307692307692, &quot;z&quot;: 770123.6956941707}, {&quot;x&quot;: 23.58974358974359, &quot;y&quot;: 182.30769230769226, &quot;z&quot;: 797567.8189893779}, {&quot;x&quot;: 23.58974358974359, &quot;y&quot;: 188.38461538461533, &quot;z&quot;: 825011.9422845854}, {&quot;x&quot;: 23.58974358974359, &quot;y&quot;: 194.4615384615384, &quot;z&quot;: 852456.065579793}, {&quot;x&quot;: 23.58974358974359, &quot;y&quot;: 200.53846153846146, &quot;z&quot;: 879900.1888750005}, {&quot;x&quot;: 23.58974358974359, &quot;y&quot;: 206.61538461538453, &quot;z&quot;: 907344.312170208}, {&quot;x&quot;: 23.58974358974359, &quot;y&quot;: 212.6923076923076, &quot;z&quot;: 934788.4354654155}, {&quot;x&quot;: 23.58974358974359, &quot;y&quot;: 218.76923076923066, &quot;z&quot;: 962232.5587606227}, {&quot;x&quot;: 23.58974358974359, &quot;y&quot;: 224.84615384615373, &quot;z&quot;: 989676.6820558303}, {&quot;x&quot;: 23.58974358974359, &quot;y&quot;: 230.9230769230768, &quot;z&quot;: 1017120.8053510378}, {&quot;x&quot;: 23.58974358974359, &quot;y&quot;: 237.0, &quot;z&quot;: 1044564.9286462457}, {&quot;x&quot;: 26.53846153846154, &quot;y&quot;: 6.076923076923077, &quot;z&quot;: -4303.8954616688425}, {&quot;x&quot;: 26.53846153846154, &quot;y&quot;: 0.0, &quot;z&quot;: -31748.018756876358}, {&quot;x&quot;: 26.53846153846154, &quot;y&quot;: 12.153846153846153, &quot;z&quot;: 23140.227833538673}, {&quot;x&quot;: 26.53846153846154, &quot;y&quot;: 18.23076923076923, &quot;z&quot;: 50584.35112874618}, {&quot;x&quot;: 26.53846153846154, &quot;y&quot;: 24.307692307692307, &quot;z&quot;: 78028.47442395371}, {&quot;x&quot;: 26.53846153846154, &quot;y&quot;: 30.384615384615383, &quot;z&quot;: 105472.59771916122}, {&quot;x&quot;: 26.53846153846154, &quot;y&quot;: 36.46153846153846, &quot;z&quot;: 132916.72101436873}, {&quot;x&quot;: 26.53846153846154, &quot;y&quot;: 42.53846153846153, &quot;z&quot;: 160360.84430957623}, {&quot;x&quot;: 26.53846153846154, &quot;y&quot;: 48.61538461538461, &quot;z&quot;: 187804.96760478377}, {&quot;x&quot;: 26.53846153846154, &quot;y&quot;: 54.69230769230769, &quot;z&quot;: 215249.0908999913}, {&quot;x&quot;: 26.53846153846154, &quot;y&quot;: 60.769230769230774, &quot;z&quot;: 242693.21419519885}, {&quot;x&quot;: 26.53846153846154, &quot;y&quot;: 66.84615384615385, &quot;z&quot;: 270137.33749040635}, {&quot;x&quot;: 26.53846153846154, &quot;y&quot;: 72.92307692307693, &quot;z&quot;: 297581.4607856139}, {&quot;x&quot;: 26.53846153846154, &quot;y&quot;: 79.00000000000001, &quot;z&quot;: 325025.5840808214}, {&quot;x&quot;: 26.53846153846154, &quot;y&quot;: 85.0769230769231, &quot;z&quot;: 352469.70737602893}, {&quot;x&quot;: 26.53846153846154, &quot;y&quot;: 91.15384615384617, &quot;z&quot;: 379913.8306712365}, {&quot;x&quot;: 26.53846153846154, &quot;y&quot;: 97.23076923076925, &quot;z&quot;: 407357.953966444}, {&quot;x&quot;: 26.53846153846154, &quot;y&quot;: 103.30769230769234, &quot;z&quot;: 434802.0772616516}, {&quot;x&quot;: 26.53846153846154, &quot;y&quot;: 109.38461538461542, &quot;z&quot;: 462246.2005568591}, {&quot;x&quot;: 26.53846153846154, &quot;y&quot;: 115.4615384615385, &quot;z&quot;: 489690.3238520666}, {&quot;x&quot;: 26.53846153846154, &quot;y&quot;: 121.53846153846158, &quot;z&quot;: 517134.44714727416}, {&quot;x&quot;: 26.53846153846154, &quot;y&quot;: 127.61538461538466, &quot;z&quot;: 544578.5704424817}, {&quot;x&quot;: 26.53846153846154, &quot;y&quot;: 133.69230769230774, &quot;z&quot;: 572022.6937376892}, {&quot;x&quot;: 26.53846153846154, &quot;y&quot;: 139.7692307692308, &quot;z&quot;: 599466.8170328967}, {&quot;x&quot;: 26.53846153846154, &quot;y&quot;: 145.84615384615387, &quot;z&quot;: 626910.9403281042}, {&quot;x&quot;: 26.53846153846154, &quot;y&quot;: 151.92307692307693, &quot;z&quot;: 654355.0636233115}, {&quot;x&quot;: 26.53846153846154, &quot;y&quot;: 158.0, &quot;z&quot;: 681799.186918519}, {&quot;x&quot;: 26.53846153846154, &quot;y&quot;: 164.07692307692307, &quot;z&quot;: 709243.3102137265}, {&quot;x&quot;: 26.53846153846154, &quot;y&quot;: 170.15384615384613, &quot;z&quot;: 736687.433508934}, {&quot;x&quot;: 26.53846153846154, &quot;y&quot;: 176.2307692307692, &quot;z&quot;: 764131.5568041415}, {&quot;x&quot;: 26.53846153846154, &quot;y&quot;: 182.30769230769226, &quot;z&quot;: 791575.6800993488}, {&quot;x&quot;: 26.53846153846154, &quot;y&quot;: 188.38461538461533, &quot;z&quot;: 819019.8033945563}, {&quot;x&quot;: 26.53846153846154, &quot;y&quot;: 194.4615384615384, &quot;z&quot;: 846463.9266897638}, {&quot;x&quot;: 26.53846153846154, &quot;y&quot;: 200.53846153846146, &quot;z&quot;: 873908.0499849713}, {&quot;x&quot;: 26.53846153846154, &quot;y&quot;: 206.61538461538453, &quot;z&quot;: 901352.1732801788}, {&quot;x&quot;: 26.53846153846154, &quot;y&quot;: 212.6923076923076, &quot;z&quot;: 928796.2965753863}, {&quot;x&quot;: 26.53846153846154, &quot;y&quot;: 218.76923076923066, &quot;z&quot;: 956240.4198705936}, {&quot;x&quot;: 26.53846153846154, &quot;y&quot;: 224.84615384615373, &quot;z&quot;: 983684.5431658011}, {&quot;x&quot;: 26.53846153846154, &quot;y&quot;: 230.9230769230768, &quot;z&quot;: 1011128.6664610086}, {&quot;x&quot;: 26.53846153846154, &quot;y&quot;: 237.0, &quot;z&quot;: 1038572.7897562166}, {&quot;x&quot;: 29.48717948717949, &quot;y&quot;: 6.076923076923077, &quot;z&quot;: -10296.034351697963}, {&quot;x&quot;: 29.48717948717949, &quot;y&quot;: 0.0, &quot;z&quot;: -37740.15764690548}, {&quot;x&quot;: 29.48717948717949, &quot;y&quot;: 12.153846153846153, &quot;z&quot;: 17148.088943509552}, {&quot;x&quot;: 29.48717948717949, &quot;y&quot;: 18.23076923076923, &quot;z&quot;: 44592.21223871706}, {&quot;x&quot;: 29.48717948717949, &quot;y&quot;: 24.307692307692307, &quot;z&quot;: 72036.33553392458}, {&quot;x&quot;: 29.48717948717949, &quot;y&quot;: 30.384615384615383, &quot;z&quot;: 99480.45882913208}, {&quot;x&quot;: 29.48717948717949, &quot;y&quot;: 36.46153846153846, &quot;z&quot;: 126924.58212433959}, {&quot;x&quot;: 29.48717948717949, &quot;y&quot;: 42.53846153846153, &quot;z&quot;: 154368.7054195471}, {&quot;x&quot;: 29.48717948717949, &quot;y&quot;: 48.61538461538461, &quot;z&quot;: 181812.82871475464}, {&quot;x&quot;: 29.48717948717949, &quot;y&quot;: 54.69230769230769, &quot;z&quot;: 209256.95200996217}, {&quot;x&quot;: 29.48717948717949, &quot;y&quot;: 60.769230769230774, &quot;z&quot;: 236701.0753051697}, {&quot;x&quot;: 29.48717948717949, &quot;y&quot;: 66.84615384615385, &quot;z&quot;: 264145.1986003772}, {&quot;x&quot;: 29.48717948717949, &quot;y&quot;: 72.92307692307693, &quot;z&quot;: 291589.3218955848}, {&quot;x&quot;: 29.48717948717949, &quot;y&quot;: 79.00000000000001, &quot;z&quot;: 319033.4451907923}, {&quot;x&quot;: 29.48717948717949, &quot;y&quot;: 85.0769230769231, &quot;z&quot;: 346477.56848599983}, {&quot;x&quot;: 29.48717948717949, &quot;y&quot;: 91.15384615384617, &quot;z&quot;: 373921.6917812074}, {&quot;x&quot;: 29.48717948717949, &quot;y&quot;: 97.23076923076925, &quot;z&quot;: 401365.8150764149}, {&quot;x&quot;: 29.48717948717949, &quot;y&quot;: 103.30769230769234, &quot;z&quot;: 428809.93837162247}, {&quot;x&quot;: 29.48717948717949, &quot;y&quot;: 109.38461538461542, &quot;z&quot;: 456254.06166683}, {&quot;x&quot;: 29.48717948717949, &quot;y&quot;: 115.4615384615385, &quot;z&quot;: 483698.1849620375}, {&quot;x&quot;: 29.48717948717949, &quot;y&quot;: 121.53846153846158, &quot;z&quot;: 511142.30825724505}, {&quot;x&quot;: 29.48717948717949, &quot;y&quot;: 127.61538461538466, &quot;z&quot;: 538586.4315524525}, {&quot;x&quot;: 29.48717948717949, &quot;y&quot;: 133.69230769230774, &quot;z&quot;: 566030.55484766}, {&quot;x&quot;: 29.48717948717949, &quot;y&quot;: 139.7692307692308, &quot;z&quot;: 593474.6781428675}, {&quot;x&quot;: 29.48717948717949, &quot;y&quot;: 145.84615384615387, &quot;z&quot;: 620918.801438075}, {&quot;x&quot;: 29.48717948717949, &quot;y&quot;: 151.92307692307693, &quot;z&quot;: 648362.9247332825}, {&quot;x&quot;: 29.48717948717949, &quot;y&quot;: 158.0, &quot;z&quot;: 675807.04802849}, {&quot;x&quot;: 29.48717948717949, &quot;y&quot;: 164.07692307692307, &quot;z&quot;: 703251.1713236973}, {&quot;x&quot;: 29.48717948717949, &quot;y&quot;: 170.15384615384613, &quot;z&quot;: 730695.2946189048}, {&quot;x&quot;: 29.48717948717949, &quot;y&quot;: 176.2307692307692, &quot;z&quot;: 758139.4179141123}, {&quot;x&quot;: 29.48717948717949, &quot;y&quot;: 182.30769230769226, &quot;z&quot;: 785583.5412093198}, {&quot;x&quot;: 29.48717948717949, &quot;y&quot;: 188.38461538461533, &quot;z&quot;: 813027.6645045273}, {&quot;x&quot;: 29.48717948717949, &quot;y&quot;: 194.4615384615384, &quot;z&quot;: 840471.7877997349}, {&quot;x&quot;: 29.48717948717949, &quot;y&quot;: 200.53846153846146, &quot;z&quot;: 867915.9110949421}, {&quot;x&quot;: 29.48717948717949, &quot;y&quot;: 206.61538461538453, &quot;z&quot;: 895360.0343901496}, {&quot;x&quot;: 29.48717948717949, &quot;y&quot;: 212.6923076923076, &quot;z&quot;: 922804.1576853571}, {&quot;x&quot;: 29.48717948717949, &quot;y&quot;: 218.76923076923066, &quot;z&quot;: 950248.2809805647}, {&quot;x&quot;: 29.48717948717949, &quot;y&quot;: 224.84615384615373, &quot;z&quot;: 977692.4042757722}, {&quot;x&quot;: 29.48717948717949, &quot;y&quot;: 230.9230769230768, &quot;z&quot;: 1005136.5275709797}, {&quot;x&quot;: 29.48717948717949, &quot;y&quot;: 237.0, &quot;z&quot;: 1032580.6508661876}, {&quot;x&quot;: 32.43589743589744, &quot;y&quot;: 6.076923076923077, &quot;z&quot;: -16288.173241727076}, {&quot;x&quot;: 32.43589743589744, &quot;y&quot;: 0.0, &quot;z&quot;: -43732.29653693459}, {&quot;x&quot;: 32.43589743589744, &quot;y&quot;: 12.153846153846153, &quot;z&quot;: 11155.95005348044}, {&quot;x&quot;: 32.43589743589744, &quot;y&quot;: 18.23076923076923, &quot;z&quot;: 38600.07334868795}, {&quot;x&quot;: 32.43589743589744, &quot;y&quot;: 24.307692307692307, &quot;z&quot;: 66044.19664389547}, {&quot;x&quot;: 32.43589743589744, &quot;y&quot;: 30.384615384615383, &quot;z&quot;: 93488.31993910298}, {&quot;x&quot;: 32.43589743589744, &quot;y&quot;: 36.46153846153846, &quot;z&quot;: 120932.44323431049}, {&quot;x&quot;: 32.43589743589744, &quot;y&quot;: 42.53846153846153, &quot;z&quot;: 148376.566529518}, {&quot;x&quot;: 32.43589743589744, &quot;y&quot;: 48.61538461538461, &quot;z&quot;: 175820.68982472553}, {&quot;x&quot;: 32.43589743589744, &quot;y&quot;: 54.69230769230769, &quot;z&quot;: 203264.81311993307}, {&quot;x&quot;: 32.43589743589744, &quot;y&quot;: 60.769230769230774, &quot;z&quot;: 230708.9364151406}, {&quot;x&quot;: 32.43589743589744, &quot;y&quot;: 66.84615384615385, &quot;z&quot;: 258153.0597103481}, {&quot;x&quot;: 32.43589743589744, &quot;y&quot;: 72.92307692307693, &quot;z&quot;: 285597.1830055557}, {&quot;x&quot;: 32.43589743589744, &quot;y&quot;: 79.00000000000001, &quot;z&quot;: 313041.3063007632}, {&quot;x&quot;: 32.43589743589744, &quot;y&quot;: 85.0769230769231, &quot;z&quot;: 340485.4295959707}, {&quot;x&quot;: 32.43589743589744, &quot;y&quot;: 91.15384615384617, &quot;z&quot;: 367929.55289117823}, {&quot;x&quot;: 32.43589743589744, &quot;y&quot;: 97.23076923076925, &quot;z&quot;: 395373.67618638574}, {&quot;x&quot;: 32.43589743589744, &quot;y&quot;: 103.30769230769234, &quot;z&quot;: 422817.79948159336}, {&quot;x&quot;: 32.43589743589744, &quot;y&quot;: 109.38461538461542, &quot;z&quot;: 450261.9227768009}, {&quot;x&quot;: 32.43589743589744, &quot;y&quot;: 115.4615384615385, &quot;z&quot;: 477706.0460720084}, {&quot;x&quot;: 32.43589743589744, &quot;y&quot;: 121.53846153846158, &quot;z&quot;: 505150.1693672159}, {&quot;x&quot;: 32.43589743589744, &quot;y&quot;: 127.61538461538466, &quot;z&quot;: 532594.2926624233}, {&quot;x&quot;: 32.43589743589744, &quot;y&quot;: 133.69230769230774, &quot;z&quot;: 560038.4159576308}, {&quot;x&quot;: 32.43589743589744, &quot;y&quot;: 139.7692307692308, &quot;z&quot;: 587482.5392528384}, {&quot;x&quot;: 32.43589743589744, &quot;y&quot;: 145.84615384615387, &quot;z&quot;: 614926.6625480459}, {&quot;x&quot;: 32.43589743589744, &quot;y&quot;: 151.92307692307693, &quot;z&quot;: 642370.7858432534}, {&quot;x&quot;: 32.43589743589744, &quot;y&quot;: 158.0, &quot;z&quot;: 669814.9091384609}, {&quot;x&quot;: 32.43589743589744, &quot;y&quot;: 164.07692307692307, &quot;z&quot;: 697259.0324336682}, {&quot;x&quot;: 32.43589743589744, &quot;y&quot;: 170.15384615384613, &quot;z&quot;: 724703.1557288757}, {&quot;x&quot;: 32.43589743589744, &quot;y&quot;: 176.2307692307692, &quot;z&quot;: 752147.2790240832}, {&quot;x&quot;: 32.43589743589744, &quot;y&quot;: 182.30769230769226, &quot;z&quot;: 779591.4023192907}, {&quot;x&quot;: 32.43589743589744, &quot;y&quot;: 188.38461538461533, &quot;z&quot;: 807035.5256144982}, {&quot;x&quot;: 32.43589743589744, &quot;y&quot;: 194.4615384615384, &quot;z&quot;: 834479.6489097057}, {&quot;x&quot;: 32.43589743589744, &quot;y&quot;: 200.53846153846146, &quot;z&quot;: 861923.772204913}, {&quot;x&quot;: 32.43589743589744, &quot;y&quot;: 206.61538461538453, &quot;z&quot;: 889367.8955001205}, {&quot;x&quot;: 32.43589743589744, &quot;y&quot;: 212.6923076923076, &quot;z&quot;: 916812.018795328}, {&quot;x&quot;: 32.43589743589744, &quot;y&quot;: 218.76923076923066, &quot;z&quot;: 944256.1420905355}, {&quot;x&quot;: 32.43589743589744, &quot;y&quot;: 224.84615384615373, &quot;z&quot;: 971700.265385743}, {&quot;x&quot;: 32.43589743589744, &quot;y&quot;: 230.9230769230768, &quot;z&quot;: 999144.3886809505}, {&quot;x&quot;: 32.43589743589744, &quot;y&quot;: 237.0, &quot;z&quot;: 1026588.5119761585}, {&quot;x&quot;: 35.38461538461539, &quot;y&quot;: 6.076923076923077, &quot;z&quot;: -22280.312131756196}, {&quot;x&quot;: 35.38461538461539, &quot;y&quot;: 0.0, &quot;z&quot;: -49724.43542696371}, {&quot;x&quot;: 35.38461538461539, &quot;y&quot;: 12.153846153846153, &quot;z&quot;: 5163.811163451319}, {&quot;x&quot;: 35.38461538461539, &quot;y&quot;: 18.23076923076923, &quot;z&quot;: 32607.934458658827}, {&quot;x&quot;: 35.38461538461539, &quot;y&quot;: 24.307692307692307, &quot;z&quot;: 60052.05775386635}, {&quot;x&quot;: 35.38461538461539, &quot;y&quot;: 30.384615384615383, &quot;z&quot;: 87496.18104907386}, {&quot;x&quot;: 35.38461538461539, &quot;y&quot;: 36.46153846153846, &quot;z&quot;: 114940.30434428137}, {&quot;x&quot;: 35.38461538461539, &quot;y&quot;: 42.53846153846153, &quot;z&quot;: 142384.4276394889}, {&quot;x&quot;: 35.38461538461539, &quot;y&quot;: 48.61538461538461, &quot;z&quot;: 169828.5509346964}, {&quot;x&quot;: 35.38461538461539, &quot;y&quot;: 54.69230769230769, &quot;z&quot;: 197272.67422990396}, {&quot;x&quot;: 35.38461538461539, &quot;y&quot;: 60.769230769230774, &quot;z&quot;: 224716.79752511147}, {&quot;x&quot;: 35.38461538461539, &quot;y&quot;: 66.84615384615385, &quot;z&quot;: 252160.92082031898}, {&quot;x&quot;: 35.38461538461539, &quot;y&quot;: 72.92307692307693, &quot;z&quot;: 279605.04411552654}, {&quot;x&quot;: 35.38461538461539, &quot;y&quot;: 79.00000000000001, &quot;z&quot;: 307049.16741073405}, {&quot;x&quot;: 35.38461538461539, &quot;y&quot;: 85.0769230769231, &quot;z&quot;: 334493.29070594156}, {&quot;x&quot;: 35.38461538461539, &quot;y&quot;: 91.15384615384617, &quot;z&quot;: 361937.4140011491}, {&quot;x&quot;: 35.38461538461539, &quot;y&quot;: 97.23076923076925, &quot;z&quot;: 389381.53729635663}, {&quot;x&quot;: 35.38461538461539, &quot;y&quot;: 103.30769230769234, &quot;z&quot;: 416825.6605915642}, {&quot;x&quot;: 35.38461538461539, &quot;y&quot;: 109.38461538461542, &quot;z&quot;: 444269.7838867717}, {&quot;x&quot;: 35.38461538461539, &quot;y&quot;: 115.4615384615385, &quot;z&quot;: 471713.9071819792}, {&quot;x&quot;: 35.38461538461539, &quot;y&quot;: 121.53846153846158, &quot;z&quot;: 499158.0304771868}, {&quot;x&quot;: 35.38461538461539, &quot;y&quot;: 127.61538461538466, &quot;z&quot;: 526602.1537723943}, {&quot;x&quot;: 35.38461538461539, &quot;y&quot;: 133.69230769230774, &quot;z&quot;: 554046.2770676019}, {&quot;x&quot;: 35.38461538461539, &quot;y&quot;: 139.7692307692308, &quot;z&quot;: 581490.4003628094}, {&quot;x&quot;: 35.38461538461539, &quot;y&quot;: 145.84615384615387, &quot;z&quot;: 608934.5236580169}, {&quot;x&quot;: 35.38461538461539, &quot;y&quot;: 151.92307692307693, &quot;z&quot;: 636378.6469532242}, {&quot;x&quot;: 35.38461538461539, &quot;y&quot;: 158.0, &quot;z&quot;: 663822.7702484317}, {&quot;x&quot;: 35.38461538461539, &quot;y&quot;: 164.07692307692307, &quot;z&quot;: 691266.8935436392}, {&quot;x&quot;: 35.38461538461539, &quot;y&quot;: 170.15384615384613, &quot;z&quot;: 718711.0168388467}, {&quot;x&quot;: 35.38461538461539, &quot;y&quot;: 176.2307692307692, &quot;z&quot;: 746155.1401340542}, {&quot;x&quot;: 35.38461538461539, &quot;y&quot;: 182.30769230769226, &quot;z&quot;: 773599.2634292615}, {&quot;x&quot;: 35.38461538461539, &quot;y&quot;: 188.38461538461533, &quot;z&quot;: 801043.386724469}, {&quot;x&quot;: 35.38461538461539, &quot;y&quot;: 194.4615384615384, &quot;z&quot;: 828487.5100196765}, {&quot;x&quot;: 35.38461538461539, &quot;y&quot;: 200.53846153846146, &quot;z&quot;: 855931.633314884}, {&quot;x&quot;: 35.38461538461539, &quot;y&quot;: 206.61538461538453, &quot;z&quot;: 883375.7566100915}, {&quot;x&quot;: 35.38461538461539, &quot;y&quot;: 212.6923076923076, &quot;z&quot;: 910819.879905299}, {&quot;x&quot;: 35.38461538461539, &quot;y&quot;: 218.76923076923066, &quot;z&quot;: 938264.0032005063}, {&quot;x&quot;: 35.38461538461539, &quot;y&quot;: 224.84615384615373, &quot;z&quot;: 965708.1264957138}, {&quot;x&quot;: 35.38461538461539, &quot;y&quot;: 230.9230769230768, &quot;z&quot;: 993152.2497909213}, {&quot;x&quot;: 35.38461538461539, &quot;y&quot;: 237.0, &quot;z&quot;: 1020596.3730861293}, {&quot;x&quot;: 38.333333333333336, &quot;y&quot;: 6.076923076923077, &quot;z&quot;: -28272.451021785317}, {&quot;x&quot;: 38.333333333333336, &quot;y&quot;: 0.0, &quot;z&quot;: -55716.57431699283}, {&quot;x&quot;: 38.333333333333336, &quot;y&quot;: 12.153846153846153, &quot;z&quot;: -828.3277265778015}, {&quot;x&quot;: 38.333333333333336, &quot;y&quot;: 18.23076923076923, &quot;z&quot;: 26615.795568629706}, {&quot;x&quot;: 38.333333333333336, &quot;y&quot;: 24.307692307692307, &quot;z&quot;: 54059.91886383723}, {&quot;x&quot;: 38.333333333333336, &quot;y&quot;: 30.384615384615383, &quot;z&quot;: 81504.04215904474}, {&quot;x&quot;: 38.333333333333336, &quot;y&quot;: 36.46153846153846, &quot;z&quot;: 108948.16545425224}, {&quot;x&quot;: 38.333333333333336, &quot;y&quot;: 42.53846153846153, &quot;z&quot;: 136392.28874945975}, {&quot;x&quot;: 38.333333333333336, &quot;y&quot;: 48.61538461538461, &quot;z&quot;: 163836.4120446673}, {&quot;x&quot;: 38.333333333333336, &quot;y&quot;: 54.69230769230769, &quot;z&quot;: 191280.53533987483}, {&quot;x&quot;: 38.333333333333336, &quot;y&quot;: 60.769230769230774, &quot;z&quot;: 218724.65863508236}, {&quot;x&quot;: 38.333333333333336, &quot;y&quot;: 66.84615384615385, &quot;z&quot;: 246168.78193028987}, {&quot;x&quot;: 38.333333333333336, &quot;y&quot;: 72.92307692307693, &quot;z&quot;: 273612.90522549744}, {&quot;x&quot;: 38.333333333333336, &quot;y&quot;: 79.00000000000001, &quot;z&quot;: 301057.02852070495}, {&quot;x&quot;: 38.333333333333336, &quot;y&quot;: 85.0769230769231, &quot;z&quot;: 328501.15181591245}, {&quot;x&quot;: 38.333333333333336, &quot;y&quot;: 91.15384615384617, &quot;z&quot;: 355945.27511112}, {&quot;x&quot;: 38.333333333333336, &quot;y&quot;: 97.23076923076925, &quot;z&quot;: 383389.3984063275}, {&quot;x&quot;: 38.333333333333336, &quot;y&quot;: 103.30769230769234, &quot;z&quot;: 410833.5217015351}, {&quot;x&quot;: 38.333333333333336, &quot;y&quot;: 109.38461538461542, &quot;z&quot;: 438277.6449967426}, {&quot;x&quot;: 38.333333333333336, &quot;y&quot;: 115.4615384615385, &quot;z&quot;: 465721.7682919501}, {&quot;x&quot;: 38.333333333333336, &quot;y&quot;: 121.53846153846158, &quot;z&quot;: 493165.8915871577}, {&quot;x&quot;: 38.333333333333336, &quot;y&quot;: 127.61538461538466, &quot;z&quot;: 520610.0148823652}, {&quot;x&quot;: 38.333333333333336, &quot;y&quot;: 133.69230769230774, &quot;z&quot;: 548054.1381775727}, {&quot;x&quot;: 38.333333333333336, &quot;y&quot;: 139.7692307692308, &quot;z&quot;: 575498.2614727803}, {&quot;x&quot;: 38.333333333333336, &quot;y&quot;: 145.84615384615387, &quot;z&quot;: 602942.3847679878}, {&quot;x&quot;: 38.333333333333336, &quot;y&quot;: 151.92307692307693, &quot;z&quot;: 630386.508063195}, {&quot;x&quot;: 38.333333333333336, &quot;y&quot;: 158.0, &quot;z&quot;: 657830.6313584025}, {&quot;x&quot;: 38.333333333333336, &quot;y&quot;: 164.07692307692307, &quot;z&quot;: 685274.75465361}, {&quot;x&quot;: 38.333333333333336, &quot;y&quot;: 170.15384615384613, &quot;z&quot;: 712718.8779488176}, {&quot;x&quot;: 38.333333333333336, &quot;y&quot;: 176.2307692307692, &quot;z&quot;: 740163.0012440251}, {&quot;x&quot;: 38.333333333333336, &quot;y&quot;: 182.30769230769226, &quot;z&quot;: 767607.1245392323}, {&quot;x&quot;: 38.333333333333336, &quot;y&quot;: 188.38461538461533, &quot;z&quot;: 795051.2478344399}, {&quot;x&quot;: 38.333333333333336, &quot;y&quot;: 194.4615384615384, &quot;z&quot;: 822495.3711296474}, {&quot;x&quot;: 38.333333333333336, &quot;y&quot;: 200.53846153846146, &quot;z&quot;: 849939.4944248549}, {&quot;x&quot;: 38.333333333333336, &quot;y&quot;: 206.61538461538453, &quot;z&quot;: 877383.6177200624}, {&quot;x&quot;: 38.333333333333336, &quot;y&quot;: 212.6923076923076, &quot;z&quot;: 904827.7410152699}, {&quot;x&quot;: 38.333333333333336, &quot;y&quot;: 218.76923076923066, &quot;z&quot;: 932271.8643104772}, {&quot;x&quot;: 38.333333333333336, &quot;y&quot;: 224.84615384615373, &quot;z&quot;: 959715.9876056847}, {&quot;x&quot;: 38.333333333333336, &quot;y&quot;: 230.9230769230768, &quot;z&quot;: 987160.1109008922}, {&quot;x&quot;: 38.333333333333336, &quot;y&quot;: 237.0, &quot;z&quot;: 1014604.2341961002}, {&quot;x&quot;: 41.282051282051285, &quot;y&quot;: 6.076923076923077, &quot;z&quot;: -34264.58991181444}, {&quot;x&quot;: 41.282051282051285, &quot;y&quot;: 0.0, &quot;z&quot;: -61708.71320702195}, {&quot;x&quot;: 41.282051282051285, &quot;y&quot;: 12.153846153846153, &quot;z&quot;: -6820.466616606922}, {&quot;x&quot;: 41.282051282051285, &quot;y&quot;: 18.23076923076923, &quot;z&quot;: 20623.656678600586}, {&quot;x&quot;: 41.282051282051285, &quot;y&quot;: 24.307692307692307, &quot;z&quot;: 48067.77997380811}, {&quot;x&quot;: 41.282051282051285, &quot;y&quot;: 30.384615384615383, &quot;z&quot;: 75511.90326901562}, {&quot;x&quot;: 41.282051282051285, &quot;y&quot;: 36.46153846153846, &quot;z&quot;: 102956.02656422312}, {&quot;x&quot;: 41.282051282051285, &quot;y&quot;: 42.53846153846153, &quot;z&quot;: 130400.14985943063}, {&quot;x&quot;: 41.282051282051285, &quot;y&quot;: 48.61538461538461, &quot;z&quot;: 157844.27315463818}, {&quot;x&quot;: 41.282051282051285, &quot;y&quot;: 54.69230769230769, &quot;z&quot;: 185288.3964498457}, {&quot;x&quot;: 41.282051282051285, &quot;y&quot;: 60.769230769230774, &quot;z&quot;: 212732.51974505326}, {&quot;x&quot;: 41.282051282051285, &quot;y&quot;: 66.84615384615385, &quot;z&quot;: 240176.64304026077}, {&quot;x&quot;: 41.282051282051285, &quot;y&quot;: 72.92307692307693, &quot;z&quot;: 267620.76633546833}, {&quot;x&quot;: 41.282051282051285, &quot;y&quot;: 79.00000000000001, &quot;z&quot;: 295064.88963067584}, {&quot;x&quot;: 41.282051282051285, &quot;y&quot;: 85.0769230769231, &quot;z&quot;: 322509.01292588335}, {&quot;x&quot;: 41.282051282051285, &quot;y&quot;: 91.15384615384617, &quot;z&quot;: 349953.1362210909}, {&quot;x&quot;: 41.282051282051285, &quot;y&quot;: 97.23076923076925, &quot;z&quot;: 377397.2595162984}, {&quot;x&quot;: 41.282051282051285, &quot;y&quot;: 103.30769230769234, &quot;z&quot;: 404841.382811506}, {&quot;x&quot;: 41.282051282051285, &quot;y&quot;: 109.38461538461542, &quot;z&quot;: 432285.5061067135}, {&quot;x&quot;: 41.282051282051285, &quot;y&quot;: 115.4615384615385, &quot;z&quot;: 459729.629401921}, {&quot;x&quot;: 41.282051282051285, &quot;y&quot;: 121.53846153846158, &quot;z&quot;: 487173.75269712857}, {&quot;x&quot;: 41.282051282051285, &quot;y&quot;: 127.61538461538466, &quot;z&quot;: 514617.8759923361}, {&quot;x&quot;: 41.282051282051285, &quot;y&quot;: 133.69230769230774, &quot;z&quot;: 542061.9992875436}, {&quot;x&quot;: 41.282051282051285, &quot;y&quot;: 139.7692307692308, &quot;z&quot;: 569506.1225827511}, {&quot;x&quot;: 41.282051282051285, &quot;y&quot;: 145.84615384615387, &quot;z&quot;: 596950.2458779586}, {&quot;x&quot;: 41.282051282051285, &quot;y&quot;: 151.92307692307693, &quot;z&quot;: 624394.3691731659}, {&quot;x&quot;: 41.282051282051285, &quot;y&quot;: 158.0, &quot;z&quot;: 651838.4924683734}, {&quot;x&quot;: 41.282051282051285, &quot;y&quot;: 164.07692307692307, &quot;z&quot;: 679282.6157635809}, {&quot;x&quot;: 41.282051282051285, &quot;y&quot;: 170.15384615384613, &quot;z&quot;: 706726.7390587884}, {&quot;x&quot;: 41.282051282051285, &quot;y&quot;: 176.2307692307692, &quot;z&quot;: 734170.8623539959}, {&quot;x&quot;: 41.282051282051285, &quot;y&quot;: 182.30769230769226, &quot;z&quot;: 761614.9856492032}, {&quot;x&quot;: 41.282051282051285, &quot;y&quot;: 188.38461538461533, &quot;z&quot;: 789059.1089444107}, {&quot;x&quot;: 41.282051282051285, &quot;y&quot;: 194.4615384615384, &quot;z&quot;: 816503.2322396182}, {&quot;x&quot;: 41.282051282051285, &quot;y&quot;: 200.53846153846146, &quot;z&quot;: 843947.3555348257}, {&quot;x&quot;: 41.282051282051285, &quot;y&quot;: 206.61538461538453, &quot;z&quot;: 871391.4788300332}, {&quot;x&quot;: 41.282051282051285, &quot;y&quot;: 212.6923076923076, &quot;z&quot;: 898835.6021252407}, {&quot;x&quot;: 41.282051282051285, &quot;y&quot;: 218.76923076923066, &quot;z&quot;: 926279.725420448}, {&quot;x&quot;: 41.282051282051285, &quot;y&quot;: 224.84615384615373, &quot;z&quot;: 953723.8487156555}, {&quot;x&quot;: 41.282051282051285, &quot;y&quot;: 230.9230769230768, &quot;z&quot;: 981167.972010863}, {&quot;x&quot;: 41.282051282051285, &quot;y&quot;: 237.0, &quot;z&quot;: 1008612.095306071}, {&quot;x&quot;: 44.23076923076923, &quot;y&quot;: 6.076923076923077, &quot;z&quot;: -40256.72880184356}, {&quot;x&quot;: 44.23076923076923, &quot;y&quot;: 0.0, &quot;z&quot;: -67700.85209705107}, {&quot;x&quot;: 44.23076923076923, &quot;y&quot;: 12.153846153846153, &quot;z&quot;: -12812.605506636042}, {&quot;x&quot;: 44.23076923076923, &quot;y&quot;: 18.23076923076923, &quot;z&quot;: 14631.517788571466}, {&quot;x&quot;: 44.23076923076923, &quot;y&quot;: 24.307692307692307, &quot;z&quot;: 42075.64108377899}, {&quot;x&quot;: 44.23076923076923, &quot;y&quot;: 30.384615384615383, &quot;z&quot;: 69519.7643789865}, {&quot;x&quot;: 44.23076923076923, &quot;y&quot;: 36.46153846153846, &quot;z&quot;: 96963.887674194}, {&quot;x&quot;: 44.23076923076923, &quot;y&quot;: 42.53846153846153, &quot;z&quot;: 124408.01096940151}, {&quot;x&quot;: 44.23076923076923, &quot;y&quot;: 48.61538461538461, &quot;z&quot;: 151852.13426460905}, {&quot;x&quot;: 44.23076923076923, &quot;y&quot;: 54.69230769230769, &quot;z&quot;: 179296.2575598166}, {&quot;x&quot;: 44.23076923076923, &quot;y&quot;: 60.769230769230774, &quot;z&quot;: 206740.38085502412}, {&quot;x&quot;: 44.23076923076923, &quot;y&quot;: 66.84615384615385, &quot;z&quot;: 234184.50415023163}, {&quot;x&quot;: 44.23076923076923, &quot;y&quot;: 72.92307692307693, &quot;z&quot;: 261628.6274454392}, {&quot;x&quot;: 44.23076923076923, &quot;y&quot;: 79.00000000000001, &quot;z&quot;: 289072.7507406467}, {&quot;x&quot;: 44.23076923076923, &quot;y&quot;: 85.0769230769231, &quot;z&quot;: 316516.8740358542}, {&quot;x&quot;: 44.23076923076923, &quot;y&quot;: 91.15384615384617, &quot;z&quot;: 343960.9973310618}, {&quot;x&quot;: 44.23076923076923, &quot;y&quot;: 97.23076923076925, &quot;z&quot;: 371405.1206262693}, {&quot;x&quot;: 44.23076923076923, &quot;y&quot;: 103.30769230769234, &quot;z&quot;: 398849.2439214768}, {&quot;x&quot;: 44.23076923076923, &quot;y&quot;: 109.38461538461542, &quot;z&quot;: 426293.36721668433}, {&quot;x&quot;: 44.23076923076923, &quot;y&quot;: 115.4615384615385, &quot;z&quot;: 453737.49051189184}, {&quot;x&quot;: 44.23076923076923, &quot;y&quot;: 121.53846153846158, &quot;z&quot;: 481181.61380709946}, {&quot;x&quot;: 44.23076923076923, &quot;y&quot;: 127.61538461538466, &quot;z&quot;: 508625.737102307}, {&quot;x&quot;: 44.23076923076923, &quot;y&quot;: 133.69230769230774, &quot;z&quot;: 536069.8603975144}, {&quot;x&quot;: 44.23076923076923, &quot;y&quot;: 139.7692307692308, &quot;z&quot;: 563513.9836927219}, {&quot;x&quot;: 44.23076923076923, &quot;y&quot;: 145.84615384615387, &quot;z&quot;: 590958.1069879294}, {&quot;x&quot;: 44.23076923076923, &quot;y&quot;: 151.92307692307693, &quot;z&quot;: 618402.230283137}, {&quot;x&quot;: 44.23076923076923, &quot;y&quot;: 158.0, &quot;z&quot;: 645846.3535783445}, {&quot;x&quot;: 44.23076923076923, &quot;y&quot;: 164.07692307692307, &quot;z&quot;: 673290.4768735517}, {&quot;x&quot;: 44.23076923076923, &quot;y&quot;: 170.15384615384613, &quot;z&quot;: 700734.6001687592}, {&quot;x&quot;: 44.23076923076923, &quot;y&quot;: 176.2307692307692, &quot;z&quot;: 728178.7234639667}, {&quot;x&quot;: 44.23076923076923, &quot;y&quot;: 182.30769230769226, &quot;z&quot;: 755622.8467591743}, {&quot;x&quot;: 44.23076923076923, &quot;y&quot;: 188.38461538461533, &quot;z&quot;: 783066.9700543818}, {&quot;x&quot;: 44.23076923076923, &quot;y&quot;: 194.4615384615384, &quot;z&quot;: 810511.0933495893}, {&quot;x&quot;: 44.23076923076923, &quot;y&quot;: 200.53846153846146, &quot;z&quot;: 837955.2166447965}, {&quot;x&quot;: 44.23076923076923, &quot;y&quot;: 206.61538461538453, &quot;z&quot;: 865399.339940004}, {&quot;x&quot;: 44.23076923076923, &quot;y&quot;: 212.6923076923076, &quot;z&quot;: 892843.4632352116}, {&quot;x&quot;: 44.23076923076923, &quot;y&quot;: 218.76923076923066, &quot;z&quot;: 920287.5865304191}, {&quot;x&quot;: 44.23076923076923, &quot;y&quot;: 224.84615384615373, &quot;z&quot;: 947731.7098256266}, {&quot;x&quot;: 44.23076923076923, &quot;y&quot;: 230.9230769230768, &quot;z&quot;: 975175.8331208341}, {&quot;x&quot;: 44.23076923076923, &quot;y&quot;: 237.0, &quot;z&quot;: 1002619.956416042}, {&quot;x&quot;: 47.17948717948718, &quot;y&quot;: 6.076923076923077, &quot;z&quot;: -46248.86769187267}, {&quot;x&quot;: 47.17948717948718, &quot;y&quot;: 0.0, &quot;z&quot;: -73692.9909870802}, {&quot;x&quot;: 47.17948717948718, &quot;y&quot;: 12.153846153846153, &quot;z&quot;: -18804.744396665163}, {&quot;x&quot;: 47.17948717948718, &quot;y&quot;: 18.23076923076923, &quot;z&quot;: 8639.378898542345}, {&quot;x&quot;: 47.17948717948718, &quot;y&quot;: 24.307692307692307, &quot;z&quot;: 36083.50219374987}, {&quot;x&quot;: 47.17948717948718, &quot;y&quot;: 30.384615384615383, &quot;z&quot;: 63527.625488957376}, {&quot;x&quot;: 47.17948717948718, &quot;y&quot;: 36.46153846153846, &quot;z&quot;: 90971.74878416488}, {&quot;x&quot;: 47.17948717948718, &quot;y&quot;: 42.53846153846153, &quot;z&quot;: 118415.87207937239}, {&quot;x&quot;: 47.17948717948718, &quot;y&quot;: 48.61538461538461, &quot;z&quot;: 145859.9953745799}, {&quot;x&quot;: 47.17948717948718, &quot;y&quot;: 54.69230769230769, &quot;z&quot;: 173304.11866978748}, {&quot;x&quot;: 47.17948717948718, &quot;y&quot;: 60.769230769230774, &quot;z&quot;: 200748.241964995}, {&quot;x&quot;: 47.17948717948718, &quot;y&quot;: 66.84615384615385, &quot;z&quot;: 228192.3652602025}, {&quot;x&quot;: 47.17948717948718, &quot;y&quot;: 72.92307692307693, &quot;z&quot;: 255636.48855541006}, {&quot;x&quot;: 47.17948717948718, &quot;y&quot;: 79.00000000000001, &quot;z&quot;: 283080.61185061757}, {&quot;x&quot;: 47.17948717948718, &quot;y&quot;: 85.0769230769231, &quot;z&quot;: 310524.7351458251}, {&quot;x&quot;: 47.17948717948718, &quot;y&quot;: 91.15384615384617, &quot;z&quot;: 337968.85844103264}, {&quot;x&quot;: 47.17948717948718, &quot;y&quot;: 97.23076923076925, &quot;z&quot;: 365412.98173624015}, {&quot;x&quot;: 47.17948717948718, &quot;y&quot;: 103.30769230769234, &quot;z&quot;: 392857.1050314477}, {&quot;x&quot;: 47.17948717948718, &quot;y&quot;: 109.38461538461542, &quot;z&quot;: 420301.2283266552}, {&quot;x&quot;: 47.17948717948718, &quot;y&quot;: 115.4615384615385, &quot;z&quot;: 447745.35162186273}, {&quot;x&quot;: 47.17948717948718, &quot;y&quot;: 121.53846153846158, &quot;z&quot;: 475189.4749170703}, {&quot;x&quot;: 47.17948717948718, &quot;y&quot;: 127.61538461538466, &quot;z&quot;: 502633.5982122778}, {&quot;x&quot;: 47.17948717948718, &quot;y&quot;: 133.69230769230774, &quot;z&quot;: 530077.7215074853}, {&quot;x&quot;: 47.17948717948718, &quot;y&quot;: 139.7692307692308, &quot;z&quot;: 557521.8448026928}, {&quot;x&quot;: 47.17948717948718, &quot;y&quot;: 145.84615384615387, &quot;z&quot;: 584965.9680979003}, {&quot;x&quot;: 47.17948717948718, &quot;y&quot;: 151.92307692307693, &quot;z&quot;: 612410.0913931078}, {&quot;x&quot;: 47.17948717948718, &quot;y&quot;: 158.0, &quot;z&quot;: 639854.2146883153}, {&quot;x&quot;: 47.17948717948718, &quot;y&quot;: 164.07692307692307, &quot;z&quot;: 667298.3379835226}, {&quot;x&quot;: 47.17948717948718, &quot;y&quot;: 170.15384615384613, &quot;z&quot;: 694742.4612787301}, {&quot;x&quot;: 47.17948717948718, &quot;y&quot;: 176.2307692307692, &quot;z&quot;: 722186.5845739376}, {&quot;x&quot;: 47.17948717948718, &quot;y&quot;: 182.30769230769226, &quot;z&quot;: 749630.7078691451}, {&quot;x&quot;: 47.17948717948718, &quot;y&quot;: 188.38461538461533, &quot;z&quot;: 777074.8311643526}, {&quot;x&quot;: 47.17948717948718, &quot;y&quot;: 194.4615384615384, &quot;z&quot;: 804518.9544595601}, {&quot;x&quot;: 47.17948717948718, &quot;y&quot;: 200.53846153846146, &quot;z&quot;: 831963.0777547674}, {&quot;x&quot;: 47.17948717948718, &quot;y&quot;: 206.61538461538453, &quot;z&quot;: 859407.2010499749}, {&quot;x&quot;: 47.17948717948718, &quot;y&quot;: 212.6923076923076, &quot;z&quot;: 886851.3243451824}, {&quot;x&quot;: 47.17948717948718, &quot;y&quot;: 218.76923076923066, &quot;z&quot;: 914295.4476403899}, {&quot;x&quot;: 47.17948717948718, &quot;y&quot;: 224.84615384615373, &quot;z&quot;: 941739.5709355974}, {&quot;x&quot;: 47.17948717948718, &quot;y&quot;: 230.9230769230768, &quot;z&quot;: 969183.6942308049}, {&quot;x&quot;: 47.17948717948718, &quot;y&quot;: 237.0, &quot;z&quot;: 996627.8175260129}, {&quot;x&quot;: 50.12820512820513, &quot;y&quot;: 6.076923076923077, &quot;z&quot;: -52241.006581901805}, {&quot;x&quot;: 50.12820512820513, &quot;y&quot;: 0.0, &quot;z&quot;: -79685.12987710931}, {&quot;x&quot;: 50.12820512820513, &quot;y&quot;: 12.153846153846153, &quot;z&quot;: -24796.883286694283}, {&quot;x&quot;: 50.12820512820513, &quot;y&quot;: 18.23076923076923, &quot;z&quot;: 2647.240008513225}, {&quot;x&quot;: 50.12820512820513, &quot;y&quot;: 24.307692307692307, &quot;z&quot;: 30091.363303720747}, {&quot;x&quot;: 50.12820512820513, &quot;y&quot;: 30.384615384615383, &quot;z&quot;: 57535.486598928255}, {&quot;x&quot;: 50.12820512820513, &quot;y&quot;: 36.46153846153846, &quot;z&quot;: 84979.60989413576}, {&quot;x&quot;: 50.12820512820513, &quot;y&quot;: 42.53846153846153, &quot;z&quot;: 112423.73318934327}, {&quot;x&quot;: 50.12820512820513, &quot;y&quot;: 48.61538461538461, &quot;z&quot;: 139867.8564845508}, {&quot;x&quot;: 50.12820512820513, &quot;y&quot;: 54.69230769230769, &quot;z&quot;: 167311.97977975835}, {&quot;x&quot;: 50.12820512820513, &quot;y&quot;: 60.769230769230774, &quot;z&quot;: 194756.10307496588}, {&quot;x&quot;: 50.12820512820513, &quot;y&quot;: 66.84615384615385, &quot;z&quot;: 222200.2263701734}, {&quot;x&quot;: 50.12820512820513, &quot;y&quot;: 72.92307692307693, &quot;z&quot;: 249644.34966538096}, {&quot;x&quot;: 50.12820512820513, &quot;y&quot;: 79.00000000000001, &quot;z&quot;: 277088.47296058846}, {&quot;x&quot;: 50.12820512820513, &quot;y&quot;: 85.0769230769231, &quot;z&quot;: 304532.596255796}, {&quot;x&quot;: 50.12820512820513, &quot;y&quot;: 91.15384615384617, &quot;z&quot;: 331976.71955100354}, {&quot;x&quot;: 50.12820512820513, &quot;y&quot;: 97.23076923076925, &quot;z&quot;: 359420.84284621105}, {&quot;x&quot;: 50.12820512820513, &quot;y&quot;: 103.30769230769234, &quot;z&quot;: 386864.9661414186}, {&quot;x&quot;: 50.12820512820513, &quot;y&quot;: 109.38461538461542, &quot;z&quot;: 414309.0894366261}, {&quot;x&quot;: 50.12820512820513, &quot;y&quot;: 115.4615384615385, &quot;z&quot;: 441753.2127318336}, {&quot;x&quot;: 50.12820512820513, &quot;y&quot;: 121.53846153846158, &quot;z&quot;: 469197.3360270412}, {&quot;x&quot;: 50.12820512820513, &quot;y&quot;: 127.61538461538466, &quot;z&quot;: 496641.4593222487}, {&quot;x&quot;: 50.12820512820513, &quot;y&quot;: 133.69230769230774, &quot;z&quot;: 524085.5826174562}, {&quot;x&quot;: 50.12820512820513, &quot;y&quot;: 139.7692307692308, &quot;z&quot;: 551529.7059126638}, {&quot;x&quot;: 50.12820512820513, &quot;y&quot;: 145.84615384615387, &quot;z&quot;: 578973.8292078713}, {&quot;x&quot;: 50.12820512820513, &quot;y&quot;: 151.92307692307693, &quot;z&quot;: 606417.9525030786}, {&quot;x&quot;: 50.12820512820513, &quot;y&quot;: 158.0, &quot;z&quot;: 633862.0757982861}, {&quot;x&quot;: 50.12820512820513, &quot;y&quot;: 164.07692307692307, &quot;z&quot;: 661306.1990934936}, {&quot;x&quot;: 50.12820512820513, &quot;y&quot;: 170.15384615384613, &quot;z&quot;: 688750.3223887011}, {&quot;x&quot;: 50.12820512820513, &quot;y&quot;: 176.2307692307692, &quot;z&quot;: 716194.4456839086}, {&quot;x&quot;: 50.12820512820513, &quot;y&quot;: 182.30769230769226, &quot;z&quot;: 743638.5689791159}, {&quot;x&quot;: 50.12820512820513, &quot;y&quot;: 188.38461538461533, &quot;z&quot;: 771082.6922743234}, {&quot;x&quot;: 50.12820512820513, &quot;y&quot;: 194.4615384615384, &quot;z&quot;: 798526.8155695309}, {&quot;x&quot;: 50.12820512820513, &quot;y&quot;: 200.53846153846146, &quot;z&quot;: 825970.9388647384}, {&quot;x&quot;: 50.12820512820513, &quot;y&quot;: 206.61538461538453, &quot;z&quot;: 853415.062159946}, {&quot;x&quot;: 50.12820512820513, &quot;y&quot;: 212.6923076923076, &quot;z&quot;: 880859.1854551535}, {&quot;x&quot;: 50.12820512820513, &quot;y&quot;: 218.76923076923066, &quot;z&quot;: 908303.3087503607}, {&quot;x&quot;: 50.12820512820513, &quot;y&quot;: 224.84615384615373, &quot;z&quot;: 935747.4320455682}, {&quot;x&quot;: 50.12820512820513, &quot;y&quot;: 230.9230769230768, &quot;z&quot;: 963191.5553407758}, {&quot;x&quot;: 50.12820512820513, &quot;y&quot;: 237.0, &quot;z&quot;: 990635.6786359837}, {&quot;x&quot;: 53.07692307692308, &quot;y&quot;: 6.076923076923077, &quot;z&quot;: -58233.14547193091}, {&quot;x&quot;: 53.07692307692308, &quot;y&quot;: 0.0, &quot;z&quot;: -85677.26876713843}, {&quot;x&quot;: 53.07692307692308, &quot;y&quot;: 12.153846153846153, &quot;z&quot;: -30789.022176723403}, {&quot;x&quot;: 53.07692307692308, &quot;y&quot;: 18.23076923076923, &quot;z&quot;: -3344.8988815158955}, {&quot;x&quot;: 53.07692307692308, &quot;y&quot;: 24.307692307692307, &quot;z&quot;: 24099.224413691627}, {&quot;x&quot;: 53.07692307692308, &quot;y&quot;: 30.384615384615383, &quot;z&quot;: 51543.347708899135}, {&quot;x&quot;: 53.07692307692308, &quot;y&quot;: 36.46153846153846, &quot;z&quot;: 78987.47100410664}, {&quot;x&quot;: 53.07692307692308, &quot;y&quot;: 42.53846153846153, &quot;z&quot;: 106431.59429931415}, {&quot;x&quot;: 53.07692307692308, &quot;y&quot;: 48.61538461538461, &quot;z&quot;: 133875.7175945217}, {&quot;x&quot;: 53.07692307692308, &quot;y&quot;: 54.69230769230769, &quot;z&quot;: 161319.8408897292}, {&quot;x&quot;: 53.07692307692308, &quot;y&quot;: 60.769230769230774, &quot;z&quot;: 188763.96418493678}, {&quot;x&quot;: 53.07692307692308, &quot;y&quot;: 66.84615384615385, &quot;z&quot;: 216208.08748014428}, {&quot;x&quot;: 53.07692307692308, &quot;y&quot;: 72.92307692307693, &quot;z&quot;: 243652.21077535185}, {&quot;x&quot;: 53.07692307692308, &quot;y&quot;: 79.00000000000001, &quot;z&quot;: 271096.33407055936}, {&quot;x&quot;: 53.07692307692308, &quot;y&quot;: 85.0769230769231, &quot;z&quot;: 298540.45736576687}, {&quot;x&quot;: 53.07692307692308, &quot;y&quot;: 91.15384615384617, &quot;z&quot;: 325984.58066097443}, {&quot;x&quot;: 53.07692307692308, &quot;y&quot;: 97.23076923076925, &quot;z&quot;: 353428.70395618194}, {&quot;x&quot;: 53.07692307692308, &quot;y&quot;: 103.30769230769234, &quot;z&quot;: 380872.8272513895}, {&quot;x&quot;: 53.07692307692308, &quot;y&quot;: 109.38461538461542, &quot;z&quot;: 408316.950546597}, {&quot;x&quot;: 53.07692307692308, &quot;y&quot;: 115.4615384615385, &quot;z&quot;: 435761.0738418045}, {&quot;x&quot;: 53.07692307692308, &quot;y&quot;: 121.53846153846158, &quot;z&quot;: 463205.1971370121}, {&quot;x&quot;: 53.07692307692308, &quot;y&quot;: 127.61538461538466, &quot;z&quot;: 490649.3204322196}, {&quot;x&quot;: 53.07692307692308, &quot;y&quot;: 133.69230769230774, &quot;z&quot;: 518093.4437274271}, {&quot;x&quot;: 53.07692307692308, &quot;y&quot;: 139.7692307692308, &quot;z&quot;: 545537.5670226347}, {&quot;x&quot;: 53.07692307692308, &quot;y&quot;: 145.84615384615387, &quot;z&quot;: 572981.6903178422}, {&quot;x&quot;: 53.07692307692308, &quot;y&quot;: 151.92307692307693, &quot;z&quot;: 600425.8136130495}, {&quot;x&quot;: 53.07692307692308, &quot;y&quot;: 158.0, &quot;z&quot;: 627869.936908257}, {&quot;x&quot;: 53.07692307692308, &quot;y&quot;: 164.07692307692307, &quot;z&quot;: 655314.0602034645}, {&quot;x&quot;: 53.07692307692308, &quot;y&quot;: 170.15384615384613, &quot;z&quot;: 682758.183498672}, {&quot;x&quot;: 53.07692307692308, &quot;y&quot;: 176.2307692307692, &quot;z&quot;: 710202.3067938795}, {&quot;x&quot;: 53.07692307692308, &quot;y&quot;: 182.30769230769226, &quot;z&quot;: 737646.4300890868}, {&quot;x&quot;: 53.07692307692308, &quot;y&quot;: 188.38461538461533, &quot;z&quot;: 765090.5533842943}, {&quot;x&quot;: 53.07692307692308, &quot;y&quot;: 194.4615384615384, &quot;z&quot;: 792534.6766795018}, {&quot;x&quot;: 53.07692307692308, &quot;y&quot;: 200.53846153846146, &quot;z&quot;: 819978.7999747093}, {&quot;x&quot;: 53.07692307692308, &quot;y&quot;: 206.61538461538453, &quot;z&quot;: 847422.9232699168}, {&quot;x&quot;: 53.07692307692308, &quot;y&quot;: 212.6923076923076, &quot;z&quot;: 874867.0465651243}, {&quot;x&quot;: 53.07692307692308, &quot;y&quot;: 218.76923076923066, &quot;z&quot;: 902311.1698603316}, {&quot;x&quot;: 53.07692307692308, &quot;y&quot;: 224.84615384615373, &quot;z&quot;: 929755.2931555391}, {&quot;x&quot;: 53.07692307692308, &quot;y&quot;: 230.9230769230768, &quot;z&quot;: 957199.4164507466}, {&quot;x&quot;: 53.07692307692308, &quot;y&quot;: 237.0, &quot;z&quot;: 984643.5397459546}, {&quot;x&quot;: 56.02564102564103, &quot;y&quot;: 6.076923076923077, &quot;z&quot;: -64225.284361960046}, {&quot;x&quot;: 56.02564102564103, &quot;y&quot;: 0.0, &quot;z&quot;: -91669.40765716755}, {&quot;x&quot;: 56.02564102564103, &quot;y&quot;: 12.153846153846153, &quot;z&quot;: -36781.161066752524}, {&quot;x&quot;: 56.02564102564103, &quot;y&quot;: 18.23076923076923, &quot;z&quot;: -9337.037771545016}, {&quot;x&quot;: 56.02564102564103, &quot;y&quot;: 24.307692307692307, &quot;z&quot;: 18107.085523662507}, {&quot;x&quot;: 56.02564102564103, &quot;y&quot;: 30.384615384615383, &quot;z&quot;: 45551.208818870015}, {&quot;x&quot;: 56.02564102564103, &quot;y&quot;: 36.46153846153846, &quot;z&quot;: 72995.33211407752}, {&quot;x&quot;: 56.02564102564103, &quot;y&quot;: 42.53846153846153, &quot;z&quot;: 100439.45540928503}, {&quot;x&quot;: 56.02564102564103, &quot;y&quot;: 48.61538461538461, &quot;z&quot;: 127883.57870449257}, {&quot;x&quot;: 56.02564102564103, &quot;y&quot;: 54.69230769230769, &quot;z&quot;: 155327.7019997001}, {&quot;x&quot;: 56.02564102564103, &quot;y&quot;: 60.769230769230774, &quot;z&quot;: 182771.82529490764}, {&quot;x&quot;: 56.02564102564103, &quot;y&quot;: 66.84615384615385, &quot;z&quot;: 210215.94859011515}, {&quot;x&quot;: 56.02564102564103, &quot;y&quot;: 72.92307692307693, &quot;z&quot;: 237660.07188532272}, {&quot;x&quot;: 56.02564102564103, &quot;y&quot;: 79.00000000000001, &quot;z&quot;: 265104.1951805302}, {&quot;x&quot;: 56.02564102564103, &quot;y&quot;: 85.0769230769231, &quot;z&quot;: 292548.31847573776}, {&quot;x&quot;: 56.02564102564103, &quot;y&quot;: 91.15384615384617, &quot;z&quot;: 319992.44177094527}, {&quot;x&quot;: 56.02564102564103, &quot;y&quot;: 97.23076923076925, &quot;z&quot;: 347436.5650661528}, {&quot;x&quot;: 56.02564102564103, &quot;y&quot;: 103.30769230769234, &quot;z&quot;: 374880.6883613604}, {&quot;x&quot;: 56.02564102564103, &quot;y&quot;: 109.38461538461542, &quot;z&quot;: 402324.8116565679}, {&quot;x&quot;: 56.02564102564103, &quot;y&quot;: 115.4615384615385, &quot;z&quot;: 429768.9349517754}, {&quot;x&quot;: 56.02564102564103, &quot;y&quot;: 121.53846153846158, &quot;z&quot;: 457213.0582469829}, {&quot;x&quot;: 56.02564102564103, &quot;y&quot;: 127.61538461538466, &quot;z&quot;: 484657.18154219043}, {&quot;x&quot;: 56.02564102564103, &quot;y&quot;: 133.69230769230774, &quot;z&quot;: 512101.30483739794}, {&quot;x&quot;: 56.02564102564103, &quot;y&quot;: 139.7692307692308, &quot;z&quot;: 539545.4281326055}, {&quot;x&quot;: 56.02564102564103, &quot;y&quot;: 145.84615384615387, &quot;z&quot;: 566989.551427813}, {&quot;x&quot;: 56.02564102564103, &quot;y&quot;: 151.92307692307693, &quot;z&quot;: 594433.6747230203}, {&quot;x&quot;: 56.02564102564103, &quot;y&quot;: 158.0, &quot;z&quot;: 621877.7980182278}, {&quot;x&quot;: 56.02564102564103, &quot;y&quot;: 164.07692307692307, &quot;z&quot;: 649321.9213134353}, {&quot;x&quot;: 56.02564102564103, &quot;y&quot;: 170.15384615384613, &quot;z&quot;: 676766.0446086428}, {&quot;x&quot;: 56.02564102564103, &quot;y&quot;: 176.2307692307692, &quot;z&quot;: 704210.1679038503}, {&quot;x&quot;: 56.02564102564103, &quot;y&quot;: 182.30769230769226, &quot;z&quot;: 731654.2911990576}, {&quot;x&quot;: 56.02564102564103, &quot;y&quot;: 188.38461538461533, &quot;z&quot;: 759098.4144942651}, {&quot;x&quot;: 56.02564102564103, &quot;y&quot;: 194.4615384615384, &quot;z&quot;: 786542.5377894726}, {&quot;x&quot;: 56.02564102564103, &quot;y&quot;: 200.53846153846146, &quot;z&quot;: 813986.6610846801}, {&quot;x&quot;: 56.02564102564103, &quot;y&quot;: 206.61538461538453, &quot;z&quot;: 841430.7843798876}, {&quot;x&quot;: 56.02564102564103, &quot;y&quot;: 212.6923076923076, &quot;z&quot;: 868874.9076750951}, {&quot;x&quot;: 56.02564102564103, &quot;y&quot;: 218.76923076923066, &quot;z&quot;: 896319.0309703024}, {&quot;x&quot;: 56.02564102564103, &quot;y&quot;: 224.84615384615373, &quot;z&quot;: 923763.1542655099}, {&quot;x&quot;: 56.02564102564103, &quot;y&quot;: 230.9230769230768, &quot;z&quot;: 951207.2775607174}, {&quot;x&quot;: 56.02564102564103, &quot;y&quot;: 237.0, &quot;z&quot;: 978651.4008559254}, {&quot;x&quot;: 58.97435897435898, &quot;y&quot;: 6.076923076923077, &quot;z&quot;: -70217.42325198915}, {&quot;x&quot;: 58.97435897435898, &quot;y&quot;: 0.0, &quot;z&quot;: -97661.54654719667}, {&quot;x&quot;: 58.97435897435898, &quot;y&quot;: 12.153846153846153, &quot;z&quot;: -42773.299956781644}, {&quot;x&quot;: 58.97435897435898, &quot;y&quot;: 18.23076923076923, &quot;z&quot;: -15329.176661574136}, {&quot;x&quot;: 58.97435897435898, &quot;y&quot;: 24.307692307692307, &quot;z&quot;: 12114.946633633386}, {&quot;x&quot;: 58.97435897435898, &quot;y&quot;: 30.384615384615383, &quot;z&quot;: 39559.069928840894}, {&quot;x&quot;: 58.97435897435898, &quot;y&quot;: 36.46153846153846, &quot;z&quot;: 67003.1932240484}, {&quot;x&quot;: 58.97435897435898, &quot;y&quot;: 42.53846153846153, &quot;z&quot;: 94447.31651925591}, {&quot;x&quot;: 58.97435897435898, &quot;y&quot;: 48.61538461538461, &quot;z&quot;: 121891.43981446345}, {&quot;x&quot;: 58.97435897435898, &quot;y&quot;: 54.69230769230769, &quot;z&quot;: 149335.563109671}, {&quot;x&quot;: 58.97435897435898, &quot;y&quot;: 60.769230769230774, &quot;z&quot;: 176779.6864048785}, {&quot;x&quot;: 58.97435897435898, &quot;y&quot;: 66.84615384615385, &quot;z&quot;: 204223.809700086}, {&quot;x&quot;: 58.97435897435898, &quot;y&quot;: 72.92307692307693, &quot;z&quot;: 231667.93299529358}, {&quot;x&quot;: 58.97435897435898, &quot;y&quot;: 79.00000000000001, &quot;z&quot;: 259112.0562905011}, {&quot;x&quot;: 58.97435897435898, &quot;y&quot;: 85.0769230769231, &quot;z&quot;: 286556.1795857086}, {&quot;x&quot;: 58.97435897435898, &quot;y&quot;: 91.15384615384617, &quot;z&quot;: 314000.30288091616}, {&quot;x&quot;: 58.97435897435898, &quot;y&quot;: 97.23076923076925, &quot;z&quot;: 341444.42617612367}, {&quot;x&quot;: 58.97435897435898, &quot;y&quot;: 103.30769230769234, &quot;z&quot;: 368888.54947133124}, {&quot;x&quot;: 58.97435897435898, &quot;y&quot;: 109.38461538461542, &quot;z&quot;: 396332.67276653874}, {&quot;x&quot;: 58.97435897435898, &quot;y&quot;: 115.4615384615385, &quot;z&quot;: 423776.79606174625}, {&quot;x&quot;: 58.97435897435898, &quot;y&quot;: 121.53846153846158, &quot;z&quot;: 451220.9193569538}, {&quot;x&quot;: 58.97435897435898, &quot;y&quot;: 127.61538461538466, &quot;z&quot;: 478665.0426521613}, {&quot;x&quot;: 58.97435897435898, &quot;y&quot;: 133.69230769230774, &quot;z&quot;: 506109.16594736883}, {&quot;x&quot;: 58.97435897435898, &quot;y&quot;: 139.7692307692308, &quot;z&quot;: 533553.2892425763}, {&quot;x&quot;: 58.97435897435898, &quot;y&quot;: 145.84615384615387, &quot;z&quot;: 560997.4125377838}, {&quot;x&quot;: 58.97435897435898, &quot;y&quot;: 151.92307692307693, &quot;z&quot;: 588441.5358329914}, {&quot;x&quot;: 58.97435897435898, &quot;y&quot;: 158.0, &quot;z&quot;: 615885.6591281989}, {&quot;x&quot;: 58.97435897435898, &quot;y&quot;: 164.07692307692307, &quot;z&quot;: 643329.7824234061}, {&quot;x&quot;: 58.97435897435898, &quot;y&quot;: 170.15384615384613, &quot;z&quot;: 670773.9057186136}, {&quot;x&quot;: 58.97435897435898, &quot;y&quot;: 176.2307692307692, &quot;z&quot;: 698218.0290138212}, {&quot;x&quot;: 58.97435897435898, &quot;y&quot;: 182.30769230769226, &quot;z&quot;: 725662.1523090287}, {&quot;x&quot;: 58.97435897435898, &quot;y&quot;: 188.38461538461533, &quot;z&quot;: 753106.2756042362}, {&quot;x&quot;: 58.97435897435898, &quot;y&quot;: 194.4615384615384, &quot;z&quot;: 780550.3988994437}, {&quot;x&quot;: 58.97435897435898, &quot;y&quot;: 200.53846153846146, &quot;z&quot;: 807994.522194651}, {&quot;x&quot;: 58.97435897435898, &quot;y&quot;: 206.61538461538453, &quot;z&quot;: 835438.6454898585}, {&quot;x&quot;: 58.97435897435898, &quot;y&quot;: 212.6923076923076, &quot;z&quot;: 862882.768785066}, {&quot;x&quot;: 58.97435897435898, &quot;y&quot;: 218.76923076923066, &quot;z&quot;: 890326.8920802735}, {&quot;x&quot;: 58.97435897435898, &quot;y&quot;: 224.84615384615373, &quot;z&quot;: 917771.015375481}, {&quot;x&quot;: 58.97435897435898, &quot;y&quot;: 230.9230769230768, &quot;z&quot;: 945215.1386706885}, {&quot;x&quot;: 58.97435897435898, &quot;y&quot;: 237.0, &quot;z&quot;: 972659.2619658965}, {&quot;x&quot;: 61.92307692307693, &quot;y&quot;: 6.076923076923077, &quot;z&quot;: -76209.56214201829}, {&quot;x&quot;: 61.92307692307693, &quot;y&quot;: 0.0, &quot;z&quot;: -103653.6854372258}, {&quot;x&quot;: 61.92307692307693, &quot;y&quot;: 12.153846153846153, &quot;z&quot;: -48765.438846810765}, {&quot;x&quot;: 61.92307692307693, &quot;y&quot;: 18.23076923076923, &quot;z&quot;: -21321.315551603257}, {&quot;x&quot;: 61.92307692307693, &quot;y&quot;: 24.307692307692307, &quot;z&quot;: 6122.807743604266}, {&quot;x&quot;: 61.92307692307693, &quot;y&quot;: 30.384615384615383, &quot;z&quot;: 33566.931038811774}, {&quot;x&quot;: 61.92307692307693, &quot;y&quot;: 36.46153846153846, &quot;z&quot;: 61011.05433401928}, {&quot;x&quot;: 61.92307692307693, &quot;y&quot;: 42.53846153846153, &quot;z&quot;: 88455.17762922679}, {&quot;x&quot;: 61.92307692307693, &quot;y&quot;: 48.61538461538461, &quot;z&quot;: 115899.30092443433}, {&quot;x&quot;: 61.92307692307693, &quot;y&quot;: 54.69230769230769, &quot;z&quot;: 143343.42421964186}, {&quot;x&quot;: 61.92307692307693, &quot;y&quot;: 60.769230769230774, &quot;z&quot;: 170787.5475148494}, {&quot;x&quot;: 61.92307692307693, &quot;y&quot;: 66.84615384615385, &quot;z&quot;: 198231.6708100569}, {&quot;x&quot;: 61.92307692307693, &quot;y&quot;: 72.92307692307693, &quot;z&quot;: 225675.79410526447}, {&quot;x&quot;: 61.92307692307693, &quot;y&quot;: 79.00000000000001, &quot;z&quot;: 253119.91740047198}, {&quot;x&quot;: 61.92307692307693, &quot;y&quot;: 85.0769230769231, &quot;z&quot;: 280564.0406956795}, {&quot;x&quot;: 61.92307692307693, &quot;y&quot;: 91.15384615384617, &quot;z&quot;: 308008.16399088706}, {&quot;x&quot;: 61.92307692307693, &quot;y&quot;: 97.23076923076925, &quot;z&quot;: 335452.28728609456}, {&quot;x&quot;: 61.92307692307693, &quot;y&quot;: 103.30769230769234, &quot;z&quot;: 362896.41058130213}, {&quot;x&quot;: 61.92307692307693, &quot;y&quot;: 109.38461538461542, &quot;z&quot;: 390340.53387650964}, {&quot;x&quot;: 61.92307692307693, &quot;y&quot;: 115.4615384615385, &quot;z&quot;: 417784.65717171715}, {&quot;x&quot;: 61.92307692307693, &quot;y&quot;: 121.53846153846158, &quot;z&quot;: 445228.7804669247}, {&quot;x&quot;: 61.92307692307693, &quot;y&quot;: 127.61538461538466, &quot;z&quot;: 472672.9037621322}, {&quot;x&quot;: 61.92307692307693, &quot;y&quot;: 133.69230769230774, &quot;z&quot;: 500117.0270573397}, {&quot;x&quot;: 61.92307692307693, &quot;y&quot;: 139.7692307692308, &quot;z&quot;: 527561.1503525472}, {&quot;x&quot;: 61.92307692307693, &quot;y&quot;: 145.84615384615387, &quot;z&quot;: 555005.2736477547}, {&quot;x&quot;: 61.92307692307693, &quot;y&quot;: 151.92307692307693, &quot;z&quot;: 582449.3969429622}, {&quot;x&quot;: 61.92307692307693, &quot;y&quot;: 158.0, &quot;z&quot;: 609893.5202381697}, {&quot;x&quot;: 61.92307692307693, &quot;y&quot;: 164.07692307692307, &quot;z&quot;: 637337.643533377}, {&quot;x&quot;: 61.92307692307693, &quot;y&quot;: 170.15384615384613, &quot;z&quot;: 664781.7668285845}, {&quot;x&quot;: 61.92307692307693, &quot;y&quot;: 176.2307692307692, &quot;z&quot;: 692225.890123792}, {&quot;x&quot;: 61.92307692307693, &quot;y&quot;: 182.30769230769226, &quot;z&quot;: 719670.0134189995}, {&quot;x&quot;: 61.92307692307693, &quot;y&quot;: 188.38461538461533, &quot;z&quot;: 747114.136714207}, {&quot;x&quot;: 61.92307692307693, &quot;y&quot;: 194.4615384615384, &quot;z&quot;: 774558.2600094145}, {&quot;x&quot;: 61.92307692307693, &quot;y&quot;: 200.53846153846146, &quot;z&quot;: 802002.3833046218}, {&quot;x&quot;: 61.92307692307693, &quot;y&quot;: 206.61538461538453, &quot;z&quot;: 829446.5065998293}, {&quot;x&quot;: 61.92307692307693, &quot;y&quot;: 212.6923076923076, &quot;z&quot;: 856890.6298950368}, {&quot;x&quot;: 61.92307692307693, &quot;y&quot;: 218.76923076923066, &quot;z&quot;: 884334.7531902443}, {&quot;x&quot;: 61.92307692307693, &quot;y&quot;: 224.84615384615373, &quot;z&quot;: 911778.8764854518}, {&quot;x&quot;: 61.92307692307693, &quot;y&quot;: 230.9230769230768, &quot;z&quot;: 939222.9997806593}, {&quot;x&quot;: 61.92307692307693, &quot;y&quot;: 237.0, &quot;z&quot;: 966667.1230758673}, {&quot;x&quot;: 64.87179487179488, &quot;y&quot;: 6.076923076923077, &quot;z&quot;: -82201.7010320474}, {&quot;x&quot;: 64.87179487179488, &quot;y&quot;: 0.0, &quot;z&quot;: -109645.8243272549}, {&quot;x&quot;: 64.87179487179488, &quot;y&quot;: 12.153846153846153, &quot;z&quot;: -54757.57773683987}, {&quot;x&quot;: 64.87179487179488, &quot;y&quot;: 18.23076923076923, &quot;z&quot;: -27313.454441632362}, {&quot;x&quot;: 64.87179487179488, &quot;y&quot;: 24.307692307692307, &quot;z&quot;: 130.66885357516003}, {&quot;x&quot;: 64.87179487179488, &quot;y&quot;: 30.384615384615383, &quot;z&quot;: 27574.792148782668}, {&quot;x&quot;: 64.87179487179488, &quot;y&quot;: 36.46153846153846, &quot;z&quot;: 55018.915443990176}, {&quot;x&quot;: 64.87179487179488, &quot;y&quot;: 42.53846153846153, &quot;z&quot;: 82463.03873919768}, {&quot;x&quot;: 64.87179487179488, &quot;y&quot;: 48.61538461538461, &quot;z&quot;: 109907.16203440522}, {&quot;x&quot;: 64.87179487179488, &quot;y&quot;: 54.69230769230769, &quot;z&quot;: 137351.28532961276}, {&quot;x&quot;: 64.87179487179488, &quot;y&quot;: 60.769230769230774, &quot;z&quot;: 164795.4086248203}, {&quot;x&quot;: 64.87179487179488, &quot;y&quot;: 66.84615384615385, &quot;z&quot;: 192239.5319200278}, {&quot;x&quot;: 64.87179487179488, &quot;y&quot;: 72.92307692307693, &quot;z&quot;: 219683.65521523537}, {&quot;x&quot;: 64.87179487179488, &quot;y&quot;: 79.00000000000001, &quot;z&quot;: 247127.77851044288}, {&quot;x&quot;: 64.87179487179488, &quot;y&quot;: 85.0769230769231, &quot;z&quot;: 274571.9018056504}, {&quot;x&quot;: 64.87179487179488, &quot;y&quot;: 91.15384615384617, &quot;z&quot;: 302016.02510085795}, {&quot;x&quot;: 64.87179487179488, &quot;y&quot;: 97.23076923076925, &quot;z&quot;: 329460.14839606546}, {&quot;x&quot;: 64.87179487179488, &quot;y&quot;: 103.30769230769234, &quot;z&quot;: 356904.271691273}, {&quot;x&quot;: 64.87179487179488, &quot;y&quot;: 109.38461538461542, &quot;z&quot;: 384348.39498648053}, {&quot;x&quot;: 64.87179487179488, &quot;y&quot;: 115.4615384615385, &quot;z&quot;: 411792.51828168804}, {&quot;x&quot;: 64.87179487179488, &quot;y&quot;: 121.53846153846158, &quot;z&quot;: 439236.6415768956}, {&quot;x&quot;: 64.87179487179488, &quot;y&quot;: 127.61538461538466, &quot;z&quot;: 466680.7648721031}, {&quot;x&quot;: 64.87179487179488, &quot;y&quot;: 133.69230769230774, &quot;z&quot;: 494124.8881673106}, {&quot;x&quot;: 64.87179487179488, &quot;y&quot;: 139.7692307692308, &quot;z&quot;: 521569.01146251813}, {&quot;x&quot;: 64.87179487179488, &quot;y&quot;: 145.84615384615387, &quot;z&quot;: 549013.1347577258}, {&quot;x&quot;: 64.87179487179488, &quot;y&quot;: 151.92307692307693, &quot;z&quot;: 576457.258052933}, {&quot;x&quot;: 64.87179487179488, &quot;y&quot;: 158.0, &quot;z&quot;: 603901.3813481405}, {&quot;x&quot;: 64.87179487179488, &quot;y&quot;: 164.07692307692307, &quot;z&quot;: 631345.504643348}, {&quot;x&quot;: 64.87179487179488, &quot;y&quot;: 170.15384615384613, &quot;z&quot;: 658789.6279385556}, {&quot;x&quot;: 64.87179487179488, &quot;y&quot;: 176.2307692307692, &quot;z&quot;: 686233.7512337631}, {&quot;x&quot;: 64.87179487179488, &quot;y&quot;: 182.30769230769226, &quot;z&quot;: 713677.8745289703}, {&quot;x&quot;: 64.87179487179488, &quot;y&quot;: 188.38461538461533, &quot;z&quot;: 741121.9978241778}, {&quot;x&quot;: 64.87179487179488, &quot;y&quot;: 194.4615384615384, &quot;z&quot;: 768566.1211193854}, {&quot;x&quot;: 64.87179487179488, &quot;y&quot;: 200.53846153846146, &quot;z&quot;: 796010.2444145929}, {&quot;x&quot;: 64.87179487179488, &quot;y&quot;: 206.61538461538453, &quot;z&quot;: 823454.3677098004}, {&quot;x&quot;: 64.87179487179488, &quot;y&quot;: 212.6923076923076, &quot;z&quot;: 850898.4910050079}, {&quot;x&quot;: 64.87179487179488, &quot;y&quot;: 218.76923076923066, &quot;z&quot;: 878342.6143002152}, {&quot;x&quot;: 64.87179487179488, &quot;y&quot;: 224.84615384615373, &quot;z&quot;: 905786.7375954227}, {&quot;x&quot;: 64.87179487179488, &quot;y&quot;: 230.9230769230768, &quot;z&quot;: 933230.8608906302}, {&quot;x&quot;: 64.87179487179488, &quot;y&quot;: 237.0, &quot;z&quot;: 960674.9841858381}, {&quot;x&quot;: 67.82051282051282, &quot;y&quot;: 6.076923076923077, &quot;z&quot;: -88193.8399220765}, {&quot;x&quot;: 67.82051282051282, &quot;y&quot;: 0.0, &quot;z&quot;: -115637.963217284}, {&quot;x&quot;: 67.82051282051282, &quot;y&quot;: 12.153846153846153, &quot;z&quot;: -60749.716626868976}, {&quot;x&quot;: 67.82051282051282, &quot;y&quot;: 18.23076923076923, &quot;z&quot;: -33305.59333166147}, {&quot;x&quot;: 67.82051282051282, &quot;y&quot;: 24.307692307692307, &quot;z&quot;: -5861.470036453946}, {&quot;x&quot;: 67.82051282051282, &quot;y&quot;: 30.384615384615383, &quot;z&quot;: 21582.653258753562}, {&quot;x&quot;: 67.82051282051282, &quot;y&quot;: 36.46153846153846, &quot;z&quot;: 49026.77655396107}, {&quot;x&quot;: 67.82051282051282, &quot;y&quot;: 42.53846153846153, &quot;z&quot;: 76470.89984916858}, {&quot;x&quot;: 67.82051282051282, &quot;y&quot;: 48.61538461538461, &quot;z&quot;: 103915.02314437611}, {&quot;x&quot;: 67.82051282051282, &quot;y&quot;: 54.69230769230769, &quot;z&quot;: 131359.14643958365}, {&quot;x&quot;: 67.82051282051282, &quot;y&quot;: 60.769230769230774, &quot;z&quot;: 158803.2697347912}, {&quot;x&quot;: 67.82051282051282, &quot;y&quot;: 66.84615384615385, &quot;z&quot;: 186247.3930299987}, {&quot;x&quot;: 67.82051282051282, &quot;y&quot;: 72.92307692307693, &quot;z&quot;: 213691.51632520626}, {&quot;x&quot;: 67.82051282051282, &quot;y&quot;: 79.00000000000001, &quot;z&quot;: 241135.63962041377}, {&quot;x&quot;: 67.82051282051282, &quot;y&quot;: 85.0769230769231, &quot;z&quot;: 268579.7629156213}, {&quot;x&quot;: 67.82051282051282, &quot;y&quot;: 91.15384615384617, &quot;z&quot;: 296023.88621082884}, {&quot;x&quot;: 67.82051282051282, &quot;y&quot;: 97.23076923076925, &quot;z&quot;: 323468.00950603635}, {&quot;x&quot;: 67.82051282051282, &quot;y&quot;: 103.30769230769234, &quot;z&quot;: 350912.1328012439}, {&quot;x&quot;: 67.82051282051282, &quot;y&quot;: 109.38461538461542, &quot;z&quot;: 378356.2560964514}, {&quot;x&quot;: 67.82051282051282, &quot;y&quot;: 115.4615384615385, &quot;z&quot;: 405800.37939165893}, {&quot;x&quot;: 67.82051282051282, &quot;y&quot;: 121.53846153846158, &quot;z&quot;: 433244.5026868665}, {&quot;x&quot;: 67.82051282051282, &quot;y&quot;: 127.61538461538466, &quot;z&quot;: 460688.625982074}, {&quot;x&quot;: 67.82051282051282, &quot;y&quot;: 133.69230769230774, &quot;z&quot;: 488132.7492772815}, {&quot;x&quot;: 67.82051282051282, &quot;y&quot;: 139.7692307692308, &quot;z&quot;: 515576.872572489}, {&quot;x&quot;: 67.82051282051282, &quot;y&quot;: 145.84615384615387, &quot;z&quot;: 543020.9958676966}, {&quot;x&quot;: 67.82051282051282, &quot;y&quot;: 151.92307692307693, &quot;z&quot;: 570465.1191629039}, {&quot;x&quot;: 67.82051282051282, &quot;y&quot;: 158.0, &quot;z&quot;: 597909.2424581114}, {&quot;x&quot;: 67.82051282051282, &quot;y&quot;: 164.07692307692307, &quot;z&quot;: 625353.3657533189}, {&quot;x&quot;: 67.82051282051282, &quot;y&quot;: 170.15384615384613, &quot;z&quot;: 652797.4890485264}, {&quot;x&quot;: 67.82051282051282, &quot;y&quot;: 176.2307692307692, &quot;z&quot;: 680241.6123437339}, {&quot;x&quot;: 67.82051282051282, &quot;y&quot;: 182.30769230769226, &quot;z&quot;: 707685.7356389412}, {&quot;x&quot;: 67.82051282051282, &quot;y&quot;: 188.38461538461533, &quot;z&quot;: 735129.8589341487}, {&quot;x&quot;: 67.82051282051282, &quot;y&quot;: 194.4615384615384, &quot;z&quot;: 762573.9822293562}, {&quot;x&quot;: 67.82051282051282, &quot;y&quot;: 200.53846153846146, &quot;z&quot;: 790018.1055245637}, {&quot;x&quot;: 67.82051282051282, &quot;y&quot;: 206.61538461538453, &quot;z&quot;: 817462.2288197712}, {&quot;x&quot;: 67.82051282051282, &quot;y&quot;: 212.6923076923076, &quot;z&quot;: 844906.3521149787}, {&quot;x&quot;: 67.82051282051282, &quot;y&quot;: 218.76923076923066, &quot;z&quot;: 872350.475410186}, {&quot;x&quot;: 67.82051282051282, &quot;y&quot;: 224.84615384615373, &quot;z&quot;: 899794.5987053935}, {&quot;x&quot;: 67.82051282051282, &quot;y&quot;: 230.9230769230768, &quot;z&quot;: 927238.722000601}, {&quot;x&quot;: 67.82051282051282, &quot;y&quot;: 237.0, &quot;z&quot;: 954682.845295809}, {&quot;x&quot;: 70.76923076923077, &quot;y&quot;: 6.076923076923077, &quot;z&quot;: -94185.97881210563}, {&quot;x&quot;: 70.76923076923077, &quot;y&quot;: 0.0, &quot;z&quot;: -121630.10210731314}, {&quot;x&quot;: 70.76923076923077, &quot;y&quot;: 12.153846153846153, &quot;z&quot;: -66741.85551689811}, {&quot;x&quot;: 70.76923076923077, &quot;y&quot;: 18.23076923076923, &quot;z&quot;: -39297.7322216906}, {&quot;x&quot;: 70.76923076923077, &quot;y&quot;: 24.307692307692307, &quot;z&quot;: -11853.60892648308}, {&quot;x&quot;: 70.76923076923077, &quot;y&quot;: 30.384615384615383, &quot;z&quot;: 15590.514368724427}, {&quot;x&quot;: 70.76923076923077, &quot;y&quot;: 36.46153846153846, &quot;z&quot;: 43034.637663931935}, {&quot;x&quot;: 70.76923076923077, &quot;y&quot;: 42.53846153846153, &quot;z&quot;: 70478.76095913944}, {&quot;x&quot;: 70.76923076923077, &quot;y&quot;: 48.61538461538461, &quot;z&quot;: 97922.88425434698}, {&quot;x&quot;: 70.76923076923077, &quot;y&quot;: 54.69230769230769, &quot;z&quot;: 125367.00754955452}, {&quot;x&quot;: 70.76923076923077, &quot;y&quot;: 60.769230769230774, &quot;z&quot;: 152811.13084476205}, {&quot;x&quot;: 70.76923076923077, &quot;y&quot;: 66.84615384615385, &quot;z&quot;: 180255.25413996956}, {&quot;x&quot;: 70.76923076923077, &quot;y&quot;: 72.92307692307693, &quot;z&quot;: 207699.37743517713}, {&quot;x&quot;: 70.76923076923077, &quot;y&quot;: 79.00000000000001, &quot;z&quot;: 235143.50073038464}, {&quot;x&quot;: 70.76923076923077, &quot;y&quot;: 85.0769230769231, &quot;z&quot;: 262587.6240255921}, {&quot;x&quot;: 70.76923076923077, &quot;y&quot;: 91.15384615384617, &quot;z&quot;: 290031.7473207997}, {&quot;x&quot;: 70.76923076923077, &quot;y&quot;: 97.23076923076925, &quot;z&quot;: 317475.8706160072}, {&quot;x&quot;: 70.76923076923077, &quot;y&quot;: 103.30769230769234, &quot;z&quot;: 344919.9939112148}, {&quot;x&quot;: 70.76923076923077, &quot;y&quot;: 109.38461538461542, &quot;z&quot;: 372364.1172064223}, {&quot;x&quot;: 70.76923076923077, &quot;y&quot;: 115.4615384615385, &quot;z&quot;: 399808.2405016298}, {&quot;x&quot;: 70.76923076923077, &quot;y&quot;: 121.53846153846158, &quot;z&quot;: 427252.36379683734}, {&quot;x&quot;: 70.76923076923077, &quot;y&quot;: 127.61538461538466, &quot;z&quot;: 454696.48709204484}, {&quot;x&quot;: 70.76923076923077, &quot;y&quot;: 133.69230769230774, &quot;z&quot;: 482140.61038725235}, {&quot;x&quot;: 70.76923076923077, &quot;y&quot;: 139.7692307692308, &quot;z&quot;: 509584.73368245986}, {&quot;x&quot;: 70.76923076923077, &quot;y&quot;: 145.84615384615387, &quot;z&quot;: 537028.8569776674}, {&quot;x&quot;: 70.76923076923077, &quot;y&quot;: 151.92307692307693, &quot;z&quot;: 564472.9802728747}, {&quot;x&quot;: 70.76923076923077, &quot;y&quot;: 158.0, &quot;z&quot;: 591917.1035680822}, {&quot;x&quot;: 70.76923076923077, &quot;y&quot;: 164.07692307692307, &quot;z&quot;: 619361.2268632897}, {&quot;x&quot;: 70.76923076923077, &quot;y&quot;: 170.15384615384613, &quot;z&quot;: 646805.3501584972}, {&quot;x&quot;: 70.76923076923077, &quot;y&quot;: 176.2307692307692, &quot;z&quot;: 674249.4734537047}, {&quot;x&quot;: 70.76923076923077, &quot;y&quot;: 182.30769230769226, &quot;z&quot;: 701693.596748912}, {&quot;x&quot;: 70.76923076923077, &quot;y&quot;: 188.38461538461533, &quot;z&quot;: 729137.7200441195}, {&quot;x&quot;: 70.76923076923077, &quot;y&quot;: 194.4615384615384, &quot;z&quot;: 756581.843339327}, {&quot;x&quot;: 70.76923076923077, &quot;y&quot;: 200.53846153846146, &quot;z&quot;: 784025.9666345345}, {&quot;x&quot;: 70.76923076923077, &quot;y&quot;: 206.61538461538453, &quot;z&quot;: 811470.089929742}, {&quot;x&quot;: 70.76923076923077, &quot;y&quot;: 212.6923076923076, &quot;z&quot;: 838914.2132249495}, {&quot;x&quot;: 70.76923076923077, &quot;y&quot;: 218.76923076923066, &quot;z&quot;: 866358.3365201568}, {&quot;x&quot;: 70.76923076923077, &quot;y&quot;: 224.84615384615373, &quot;z&quot;: 893802.4598153643}, {&quot;x&quot;: 70.76923076923077, &quot;y&quot;: 230.9230769230768, &quot;z&quot;: 921246.5831105718}, {&quot;x&quot;: 70.76923076923077, &quot;y&quot;: 237.0, &quot;z&quot;: 948690.7064057798}, {&quot;x&quot;: 73.71794871794873, &quot;y&quot;: 6.076923076923077, &quot;z&quot;: -100178.11770213477}, {&quot;x&quot;: 73.71794871794873, &quot;y&quot;: 0.0, &quot;z&quot;: -127622.24099734228}, {&quot;x&quot;: 73.71794871794873, &quot;y&quot;: 12.153846153846153, &quot;z&quot;: -72733.99440692725}, {&quot;x&quot;: 73.71794871794873, &quot;y&quot;: 18.23076923076923, &quot;z&quot;: -45289.87111171974}, {&quot;x&quot;: 73.71794871794873, &quot;y&quot;: 24.307692307692307, &quot;z&quot;: -17845.747816512216}, {&quot;x&quot;: 73.71794871794873, &quot;y&quot;: 30.384615384615383, &quot;z&quot;: 9598.375478695292}, {&quot;x&quot;: 73.71794871794873, &quot;y&quot;: 36.46153846153846, &quot;z&quot;: 37042.4987739028}, {&quot;x&quot;: 73.71794871794873, &quot;y&quot;: 42.53846153846153, &quot;z&quot;: 64486.62206911031}, {&quot;x&quot;: 73.71794871794873, &quot;y&quot;: 48.61538461538461, &quot;z&quot;: 91930.74536431785}, {&quot;x&quot;: 73.71794871794873, &quot;y&quot;: 54.69230769230769, &quot;z&quot;: 119374.86865952538}, {&quot;x&quot;: 73.71794871794873, &quot;y&quot;: 60.769230769230774, &quot;z&quot;: 146818.99195473292}, {&quot;x&quot;: 73.71794871794873, &quot;y&quot;: 66.84615384615385, &quot;z&quot;: 174263.11524994043}, {&quot;x&quot;: 73.71794871794873, &quot;y&quot;: 72.92307692307693, &quot;z&quot;: 201707.238545148}, {&quot;x&quot;: 73.71794871794873, &quot;y&quot;: 79.00000000000001, &quot;z&quot;: 229151.3618403555}, {&quot;x&quot;: 73.71794871794873, &quot;y&quot;: 85.0769230769231, &quot;z&quot;: 256595.485135563}, {&quot;x&quot;: 73.71794871794873, &quot;y&quot;: 91.15384615384617, &quot;z&quot;: 284039.6084307706}, {&quot;x&quot;: 73.71794871794873, &quot;y&quot;: 97.23076923076925, &quot;z&quot;: 311483.7317259781}, {&quot;x&quot;: 73.71794871794873, &quot;y&quot;: 103.30769230769234, &quot;z&quot;: 338927.85502118565}, {&quot;x&quot;: 73.71794871794873, &quot;y&quot;: 109.38461538461542, &quot;z&quot;: 366371.97831639316}, {&quot;x&quot;: 73.71794871794873, &quot;y&quot;: 115.4615384615385, &quot;z&quot;: 393816.10161160066}, {&quot;x&quot;: 73.71794871794873, &quot;y&quot;: 121.53846153846158, &quot;z&quot;: 421260.22490680823}, {&quot;x&quot;: 73.71794871794873, &quot;y&quot;: 127.61538461538466, &quot;z&quot;: 448704.34820201574}, {&quot;x&quot;: 73.71794871794873, &quot;y&quot;: 133.69230769230774, &quot;z&quot;: 476148.47149722325}, {&quot;x&quot;: 73.71794871794873, &quot;y&quot;: 139.7692307692308, &quot;z&quot;: 503592.59479243075}, {&quot;x&quot;: 73.71794871794873, &quot;y&quot;: 145.84615384615387, &quot;z&quot;: 531036.7180876383}, {&quot;x&quot;: 73.71794871794873, &quot;y&quot;: 151.92307692307693, &quot;z&quot;: 558480.8413828458}, {&quot;x&quot;: 73.71794871794873, &quot;y&quot;: 158.0, &quot;z&quot;: 585924.9646780533}, {&quot;x&quot;: 73.71794871794873, &quot;y&quot;: 164.07692307692307, &quot;z&quot;: 613369.0879732606}, {&quot;x&quot;: 73.71794871794873, &quot;y&quot;: 170.15384615384613, &quot;z&quot;: 640813.2112684681}, {&quot;x&quot;: 73.71794871794873, &quot;y&quot;: 176.2307692307692, &quot;z&quot;: 668257.3345636756}, {&quot;x&quot;: 73.71794871794873, &quot;y&quot;: 182.30769230769226, &quot;z&quot;: 695701.4578588831}, {&quot;x&quot;: 73.71794871794873, &quot;y&quot;: 188.38461538461533, &quot;z&quot;: 723145.5811540906}, {&quot;x&quot;: 73.71794871794873, &quot;y&quot;: 194.4615384615384, &quot;z&quot;: 750589.7044492981}, {&quot;x&quot;: 73.71794871794873, &quot;y&quot;: 200.53846153846146, &quot;z&quot;: 778033.8277445054}, {&quot;x&quot;: 73.71794871794873, &quot;y&quot;: 206.61538461538453, &quot;z&quot;: 805477.9510397129}, {&quot;x&quot;: 73.71794871794873, &quot;y&quot;: 212.6923076923076, &quot;z&quot;: 832922.0743349204}, {&quot;x&quot;: 73.71794871794873, &quot;y&quot;: 218.76923076923066, &quot;z&quot;: 860366.1976301279}, {&quot;x&quot;: 73.71794871794873, &quot;y&quot;: 224.84615384615373, &quot;z&quot;: 887810.3209253354}, {&quot;x&quot;: 73.71794871794873, &quot;y&quot;: 230.9230769230768, &quot;z&quot;: 915254.4442205429}, {&quot;x&quot;: 73.71794871794873, &quot;y&quot;: 237.0, &quot;z&quot;: 942698.5675157509}, {&quot;x&quot;: 76.66666666666669, &quot;y&quot;: 6.076923076923077, &quot;z&quot;: -106170.2565921639}, {&quot;x&quot;: 76.66666666666669, &quot;y&quot;: 0.0, &quot;z&quot;: -133614.3798873714}, {&quot;x&quot;: 76.66666666666669, &quot;y&quot;: 12.153846153846153, &quot;z&quot;: -78726.13329695638}, {&quot;x&quot;: 76.66666666666669, &quot;y&quot;: 18.23076923076923, &quot;z&quot;: -51282.01000174887}, {&quot;x&quot;: 76.66666666666669, &quot;y&quot;: 24.307692307692307, &quot;z&quot;: -23837.88670654135}, {&quot;x&quot;: 76.66666666666669, &quot;y&quot;: 30.384615384615383, &quot;z&quot;: 3606.2365886661573}, {&quot;x&quot;: 76.66666666666669, &quot;y&quot;: 36.46153846153846, &quot;z&quot;: 31050.359883873665}, {&quot;x&quot;: 76.66666666666669, &quot;y&quot;: 42.53846153846153, &quot;z&quot;: 58494.48317908117}, {&quot;x&quot;: 76.66666666666669, &quot;y&quot;: 48.61538461538461, &quot;z&quot;: 85938.60647428871}, {&quot;x&quot;: 76.66666666666669, &quot;y&quot;: 54.69230769230769, &quot;z&quot;: 113382.72976949625}, {&quot;x&quot;: 76.66666666666669, &quot;y&quot;: 60.769230769230774, &quot;z&quot;: 140826.85306470378}, {&quot;x&quot;: 76.66666666666669, &quot;y&quot;: 66.84615384615385, &quot;z&quot;: 168270.9763599113}, {&quot;x&quot;: 76.66666666666669, &quot;y&quot;: 72.92307692307693, &quot;z&quot;: 195715.09965511886}, {&quot;x&quot;: 76.66666666666669, &quot;y&quot;: 79.00000000000001, &quot;z&quot;: 223159.22295032637}, {&quot;x&quot;: 76.66666666666669, &quot;y&quot;: 85.0769230769231, &quot;z&quot;: 250603.34624553387}, {&quot;x&quot;: 76.66666666666669, &quot;y&quot;: 91.15384615384617, &quot;z&quot;: 278047.4695407414}, {&quot;x&quot;: 76.66666666666669, &quot;y&quot;: 97.23076923076925, &quot;z&quot;: 305491.592835949}, {&quot;x&quot;: 76.66666666666669, &quot;y&quot;: 103.30769230769234, &quot;z&quot;: 332935.7161311565}, {&quot;x&quot;: 76.66666666666669, &quot;y&quot;: 109.38461538461542, &quot;z&quot;: 360379.839426364}, {&quot;x&quot;: 76.66666666666669, &quot;y&quot;: 115.4615384615385, &quot;z&quot;: 387823.9627215715}, {&quot;x&quot;: 76.66666666666669, &quot;y&quot;: 121.53846153846158, &quot;z&quot;: 415268.0860167791}, {&quot;x&quot;: 76.66666666666669, &quot;y&quot;: 127.61538461538466, &quot;z&quot;: 442712.20931198663}, {&quot;x&quot;: 76.66666666666669, &quot;y&quot;: 133.69230769230774, &quot;z&quot;: 470156.33260719414}, {&quot;x&quot;: 76.66666666666669, &quot;y&quot;: 139.7692307692308, &quot;z&quot;: 497600.45590240165}, {&quot;x&quot;: 76.66666666666669, &quot;y&quot;: 145.84615384615387, &quot;z&quot;: 525044.5791976091}, {&quot;x&quot;: 76.66666666666669, &quot;y&quot;: 151.92307692307693, &quot;z&quot;: 552488.7024928166}, {&quot;x&quot;: 76.66666666666669, &quot;y&quot;: 158.0, &quot;z&quot;: 579932.8257880241}, {&quot;x&quot;: 76.66666666666669, &quot;y&quot;: 164.07692307692307, &quot;z&quot;: 607376.9490832314}, {&quot;x&quot;: 76.66666666666669, &quot;y&quot;: 170.15384615384613, &quot;z&quot;: 634821.0723784389}, {&quot;x&quot;: 76.66666666666669, &quot;y&quot;: 176.2307692307692, &quot;z&quot;: 662265.1956736464}, {&quot;x&quot;: 76.66666666666669, &quot;y&quot;: 182.30769230769226, &quot;z&quot;: 689709.3189688539}, {&quot;x&quot;: 76.66666666666669, &quot;y&quot;: 188.38461538461533, &quot;z&quot;: 717153.4422640614}, {&quot;x&quot;: 76.66666666666669, &quot;y&quot;: 194.4615384615384, &quot;z&quot;: 744597.5655592689}, {&quot;x&quot;: 76.66666666666669, &quot;y&quot;: 200.53846153846146, &quot;z&quot;: 772041.6888544762}, {&quot;x&quot;: 76.66666666666669, &quot;y&quot;: 206.61538461538453, &quot;z&quot;: 799485.8121496837}, {&quot;x&quot;: 76.66666666666669, &quot;y&quot;: 212.6923076923076, &quot;z&quot;: 826929.9354448912}, {&quot;x&quot;: 76.66666666666669, &quot;y&quot;: 218.76923076923066, &quot;z&quot;: 854374.0587400987}, {&quot;x&quot;: 76.66666666666669, &quot;y&quot;: 224.84615384615373, &quot;z&quot;: 881818.1820353062}, {&quot;x&quot;: 76.66666666666669, &quot;y&quot;: 230.9230769230768, &quot;z&quot;: 909262.3053305137}, {&quot;x&quot;: 76.66666666666669, &quot;y&quot;: 237.0, &quot;z&quot;: 936706.4286257217}, {&quot;x&quot;: 79.61538461538464, &quot;y&quot;: 6.076923076923077, &quot;z&quot;: -112162.39548219304}, {&quot;x&quot;: 79.61538461538464, &quot;y&quot;: 0.0, &quot;z&quot;: -139606.51877740055}, {&quot;x&quot;: 79.61538461538464, &quot;y&quot;: 12.153846153846153, &quot;z&quot;: -84718.27218698552}, {&quot;x&quot;: 79.61538461538464, &quot;y&quot;: 18.23076923076923, &quot;z&quot;: -57274.14889177801}, {&quot;x&quot;: 79.61538461538464, &quot;y&quot;: 24.307692307692307, &quot;z&quot;: -29830.025596570486}, {&quot;x&quot;: 79.61538461538464, &quot;y&quot;: 30.384615384615383, &quot;z&quot;: -2385.9023013629776}, {&quot;x&quot;: 79.61538461538464, &quot;y&quot;: 36.46153846153846, &quot;z&quot;: 25058.22099384453}, {&quot;x&quot;: 79.61538461538464, &quot;y&quot;: 42.53846153846153, &quot;z&quot;: 52502.34428905204}, {&quot;x&quot;: 79.61538461538464, &quot;y&quot;: 48.61538461538461, &quot;z&quot;: 79946.46758425958}, {&quot;x&quot;: 79.61538461538464, &quot;y&quot;: 54.69230769230769, &quot;z&quot;: 107390.59087946711}, {&quot;x&quot;: 79.61538461538464, &quot;y&quot;: 60.769230769230774, &quot;z&quot;: 134834.71417467465}, {&quot;x&quot;: 79.61538461538464, &quot;y&quot;: 66.84615384615385, &quot;z&quot;: 162278.83746988216}, {&quot;x&quot;: 79.61538461538464, &quot;y&quot;: 72.92307692307693, &quot;z&quot;: 189722.96076508972}, {&quot;x&quot;: 79.61538461538464, &quot;y&quot;: 79.00000000000001, &quot;z&quot;: 217167.08406029723}, {&quot;x&quot;: 79.61538461538464, &quot;y&quot;: 85.0769230769231, &quot;z&quot;: 244611.20735550474}, {&quot;x&quot;: 79.61538461538464, &quot;y&quot;: 91.15384615384617, &quot;z&quot;: 272055.3306507123}, {&quot;x&quot;: 79.61538461538464, &quot;y&quot;: 97.23076923076925, &quot;z&quot;: 299499.4539459198}, {&quot;x&quot;: 79.61538461538464, &quot;y&quot;: 103.30769230769234, &quot;z&quot;: 326943.5772411274}, {&quot;x&quot;: 79.61538461538464, &quot;y&quot;: 109.38461538461542, &quot;z&quot;: 354387.7005363349}, {&quot;x&quot;: 79.61538461538464, &quot;y&quot;: 115.4615384615385, &quot;z&quot;: 381831.8238315424}, {&quot;x&quot;: 79.61538461538464, &quot;y&quot;: 121.53846153846158, &quot;z&quot;: 409275.94712674996}, {&quot;x&quot;: 79.61538461538464, &quot;y&quot;: 127.61538461538466, &quot;z&quot;: 436720.07042195747}, {&quot;x&quot;: 79.61538461538464, &quot;y&quot;: 133.69230769230774, &quot;z&quot;: 464164.193717165}, {&quot;x&quot;: 79.61538461538464, &quot;y&quot;: 139.7692307692308, &quot;z&quot;: 491608.3170123725}, {&quot;x&quot;: 79.61538461538464, &quot;y&quot;: 145.84615384615387, &quot;z&quot;: 519052.44030758}, {&quot;x&quot;: 79.61538461538464, &quot;y&quot;: 151.92307692307693, &quot;z&quot;: 546496.5636027874}, {&quot;x&quot;: 79.61538461538464, &quot;y&quot;: 158.0, &quot;z&quot;: 573940.686897995}, {&quot;x&quot;: 79.61538461538464, &quot;y&quot;: 164.07692307692307, &quot;z&quot;: 601384.8101932022}, {&quot;x&quot;: 79.61538461538464, &quot;y&quot;: 170.15384615384613, &quot;z&quot;: 628828.9334884097}, {&quot;x&quot;: 79.61538461538464, &quot;y&quot;: 176.2307692307692, &quot;z&quot;: 656273.0567836172}, {&quot;x&quot;: 79.61538461538464, &quot;y&quot;: 182.30769230769226, &quot;z&quot;: 683717.1800788247}, {&quot;x&quot;: 79.61538461538464, &quot;y&quot;: 188.38461538461533, &quot;z&quot;: 711161.3033740323}, {&quot;x&quot;: 79.61538461538464, &quot;y&quot;: 194.4615384615384, &quot;z&quot;: 738605.4266692398}, {&quot;x&quot;: 79.61538461538464, &quot;y&quot;: 200.53846153846146, &quot;z&quot;: 766049.549964447}, {&quot;x&quot;: 79.61538461538464, &quot;y&quot;: 206.61538461538453, &quot;z&quot;: 793493.6732596545}, {&quot;x&quot;: 79.61538461538464, &quot;y&quot;: 212.6923076923076, &quot;z&quot;: 820937.796554862}, {&quot;x&quot;: 79.61538461538464, &quot;y&quot;: 218.76923076923066, &quot;z&quot;: 848381.9198500696}, {&quot;x&quot;: 79.61538461538464, &quot;y&quot;: 224.84615384615373, &quot;z&quot;: 875826.0431452771}, {&quot;x&quot;: 79.61538461538464, &quot;y&quot;: 230.9230769230768, &quot;z&quot;: 903270.1664404846}, {&quot;x&quot;: 79.61538461538464, &quot;y&quot;: 237.0, &quot;z&quot;: 930714.2897356926}, {&quot;x&quot;: 82.5641025641026, &quot;y&quot;: 6.076923076923077, &quot;z&quot;: -118154.53437222217}, {&quot;x&quot;: 82.5641025641026, &quot;y&quot;: 0.0, &quot;z&quot;: -145598.65766742968}, {&quot;x&quot;: 82.5641025641026, &quot;y&quot;: 12.153846153846153, &quot;z&quot;: -90710.41107701465}, {&quot;x&quot;: 82.5641025641026, &quot;y&quot;: 18.23076923076923, &quot;z&quot;: -63266.28778180714}, {&quot;x&quot;: 82.5641025641026, &quot;y&quot;: 24.307692307692307, &quot;z&quot;: -35822.16448659962}, {&quot;x&quot;: 82.5641025641026, &quot;y&quot;: 30.384615384615383, &quot;z&quot;: -8378.041191392113}, {&quot;x&quot;: 82.5641025641026, &quot;y&quot;: 36.46153846153846, &quot;z&quot;: 19066.082103815395}, {&quot;x&quot;: 82.5641025641026, &quot;y&quot;: 42.53846153846153, &quot;z&quot;: 46510.2053990229}, {&quot;x&quot;: 82.5641025641026, &quot;y&quot;: 48.61538461538461, &quot;z&quot;: 73954.32869423044}, {&quot;x&quot;: 82.5641025641026, &quot;y&quot;: 54.69230769230769, &quot;z&quot;: 101398.45198943798}, {&quot;x&quot;: 82.5641025641026, &quot;y&quot;: 60.769230769230774, &quot;z&quot;: 128842.57528464551}, {&quot;x&quot;: 82.5641025641026, &quot;y&quot;: 66.84615384615385, &quot;z&quot;: 156286.69857985302}, {&quot;x&quot;: 82.5641025641026, &quot;y&quot;: 72.92307692307693, &quot;z&quot;: 183730.8218750606}, {&quot;x&quot;: 82.5641025641026, &quot;y&quot;: 79.00000000000001, &quot;z&quot;: 211174.9451702681}, {&quot;x&quot;: 82.5641025641026, &quot;y&quot;: 85.0769230769231, &quot;z&quot;: 238619.0684654756}, {&quot;x&quot;: 82.5641025641026, &quot;y&quot;: 91.15384615384617, &quot;z&quot;: 266063.1917606832}, {&quot;x&quot;: 82.5641025641026, &quot;y&quot;: 97.23076923076925, &quot;z&quot;: 293507.31505589065}, {&quot;x&quot;: 82.5641025641026, &quot;y&quot;: 103.30769230769234, &quot;z&quot;: 320951.4383510983}, {&quot;x&quot;: 82.5641025641026, &quot;y&quot;: 109.38461538461542, &quot;z&quot;: 348395.5616463058}, {&quot;x&quot;: 82.5641025641026, &quot;y&quot;: 115.4615384615385, &quot;z&quot;: 375839.6849415133}, {&quot;x&quot;: 82.5641025641026, &quot;y&quot;: 121.53846153846158, &quot;z&quot;: 403283.8082367208}, {&quot;x&quot;: 82.5641025641026, &quot;y&quot;: 127.61538461538466, &quot;z&quot;: 430727.9315319283}, {&quot;x&quot;: 82.5641025641026, &quot;y&quot;: 133.69230769230774, &quot;z&quot;: 458172.0548271358}, {&quot;x&quot;: 82.5641025641026, &quot;y&quot;: 139.7692307692308, &quot;z&quot;: 485616.1781223433}, {&quot;x&quot;: 82.5641025641026, &quot;y&quot;: 145.84615384615387, &quot;z&quot;: 513060.3014175508}, {&quot;x&quot;: 82.5641025641026, &quot;y&quot;: 151.92307692307693, &quot;z&quot;: 540504.4247127583}, {&quot;x&quot;: 82.5641025641026, &quot;y&quot;: 158.0, &quot;z&quot;: 567948.5480079658}, {&quot;x&quot;: 82.5641025641026, &quot;y&quot;: 164.07692307692307, &quot;z&quot;: 595392.6713031731}, {&quot;x&quot;: 82.5641025641026, &quot;y&quot;: 170.15384615384613, &quot;z&quot;: 622836.7945983806}, {&quot;x&quot;: 82.5641025641026, &quot;y&quot;: 176.2307692307692, &quot;z&quot;: 650280.9178935881}, {&quot;x&quot;: 82.5641025641026, &quot;y&quot;: 182.30769230769226, &quot;z&quot;: 677725.0411887956}, {&quot;x&quot;: 82.5641025641026, &quot;y&quot;: 188.38461538461533, &quot;z&quot;: 705169.1644840031}, {&quot;x&quot;: 82.5641025641026, &quot;y&quot;: 194.4615384615384, &quot;z&quot;: 732613.2877792106}, {&quot;x&quot;: 82.5641025641026, &quot;y&quot;: 200.53846153846146, &quot;z&quot;: 760057.4110744179}, {&quot;x&quot;: 82.5641025641026, &quot;y&quot;: 206.61538461538453, &quot;z&quot;: 787501.5343696254}, {&quot;x&quot;: 82.5641025641026, &quot;y&quot;: 212.6923076923076, &quot;z&quot;: 814945.6576648329}, {&quot;x&quot;: 82.5641025641026, &quot;y&quot;: 218.76923076923066, &quot;z&quot;: 842389.7809600404}, {&quot;x&quot;: 82.5641025641026, &quot;y&quot;: 224.84615384615373, &quot;z&quot;: 869833.9042552479}, {&quot;x&quot;: 82.5641025641026, &quot;y&quot;: 230.9230769230768, &quot;z&quot;: 897278.0275504554}, {&quot;x&quot;: 82.5641025641026, &quot;y&quot;: 237.0, &quot;z&quot;: 924722.1508456634}, {&quot;x&quot;: 85.51282051282055, &quot;y&quot;: 6.076923076923077, &quot;z&quot;: -124146.67326225131}, {&quot;x&quot;: 85.51282051282055, &quot;y&quot;: 0.0, &quot;z&quot;: -151590.79655745882}, {&quot;x&quot;: 85.51282051282055, &quot;y&quot;: 12.153846153846153, &quot;z&quot;: -96702.54996704379}, {&quot;x&quot;: 85.51282051282055, &quot;y&quot;: 18.23076923076923, &quot;z&quot;: -69258.42667183628}, {&quot;x&quot;: 85.51282051282055, &quot;y&quot;: 24.307692307692307, &quot;z&quot;: -41814.303376628755}, {&quot;x&quot;: 85.51282051282055, &quot;y&quot;: 30.384615384615383, &quot;z&quot;: -14370.180081421247}, {&quot;x&quot;: 85.51282051282055, &quot;y&quot;: 36.46153846153846, &quot;z&quot;: 13073.94321378626}, {&quot;x&quot;: 85.51282051282055, &quot;y&quot;: 42.53846153846153, &quot;z&quot;: 40518.06650899377}, {&quot;x&quot;: 85.51282051282055, &quot;y&quot;: 48.61538461538461, &quot;z&quot;: 67962.1898042013}, {&quot;x&quot;: 85.51282051282055, &quot;y&quot;: 54.69230769230769, &quot;z&quot;: 95406.31309940884}, {&quot;x&quot;: 85.51282051282055, &quot;y&quot;: 60.769230769230774, &quot;z&quot;: 122850.43639461638}, {&quot;x&quot;: 85.51282051282055, &quot;y&quot;: 66.84615384615385, &quot;z&quot;: 150294.5596898239}, {&quot;x&quot;: 85.51282051282055, &quot;y&quot;: 72.92307692307693, &quot;z&quot;: 177738.68298503145}, {&quot;x&quot;: 85.51282051282055, &quot;y&quot;: 79.00000000000001, &quot;z&quot;: 205182.80628023896}, {&quot;x&quot;: 85.51282051282055, &quot;y&quot;: 85.0769230769231, &quot;z&quot;: 232626.92957544647}, {&quot;x&quot;: 85.51282051282055, &quot;y&quot;: 91.15384615384617, &quot;z&quot;: 260071.05287065404}, {&quot;x&quot;: 85.51282051282055, &quot;y&quot;: 97.23076923076925, &quot;z&quot;: 287515.17616586154}, {&quot;x&quot;: 85.51282051282055, &quot;y&quot;: 103.30769230769234, &quot;z&quot;: 314959.2994610691}, {&quot;x&quot;: 85.51282051282055, &quot;y&quot;: 109.38461538461542, &quot;z&quot;: 342403.4227562766}, {&quot;x&quot;: 85.51282051282055, &quot;y&quot;: 115.4615384615385, &quot;z&quot;: 369847.5460514841}, {&quot;x&quot;: 85.51282051282055, &quot;y&quot;: 121.53846153846158, &quot;z&quot;: 397291.6693466917}, {&quot;x&quot;: 85.51282051282055, &quot;y&quot;: 127.61538461538466, &quot;z&quot;: 424735.7926418992}, {&quot;x&quot;: 85.51282051282055, &quot;y&quot;: 133.69230769230774, &quot;z&quot;: 452179.9159371067}, {&quot;x&quot;: 85.51282051282055, &quot;y&quot;: 139.7692307692308, &quot;z&quot;: 479624.0392323142}, {&quot;x&quot;: 85.51282051282055, &quot;y&quot;: 145.84615384615387, &quot;z&quot;: 507068.1625275217}, {&quot;x&quot;: 85.51282051282055, &quot;y&quot;: 151.92307692307693, &quot;z&quot;: 534512.2858227291}, {&quot;x&quot;: 85.51282051282055, &quot;y&quot;: 158.0, &quot;z&quot;: 561956.4091179366}, {&quot;x&quot;: 85.51282051282055, &quot;y&quot;: 164.07692307692307, &quot;z&quot;: 589400.5324131441}, {&quot;x&quot;: 85.51282051282055, &quot;y&quot;: 170.15384615384613, &quot;z&quot;: 616844.6557083516}, {&quot;x&quot;: 85.51282051282055, &quot;y&quot;: 176.2307692307692, &quot;z&quot;: 644288.7790035591}, {&quot;x&quot;: 85.51282051282055, &quot;y&quot;: 182.30769230769226, &quot;z&quot;: 671732.9022987664}, {&quot;x&quot;: 85.51282051282055, &quot;y&quot;: 188.38461538461533, &quot;z&quot;: 699177.0255939739}, {&quot;x&quot;: 85.51282051282055, &quot;y&quot;: 194.4615384615384, &quot;z&quot;: 726621.1488891814}, {&quot;x&quot;: 85.51282051282055, &quot;y&quot;: 200.53846153846146, &quot;z&quot;: 754065.272184389}, {&quot;x&quot;: 85.51282051282055, &quot;y&quot;: 206.61538461538453, &quot;z&quot;: 781509.3954795965}, {&quot;x&quot;: 85.51282051282055, &quot;y&quot;: 212.6923076923076, &quot;z&quot;: 808953.518774804}, {&quot;x&quot;: 85.51282051282055, &quot;y&quot;: 218.76923076923066, &quot;z&quot;: 836397.6420700112}, {&quot;x&quot;: 85.51282051282055, &quot;y&quot;: 224.84615384615373, &quot;z&quot;: 863841.7653652187}, {&quot;x&quot;: 85.51282051282055, &quot;y&quot;: 230.9230769230768, &quot;z&quot;: 891285.8886604263}, {&quot;x&quot;: 85.51282051282055, &quot;y&quot;: 237.0, &quot;z&quot;: 918730.0119556342}, {&quot;x&quot;: 88.46153846153851, &quot;y&quot;: 6.076923076923077, &quot;z&quot;: -130138.81215228044}, {&quot;x&quot;: 88.46153846153851, &quot;y&quot;: 0.0, &quot;z&quot;: -157582.93544748795}, {&quot;x&quot;: 88.46153846153851, &quot;y&quot;: 12.153846153846153, &quot;z&quot;: -102694.68885707292}, {&quot;x&quot;: 88.46153846153851, &quot;y&quot;: 18.23076923076923, &quot;z&quot;: -75250.56556186541}, {&quot;x&quot;: 88.46153846153851, &quot;y&quot;: 24.307692307692307, &quot;z&quot;: -47806.44226665789}, {&quot;x&quot;: 88.46153846153851, &quot;y&quot;: 30.384615384615383, &quot;z&quot;: -20362.318971450382}, {&quot;x&quot;: 88.46153846153851, &quot;y&quot;: 36.46153846153846, &quot;z&quot;: 7081.8043237571255}, {&quot;x&quot;: 88.46153846153851, &quot;y&quot;: 42.53846153846153, &quot;z&quot;: 34525.92761896463}, {&quot;x&quot;: 88.46153846153851, &quot;y&quot;: 48.61538461538461, &quot;z&quot;: 61970.05091417217}, {&quot;x&quot;: 88.46153846153851, &quot;y&quot;: 54.69230769230769, &quot;z&quot;: 89414.17420937971}, {&quot;x&quot;: 88.46153846153851, &quot;y&quot;: 60.769230769230774, &quot;z&quot;: 116858.29750458724}, {&quot;x&quot;: 88.46153846153851, &quot;y&quot;: 66.84615384615385, &quot;z&quot;: 144302.42079979475}, {&quot;x&quot;: 88.46153846153851, &quot;y&quot;: 72.92307692307693, &quot;z&quot;: 171746.54409500232}, {&quot;x&quot;: 88.46153846153851, &quot;y&quot;: 79.00000000000001, &quot;z&quot;: 199190.66739020983}, {&quot;x&quot;: 88.46153846153851, &quot;y&quot;: 85.0769230769231, &quot;z&quot;: 226634.79068541733}, {&quot;x&quot;: 88.46153846153851, &quot;y&quot;: 91.15384615384617, &quot;z&quot;: 254078.9139806249}, {&quot;x&quot;: 88.46153846153851, &quot;y&quot;: 97.23076923076925, &quot;z&quot;: 281523.0372758324}, {&quot;x&quot;: 88.46153846153851, &quot;y&quot;: 103.30769230769234, &quot;z&quot;: 308967.16057103995}, {&quot;x&quot;: 88.46153846153851, &quot;y&quot;: 109.38461538461542, &quot;z&quot;: 336411.28386624745}, {&quot;x&quot;: 88.46153846153851, &quot;y&quot;: 115.4615384615385, &quot;z&quot;: 363855.40716145496}, {&quot;x&quot;: 88.46153846153851, &quot;y&quot;: 121.53846153846158, &quot;z&quot;: 391299.5304566626}, {&quot;x&quot;: 88.46153846153851, &quot;y&quot;: 127.61538461538466, &quot;z&quot;: 418743.6537518701}, {&quot;x&quot;: 88.46153846153851, &quot;y&quot;: 133.69230769230774, &quot;z&quot;: 446187.7770470776}, {&quot;x&quot;: 88.46153846153851, &quot;y&quot;: 139.7692307692308, &quot;z&quot;: 473631.9003422851}, {&quot;x&quot;: 88.46153846153851, &quot;y&quot;: 145.84615384615387, &quot;z&quot;: 501076.0236374926}, {&quot;x&quot;: 88.46153846153851, &quot;y&quot;: 151.92307692307693, &quot;z&quot;: 528520.1469327}, {&quot;x&quot;: 88.46153846153851, &quot;y&quot;: 158.0, &quot;z&quot;: 555964.2702279075}, {&quot;x&quot;: 88.46153846153851, &quot;y&quot;: 164.07692307692307, &quot;z&quot;: 583408.393523115}, {&quot;x&quot;: 88.46153846153851, &quot;y&quot;: 170.15384615384613, &quot;z&quot;: 610852.5168183225}, {&quot;x&quot;: 88.46153846153851, &quot;y&quot;: 176.2307692307692, &quot;z&quot;: 638296.64011353}, {&quot;x&quot;: 88.46153846153851, &quot;y&quot;: 182.30769230769226, &quot;z&quot;: 665740.7634087373}, {&quot;x&quot;: 88.46153846153851, &quot;y&quot;: 188.38461538461533, &quot;z&quot;: 693184.8867039448}, {&quot;x&quot;: 88.46153846153851, &quot;y&quot;: 194.4615384615384, &quot;z&quot;: 720629.0099991523}, {&quot;x&quot;: 88.46153846153851, &quot;y&quot;: 200.53846153846146, &quot;z&quot;: 748073.1332943598}, {&quot;x&quot;: 88.46153846153851, &quot;y&quot;: 206.61538461538453, &quot;z&quot;: 775517.2565895673}, {&quot;x&quot;: 88.46153846153851, &quot;y&quot;: 212.6923076923076, &quot;z&quot;: 802961.3798847748}, {&quot;x&quot;: 88.46153846153851, &quot;y&quot;: 218.76923076923066, &quot;z&quot;: 830405.5031799821}, {&quot;x&quot;: 88.46153846153851, &quot;y&quot;: 224.84615384615373, &quot;z&quot;: 857849.6264751896}, {&quot;x&quot;: 88.46153846153851, &quot;y&quot;: 230.9230769230768, &quot;z&quot;: 885293.7497703971}, {&quot;x&quot;: 88.46153846153851, &quot;y&quot;: 237.0, &quot;z&quot;: 912737.8730656051}, {&quot;x&quot;: 91.41025641025647, &quot;y&quot;: 6.076923076923077, &quot;z&quot;: -136130.95104230958}, {&quot;x&quot;: 91.41025641025647, &quot;y&quot;: 0.0, &quot;z&quot;: -163575.0743375171}, {&quot;x&quot;: 91.41025641025647, &quot;y&quot;: 12.153846153846153, &quot;z&quot;: -108686.82774710206}, {&quot;x&quot;: 91.41025641025647, &quot;y&quot;: 18.23076923076923, &quot;z&quot;: -81242.70445189455}, {&quot;x&quot;: 91.41025641025647, &quot;y&quot;: 24.307692307692307, &quot;z&quot;: -53798.581156687025}, {&quot;x&quot;: 91.41025641025647, &quot;y&quot;: 30.384615384615383, &quot;z&quot;: -26354.457861479517}, {&quot;x&quot;: 91.41025641025647, &quot;y&quot;: 36.46153846153846, &quot;z&quot;: 1089.6654337279906}, {&quot;x&quot;: 91.41025641025647, &quot;y&quot;: 42.53846153846153, &quot;z&quot;: 28533.7887289355}, {&quot;x&quot;: 91.41025641025647, &quot;y&quot;: 48.61538461538461, &quot;z&quot;: 55977.912024143036}, {&quot;x&quot;: 91.41025641025647, &quot;y&quot;: 54.69230769230769, &quot;z&quot;: 83422.03531935057}, {&quot;x&quot;: 91.41025641025647, &quot;y&quot;: 60.769230769230774, &quot;z&quot;: 110866.15861455811}, {&quot;x&quot;: 91.41025641025647, &quot;y&quot;: 66.84615384615385, &quot;z&quot;: 138310.28190976562}, {&quot;x&quot;: 91.41025641025647, &quot;y&quot;: 72.92307692307693, &quot;z&quot;: 165754.40520497318}, {&quot;x&quot;: 91.41025641025647, &quot;y&quot;: 79.00000000000001, &quot;z&quot;: 193198.5285001807}, {&quot;x&quot;: 91.41025641025647, &quot;y&quot;: 85.0769230769231, &quot;z&quot;: 220642.6517953882}, {&quot;x&quot;: 91.41025641025647, &quot;y&quot;: 91.15384615384617, &quot;z&quot;: 248086.77509059577}, {&quot;x&quot;: 91.41025641025647, &quot;y&quot;: 97.23076923076925, &quot;z&quot;: 275530.8983858033}, {&quot;x&quot;: 91.41025641025647, &quot;y&quot;: 103.30769230769234, &quot;z&quot;: 302975.02168101084}, {&quot;x&quot;: 91.41025641025647, &quot;y&quot;: 109.38461538461542, &quot;z&quot;: 330419.14497621835}, {&quot;x&quot;: 91.41025641025647, &quot;y&quot;: 115.4615384615385, &quot;z&quot;: 357863.26827142586}, {&quot;x&quot;: 91.41025641025647, &quot;y&quot;: 121.53846153846158, &quot;z&quot;: 385307.3915666334}, {&quot;x&quot;: 91.41025641025647, &quot;y&quot;: 127.61538461538466, &quot;z&quot;: 412751.51486184093}, {&quot;x&quot;: 91.41025641025647, &quot;y&quot;: 133.69230769230774, &quot;z&quot;: 440195.63815704844}, {&quot;x&quot;: 91.41025641025647, &quot;y&quot;: 139.7692307692308, &quot;z&quot;: 467639.76145225595}, {&quot;x&quot;: 91.41025641025647, &quot;y&quot;: 145.84615384615387, &quot;z&quot;: 495083.88474746345}, {&quot;x&quot;: 91.41025641025647, &quot;y&quot;: 151.92307692307693, &quot;z&quot;: 522528.00804267084}, {&quot;x&quot;: 91.41025641025647, &quot;y&quot;: 158.0, &quot;z&quot;: 549972.1313378783}, {&quot;x&quot;: 91.41025641025647, &quot;y&quot;: 164.07692307692307, &quot;z&quot;: 577416.2546330858}, {&quot;x&quot;: 91.41025641025647, &quot;y&quot;: 170.15384615384613, &quot;z&quot;: 604860.3779282933}, {&quot;x&quot;: 91.41025641025647, &quot;y&quot;: 176.2307692307692, &quot;z&quot;: 632304.5012235008}, {&quot;x&quot;: 91.41025641025647, &quot;y&quot;: 182.30769230769226, &quot;z&quot;: 659748.6245187081}, {&quot;x&quot;: 91.41025641025647, &quot;y&quot;: 188.38461538461533, &quot;z&quot;: 687192.7478139156}, {&quot;x&quot;: 91.41025641025647, &quot;y&quot;: 194.4615384615384, &quot;z&quot;: 714636.8711091231}, {&quot;x&quot;: 91.41025641025647, &quot;y&quot;: 200.53846153846146, &quot;z&quot;: 742080.9944043306}, {&quot;x&quot;: 91.41025641025647, &quot;y&quot;: 206.61538461538453, &quot;z&quot;: 769525.1176995381}, {&quot;x&quot;: 91.41025641025647, &quot;y&quot;: 212.6923076923076, &quot;z&quot;: 796969.2409947456}, {&quot;x&quot;: 91.41025641025647, &quot;y&quot;: 218.76923076923066, &quot;z&quot;: 824413.3642899529}, {&quot;x&quot;: 91.41025641025647, &quot;y&quot;: 224.84615384615373, &quot;z&quot;: 851857.4875851604}, {&quot;x&quot;: 91.41025641025647, &quot;y&quot;: 230.9230769230768, &quot;z&quot;: 879301.6108803679}, {&quot;x&quot;: 91.41025641025647, &quot;y&quot;: 237.0, &quot;z&quot;: 906745.7341755759}, {&quot;x&quot;: 94.35897435897442, &quot;y&quot;: 6.076923076923077, &quot;z&quot;: -142123.0899323387}, {&quot;x&quot;: 94.35897435897442, &quot;y&quot;: 0.0, &quot;z&quot;: -169567.21322754622}, {&quot;x&quot;: 94.35897435897442, &quot;y&quot;: 12.153846153846153, &quot;z&quot;: -114678.96663713118}, {&quot;x&quot;: 94.35897435897442, &quot;y&quot;: 18.23076923076923, &quot;z&quot;: -87234.84334192368}, {&quot;x&quot;: 94.35897435897442, &quot;y&quot;: 24.307692307692307, &quot;z&quot;: -59790.72004671616}, {&quot;x&quot;: 94.35897435897442, &quot;y&quot;: 30.384615384615383, &quot;z&quot;: -32346.596751508652}, {&quot;x&quot;: 94.35897435897442, &quot;y&quot;: 36.46153846153846, &quot;z&quot;: -4902.473456301144}, {&quot;x&quot;: 94.35897435897442, &quot;y&quot;: 42.53846153846153, &quot;z&quot;: 22541.649838906364}, {&quot;x&quot;: 94.35897435897442, &quot;y&quot;: 48.61538461538461, &quot;z&quot;: 49985.7731341139}, {&quot;x&quot;: 94.35897435897442, &quot;y&quot;: 54.69230769230769, &quot;z&quot;: 77429.89642932144}, {&quot;x&quot;: 94.35897435897442, &quot;y&quot;: 60.769230769230774, &quot;z&quot;: 104874.01972452897}, {&quot;x&quot;: 94.35897435897442, &quot;y&quot;: 66.84615384615385, &quot;z&quot;: 132318.14301973648}, {&quot;x&quot;: 94.35897435897442, &quot;y&quot;: 72.92307692307693, &quot;z&quot;: 159762.26631494405}, {&quot;x&quot;: 94.35897435897442, &quot;y&quot;: 79.00000000000001, &quot;z&quot;: 187206.38961015156}, {&quot;x&quot;: 94.35897435897442, &quot;y&quot;: 85.0769230769231, &quot;z&quot;: 214650.51290535906}, {&quot;x&quot;: 94.35897435897442, &quot;y&quot;: 91.15384615384617, &quot;z&quot;: 242094.63620056663}, {&quot;x&quot;: 94.35897435897442, &quot;y&quot;: 97.23076923076925, &quot;z&quot;: 269538.75949577417}, {&quot;x&quot;: 94.35897435897442, &quot;y&quot;: 103.30769230769234, &quot;z&quot;: 296982.88279098173}, {&quot;x&quot;: 94.35897435897442, &quot;y&quot;: 109.38461538461542, &quot;z&quot;: 324427.00608618924}, {&quot;x&quot;: 94.35897435897442, &quot;y&quot;: 115.4615384615385, &quot;z&quot;: 351871.12938139675}, {&quot;x&quot;: 94.35897435897442, &quot;y&quot;: 121.53846153846158, &quot;z&quot;: 379315.25267660426}, {&quot;x&quot;: 94.35897435897442, &quot;y&quot;: 127.61538461538466, &quot;z&quot;: 406759.37597181177}, {&quot;x&quot;: 94.35897435897442, &quot;y&quot;: 133.69230769230774, &quot;z&quot;: 434203.4992670193}, {&quot;x&quot;: 94.35897435897442, &quot;y&quot;: 139.7692307692308, &quot;z&quot;: 461647.6225622268}, {&quot;x&quot;: 94.35897435897442, &quot;y&quot;: 145.84615384615387, &quot;z&quot;: 489091.7458574343}, {&quot;x&quot;: 94.35897435897442, &quot;y&quot;: 151.92307692307693, &quot;z&quot;: 516535.8691526417}, {&quot;x&quot;: 94.35897435897442, &quot;y&quot;: 158.0, &quot;z&quot;: 543979.9924478491}, {&quot;x&quot;: 94.35897435897442, &quot;y&quot;: 164.07692307692307, &quot;z&quot;: 571424.1157430566}, {&quot;x&quot;: 94.35897435897442, &quot;y&quot;: 170.15384615384613, &quot;z&quot;: 598868.2390382641}, {&quot;x&quot;: 94.35897435897442, &quot;y&quot;: 176.2307692307692, &quot;z&quot;: 626312.3623334717}, {&quot;x&quot;: 94.35897435897442, &quot;y&quot;: 182.30769230769226, &quot;z&quot;: 653756.4856286789}, {&quot;x&quot;: 94.35897435897442, &quot;y&quot;: 188.38461538461533, &quot;z&quot;: 681200.6089238864}, {&quot;x&quot;: 94.35897435897442, &quot;y&quot;: 194.4615384615384, &quot;z&quot;: 708644.732219094}, {&quot;x&quot;: 94.35897435897442, &quot;y&quot;: 200.53846153846146, &quot;z&quot;: 736088.8555143015}, {&quot;x&quot;: 94.35897435897442, &quot;y&quot;: 206.61538461538453, &quot;z&quot;: 763532.978809509}, {&quot;x&quot;: 94.35897435897442, &quot;y&quot;: 212.6923076923076, &quot;z&quot;: 790977.1021047165}, {&quot;x&quot;: 94.35897435897442, &quot;y&quot;: 218.76923076923066, &quot;z&quot;: 818421.2253999237}, {&quot;x&quot;: 94.35897435897442, &quot;y&quot;: 224.84615384615373, &quot;z&quot;: 845865.3486951313}, {&quot;x&quot;: 94.35897435897442, &quot;y&quot;: 230.9230769230768, &quot;z&quot;: 873309.4719903388}, {&quot;x&quot;: 94.35897435897442, &quot;y&quot;: 237.0, &quot;z&quot;: 900753.5952855467}, {&quot;x&quot;: 97.30769230769238, &quot;y&quot;: 6.076923076923077, &quot;z&quot;: -148115.22882236785}, {&quot;x&quot;: 97.30769230769238, &quot;y&quot;: 0.0, &quot;z&quot;: -175559.35211757536}, {&quot;x&quot;: 97.30769230769238, &quot;y&quot;: 12.153846153846153, &quot;z&quot;: -120671.10552716034}, {&quot;x&quot;: 97.30769230769238, &quot;y&quot;: 18.23076923076923, &quot;z&quot;: -93226.98223195282}, {&quot;x&quot;: 97.30769230769238, &quot;y&quot;: 24.307692307692307, &quot;z&quot;: -65782.8589367453}, {&quot;x&quot;: 97.30769230769238, &quot;y&quot;: 30.384615384615383, &quot;z&quot;: -38338.73564153779}, {&quot;x&quot;: 97.30769230769238, &quot;y&quot;: 36.46153846153846, &quot;z&quot;: -10894.61234633028}, {&quot;x&quot;: 97.30769230769238, &quot;y&quot;: 42.53846153846153, &quot;z&quot;: 16549.51094887723}, {&quot;x&quot;: 97.30769230769238, &quot;y&quot;: 48.61538461538461, &quot;z&quot;: 43993.634244084766}, {&quot;x&quot;: 97.30769230769238, &quot;y&quot;: 54.69230769230769, &quot;z&quot;: 71437.7575392923}, {&quot;x&quot;: 97.30769230769238, &quot;y&quot;: 60.769230769230774, &quot;z&quot;: 98881.88083449984}, {&quot;x&quot;: 97.30769230769238, &quot;y&quot;: 66.84615384615385, &quot;z&quot;: 126326.00412970735}, {&quot;x&quot;: 97.30769230769238, &quot;y&quot;: 72.92307692307693, &quot;z&quot;: 153770.1274249149}, {&quot;x&quot;: 97.30769230769238, &quot;y&quot;: 79.00000000000001, &quot;z&quot;: 181214.25072012242}, {&quot;x&quot;: 97.30769230769238, &quot;y&quot;: 85.0769230769231, &quot;z&quot;: 208658.37401532993}, {&quot;x&quot;: 97.30769230769238, &quot;y&quot;: 91.15384615384617, &quot;z&quot;: 236102.4973105375}, {&quot;x&quot;: 97.30769230769238, &quot;y&quot;: 97.23076923076925, &quot;z&quot;: 263546.620605745}, {&quot;x&quot;: 97.30769230769238, &quot;y&quot;: 103.30769230769234, &quot;z&quot;: 290990.74390095257}, {&quot;x&quot;: 97.30769230769238, &quot;y&quot;: 109.38461538461542, &quot;z&quot;: 318434.8671961601}, {&quot;x&quot;: 97.30769230769238, &quot;y&quot;: 115.4615384615385, &quot;z&quot;: 345878.9904913676}, {&quot;x&quot;: 97.30769230769238, &quot;y&quot;: 121.53846153846158, &quot;z&quot;: 373323.11378657515}, {&quot;x&quot;: 97.30769230769238, &quot;y&quot;: 127.61538461538466, &quot;z&quot;: 400767.23708178266}, {&quot;x&quot;: 97.30769230769238, &quot;y&quot;: 133.69230769230774, &quot;z&quot;: 428211.36037699017}, {&quot;x&quot;: 97.30769230769238, &quot;y&quot;: 139.7692307692308, &quot;z&quot;: 455655.4836721977}, {&quot;x&quot;: 97.30769230769238, &quot;y&quot;: 145.84615384615387, &quot;z&quot;: 483099.6069674052}, {&quot;x&quot;: 97.30769230769238, &quot;y&quot;: 151.92307692307693, &quot;z&quot;: 510543.7302626126}, {&quot;x&quot;: 97.30769230769238, &quot;y&quot;: 158.0, &quot;z&quot;: 537987.8535578201}, {&quot;x&quot;: 97.30769230769238, &quot;y&quot;: 164.07692307692307, &quot;z&quot;: 565431.9768530275}, {&quot;x&quot;: 97.30769230769238, &quot;y&quot;: 170.15384615384613, &quot;z&quot;: 592876.100148235}, {&quot;x&quot;: 97.30769230769238, &quot;y&quot;: 176.2307692307692, &quot;z&quot;: 620320.2234434425}, {&quot;x&quot;: 97.30769230769238, &quot;y&quot;: 182.30769230769226, &quot;z&quot;: 647764.34673865}, {&quot;x&quot;: 97.30769230769238, &quot;y&quot;: 188.38461538461533, &quot;z&quot;: 675208.4700338575}, {&quot;x&quot;: 97.30769230769238, &quot;y&quot;: 194.4615384615384, &quot;z&quot;: 702652.593329065}, {&quot;x&quot;: 97.30769230769238, &quot;y&quot;: 200.53846153846146, &quot;z&quot;: 730096.7166242723}, {&quot;x&quot;: 97.30769230769238, &quot;y&quot;: 206.61538461538453, &quot;z&quot;: 757540.8399194798}, {&quot;x&quot;: 97.30769230769238, &quot;y&quot;: 212.6923076923076, &quot;z&quot;: 784984.9632146873}, {&quot;x&quot;: 97.30769230769238, &quot;y&quot;: 218.76923076923066, &quot;z&quot;: 812429.0865098948}, {&quot;x&quot;: 97.30769230769238, &quot;y&quot;: 224.84615384615373, &quot;z&quot;: 839873.2098051023}, {&quot;x&quot;: 97.30769230769238, &quot;y&quot;: 230.9230769230768, &quot;z&quot;: 867317.3331003098}, {&quot;x&quot;: 97.30769230769238, &quot;y&quot;: 237.0, &quot;z&quot;: 894761.4563955178}, {&quot;x&quot;: 100.25641025641033, &quot;y&quot;: 6.076923076923077, &quot;z&quot;: -154107.36771239698}, {&quot;x&quot;: 100.25641025641033, &quot;y&quot;: 0.0, &quot;z&quot;: -181551.4910076045}, {&quot;x&quot;: 100.25641025641033, &quot;y&quot;: 12.153846153846153, &quot;z&quot;: -126663.24441718945}, {&quot;x&quot;: 100.25641025641033, &quot;y&quot;: 18.23076923076923, &quot;z&quot;: -99219.12112198195}, {&quot;x&quot;: 100.25641025641033, &quot;y&quot;: 24.307692307692307, &quot;z&quot;: -71774.99782677443}, {&quot;x&quot;: 100.25641025641033, &quot;y&quot;: 30.384615384615383, &quot;z&quot;: -44330.87453156692}, {&quot;x&quot;: 100.25641025641033, &quot;y&quot;: 36.46153846153846, &quot;z&quot;: -16886.751236359414}, {&quot;x&quot;: 100.25641025641033, &quot;y&quot;: 42.53846153846153, &quot;z&quot;: 10557.372058848094}, {&quot;x&quot;: 100.25641025641033, &quot;y&quot;: 48.61538461538461, &quot;z&quot;: 38001.49535405563}, {&quot;x&quot;: 100.25641025641033, &quot;y&quot;: 54.69230769230769, &quot;z&quot;: 65445.61864926317}, {&quot;x&quot;: 100.25641025641033, &quot;y&quot;: 60.769230769230774, &quot;z&quot;: 92889.7419444707}, {&quot;x&quot;: 100.25641025641033, &quot;y&quot;: 66.84615384615385, &quot;z&quot;: 120333.86523967821}, {&quot;x&quot;: 100.25641025641033, &quot;y&quot;: 72.92307692307693, &quot;z&quot;: 147777.98853488578}, {&quot;x&quot;: 100.25641025641033, &quot;y&quot;: 79.00000000000001, &quot;z&quot;: 175222.1118300933}, {&quot;x&quot;: 100.25641025641033, &quot;y&quot;: 85.0769230769231, &quot;z&quot;: 202666.2351253008}, {&quot;x&quot;: 100.25641025641033, &quot;y&quot;: 91.15384615384617, &quot;z&quot;: 230110.35842050836}, {&quot;x&quot;: 100.25641025641033, &quot;y&quot;: 97.23076923076925, &quot;z&quot;: 257554.48171571587}, {&quot;x&quot;: 100.25641025641033, &quot;y&quot;: 103.30769230769234, &quot;z&quot;: 284998.6050109234}, {&quot;x&quot;: 100.25641025641033, &quot;y&quot;: 109.38461538461542, &quot;z&quot;: 312442.7283061309}, {&quot;x&quot;: 100.25641025641033, &quot;y&quot;: 115.4615384615385, &quot;z&quot;: 339886.8516013384}, {&quot;x&quot;: 100.25641025641033, &quot;y&quot;: 121.53846153846158, &quot;z&quot;: 367330.97489654605}, {&quot;x&quot;: 100.25641025641033, &quot;y&quot;: 127.61538461538466, &quot;z&quot;: 394775.09819175355}, {&quot;x&quot;: 100.25641025641033, &quot;y&quot;: 133.69230769230774, &quot;z&quot;: 422219.22148696106}, {&quot;x&quot;: 100.25641025641033, &quot;y&quot;: 139.7692307692308, &quot;z&quot;: 449663.34478216857}, {&quot;x&quot;: 100.25641025641033, &quot;y&quot;: 145.84615384615387, &quot;z&quot;: 477107.4680773761}, {&quot;x&quot;: 100.25641025641033, &quot;y&quot;: 151.92307692307693, &quot;z&quot;: 504551.59137258347}, {&quot;x&quot;: 100.25641025641033, &quot;y&quot;: 158.0, &quot;z&quot;: 531995.714667791}, {&quot;x&quot;: 100.25641025641033, &quot;y&quot;: 164.07692307692307, &quot;z&quot;: 559439.8379629983}, {&quot;x&quot;: 100.25641025641033, &quot;y&quot;: 170.15384615384613, &quot;z&quot;: 586883.9612582058}, {&quot;x&quot;: 100.25641025641033, &quot;y&quot;: 176.2307692307692, &quot;z&quot;: 614328.0845534133}, {&quot;x&quot;: 100.25641025641033, &quot;y&quot;: 182.30769230769226, &quot;z&quot;: 641772.2078486208}, {&quot;x&quot;: 100.25641025641033, &quot;y&quot;: 188.38461538461533, &quot;z&quot;: 669216.3311438283}, {&quot;x&quot;: 100.25641025641033, &quot;y&quot;: 194.4615384615384, &quot;z&quot;: 696660.4544390358}, {&quot;x&quot;: 100.25641025641033, &quot;y&quot;: 200.53846153846146, &quot;z&quot;: 724104.5777342431}, {&quot;x&quot;: 100.25641025641033, &quot;y&quot;: 206.61538461538453, &quot;z&quot;: 751548.7010294506}, {&quot;x&quot;: 100.25641025641033, &quot;y&quot;: 212.6923076923076, &quot;z&quot;: 778992.8243246581}, {&quot;x&quot;: 100.25641025641033, &quot;y&quot;: 218.76923076923066, &quot;z&quot;: 806436.9476198656}, {&quot;x&quot;: 100.25641025641033, &quot;y&quot;: 224.84615384615373, &quot;z&quot;: 833881.0709150732}, {&quot;x&quot;: 100.25641025641033, &quot;y&quot;: 230.9230769230768, &quot;z&quot;: 861325.1942102807}, {&quot;x&quot;: 100.25641025641033, &quot;y&quot;: 237.0, &quot;z&quot;: 888769.3175054886}, {&quot;x&quot;: 103.20512820512829, &quot;y&quot;: 6.076923076923077, &quot;z&quot;: -160099.50660242612}, {&quot;x&quot;: 103.20512820512829, &quot;y&quot;: 0.0, &quot;z&quot;: -187543.62989763363}, {&quot;x&quot;: 103.20512820512829, &quot;y&quot;: 12.153846153846153, &quot;z&quot;: -132655.3833072186}, {&quot;x&quot;: 103.20512820512829, &quot;y&quot;: 18.23076923076923, &quot;z&quot;: -105211.26001201109}, {&quot;x&quot;: 103.20512820512829, &quot;y&quot;: 24.307692307692307, &quot;z&quot;: -77767.13671680356}, {&quot;x&quot;: 103.20512820512829, &quot;y&quot;: 30.384615384615383, &quot;z&quot;: -50323.01342159606}, {&quot;x&quot;: 103.20512820512829, &quot;y&quot;: 36.46153846153846, &quot;z&quot;: -22878.89012638855}, {&quot;x&quot;: 103.20512820512829, &quot;y&quot;: 42.53846153846153, &quot;z&quot;: 4565.233168818959}, {&quot;x&quot;: 103.20512820512829, &quot;y&quot;: 48.61538461538461, &quot;z&quot;: 32009.356464026496}, {&quot;x&quot;: 103.20512820512829, &quot;y&quot;: 54.69230769230769, &quot;z&quot;: 59453.47975923403}, {&quot;x&quot;: 103.20512820512829, &quot;y&quot;: 60.769230769230774, &quot;z&quot;: 86897.60305444157}, {&quot;x&quot;: 103.20512820512829, &quot;y&quot;: 66.84615384615385, &quot;z&quot;: 114341.72634964908}, {&quot;x&quot;: 103.20512820512829, &quot;y&quot;: 72.92307692307693, &quot;z&quot;: 141785.84964485664}, {&quot;x&quot;: 103.20512820512829, &quot;y&quot;: 79.00000000000001, &quot;z&quot;: 169229.97294006415}, {&quot;x&quot;: 103.20512820512829, &quot;y&quot;: 85.0769230769231, &quot;z&quot;: 196674.09623527166}, {&quot;x&quot;: 103.20512820512829, &quot;y&quot;: 91.15384615384617, &quot;z&quot;: 224118.21953047923}, {&quot;x&quot;: 103.20512820512829, &quot;y&quot;: 97.23076923076925, &quot;z&quot;: 251562.34282568673}, {&quot;x&quot;: 103.20512820512829, &quot;y&quot;: 103.30769230769234, &quot;z&quot;: 279006.4661208943}, {&quot;x&quot;: 103.20512820512829, &quot;y&quot;: 109.38461538461542, &quot;z&quot;: 306450.5894161018}, {&quot;x&quot;: 103.20512820512829, &quot;y&quot;: 115.4615384615385, &quot;z&quot;: 333894.7127113093}, {&quot;x&quot;: 103.20512820512829, &quot;y&quot;: 121.53846153846158, &quot;z&quot;: 361338.8360065169}, {&quot;x&quot;: 103.20512820512829, &quot;y&quot;: 127.61538461538466, &quot;z&quot;: 388782.9593017244}, {&quot;x&quot;: 103.20512820512829, &quot;y&quot;: 133.69230769230774, &quot;z&quot;: 416227.0825969319}, {&quot;x&quot;: 103.20512820512829, &quot;y&quot;: 139.7692307692308, &quot;z&quot;: 443671.2058921394}, {&quot;x&quot;: 103.20512820512829, &quot;y&quot;: 145.84615384615387, &quot;z&quot;: 471115.3291873469}, {&quot;x&quot;: 103.20512820512829, &quot;y&quot;: 151.92307692307693, &quot;z&quot;: 498559.4524825543}, {&quot;x&quot;: 103.20512820512829, &quot;y&quot;: 158.0, &quot;z&quot;: 526003.5757777619}, {&quot;x&quot;: 103.20512820512829, &quot;y&quot;: 164.07692307692307, &quot;z&quot;: 553447.6990729691}, {&quot;x&quot;: 103.20512820512829, &quot;y&quot;: 170.15384615384613, &quot;z&quot;: 580891.8223681767}, {&quot;x&quot;: 103.20512820512829, &quot;y&quot;: 176.2307692307692, &quot;z&quot;: 608335.9456633842}, {&quot;x&quot;: 103.20512820512829, &quot;y&quot;: 182.30769230769226, &quot;z&quot;: 635780.0689585917}, {&quot;x&quot;: 103.20512820512829, &quot;y&quot;: 188.38461538461533, &quot;z&quot;: 663224.1922537992}, {&quot;x&quot;: 103.20512820512829, &quot;y&quot;: 194.4615384615384, &quot;z&quot;: 690668.3155490067}, {&quot;x&quot;: 103.20512820512829, &quot;y&quot;: 200.53846153846146, &quot;z&quot;: 718112.438844214}, {&quot;x&quot;: 103.20512820512829, &quot;y&quot;: 206.61538461538453, &quot;z&quot;: 745556.5621394215}, {&quot;x&quot;: 103.20512820512829, &quot;y&quot;: 212.6923076923076, &quot;z&quot;: 773000.685434629}, {&quot;x&quot;: 103.20512820512829, &quot;y&quot;: 218.76923076923066, &quot;z&quot;: 800444.8087298365}, {&quot;x&quot;: 103.20512820512829, &quot;y&quot;: 224.84615384615373, &quot;z&quot;: 827888.932025044}, {&quot;x&quot;: 103.20512820512829, &quot;y&quot;: 230.9230769230768, &quot;z&quot;: 855333.0553202515}, {&quot;x&quot;: 103.20512820512829, &quot;y&quot;: 237.0, &quot;z&quot;: 882777.1786154595}, {&quot;x&quot;: 106.15384615384625, &quot;y&quot;: 6.076923076923077, &quot;z&quot;: -166091.64549245525}, {&quot;x&quot;: 106.15384615384625, &quot;y&quot;: 0.0, &quot;z&quot;: -193535.76878766276}, {&quot;x&quot;: 106.15384615384625, &quot;y&quot;: 12.153846153846153, &quot;z&quot;: -138647.52219724772}, {&quot;x&quot;: 106.15384615384625, &quot;y&quot;: 18.23076923076923, &quot;z&quot;: -111203.39890204021}, {&quot;x&quot;: 106.15384615384625, &quot;y&quot;: 24.307692307692307, &quot;z&quot;: -83759.2756068327}, {&quot;x&quot;: 106.15384615384625, &quot;y&quot;: 30.384615384615383, &quot;z&quot;: -56315.15231162519}, {&quot;x&quot;: 106.15384615384625, &quot;y&quot;: 36.46153846153846, &quot;z&quot;: -28871.029016417684}, {&quot;x&quot;: 106.15384615384625, &quot;y&quot;: 42.53846153846153, &quot;z&quot;: -1426.9057212101761}, {&quot;x&quot;: 106.15384615384625, &quot;y&quot;: 48.61538461538461, &quot;z&quot;: 26017.21757399736}, {&quot;x&quot;: 106.15384615384625, &quot;y&quot;: 54.69230769230769, &quot;z&quot;: 53461.3408692049}, {&quot;x&quot;: 106.15384615384625, &quot;y&quot;: 60.769230769230774, &quot;z&quot;: 80905.46416441243}, {&quot;x&quot;: 106.15384615384625, &quot;y&quot;: 66.84615384615385, &quot;z&quot;: 108349.58745961994}, {&quot;x&quot;: 106.15384615384625, &quot;y&quot;: 72.92307692307693, &quot;z&quot;: 135793.7107548275}, {&quot;x&quot;: 106.15384615384625, &quot;y&quot;: 79.00000000000001, &quot;z&quot;: 163237.83405003502}, {&quot;x&quot;: 106.15384615384625, &quot;y&quot;: 85.0769230769231, &quot;z&quot;: 190681.95734524252}, {&quot;x&quot;: 106.15384615384625, &quot;y&quot;: 91.15384615384617, &quot;z&quot;: 218126.0806404501}, {&quot;x&quot;: 106.15384615384625, &quot;y&quot;: 97.23076923076925, &quot;z&quot;: 245570.2039356576}, {&quot;x&quot;: 106.15384615384625, &quot;y&quot;: 103.30769230769234, &quot;z&quot;: 273014.32723086514}, {&quot;x&quot;: 106.15384615384625, &quot;y&quot;: 109.38461538461542, &quot;z&quot;: 300458.4505260727}, {&quot;x&quot;: 106.15384615384625, &quot;y&quot;: 115.4615384615385, &quot;z&quot;: 327902.5738212802}, {&quot;x&quot;: 106.15384615384625, &quot;y&quot;: 121.53846153846158, &quot;z&quot;: 355346.6971164877}, {&quot;x&quot;: 106.15384615384625, &quot;y&quot;: 127.61538461538466, &quot;z&quot;: 382790.8204116952}, {&quot;x&quot;: 106.15384615384625, &quot;y&quot;: 133.69230769230774, &quot;z&quot;: 410234.94370690273}, {&quot;x&quot;: 106.15384615384625, &quot;y&quot;: 139.7692307692308, &quot;z&quot;: 437679.06700211024}, {&quot;x&quot;: 106.15384615384625, &quot;y&quot;: 145.84615384615387, &quot;z&quot;: 465123.19029731775}, {&quot;x&quot;: 106.15384615384625, &quot;y&quot;: 151.92307692307693, &quot;z&quot;: 492567.31359252514}, {&quot;x&quot;: 106.15384615384625, &quot;y&quot;: 158.0, &quot;z&quot;: 520011.43688773265}, {&quot;x&quot;: 106.15384615384625, &quot;y&quot;: 164.07692307692307, &quot;z&quot;: 547455.56018294}, {&quot;x&quot;: 106.15384615384625, &quot;y&quot;: 170.15384615384613, &quot;z&quot;: 574899.6834781475}, {&quot;x&quot;: 106.15384615384625, &quot;y&quot;: 176.2307692307692, &quot;z&quot;: 602343.806773355}, {&quot;x&quot;: 106.15384615384625, &quot;y&quot;: 182.30769230769226, &quot;z&quot;: 629787.9300685625}, {&quot;x&quot;: 106.15384615384625, &quot;y&quot;: 188.38461538461533, &quot;z&quot;: 657232.05336377}, {&quot;x&quot;: 106.15384615384625, &quot;y&quot;: 194.4615384615384, &quot;z&quot;: 684676.1766589775}, {&quot;x&quot;: 106.15384615384625, &quot;y&quot;: 200.53846153846146, &quot;z&quot;: 712120.2999541848}, {&quot;x&quot;: 106.15384615384625, &quot;y&quot;: 206.61538461538453, &quot;z&quot;: 739564.4232493923}, {&quot;x&quot;: 106.15384615384625, &quot;y&quot;: 212.6923076923076, &quot;z&quot;: 767008.5465445998}, {&quot;x&quot;: 106.15384615384625, &quot;y&quot;: 218.76923076923066, &quot;z&quot;: 794452.6698398073}, {&quot;x&quot;: 106.15384615384625, &quot;y&quot;: 224.84615384615373, &quot;z&quot;: 821896.7931350148}, {&quot;x&quot;: 106.15384615384625, &quot;y&quot;: 230.9230769230768, &quot;z&quot;: 849340.9164302223}, {&quot;x&quot;: 106.15384615384625, &quot;y&quot;: 237.0, &quot;z&quot;: 876785.0397254303}, {&quot;x&quot;: 109.1025641025642, &quot;y&quot;: 6.076923076923077, &quot;z&quot;: -172083.7843824844}, {&quot;x&quot;: 109.1025641025642, &quot;y&quot;: 0.0, &quot;z&quot;: -199527.9076776919}, {&quot;x&quot;: 109.1025641025642, &quot;y&quot;: 12.153846153846153, &quot;z&quot;: -144639.66108727688}, {&quot;x&quot;: 109.1025641025642, &quot;y&quot;: 18.23076923076923, &quot;z&quot;: -117195.53779206937}, {&quot;x&quot;: 109.1025641025642, &quot;y&quot;: 24.307692307692307, &quot;z&quot;: -89751.41449686183}, {&quot;x&quot;: 109.1025641025642, &quot;y&quot;: 30.384615384615383, &quot;z&quot;: -62307.29120165433}, {&quot;x&quot;: 109.1025641025642, &quot;y&quot;: 36.46153846153846, &quot;z&quot;: -34863.16790644682}, {&quot;x&quot;: 109.1025641025642, &quot;y&quot;: 42.53846153846153, &quot;z&quot;: -7419.044611239311}, {&quot;x&quot;: 109.1025641025642, &quot;y&quot;: 48.61538461538461, &quot;z&quot;: 20025.078683968226}, {&quot;x&quot;: 109.1025641025642, &quot;y&quot;: 54.69230769230769, &quot;z&quot;: 47469.20197917576}, {&quot;x&quot;: 109.1025641025642, &quot;y&quot;: 60.769230769230774, &quot;z&quot;: 74913.3252743833}, {&quot;x&quot;: 109.1025641025642, &quot;y&quot;: 66.84615384615385, &quot;z&quot;: 102357.44856959081}, {&quot;x&quot;: 109.1025641025642, &quot;y&quot;: 72.92307692307693, &quot;z&quot;: 129801.57186479837}, {&quot;x&quot;: 109.1025641025642, &quot;y&quot;: 79.00000000000001, &quot;z&quot;: 157245.69516000588}, {&quot;x&quot;: 109.1025641025642, &quot;y&quot;: 85.0769230769231, &quot;z&quot;: 184689.8184552134}, {&quot;x&quot;: 109.1025641025642, &quot;y&quot;: 91.15384615384617, &quot;z&quot;: 212133.94175042096}, {&quot;x&quot;: 109.1025641025642, &quot;y&quot;: 97.23076923076925, &quot;z&quot;: 239578.06504562846}, {&quot;x&quot;: 109.1025641025642, &quot;y&quot;: 103.30769230769234, &quot;z&quot;: 267022.18834083603}, {&quot;x&quot;: 109.1025641025642, &quot;y&quot;: 109.38461538461542, &quot;z&quot;: 294466.31163604354}, {&quot;x&quot;: 109.1025641025642, &quot;y&quot;: 115.4615384615385, &quot;z&quot;: 321910.43493125105}, {&quot;x&quot;: 109.1025641025642, &quot;y&quot;: 121.53846153846158, &quot;z&quot;: 349354.5582264586}, {&quot;x&quot;: 109.1025641025642, &quot;y&quot;: 127.61538461538466, &quot;z&quot;: 376798.6815216661}, {&quot;x&quot;: 109.1025641025642, &quot;y&quot;: 133.69230769230774, &quot;z&quot;: 404242.8048168736}, {&quot;x&quot;: 109.1025641025642, &quot;y&quot;: 139.7692307692308, &quot;z&quot;: 431686.92811208114}, {&quot;x&quot;: 109.1025641025642, &quot;y&quot;: 145.84615384615387, &quot;z&quot;: 459131.05140728864}, {&quot;x&quot;: 109.1025641025642, &quot;y&quot;: 151.92307692307693, &quot;z&quot;: 486575.17470249604}, {&quot;x&quot;: 109.1025641025642, &quot;y&quot;: 158.0, &quot;z&quot;: 514019.29799770354}, {&quot;x&quot;: 109.1025641025642, &quot;y&quot;: 164.07692307692307, &quot;z&quot;: 541463.4212929109}, {&quot;x&quot;: 109.1025641025642, &quot;y&quot;: 170.15384615384613, &quot;z&quot;: 568907.5445881186}, {&quot;x&quot;: 109.1025641025642, &quot;y&quot;: 176.2307692307692, &quot;z&quot;: 596351.6678833261}, {&quot;x&quot;: 109.1025641025642, &quot;y&quot;: 182.30769230769226, &quot;z&quot;: 623795.7911785333}, {&quot;x&quot;: 109.1025641025642, &quot;y&quot;: 188.38461538461533, &quot;z&quot;: 651239.9144737408}, {&quot;x&quot;: 109.1025641025642, &quot;y&quot;: 194.4615384615384, &quot;z&quot;: 678684.0377689484}, {&quot;x&quot;: 109.1025641025642, &quot;y&quot;: 200.53846153846146, &quot;z&quot;: 706128.1610641559}, {&quot;x&quot;: 109.1025641025642, &quot;y&quot;: 206.61538461538453, &quot;z&quot;: 733572.2843593634}, {&quot;x&quot;: 109.1025641025642, &quot;y&quot;: 212.6923076923076, &quot;z&quot;: 761016.4076545709}, {&quot;x&quot;: 109.1025641025642, &quot;y&quot;: 218.76923076923066, &quot;z&quot;: 788460.5309497782}, {&quot;x&quot;: 109.1025641025642, &quot;y&quot;: 224.84615384615373, &quot;z&quot;: 815904.6542449857}, {&quot;x&quot;: 109.1025641025642, &quot;y&quot;: 230.9230769230768, &quot;z&quot;: 843348.7775401932}, {&quot;x&quot;: 109.1025641025642, &quot;y&quot;: 237.0, &quot;z&quot;: 870792.9008354011}, {&quot;x&quot;: 112.05128205128216, &quot;y&quot;: 6.076923076923077, &quot;z&quot;: -178075.92327251352}, {&quot;x&quot;: 112.05128205128216, &quot;y&quot;: 0.0, &quot;z&quot;: -205520.04656772103}, {&quot;x&quot;: 112.05128205128216, &quot;y&quot;: 12.153846153846153, &quot;z&quot;: -150631.799977306}, {&quot;x&quot;: 112.05128205128216, &quot;y&quot;: 18.23076923076923, &quot;z&quot;: -123187.67668209848}, {&quot;x&quot;: 112.05128205128216, &quot;y&quot;: 24.307692307692307, &quot;z&quot;: -95743.55338689097}, {&quot;x&quot;: 112.05128205128216, &quot;y&quot;: 30.384615384615383, &quot;z&quot;: -68299.43009168346}, {&quot;x&quot;: 112.05128205128216, &quot;y&quot;: 36.46153846153846, &quot;z&quot;: -40855.306796475954}, {&quot;x&quot;: 112.05128205128216, &quot;y&quot;: 42.53846153846153, &quot;z&quot;: -13411.183501268446}, {&quot;x&quot;: 112.05128205128216, &quot;y&quot;: 48.61538461538461, &quot;z&quot;: 14032.939793939091}, {&quot;x&quot;: 112.05128205128216, &quot;y&quot;: 54.69230769230769, &quot;z&quot;: 41477.06308914663}, {&quot;x&quot;: 112.05128205128216, &quot;y&quot;: 60.769230769230774, &quot;z&quot;: 68921.18638435417}, {&quot;x&quot;: 112.05128205128216, &quot;y&quot;: 66.84615384615385, &quot;z&quot;: 96365.30967956167}, {&quot;x&quot;: 112.05128205128216, &quot;y&quot;: 72.92307692307693, &quot;z&quot;: 123809.43297476924}, {&quot;x&quot;: 112.05128205128216, &quot;y&quot;: 79.00000000000001, &quot;z&quot;: 151253.55626997675}, {&quot;x&quot;: 112.05128205128216, &quot;y&quot;: 85.0769230769231, &quot;z&quot;: 178697.67956518425}, {&quot;x&quot;: 112.05128205128216, &quot;y&quot;: 91.15384615384617, &quot;z&quot;: 206141.80286039182}, {&quot;x&quot;: 112.05128205128216, &quot;y&quot;: 97.23076923076925, &quot;z&quot;: 233585.92615559933}, {&quot;x&quot;: 112.05128205128216, &quot;y&quot;: 103.30769230769234, &quot;z&quot;: 261030.0494508069}, {&quot;x&quot;: 112.05128205128216, &quot;y&quot;: 109.38461538461542, &quot;z&quot;: 288474.1727460144}, {&quot;x&quot;: 112.05128205128216, &quot;y&quot;: 115.4615384615385, &quot;z&quot;: 315918.2960412219}, {&quot;x&quot;: 112.05128205128216, &quot;y&quot;: 121.53846153846158, &quot;z&quot;: 343362.4193364295}, {&quot;x&quot;: 112.05128205128216, &quot;y&quot;: 127.61538461538466, &quot;z&quot;: 370806.542631637}, {&quot;x&quot;: 112.05128205128216, &quot;y&quot;: 133.69230769230774, &quot;z&quot;: 398250.6659268445}, {&quot;x&quot;: 112.05128205128216, &quot;y&quot;: 139.7692307692308, &quot;z&quot;: 425694.78922205203}, {&quot;x&quot;: 112.05128205128216, &quot;y&quot;: 145.84615384615387, &quot;z&quot;: 453138.91251725954}, {&quot;x&quot;: 112.05128205128216, &quot;y&quot;: 151.92307692307693, &quot;z&quot;: 480583.03581246693}, {&quot;x&quot;: 112.05128205128216, &quot;y&quot;: 158.0, &quot;z&quot;: 508027.15910767444}, {&quot;x&quot;: 112.05128205128216, &quot;y&quot;: 164.07692307692307, &quot;z&quot;: 535471.2824028819}, {&quot;x&quot;: 112.05128205128216, &quot;y&quot;: 170.15384615384613, &quot;z&quot;: 562915.4056980894}, {&quot;x&quot;: 112.05128205128216, &quot;y&quot;: 176.2307692307692, &quot;z&quot;: 590359.5289932969}, {&quot;x&quot;: 112.05128205128216, &quot;y&quot;: 182.30769230769226, &quot;z&quot;: 617803.6522885042}, {&quot;x&quot;: 112.05128205128216, &quot;y&quot;: 188.38461538461533, &quot;z&quot;: 645247.7755837117}, {&quot;x&quot;: 112.05128205128216, &quot;y&quot;: 194.4615384615384, &quot;z&quot;: 672691.8988789192}, {&quot;x&quot;: 112.05128205128216, &quot;y&quot;: 200.53846153846146, &quot;z&quot;: 700136.0221741267}, {&quot;x&quot;: 112.05128205128216, &quot;y&quot;: 206.61538461538453, &quot;z&quot;: 727580.1454693342}, {&quot;x&quot;: 112.05128205128216, &quot;y&quot;: 212.6923076923076, &quot;z&quot;: 755024.2687645417}, {&quot;x&quot;: 112.05128205128216, &quot;y&quot;: 218.76923076923066, &quot;z&quot;: 782468.392059749}, {&quot;x&quot;: 112.05128205128216, &quot;y&quot;: 224.84615384615373, &quot;z&quot;: 809912.5153549565}, {&quot;x&quot;: 112.05128205128216, &quot;y&quot;: 230.9230769230768, &quot;z&quot;: 837356.638650164}, {&quot;x&quot;: 112.05128205128216, &quot;y&quot;: 237.0, &quot;z&quot;: 864800.761945372}, {&quot;x&quot;: 115.0, &quot;y&quot;: 6.076923076923077, &quot;z&quot;: -184068.06216254242}, {&quot;x&quot;: 115.0, &quot;y&quot;: 0.0, &quot;z&quot;: -211512.18545774993}, {&quot;x&quot;: 115.0, &quot;y&quot;: 12.153846153846153, &quot;z&quot;: -156623.93886733492}, {&quot;x&quot;: 115.0, &quot;y&quot;: 18.23076923076923, &quot;z&quot;: -129179.81557212741}, {&quot;x&quot;: 115.0, &quot;y&quot;: 24.307692307692307, &quot;z&quot;: -101735.69227691987}, {&quot;x&quot;: 115.0, &quot;y&quot;: 30.384615384615383, &quot;z&quot;: -74291.56898171236}, {&quot;x&quot;: 115.0, &quot;y&quot;: 36.46153846153846, &quot;z&quot;: -46847.445686504856}, {&quot;x&quot;: 115.0, &quot;y&quot;: 42.53846153846153, &quot;z&quot;: -19403.322391297348}, {&quot;x&quot;: 115.0, &quot;y&quot;: 48.61538461538461, &quot;z&quot;: 8040.800903910189}, {&quot;x&quot;: 115.0, &quot;y&quot;: 54.69230769230769, &quot;z&quot;: 35484.924199117726}, {&quot;x&quot;: 115.0, &quot;y&quot;: 60.769230769230774, &quot;z&quot;: 62929.04749432526}, {&quot;x&quot;: 115.0, &quot;y&quot;: 66.84615384615385, &quot;z&quot;: 90373.17078953277}, {&quot;x&quot;: 115.0, &quot;y&quot;: 72.92307692307693, &quot;z&quot;: 117817.29408474034}, {&quot;x&quot;: 115.0, &quot;y&quot;: 79.00000000000001, &quot;z&quot;: 145261.41737994784}, {&quot;x&quot;: 115.0, &quot;y&quot;: 85.0769230769231, &quot;z&quot;: 172705.54067515535}, {&quot;x&quot;: 115.0, &quot;y&quot;: 91.15384615384617, &quot;z&quot;: 200149.66397036292}, {&quot;x&quot;: 115.0, &quot;y&quot;: 97.23076923076925, &quot;z&quot;: 227593.78726557043}, {&quot;x&quot;: 115.0, &quot;y&quot;: 103.30769230769234, &quot;z&quot;: 255037.910560778}, {&quot;x&quot;: 115.0, &quot;y&quot;: 109.38461538461542, &quot;z&quot;: 282482.0338559855}, {&quot;x&quot;: 115.0, &quot;y&quot;: 115.4615384615385, &quot;z&quot;: 309926.157151193}, {&quot;x&quot;: 115.0, &quot;y&quot;: 121.53846153846158, &quot;z&quot;: 337370.2804464006}, {&quot;x&quot;: 115.0, &quot;y&quot;: 127.61538461538466, &quot;z&quot;: 364814.4037416081}, {&quot;x&quot;: 115.0, &quot;y&quot;: 133.69230769230774, &quot;z&quot;: 392258.5270368156}, {&quot;x&quot;: 115.0, &quot;y&quot;: 139.7692307692308, &quot;z&quot;: 419702.6503320231}, {&quot;x&quot;: 115.0, &quot;y&quot;: 145.84615384615387, &quot;z&quot;: 447146.7736272306}, {&quot;x&quot;: 115.0, &quot;y&quot;: 151.92307692307693, &quot;z&quot;: 474590.896922438}, {&quot;x&quot;: 115.0, &quot;y&quot;: 158.0, &quot;z&quot;: 502035.0202176455}, {&quot;x&quot;: 115.0, &quot;y&quot;: 164.07692307692307, &quot;z&quot;: 529479.143512853}, {&quot;x&quot;: 115.0, &quot;y&quot;: 170.15384615384613, &quot;z&quot;: 556923.2668080605}, {&quot;x&quot;: 115.0, &quot;y&quot;: 176.2307692307692, &quot;z&quot;: 584367.390103268}, {&quot;x&quot;: 115.0, &quot;y&quot;: 182.30769230769226, &quot;z&quot;: 611811.5133984752}, {&quot;x&quot;: 115.0, &quot;y&quot;: 188.38461538461533, &quot;z&quot;: 639255.6366936828}, {&quot;x&quot;: 115.0, &quot;y&quot;: 194.4615384615384, &quot;z&quot;: 666699.7599888903}, {&quot;x&quot;: 115.0, &quot;y&quot;: 200.53846153846146, &quot;z&quot;: 694143.8832840978}, {&quot;x&quot;: 115.0, &quot;y&quot;: 206.61538461538453, &quot;z&quot;: 721588.0065793053}, {&quot;x&quot;: 115.0, &quot;y&quot;: 212.6923076923076, &quot;z&quot;: 749032.1298745128}, {&quot;x&quot;: 115.0, &quot;y&quot;: 218.76923076923066, &quot;z&quot;: 776476.2531697201}, {&quot;x&quot;: 115.0, &quot;y&quot;: 224.84615384615373, &quot;z&quot;: 803920.3764649276}, {&quot;x&quot;: 115.0, &quot;y&quot;: 230.9230769230768, &quot;z&quot;: 831364.4997601351}, {&quot;x&quot;: 115.0, &quot;y&quot;: 237.0, &quot;z&quot;: 858808.623055343}], &quot;faces&quot;: [[0, 1, 2, 3], [1, 4, 5, 2], [4, 6, 7, 5], [6, 8, 9, 7], [8, 10, 11, 9], [10, 12, 13, 11], [12, 14, 15, 13], [14, 16, 17, 15], [16, 18, 19, 17], [18, 20, 21, 19], [20, 22, 23, 21], [22, 24, 25, 23], [24, 26, 27, 25], [26, 28, 29, 27], [28, 30, 31, 29], [30, 32, 33, 31], [32, 34, 35, 33], [34, 36, 37, 35], [36, 38, 39, 37], [38, 40, 41, 39], [40, 42, 43, 41], [42, 44, 45, 43], [44, 46, 47, 45], [46, 48, 49, 47], [48, 50, 51, 49], [50, 52, 53, 51], [52, 54, 55, 53], [54, 56, 57, 55], [56, 58, 59, 57], [58, 60, 61, 59], [60, 62, 63, 61], [62, 64, 65, 63], [64, 66, 67, 65], [66, 68, 69, 67], [68, 70, 71, 69], [70, 72, 73, 71], [72, 74, 75, 73], [74, 76, 77, 75], [76, 78, 79, 77], [3, 2, 80, 81], [2, 5, 82, 80], [5, 7, 83, 82], [7, 9, 84, 83], [9, 11, 85, 84], [11, 13, 86, 85], [13, 15, 87, 86], [15, 17, 88, 87], [17, 19, 89, 88], [19, 21, 90, 89], [21, 23, 91, 90], [23, 25, 92, 91], [25, 27, 93, 92], [27, 29, 94, 93], [29, 31, 95, 94], [31, 33, 96, 95], [33, 35, 97, 96], [35, 37, 98, 97], [37, 39, 99, 98], [39, 41, 100, 99], [41, 43, 101, 100], [43, 45, 102, 101], [45, 47, 103, 102], [47, 49, 104, 103], [49, 51, 105, 104], [51, 53, 106, 105], [53, 55, 107, 106], [55, 57, 108, 107], [57, 59, 109, 108], [59, 61, 110, 109], [61, 63, 111, 110], [63, 65, 112, 111], [65, 67, 113, 112], [67, 69, 114, 113], [69, 71, 115, 114], [71, 73, 116, 115], [73, 75, 117, 116], [75, 77, 118, 117], [77, 79, 119, 118], [81, 80, 120, 121], [80, 82, 122, 120], [82, 83, 123, 122], [83, 84, 124, 123], [84, 85, 125, 124], [85, 86, 126, 125], [86, 87, 127, 126], [87, 88, 128, 127], [88, 89, 129, 128], [89, 90, 130, 129], [90, 91, 131, 130], [91, 92, 132, 131], [92, 93, 133, 132], [93, 94, 134, 133], [94, 95, 135, 134], [95, 96, 136, 135], [96, 97, 137, 136], [97, 98, 138, 137], [98, 99, 139, 138], [99, 100, 140, 139], [100, 101, 141, 140], [101, 102, 142, 141], [102, 103, 143, 142], [103, 104, 144, 143], [104, 105, 145, 144], [105, 106, 146, 145], [106, 107, 147, 146], [107, 108, 148, 147], [108, 109, 149, 148], [109, 110, 150, 149], [110, 111, 151, 150], [111, 112, 152, 151], [112, 113, 153, 152], [113, 114, 154, 153], [114, 115, 155, 154], [115, 116, 156, 155], [116, 117, 157, 156], [117, 118, 158, 157], [118, 119, 159, 158], [121, 120, 160, 161], [120, 122, 162, 160], [122, 123, 163, 162], [123, 124, 164, 163], [124, 125, 165, 164], [125, 126, 166, 165], [126, 127, 167, 166], [127, 128, 168, 167], [128, 129, 169, 168], [129, 130, 170, 169], [130, 131, 171, 170], [131, 132, 172, 171], [132, 133, 173, 172], [133, 134, 174, 173], [134, 135, 175, 174], [135, 136, 176, 175], [136, 137, 177, 176], [137, 138, 178, 177], [138, 139, 179, 178], [139, 140, 180, 179], [140, 141, 181, 180], [141, 142, 182, 181], [142, 143, 183, 182], [143, 144, 184, 183], [144, 145, 185, 184], [145, 146, 186, 185], [146, 147, 187, 186], [147, 148, 188, 187], [148, 149, 189, 188], [149, 150, 190, 189], [150, 151, 191, 190], [151, 152, 192, 191], [152, 153, 193, 192], [153, 154, 194, 193], [154, 155, 195, 194], [155, 156, 196, 195], [156, 157, 197, 196], [157, 158, 198, 197], [158, 159, 199, 198], [161, 160, 200, 201], [160, 162, 202, 200], [162, 163, 203, 202], [163, 164, 204, 203], [164, 165, 205, 204], [165, 166, 206, 205], [166, 167, 207, 206], [167, 168, 208, 207], [168, 169, 209, 208], [169, 170, 210, 209], [170, 171, 211, 210], [171, 172, 212, 211], [172, 173, 213, 212], [173, 174, 214, 213], [174, 175, 215, 214], [175, 176, 216, 215], [176, 177, 217, 216], [177, 178, 218, 217], [178, 179, 219, 218], [179, 180, 220, 219], [180, 181, 221, 220], [181, 182, 222, 221], [182, 183, 223, 222], [183, 184, 224, 223], [184, 185, 225, 224], [185, 186, 226, 225], [186, 187, 227, 226], [187, 188, 228, 227], [188, 189, 229, 228], [189, 190, 230, 229], [190, 191, 231, 230], [191, 192, 232, 231], [192, 193, 233, 232], [193, 194, 234, 233], [194, 195, 235, 234], [195, 196, 236, 235], [196, 197, 237, 236], [197, 198, 238, 237], [198, 199, 239, 238], [201, 200, 240, 241], [200, 202, 242, 240], [202, 203, 243, 242], [203, 204, 244, 243], [204, 205, 245, 244], [205, 206, 246, 245], [206, 207, 247, 246], [207, 208, 248, 247], [208, 209, 249, 248], [209, 210, 250, 249], [210, 211, 251, 250], [211, 212, 252, 251], [212, 213, 253, 252], [213, 214, 254, 253], [214, 215, 255, 254], [215, 216, 256, 255], [216, 217, 257, 256], [217, 218, 258, 257], [218, 219, 259, 258], [219, 220, 260, 259], [220, 221, 261, 260], [221, 222, 262, 261], [222, 223, 263, 262], [223, 224, 264, 263], [224, 225, 265, 264], [225, 226, 266, 265], [226, 227, 267, 266], [227, 228, 268, 267], [228, 229, 269, 268], [229, 230, 270, 269], [230, 231, 271, 270], [231, 232, 272, 271], [232, 233, 273, 272], [233, 234, 274, 273], [234, 235, 275, 274], [235, 236, 276, 275], [236, 237, 277, 276], [237, 238, 278, 277], [238, 239, 279, 278], [241, 240, 280, 281], [240, 242, 282, 280], [242, 243, 283, 282], [243, 244, 284, 283], [244, 245, 285, 284], [245, 246, 286, 285], [246, 247, 287, 286], [247, 248, 288, 287], [248, 249, 289, 288], [249, 250, 290, 289], [250, 251, 291, 290], [251, 252, 292, 291], [252, 253, 293, 292], [253, 254, 294, 293], [254, 255, 295, 294], [255, 256, 296, 295], [256, 257, 297, 296], [257, 258, 298, 297], [258, 259, 299, 298], [259, 260, 300, 299], [260, 261, 301, 300], [261, 262, 302, 301], [262, 263, 303, 302], [263, 264, 304, 303], [264, 265, 305, 304], [265, 266, 306, 305], [266, 267, 307, 306], [267, 268, 308, 307], [268, 269, 309, 308], [269, 270, 310, 309], [270, 271, 311, 310], [271, 272, 312, 311], [272, 273, 313, 312], [273, 274, 314, 313], [274, 275, 315, 314], [275, 276, 316, 315], [276, 277, 317, 316], [277, 278, 318, 317], [278, 279, 319, 318], [281, 280, 320, 321], [280, 282, 322, 320], [282, 283, 323, 322], [283, 284, 324, 323], [284, 285, 325, 324], [285, 286, 326, 325], [286, 287, 327, 326], [287, 288, 328, 327], [288, 289, 329, 328], [289, 290, 330, 329], [290, 291, 331, 330], [291, 292, 332, 331], [292, 293, 333, 332], [293, 294, 334, 333], [294, 295, 335, 334], [295, 296, 336, 335], [296, 297, 337, 336], [297, 298, 338, 337], [298, 299, 339, 338], [299, 300, 340, 339], [300, 301, 341, 340], [301, 302, 342, 341], [302, 303, 343, 342], [303, 304, 344, 343], [304, 305, 345, 344], [305, 306, 346, 345], [306, 307, 347, 346], [307, 308, 348, 347], [308, 309, 349, 348], [309, 310, 350, 349], [310, 311, 351, 350], [311, 312, 352, 351], [312, 313, 353, 352], [313, 314, 354, 353], [314, 315, 355, 354], [315, 316, 356, 355], [316, 317, 357, 356], [317, 318, 358, 357], [318, 319, 359, 358], [321, 320, 360, 361], [320, 322, 362, 360], [322, 323, 363, 362], [323, 324, 364, 363], [324, 325, 365, 364], [325, 326, 366, 365], [326, 327, 367, 366], [327, 328, 368, 367], [328, 329, 369, 368], [329, 330, 370, 369], [330, 331, 371, 370], [331, 332, 372, 371], [332, 333, 373, 372], [333, 334, 374, 373], [334, 335, 375, 374], [335, 336, 376, 375], [336, 337, 377, 376], [337, 338, 378, 377], [338, 339, 379, 378], [339, 340, 380, 379], [340, 341, 381, 380], [341, 342, 382, 381], [342, 343, 383, 382], [343, 344, 384, 383], [344, 345, 385, 384], [345, 346, 386, 385], [346, 347, 387, 386], [347, 348, 388, 387], [348, 349, 389, 388], [349, 350, 390, 389], [350, 351, 391, 390], [351, 352, 392, 391], [352, 353, 393, 392], [353, 354, 394, 393], [354, 355, 395, 394], [355, 356, 396, 395], [356, 357, 397, 396], [357, 358, 398, 397], [358, 359, 399, 398], [361, 360, 400, 401], [360, 362, 402, 400], [362, 363, 403, 402], [363, 364, 404, 403], [364, 365, 405, 404], [365, 366, 406, 405], [366, 367, 407, 406], [367, 368, 408, 407], [368, 369, 409, 408], [369, 370, 410, 409], [370, 371, 411, 410], [371, 372, 412, 411], [372, 373, 413, 412], [373, 374, 414, 413], [374, 375, 415, 414], [375, 376, 416, 415], [376, 377, 417, 416], [377, 378, 418, 417], [378, 379, 419, 418], [379, 380, 420, 419], [380, 381, 421, 420], [381, 382, 422, 421], [382, 383, 423, 422], [383, 384, 424, 423], [384, 385, 425, 424], [385, 386, 426, 425], [386, 387, 427, 426], [387, 388, 428, 427], [388, 389, 429, 428], [389, 390, 430, 429], [390, 391, 431, 430], [391, 392, 432, 431], [392, 393, 433, 432], [393, 394, 434, 433], [394, 395, 435, 434], [395, 396, 436, 435], [396, 397, 437, 436], [397, 398, 438, 437], [398, 399, 439, 438], [401, 400, 440, 441], [400, 402, 442, 440], [402, 403, 443, 442], [403, 404, 444, 443], [404, 405, 445, 444], [405, 406, 446, 445], [406, 407, 447, 446], [407, 408, 448, 447], [408, 409, 449, 448], [409, 410, 450, 449], [410, 411, 451, 450], [411, 412, 452, 451], [412, 413, 453, 452], [413, 414, 454, 453], [414, 415, 455, 454], [415, 416, 456, 455], [416, 417, 457, 456], [417, 418, 458, 457], [418, 419, 459, 458], [419, 420, 460, 459], [420, 421, 461, 460], [421, 422, 462, 461], [422, 423, 463, 462], [423, 424, 464, 463], [424, 425, 465, 464], [425, 426, 466, 465], [426, 427, 467, 466], [427, 428, 468, 467], [428, 429, 469, 468], [429, 430, 470, 469], [430, 431, 471, 470], [431, 432, 472, 471], [432, 433, 473, 472], [433, 434, 474, 473], [434, 435, 475, 474], [435, 436, 476, 475], [436, 437, 477, 476], [437, 438, 478, 477], [438, 439, 479, 478], [441, 440, 480, 481], [440, 442, 482, 480], [442, 443, 483, 482], [443, 444, 484, 483], [444, 445, 485, 484], [445, 446, 486, 485], [446, 447, 487, 486], [447, 448, 488, 487], [448, 449, 489, 488], [449, 450, 490, 489], [450, 451, 491, 490], [451, 452, 492, 491], [452, 453, 493, 492], [453, 454, 494, 493], [454, 455, 495, 494], [455, 456, 496, 495], [456, 457, 497, 496], [457, 458, 498, 497], [458, 459, 499, 498], [459, 460, 500, 499], [460, 461, 501, 500], [461, 462, 502, 501], [462, 463, 503, 502], [463, 464, 504, 503], [464, 465, 505, 504], [465, 466, 506, 505], [466, 467, 507, 506], [467, 468, 508, 507], [468, 469, 509, 508], [469, 470, 510, 509], [470, 471, 511, 510], [471, 472, 512, 511], [472, 473, 513, 512], [473, 474, 514, 513], [474, 475, 515, 514], [475, 476, 516, 515], [476, 477, 517, 516], [477, 478, 518, 517], [478, 479, 519, 518], [481, 480, 520, 521], [480, 482, 522, 520], [482, 483, 523, 522], [483, 484, 524, 523], [484, 485, 525, 524], [485, 486, 526, 525], [486, 487, 527, 526], [487, 488, 528, 527], [488, 489, 529, 528], [489, 490, 530, 529], [490, 491, 531, 530], [491, 492, 532, 531], [492, 493, 533, 532], [493, 494, 534, 533], [494, 495, 535, 534], [495, 496, 536, 535], [496, 497, 537, 536], [497, 498, 538, 537], [498, 499, 539, 538], [499, 500, 540, 539], [500, 501, 541, 540], [501, 502, 542, 541], [502, 503, 543, 542], [503, 504, 544, 543], [504, 505, 545, 544], [505, 506, 546, 545], [506, 507, 547, 546], [507, 508, 548, 547], [508, 509, 549, 548], [509, 510, 550, 549], [510, 511, 551, 550], [511, 512, 552, 551], [512, 513, 553, 552], [513, 514, 554, 553], [514, 515, 555, 554], [515, 516, 556, 555], [516, 517, 557, 556], [517, 518, 558, 557], [518, 519, 559, 558], [521, 520, 560, 561], [520, 522, 562, 560], [522, 523, 563, 562], [523, 524, 564, 563], [524, 525, 565, 564], [525, 526, 566, 565], [526, 527, 567, 566], [527, 528, 568, 567], [528, 529, 569, 568], [529, 530, 570, 569], [530, 531, 571, 570], [531, 532, 572, 571], [532, 533, 573, 572], [533, 534, 574, 573], [534, 535, 575, 574], [535, 536, 576, 575], [536, 537, 577, 576], [537, 538, 578, 577], [538, 539, 579, 578], [539, 540, 580, 579], [540, 541, 581, 580], [541, 542, 582, 581], [542, 543, 583, 582], [543, 544, 584, 583], [544, 545, 585, 584], [545, 546, 586, 585], [546, 547, 587, 586], [547, 548, 588, 587], [548, 549, 589, 588], [549, 550, 590, 589], [550, 551, 591, 590], [551, 552, 592, 591], [552, 553, 593, 592], [553, 554, 594, 593], [554, 555, 595, 594], [555, 556, 596, 595], [556, 557, 597, 596], [557, 558, 598, 597], [558, 559, 599, 598], [561, 560, 600, 601], [560, 562, 602, 600], [562, 563, 603, 602], [563, 564, 604, 603], [564, 565, 605, 604], [565, 566, 606, 605], [566, 567, 607, 606], [567, 568, 608, 607], [568, 569, 609, 608], [569, 570, 610, 609], [570, 571, 611, 610], [571, 572, 612, 611], [572, 573, 613, 612], [573, 574, 614, 613], [574, 575, 615, 614], [575, 576, 616, 615], [576, 577, 617, 616], [577, 578, 618, 617], [578, 579, 619, 618], [579, 580, 620, 619], [580, 581, 621, 620], [581, 582, 622, 621], [582, 583, 623, 622], [583, 584, 624, 623], [584, 585, 625, 624], [585, 586, 626, 625], [586, 587, 627, 626], [587, 588, 628, 627], [588, 589, 629, 628], [589, 590, 630, 629], [590, 591, 631, 630], [591, 592, 632, 631], [592, 593, 633, 632], [593, 594, 634, 633], [594, 595, 635, 634], [595, 596, 636, 635], [596, 597, 637, 636], [597, 598, 638, 637], [598, 599, 639, 638], [601, 600, 640, 641], [600, 602, 642, 640], [602, 603, 643, 642], [603, 604, 644, 643], [604, 605, 645, 644], [605, 606, 646, 645], [606, 607, 647, 646], [607, 608, 648, 647], [608, 609, 649, 648], [609, 610, 650, 649], [610, 611, 651, 650], [611, 612, 652, 651], [612, 613, 653, 652], [613, 614, 654, 653], [614, 615, 655, 654], [615, 616, 656, 655], [616, 617, 657, 656], [617, 618, 658, 657], [618, 619, 659, 658], [619, 620, 660, 659], [620, 621, 661, 660], [621, 622, 662, 661], [622, 623, 663, 662], [623, 624, 664, 663], [624, 625, 665, 664], [625, 626, 666, 665], [626, 627, 667, 666], [627, 628, 668, 667], [628, 629, 669, 668], [629, 630, 670, 669], [630, 631, 671, 670], [631, 632, 672, 671], [632, 633, 673, 672], [633, 634, 674, 673], [634, 635, 675, 674], [635, 636, 676, 675], [636, 637, 677, 676], [637, 638, 678, 677], [638, 639, 679, 678], [641, 640, 680, 681], [640, 642, 682, 680], [642, 643, 683, 682], [643, 644, 684, 683], [644, 645, 685, 684], [645, 646, 686, 685], [646, 647, 687, 686], [647, 648, 688, 687], [648, 649, 689, 688], [649, 650, 690, 689], [650, 651, 691, 690], [651, 652, 692, 691], [652, 653, 693, 692], [653, 654, 694, 693], [654, 655, 695, 694], [655, 656, 696, 695], [656, 657, 697, 696], [657, 658, 698, 697], [658, 659, 699, 698], [659, 660, 700, 699], [660, 661, 701, 700], [661, 662, 702, 701], [662, 663, 703, 702], [663, 664, 704, 703], [664, 665, 705, 704], [665, 666, 706, 705], [666, 667, 707, 706], [667, 668, 708, 707], [668, 669, 709, 708], [669, 670, 710, 709], [670, 671, 711, 710], [671, 672, 712, 711], [672, 673, 713, 712], [673, 674, 714, 713], [674, 675, 715, 714], [675, 676, 716, 715], [676, 677, 717, 716], [677, 678, 718, 717], [678, 679, 719, 718], [681, 680, 720, 721], [680, 682, 722, 720], [682, 683, 723, 722], [683, 684, 724, 723], [684, 685, 725, 724], [685, 686, 726, 725], [686, 687, 727, 726], [687, 688, 728, 727], [688, 689, 729, 728], [689, 690, 730, 729], [690, 691, 731, 730], [691, 692, 732, 731], [692, 693, 733, 732], [693, 694, 734, 733], [694, 695, 735, 734], [695, 696, 736, 735], [696, 697, 737, 736], [697, 698, 738, 737], [698, 699, 739, 738], [699, 700, 740, 739], [700, 701, 741, 740], [701, 702, 742, 741], [702, 703, 743, 742], [703, 704, 744, 743], [704, 705, 745, 744], [705, 706, 746, 745], [706, 707, 747, 746], [707, 708, 748, 747], [708, 709, 749, 748], [709, 710, 750, 749], [710, 711, 751, 750], [711, 712, 752, 751], [712, 713, 753, 752], [713, 714, 754, 753], [714, 715, 755, 754], [715, 716, 756, 755], [716, 717, 757, 756], [717, 718, 758, 757], [718, 719, 759, 758], [721, 720, 760, 761], [720, 722, 762, 760], [722, 723, 763, 762], [723, 724, 764, 763], [724, 725, 765, 764], [725, 726, 766, 765], [726, 727, 767, 766], [727, 728, 768, 767], [728, 729, 769, 768], [729, 730, 770, 769], [730, 731, 771, 770], [731, 732, 772, 771], [732, 733, 773, 772], [733, 734, 774, 773], [734, 735, 775, 774], [735, 736, 776, 775], [736, 737, 777, 776], [737, 738, 778, 777], [738, 739, 779, 778], [739, 740, 780, 779], [740, 741, 781, 780], [741, 742, 782, 781], [742, 743, 783, 782], [743, 744, 784, 783], [744, 745, 785, 784], [745, 746, 786, 785], [746, 747, 787, 786], [747, 748, 788, 787], [748, 749, 789, 788], [749, 750, 790, 789], [750, 751, 791, 790], [751, 752, 792, 791], [752, 753, 793, 792], [753, 754, 794, 793], [754, 755, 795, 794], [755, 756, 796, 795], [756, 757, 797, 796], [757, 758, 798, 797], [758, 759, 799, 798], [761, 760, 800, 801], [760, 762, 802, 800], [762, 763, 803, 802], [763, 764, 804, 803], [764, 765, 805, 804], [765, 766, 806, 805], [766, 767, 807, 806], [767, 768, 808, 807], [768, 769, 809, 808], [769, 770, 810, 809], [770, 771, 811, 810], [771, 772, 812, 811], [772, 773, 813, 812], [773, 774, 814, 813], [774, 775, 815, 814], [775, 776, 816, 815], [776, 777, 817, 816], [777, 778, 818, 817], [778, 779, 819, 818], [779, 780, 820, 819], [780, 781, 821, 820], [781, 782, 822, 821], [782, 783, 823, 822], [783, 784, 824, 823], [784, 785, 825, 824], [785, 786, 826, 825], [786, 787, 827, 826], [787, 788, 828, 827], [788, 789, 829, 828], [789, 790, 830, 829], [790, 791, 831, 830], [791, 792, 832, 831], [792, 793, 833, 832], [793, 794, 834, 833], [794, 795, 835, 834], [795, 796, 836, 835], [796, 797, 837, 836], [797, 798, 838, 837], [798, 799, 839, 838], [801, 800, 840, 841], [800, 802, 842, 840], [802, 803, 843, 842], [803, 804, 844, 843], [804, 805, 845, 844], [805, 806, 846, 845], [806, 807, 847, 846], [807, 808, 848, 847], [808, 809, 849, 848], [809, 810, 850, 849], [810, 811, 851, 850], [811, 812, 852, 851], [812, 813, 853, 852], [813, 814, 854, 853], [814, 815, 855, 854], [815, 816, 856, 855], [816, 817, 857, 856], [817, 818, 858, 857], [818, 819, 859, 858], [819, 820, 860, 859], [820, 821, 861, 860], [821, 822, 862, 861], [822, 823, 863, 862], [823, 824, 864, 863], [824, 825, 865, 864], [825, 826, 866, 865], [826, 827, 867, 866], [827, 828, 868, 867], [828, 829, 869, 868], [829, 830, 870, 869], [830, 831, 871, 870], [831, 832, 872, 871], [832, 833, 873, 872], [833, 834, 874, 873], [834, 835, 875, 874], [835, 836, 876, 875], [836, 837, 877, 876], [837, 838, 878, 877], [838, 839, 879, 878], [841, 840, 880, 881], [840, 842, 882, 880], [842, 843, 883, 882], [843, 844, 884, 883], [844, 845, 885, 884], [845, 846, 886, 885], [846, 847, 887, 886], [847, 848, 888, 887], [848, 849, 889, 888], [849, 850, 890, 889], [850, 851, 891, 890], [851, 852, 892, 891], [852, 853, 893, 892], [853, 854, 894, 893], [854, 855, 895, 894], [855, 856, 896, 895], [856, 857, 897, 896], [857, 858, 898, 897], [858, 859, 899, 898], [859, 860, 900, 899], [860, 861, 901, 900], [861, 862, 902, 901], [862, 863, 903, 902], [863, 864, 904, 903], [864, 865, 905, 904], [865, 866, 906, 905], [866, 867, 907, 906], [867, 868, 908, 907], [868, 869, 909, 908], [869, 870, 910, 909], [870, 871, 911, 910], [871, 872, 912, 911], [872, 873, 913, 912], [873, 874, 914, 913], [874, 875, 915, 914], [875, 876, 916, 915], [876, 877, 917, 916], [877, 878, 918, 917], [878, 879, 919, 918], [881, 880, 920, 921], [880, 882, 922, 920], [882, 883, 923, 922], [883, 884, 924, 923], [884, 885, 925, 924], [885, 886, 926, 925], [886, 887, 927, 926], [887, 888, 928, 927], [888, 889, 929, 928], [889, 890, 930, 929], [890, 891, 931, 930], [891, 892, 932, 931], [892, 893, 933, 932], [893, 894, 934, 933], [894, 895, 935, 934], [895, 896, 936, 935], [896, 897, 937, 936], [897, 898, 938, 937], [898, 899, 939, 938], [899, 900, 940, 939], [900, 901, 941, 940], [901, 902, 942, 941], [902, 903, 943, 942], [903, 904, 944, 943], [904, 905, 945, 944], [905, 906, 946, 945], [906, 907, 947, 946], [907, 908, 948, 947], [908, 909, 949, 948], [909, 910, 950, 949], [910, 911, 951, 950], [911, 912, 952, 951], [912, 913, 953, 952], [913, 914, 954, 953], [914, 915, 955, 954], [915, 916, 956, 955], [916, 917, 957, 956], [917, 918, 958, 957], [918, 919, 959, 958], [921, 920, 960, 961], [920, 922, 962, 960], [922, 923, 963, 962], [923, 924, 964, 963], [924, 925, 965, 964], [925, 926, 966, 965], [926, 927, 967, 966], [927, 928, 968, 967], [928, 929, 969, 968], [929, 930, 970, 969], [930, 931, 971, 970], [931, 932, 972, 971], [932, 933, 973, 972], [933, 934, 974, 973], [934, 935, 975, 974], [935, 936, 976, 975], [936, 937, 977, 976], [937, 938, 978, 977], [938, 939, 979, 978], [939, 940, 980, 979], [940, 941, 981, 980], [941, 942, 982, 981], [942, 943, 983, 982], [943, 944, 984, 983], [944, 945, 985, 984], [945, 946, 986, 985], [946, 947, 987, 986], [947, 948, 988, 987], [948, 949, 989, 988], [949, 950, 990, 989], [950, 951, 991, 990], [951, 952, 992, 991], [952, 953, 993, 992], [953, 954, 994, 993], [954, 955, 995, 994], [955, 956, 996, 995], [956, 957, 997, 996], [957, 958, 998, 997], [958, 959, 999, 998], [961, 960, 1000, 1001], [960, 962, 1002, 1000], [962, 963, 1003, 1002], [963, 964, 1004, 1003], [964, 965, 1005, 1004], [965, 966, 1006, 1005], [966, 967, 1007, 1006], [967, 968, 1008, 1007], [968, 969, 1009, 1008], [969, 970, 1010, 1009], [970, 971, 1011, 1010], [971, 972, 1012, 1011], [972, 973, 1013, 1012], [973, 974, 1014, 1013], [974, 975, 1015, 1014], [975, 976, 1016, 1015], [976, 977, 1017, 1016], [977, 978, 1018, 1017], [978, 979, 1019, 1018], [979, 980, 1020, 1019], [980, 981, 1021, 1020], [981, 982, 1022, 1021], [982, 983, 1023, 1022], [983, 984, 1024, 1023], [984, 985, 1025, 1024], [985, 986, 1026, 1025], [986, 987, 1027, 1026], [987, 988, 1028, 1027], [988, 989, 1029, 1028], [989, 990, 1030, 1029], [990, 991, 1031, 1030], [991, 992, 1032, 1031], [992, 993, 1033, 1032], [993, 994, 1034, 1033], [994, 995, 1035, 1034], [995, 996, 1036, 1035], [996, 997, 1037, 1036], [997, 998, 1038, 1037], [998, 999, 1039, 1038], [1001, 1000, 1040, 1041], [1000, 1002, 1042, 1040], [1002, 1003, 1043, 1042], [1003, 1004, 1044, 1043], [1004, 1005, 1045, 1044], [1005, 1006, 1046, 1045], [1006, 1007, 1047, 1046], [1007, 1008, 1048, 1047], [1008, 1009, 1049, 1048], [1009, 1010, 1050, 1049], [1010, 1011, 1051, 1050], [1011, 1012, 1052, 1051], [1012, 1013, 1053, 1052], [1013, 1014, 1054, 1053], [1014, 1015, 1055, 1054], [1015, 1016, 1056, 1055], [1016, 1017, 1057, 1056], [1017, 1018, 1058, 1057], [1018, 1019, 1059, 1058], [1019, 1020, 1060, 1059], [1020, 1021, 1061, 1060], [1021, 1022, 1062, 1061], [1022, 1023, 1063, 1062], [1023, 1024, 1064, 1063], [1024, 1025, 1065, 1064], [1025, 1026, 1066, 1065], [1026, 1027, 1067, 1066], [1027, 1028, 1068, 1067], [1028, 1029, 1069, 1068], [1029, 1030, 1070, 1069], [1030, 1031, 1071, 1070], [1031, 1032, 1072, 1071], [1032, 1033, 1073, 1072], [1033, 1034, 1074, 1073], [1034, 1035, 1075, 1074], [1035, 1036, 1076, 1075], [1036, 1037, 1077, 1076], [1037, 1038, 1078, 1077], [1038, 1039, 1079, 1078], [1041, 1040, 1080, 1081], [1040, 1042, 1082, 1080], [1042, 1043, 1083, 1082], [1043, 1044, 1084, 1083], [1044, 1045, 1085, 1084], [1045, 1046, 1086, 1085], [1046, 1047, 1087, 1086], [1047, 1048, 1088, 1087], [1048, 1049, 1089, 1088], [1049, 1050, 1090, 1089], [1050, 1051, 1091, 1090], [1051, 1052, 1092, 1091], [1052, 1053, 1093, 1092], [1053, 1054, 1094, 1093], [1054, 1055, 1095, 1094], [1055, 1056, 1096, 1095], [1056, 1057, 1097, 1096], [1057, 1058, 1098, 1097], [1058, 1059, 1099, 1098], [1059, 1060, 1100, 1099], [1060, 1061, 1101, 1100], [1061, 1062, 1102, 1101], [1062, 1063, 1103, 1102], [1063, 1064, 1104, 1103], [1064, 1065, 1105, 1104], [1065, 1066, 1106, 1105], [1066, 1067, 1107, 1106], [1067, 1068, 1108, 1107], [1068, 1069, 1109, 1108], [1069, 1070, 1110, 1109], [1070, 1071, 1111, 1110], [1071, 1072, 1112, 1111], [1072, 1073, 1113, 1112], [1073, 1074, 1114, 1113], [1074, 1075, 1115, 1114], [1075, 1076, 1116, 1115], [1076, 1077, 1117, 1116], [1077, 1078, 1118, 1117], [1078, 1079, 1119, 1118], [1081, 1080, 1120, 1121], [1080, 1082, 1122, 1120], [1082, 1083, 1123, 1122], [1083, 1084, 1124, 1123], [1084, 1085, 1125, 1124], [1085, 1086, 1126, 1125], [1086, 1087, 1127, 1126], [1087, 1088, 1128, 1127], [1088, 1089, 1129, 1128], [1089, 1090, 1130, 1129], [1090, 1091, 1131, 1130], [1091, 1092, 1132, 1131], [1092, 1093, 1133, 1132], [1093, 1094, 1134, 1133], [1094, 1095, 1135, 1134], [1095, 1096, 1136, 1135], [1096, 1097, 1137, 1136], [1097, 1098, 1138, 1137], [1098, 1099, 1139, 1138], [1099, 1100, 1140, 1139], [1100, 1101, 1141, 1140], [1101, 1102, 1142, 1141], [1102, 1103, 1143, 1142], [1103, 1104, 1144, 1143], [1104, 1105, 1145, 1144], [1105, 1106, 1146, 1145], [1106, 1107, 1147, 1146], [1107, 1108, 1148, 1147], [1108, 1109, 1149, 1148], [1109, 1110, 1150, 1149], [1110, 1111, 1151, 1150], [1111, 1112, 1152, 1151], [1112, 1113, 1153, 1152], [1113, 1114, 1154, 1153], [1114, 1115, 1155, 1154], [1115, 1116, 1156, 1155], [1116, 1117, 1157, 1156], [1117, 1118, 1158, 1157], [1118, 1119, 1159, 1158], [1121, 1120, 1160, 1161], [1120, 1122, 1162, 1160], [1122, 1123, 1163, 1162], [1123, 1124, 1164, 1163], [1124, 1125, 1165, 1164], [1125, 1126, 1166, 1165], [1126, 1127, 1167, 1166], [1127, 1128, 1168, 1167], [1128, 1129, 1169, 1168], [1129, 1130, 1170, 1169], [1130, 1131, 1171, 1170], [1131, 1132, 1172, 1171], [1132, 1133, 1173, 1172], [1133, 1134, 1174, 1173], [1134, 1135, 1175, 1174], [1135, 1136, 1176, 1175], [1136, 1137, 1177, 1176], [1137, 1138, 1178, 1177], [1138, 1139, 1179, 1178], [1139, 1140, 1180, 1179], [1140, 1141, 1181, 1180], [1141, 1142, 1182, 1181], [1142, 1143, 1183, 1182], [1143, 1144, 1184, 1183], [1144, 1145, 1185, 1184], [1145, 1146, 1186, 1185], [1146, 1147, 1187, 1186], [1147, 1148, 1188, 1187], [1148, 1149, 1189, 1188], [1149, 1150, 1190, 1189], [1150, 1151, 1191, 1190], [1151, 1152, 1192, 1191], [1152, 1153, 1193, 1192], [1153, 1154, 1194, 1193], [1154, 1155, 1195, 1194], [1155, 1156, 1196, 1195], [1156, 1157, 1197, 1196], [1157, 1158, 1198, 1197], [1158, 1159, 1199, 1198], [1161, 1160, 1200, 1201], [1160, 1162, 1202, 1200], [1162, 1163, 1203, 1202], [1163, 1164, 1204, 1203], [1164, 1165, 1205, 1204], [1165, 1166, 1206, 1205], [1166, 1167, 1207, 1206], [1167, 1168, 1208, 1207], [1168, 1169, 1209, 1208], [1169, 1170, 1210, 1209], [1170, 1171, 1211, 1210], [1171, 1172, 1212, 1211], [1172, 1173, 1213, 1212], [1173, 1174, 1214, 1213], [1174, 1175, 1215, 1214], [1175, 1176, 1216, 1215], [1176, 1177, 1217, 1216], [1177, 1178, 1218, 1217], [1178, 1179, 1219, 1218], [1179, 1180, 1220, 1219], [1180, 1181, 1221, 1220], [1181, 1182, 1222, 1221], [1182, 1183, 1223, 1222], [1183, 1184, 1224, 1223], [1184, 1185, 1225, 1224], [1185, 1186, 1226, 1225], [1186, 1187, 1227, 1226], [1187, 1188, 1228, 1227], [1188, 1189, 1229, 1228], [1189, 1190, 1230, 1229], [1190, 1191, 1231, 1230], [1191, 1192, 1232, 1231], [1192, 1193, 1233, 1232], [1193, 1194, 1234, 1233], [1194, 1195, 1235, 1234], [1195, 1196, 1236, 1235], [1196, 1197, 1237, 1236], [1197, 1198, 1238, 1237], [1198, 1199, 1239, 1238], [1201, 1200, 1240, 1241], [1200, 1202, 1242, 1240], [1202, 1203, 1243, 1242], [1203, 1204, 1244, 1243], [1204, 1205, 1245, 1244], [1205, 1206, 1246, 1245], [1206, 1207, 1247, 1246], [1207, 1208, 1248, 1247], [1208, 1209, 1249, 1248], [1209, 1210, 1250, 1249], [1210, 1211, 1251, 1250], [1211, 1212, 1252, 1251], [1212, 1213, 1253, 1252], [1213, 1214, 1254, 1253], [1214, 1215, 1255, 1254], [1215, 1216, 1256, 1255], [1216, 1217, 1257, 1256], [1217, 1218, 1258, 1257], [1218, 1219, 1259, 1258], [1219, 1220, 1260, 1259], [1220, 1221, 1261, 1260], [1221, 1222, 1262, 1261], [1222, 1223, 1263, 1262], [1223, 1224, 1264, 1263], [1224, 1225, 1265, 1264], [1225, 1226, 1266, 1265], [1226, 1227, 1267, 1266], [1227, 1228, 1268, 1267], [1228, 1229, 1269, 1268], [1229, 1230, 1270, 1269], [1230, 1231, 1271, 1270], [1231, 1232, 1272, 1271], [1232, 1233, 1273, 1272], [1233, 1234, 1274, 1273], [1234, 1235, 1275, 1274], [1235, 1236, 1276, 1275], [1236, 1237, 1277, 1276], [1237, 1238, 1278, 1277], [1238, 1239, 1279, 1278], [1241, 1240, 1280, 1281], [1240, 1242, 1282, 1280], [1242, 1243, 1283, 1282], [1243, 1244, 1284, 1283], [1244, 1245, 1285, 1284], [1245, 1246, 1286, 1285], [1246, 1247, 1287, 1286], [1247, 1248, 1288, 1287], [1248, 1249, 1289, 1288], [1249, 1250, 1290, 1289], [1250, 1251, 1291, 1290], [1251, 1252, 1292, 1291], [1252, 1253, 1293, 1292], [1253, 1254, 1294, 1293], [1254, 1255, 1295, 1294], [1255, 1256, 1296, 1295], [1256, 1257, 1297, 1296], [1257, 1258, 1298, 1297], [1258, 1259, 1299, 1298], [1259, 1260, 1300, 1299], [1260, 1261, 1301, 1300], [1261, 1262, 1302, 1301], [1262, 1263, 1303, 1302], [1263, 1264, 1304, 1303], [1264, 1265, 1305, 1304], [1265, 1266, 1306, 1305], [1266, 1267, 1307, 1306], [1267, 1268, 1308, 1307], [1268, 1269, 1309, 1308], [1269, 1270, 1310, 1309], [1270, 1271, 1311, 1310], [1271, 1272, 1312, 1311], [1272, 1273, 1313, 1312], [1273, 1274, 1314, 1313], [1274, 1275, 1315, 1314], [1275, 1276, 1316, 1315], [1276, 1277, 1317, 1316], [1277, 1278, 1318, 1317], [1278, 1279, 1319, 1318], [1281, 1280, 1320, 1321], [1280, 1282, 1322, 1320], [1282, 1283, 1323, 1322], [1283, 1284, 1324, 1323], [1284, 1285, 1325, 1324], [1285, 1286, 1326, 1325], [1286, 1287, 1327, 1326], [1287, 1288, 1328, 1327], [1288, 1289, 1329, 1328], [1289, 1290, 1330, 1329], [1290, 1291, 1331, 1330], [1291, 1292, 1332, 1331], [1292, 1293, 1333, 1332], [1293, 1294, 1334, 1333], [1294, 1295, 1335, 1334], [1295, 1296, 1336, 1335], [1296, 1297, 1337, 1336], [1297, 1298, 1338, 1337], [1298, 1299, 1339, 1338], [1299, 1300, 1340, 1339], [1300, 1301, 1341, 1340], [1301, 1302, 1342, 1341], [1302, 1303, 1343, 1342], [1303, 1304, 1344, 1343], [1304, 1305, 1345, 1344], [1305, 1306, 1346, 1345], [1306, 1307, 1347, 1346], [1307, 1308, 1348, 1347], [1308, 1309, 1349, 1348], [1309, 1310, 1350, 1349], [1310, 1311, 1351, 1350], [1311, 1312, 1352, 1351], [1312, 1313, 1353, 1352], [1313, 1314, 1354, 1353], [1314, 1315, 1355, 1354], [1315, 1316, 1356, 1355], [1316, 1317, 1357, 1356], [1317, 1318, 1358, 1357], [1318, 1319, 1359, 1358], [1321, 1320, 1360, 1361], [1320, 1322, 1362, 1360], [1322, 1323, 1363, 1362], [1323, 1324, 1364, 1363], [1324, 1325, 1365, 1364], [1325, 1326, 1366, 1365], [1326, 1327, 1367, 1366], [1327, 1328, 1368, 1367], [1328, 1329, 1369, 1368], [1329, 1330, 1370, 1369], [1330, 1331, 1371, 1370], [1331, 1332, 1372, 1371], [1332, 1333, 1373, 1372], [1333, 1334, 1374, 1373], [1334, 1335, 1375, 1374], [1335, 1336, 1376, 1375], [1336, 1337, 1377, 1376], [1337, 1338, 1378, 1377], [1338, 1339, 1379, 1378], [1339, 1340, 1380, 1379], [1340, 1341, 1381, 1380], [1341, 1342, 1382, 1381], [1342, 1343, 1383, 1382], [1343, 1344, 1384, 1383], [1344, 1345, 1385, 1384], [1345, 1346, 1386, 1385], [1346, 1347, 1387, 1386], [1347, 1348, 1388, 1387], [1348, 1349, 1389, 1388], [1349, 1350, 1390, 1389], [1350, 1351, 1391, 1390], [1351, 1352, 1392, 1391], [1352, 1353, 1393, 1392], [1353, 1354, 1394, 1393], [1354, 1355, 1395, 1394], [1355, 1356, 1396, 1395], [1356, 1357, 1397, 1396], [1357, 1358, 1398, 1397], [1358, 1359, 1399, 1398], [1361, 1360, 1400, 1401], [1360, 1362, 1402, 1400], [1362, 1363, 1403, 1402], [1363, 1364, 1404, 1403], [1364, 1365, 1405, 1404], [1365, 1366, 1406, 1405], [1366, 1367, 1407, 1406], [1367, 1368, 1408, 1407], [1368, 1369, 1409, 1408], [1369, 1370, 1410, 1409], [1370, 1371, 1411, 1410], [1371, 1372, 1412, 1411], [1372, 1373, 1413, 1412], [1373, 1374, 1414, 1413], [1374, 1375, 1415, 1414], [1375, 1376, 1416, 1415], [1376, 1377, 1417, 1416], [1377, 1378, 1418, 1417], [1378, 1379, 1419, 1418], [1379, 1380, 1420, 1419], [1380, 1381, 1421, 1420], [1381, 1382, 1422, 1421], [1382, 1383, 1423, 1422], [1383, 1384, 1424, 1423], [1384, 1385, 1425, 1424], [1385, 1386, 1426, 1425], [1386, 1387, 1427, 1426], [1387, 1388, 1428, 1427], [1388, 1389, 1429, 1428], [1389, 1390, 1430, 1429], [1390, 1391, 1431, 1430], [1391, 1392, 1432, 1431], [1392, 1393, 1433, 1432], [1393, 1394, 1434, 1433], [1394, 1395, 1435, 1434], [1395, 1396, 1436, 1435], [1396, 1397, 1437, 1436], [1397, 1398, 1438, 1437], [1398, 1399, 1439, 1438], [1401, 1400, 1440, 1441], [1400, 1402, 1442, 1440], [1402, 1403, 1443, 1442], [1403, 1404, 1444, 1443], [1404, 1405, 1445, 1444], [1405, 1406, 1446, 1445], [1406, 1407, 1447, 1446], [1407, 1408, 1448, 1447], [1408, 1409, 1449, 1448], [1409, 1410, 1450, 1449], [1410, 1411, 1451, 1450], [1411, 1412, 1452, 1451], [1412, 1413, 1453, 1452], [1413, 1414, 1454, 1453], [1414, 1415, 1455, 1454], [1415, 1416, 1456, 1455], [1416, 1417, 1457, 1456], [1417, 1418, 1458, 1457], [1418, 1419, 1459, 1458], [1419, 1420, 1460, 1459], [1420, 1421, 1461, 1460], [1421, 1422, 1462, 1461], [1422, 1423, 1463, 1462], [1423, 1424, 1464, 1463], [1424, 1425, 1465, 1464], [1425, 1426, 1466, 1465], [1426, 1427, 1467, 1466], [1427, 1428, 1468, 1467], [1428, 1429, 1469, 1468], [1429, 1430, 1470, 1469], [1430, 1431, 1471, 1470], [1431, 1432, 1472, 1471], [1432, 1433, 1473, 1472], [1433, 1434, 1474, 1473], [1434, 1435, 1475, 1474], [1435, 1436, 1476, 1475], [1436, 1437, 1477, 1476], [1437, 1438, 1478, 1477], [1438, 1439, 1479, 1478], [1441, 1440, 1480, 1481], [1440, 1442, 1482, 1480], [1442, 1443, 1483, 1482], [1443, 1444, 1484, 1483], [1444, 1445, 1485, 1484], [1445, 1446, 1486, 1485], [1446, 1447, 1487, 1486], [1447, 1448, 1488, 1487], [1448, 1449, 1489, 1488], [1449, 1450, 1490, 1489], [1450, 1451, 1491, 1490], [1451, 1452, 1492, 1491], [1452, 1453, 1493, 1492], [1453, 1454, 1494, 1493], [1454, 1455, 1495, 1494], [1455, 1456, 1496, 1495], [1456, 1457, 1497, 1496], [1457, 1458, 1498, 1497], [1458, 1459, 1499, 1498], [1459, 1460, 1500, 1499], [1460, 1461, 1501, 1500], [1461, 1462, 1502, 1501], [1462, 1463, 1503, 1502], [1463, 1464, 1504, 1503], [1464, 1465, 1505, 1504], [1465, 1466, 1506, 1505], [1466, 1467, 1507, 1506], [1467, 1468, 1508, 1507], [1468, 1469, 1509, 1508], [1469, 1470, 1510, 1509], [1470, 1471, 1511, 1510], [1471, 1472, 1512, 1511], [1472, 1473, 1513, 1512], [1473, 1474, 1514, 1513], [1474, 1475, 1515, 1514], [1475, 1476, 1516, 1515], [1476, 1477, 1517, 1516], [1477, 1478, 1518, 1517], [1478, 1479, 1519, 1518], [1481, 1480, 1520, 1521], [1480, 1482, 1522, 1520], [1482, 1483, 1523, 1522], [1483, 1484, 1524, 1523], [1484, 1485, 1525, 1524], [1485, 1486, 1526, 1525], [1486, 1487, 1527, 1526], [1487, 1488, 1528, 1527], [1488, 1489, 1529, 1528], [1489, 1490, 1530, 1529], [1490, 1491, 1531, 1530], [1491, 1492, 1532, 1531], [1492, 1493, 1533, 1532], [1493, 1494, 1534, 1533], [1494, 1495, 1535, 1534], [1495, 1496, 1536, 1535], [1496, 1497, 1537, 1536], [1497, 1498, 1538, 1537], [1498, 1499, 1539, 1538], [1499, 1500, 1540, 1539], [1500, 1501, 1541, 1540], [1501, 1502, 1542, 1541], [1502, 1503, 1543, 1542], [1503, 1504, 1544, 1543], [1504, 1505, 1545, 1544], [1505, 1506, 1546, 1545], [1506, 1507, 1547, 1546], [1507, 1508, 1548, 1547], [1508, 1509, 1549, 1548], [1509, 1510, 1550, 1549], [1510, 1511, 1551, 1550], [1511, 1512, 1552, 1551], [1512, 1513, 1553, 1552], [1513, 1514, 1554, 1553], [1514, 1515, 1555, 1554], [1515, 1516, 1556, 1555], [1516, 1517, 1557, 1556], [1517, 1518, 1558, 1557], [1518, 1519, 1559, 1558], [1521, 1520, 1560, 1561], [1520, 1522, 1562, 1560], [1522, 1523, 1563, 1562], [1523, 1524, 1564, 1563], [1524, 1525, 1565, 1564], [1525, 1526, 1566, 1565], [1526, 1527, 1567, 1566], [1527, 1528, 1568, 1567], [1528, 1529, 1569, 1568], [1529, 1530, 1570, 1569], [1530, 1531, 1571, 1570], [1531, 1532, 1572, 1571], [1532, 1533, 1573, 1572], [1533, 1534, 1574, 1573], [1534, 1535, 1575, 1574], [1535, 1536, 1576, 1575], [1536, 1537, 1577, 1576], [1537, 1538, 1578, 1577], [1538, 1539, 1579, 1578], [1539, 1540, 1580, 1579], [1540, 1541, 1581, 1580], [1541, 1542, 1582, 1581], [1542, 1543, 1583, 1582], [1543, 1544, 1584, 1583], [1544, 1545, 1585, 1584], [1545, 1546, 1586, 1585], [1546, 1547, 1587, 1586], [1547, 1548, 1588, 1587], [1548, 1549, 1589, 1588], [1549, 1550, 1590, 1589], [1550, 1551, 1591, 1590], [1551, 1552, 1592, 1591], [1552, 1553, 1593, 1592], [1553, 1554, 1594, 1593], [1554, 1555, 1595, 1594], [1555, 1556, 1596, 1595], [1556, 1557, 1597, 1596], [1557, 1558, 1598, 1597], [1558, 1559, 1599, 1598]], &quot;color&quot;: &quot;#6666ff&quot;, &quot;opacity&quot;: 1.0}];\n",
       "    for ( var i=0 ; i < surfaces.length ; i++ ) addSurface( surfaces[i] );\n",
       "\n",
       "    function addSurface( json ) {\n",
       "\n",
       "        var useFaceColors = 'faceColors' in json ? true : false;\n",
       "\n",
       "        var geometry = new THREE.Geometry();\n",
       "        for ( var i=0 ; i < json.vertices.length ; i++ ) {\n",
       "            var v = json.vertices[i];\n",
       "            geometry.vertices.push( new THREE.Vector3( a[0]*v.x, a[1]*v.y, a[2]*v.z ) );\n",
       "        }\n",
       "        for ( var i=0 ; i < json.faces.length ; i++ ) {\n",
       "            var f = json.faces[i];\n",
       "            for ( var j=0 ; j < f.length - 2 ; j++ ) {\n",
       "                var face = new THREE.Face3( f[0], f[j+1], f[j+2] );\n",
       "                if ( useFaceColors ) face.color.set( json.faceColors[i] );\n",
       "                geometry.faces.push( face );\n",
       "            }\n",
       "        }\n",
       "        geometry.computeVertexNormals();\n",
       "\n",
       "        var side = json.singleSide ? THREE.FrontSide : THREE.DoubleSide;\n",
       "        var transparent = json.opacity < 1 ? true : false;\n",
       "        var flatShading = json.useFlatShading ? json.useFlatShading : false;\n",
       "\n",
       "        var material = new THREE.MeshPhongMaterial( { side: side,\n",
       "                                     color: useFaceColors ? 'white' : json.color,\n",
       "                                     vertexColors: useFaceColors ? THREE.FaceColors : THREE.NoColors,\n",
       "                                     transparent: transparent, opacity: json.opacity,\n",
       "                                     shininess: 20, flatShading: flatShading } );\n",
       "\n",
       "        var c = new THREE.Vector3();\n",
       "        geometry.computeBoundingBox();\n",
       "        geometry.boundingBox.getCenter( c );\n",
       "        geometry.translate( -c.x, -c.y, -c.z );\n",
       "\n",
       "        var mesh = new THREE.Mesh( geometry, material );\n",
       "        mesh.position.set( c.x, c.y, c.z );\n",
       "        if ( transparent && json.renderOrder ) mesh.renderOrder = json.renderOrder;\n",
       "        mesh.userData = json;\n",
       "        scene.add( mesh );\n",
       "\n",
       "        if ( json.showMeshGrid ) {\n",
       "\n",
       "            var geometry = new THREE.Geometry();\n",
       "\n",
       "            for ( var i=0 ; i < json.faces.length ; i++ ) {\n",
       "                var f = json.faces[i];\n",
       "                for ( var j=0 ; j < f.length ; j++ ) {\n",
       "                    var k = j === f.length-1 ? 0 : j+1;\n",
       "                    var v1 = json.vertices[f[j]];\n",
       "                    var v2 = json.vertices[f[k]];\n",
       "                    // vertices in opposite directions on neighboring faces\n",
       "                    var nudge = f[j] < f[k] ? .0005*zRange : -.0005*zRange;\n",
       "                    geometry.vertices.push( new THREE.Vector3( a[0]*v1.x, a[1]*v1.y, a[2]*(v1.z+nudge) ) );\n",
       "                    geometry.vertices.push( new THREE.Vector3( a[0]*v2.x, a[1]*v2.y, a[2]*(v2.z+nudge) ) );\n",
       "                }\n",
       "            }\n",
       "\n",
       "            var material = new THREE.LineBasicMaterial( { color: 'black', linewidth: 1 } );\n",
       "\n",
       "            var c = new THREE.Vector3();\n",
       "            geometry.computeBoundingBox();\n",
       "            geometry.boundingBox.getCenter( c );\n",
       "            geometry.translate( -c.x, -c.y, -c.z );\n",
       "\n",
       "            var mesh = new THREE.LineSegments( geometry, material );\n",
       "            mesh.position.set( c.x, c.y, c.z );\n",
       "            mesh.userData = json;\n",
       "            scene.add( mesh );\n",
       "\n",
       "        }\n",
       "\n",
       "    }\n",
       "\n",
       "    function render() {\n",
       "\n",
       "        if ( window.updateAnimation ) animate = updateAnimation();\n",
       "        if ( animate ) requestAnimationFrame( render );\n",
       "\n",
       "        renderer.render( scene, camera );\n",
       "\n",
       "    }\n",
       "\n",
       "    render();\n",
       "    controls.update();\n",
       "    if ( !animate ) render();\n",
       "\n",
       "\n",
       "    // menu functions\n",
       "\n",
       "    function toggleMenu() {\n",
       "\n",
       "        var m = document.getElementById( 'menu-content' );\n",
       "        if ( m.style.display === 'block' ) m.style.display = 'none'\n",
       "        else m.style.display = 'block';\n",
       "\n",
       "    }\n",
       "\n",
       "\n",
       "    function saveAsPNG() {\n",
       "\n",
       "        var a = document.body.appendChild( document.createElement( 'a' ) );\n",
       "        a.href = renderer.domElement.toDataURL( 'image/png' );\n",
       "        a.download = 'screenshot';\n",
       "        a.click();\n",
       "\n",
       "    }\n",
       "\n",
       "    function saveAsHTML() {\n",
       "\n",
       "        toggleMenu(); // otherwise visible in output\n",
       "        event.stopPropagation();\n",
       "\n",
       "        var blob = new Blob( [ '<!DOCTYPE html>\\n' + document.documentElement.outerHTML ] );\n",
       "        var a = document.body.appendChild( document.createElement( 'a' ) );\n",
       "        a.href = window.URL.createObjectURL( blob );\n",
       "        a.download = 'graphic.html';\n",
       "        a.click();\n",
       "\n",
       "    }\n",
       "\n",
       "    function getViewpoint() {\n",
       "\n",
       "        function roundTo( x, n ) { return +x.toFixed(n); }\n",
       "\n",
       "        var v = camera.quaternion.inverse();\n",
       "        var r = Math.sqrt( v.x*v.x + v.y*v.y + v.z*v.z );\n",
       "        var axis = [ roundTo( v.x / r, 4 ), roundTo( v.y / r, 4 ), roundTo( v.z / r, 4 ) ];\n",
       "        var angle = roundTo( 2 * Math.atan2( r, v.w ) * 180 / Math.PI, 2 );\n",
       "\n",
       "        var textArea = document.createElement( 'textarea' );\n",
       "        textArea.textContent = JSON.stringify( axis ) + ',' + angle;\n",
       "        textArea.style.csstext = 'position: absolute; top: -100%';\n",
       "        document.body.append( textArea );\n",
       "        textArea.select();\n",
       "        document.execCommand( 'copy' );\n",
       "\n",
       "        var m = document.getElementById( 'menu-message' );\n",
       "        m.innerHTML = 'Viewpoint copied to clipboard';\n",
       "        m.style.display = 'block';\n",
       "        setTimeout( function() { m.style.display = 'none'; }, 2000 );\n",
       "\n",
       "    }\n",
       "\n",
       "</script>\n",
       "\n",
       "<div id=&quot;menu-container&quot; onclick=&quot;toggleMenu()&quot;>&#x24d8;\n",
       "<div id=&quot;menu-message&quot;></div>\n",
       "<div id=&quot;menu-content&quot;>\n",
       "<div onclick=&quot;saveAsPNG()&quot;>Save as PNG</div>\n",
       "<div onclick=&quot;saveAsHTML()&quot;>Save as HTML</div>\n",
       "<div onclick=&quot;getViewpoint()&quot;>Get Viewpoint</div>\n",
       "<div>Close Menu</div>\n",
       "</div></div>\n",
       "\n",
       "\n",
       "</body>\n",
       "</html>\n",
       "\"\n",
       "        width=\"100%\"\n",
       "        height=\"400\"\n",
       "        style=\"border: 0;\">\n",
       "</iframe>\n"
      ],
      "text/plain": [
       "Graphics3d Object"
      ]
     },
     "metadata": {},
     "output_type": "display_data"
    }
   ],
   "source": [
    "#Plot the plane\n",
    "var('District', 'Floor_Area', 'Resale_Price')\n",
    "Resale_Price = Beta[0] + Beta[1] * District + Beta[2] * Floor_Area\n",
    "graph = plot3d(Resale_Price, (District, 0, max(data.column(0)) + 100), (Floor_Area, 0, max(data.column(2)) + 100))\n",
    "\n",
    "show(graph)\n",
    "\n",
    "marks += 2"
   ]
  },
  {
   "cell_type": "markdown",
   "metadata": {},
   "source": [
    "### 3(h)\n",
    "<div style=\"text-align: right; font-size: 1.1em; color:red\"> [2 marks]</div>\n",
    "\n",
    "Compute the **Resale Price** of three test cases. Show the answer rounded to one decminal place.\n",
    " - **District** = 4, **Floor Area** = 120 \n",
    " - **District** = 11, **Floor Area** = 220 \n",
    " - **District** = 13, **Floor Area** = 0 "
   ]
  },
  {
   "cell_type": "code",
   "execution_count": 72,
   "metadata": {},
   "outputs": [
    {
     "data": {
      "text/html": [
       "<html><script type=\"math/tex; mode=display\">\\newcommand{\\Bold}[1]{\\mathbf{#1}}\\verb|District|\\phantom{\\verb!x!}\\verb|=|\\phantom{\\verb!x!}\\verb|4,|\\phantom{\\verb!x!}\\verb|Floor|\\phantom{\\verb!x!}\\verb|Area|\\phantom{\\verb!x!}\\verb|=|\\phantom{\\verb!x!}\\verb|120,|\\phantom{\\verb!x!}\\verb|Predicted|\\phantom{\\verb!x!}\\verb|Resale|\\phantom{\\verb!x!}\\verb|Price|\\phantom{\\verb!x!}\\verb|=| 555987.4</script></html>"
      ],
      "text/latex": [
       "\\begin{math}\n",
       "\\newcommand{\\Bold}[1]{\\mathbf{#1}}\\verb|District|\\phantom{\\verb!x!}\\verb|=|\\phantom{\\verb!x!}\\verb|4,|\\phantom{\\verb!x!}\\verb|Floor|\\phantom{\\verb!x!}\\verb|Area|\\phantom{\\verb!x!}\\verb|=|\\phantom{\\verb!x!}\\verb|120,|\\phantom{\\verb!x!}\\verb|Predicted|\\phantom{\\verb!x!}\\verb|Resale|\\phantom{\\verb!x!}\\verb|Price|\\phantom{\\verb!x!}\\verb|=| 555987.4\n",
       "\\end{math}"
      ],
      "text/plain": [
       "'District = 4, Floor Area = 120, Predicted Resale Price = ' 555987.4"
      ]
     },
     "metadata": {},
     "output_type": "display_data"
    },
    {
     "data": {
      "text/html": [
       "<html><script type=\"math/tex; mode=display\">\\newcommand{\\Bold}[1]{\\mathbf{#1}}\\verb|District|\\phantom{\\verb!x!}\\verb|=|\\phantom{\\verb!x!}\\verb|11,|\\phantom{\\verb!x!}\\verb|Floor|\\phantom{\\verb!x!}\\verb|Area|\\phantom{\\verb!x!}\\verb|=|\\phantom{\\verb!x!}\\verb|220,|\\phantom{\\verb!x!}\\verb|Predicted|\\phantom{\\verb!x!}\\verb|Resale|\\phantom{\\verb!x!}\\verb|Price|\\phantom{\\verb!x!}\\verb|=| 993374.7</script></html>"
      ],
      "text/latex": [
       "\\begin{math}\n",
       "\\newcommand{\\Bold}[1]{\\mathbf{#1}}\\verb|District|\\phantom{\\verb!x!}\\verb|=|\\phantom{\\verb!x!}\\verb|11,|\\phantom{\\verb!x!}\\verb|Floor|\\phantom{\\verb!x!}\\verb|Area|\\phantom{\\verb!x!}\\verb|=|\\phantom{\\verb!x!}\\verb|220,|\\phantom{\\verb!x!}\\verb|Predicted|\\phantom{\\verb!x!}\\verb|Resale|\\phantom{\\verb!x!}\\verb|Price|\\phantom{\\verb!x!}\\verb|=| 993374.7\n",
       "\\end{math}"
      ],
      "text/plain": [
       "'District = 11, Floor Area = 220, Predicted Resale Price = ' 993374.7"
      ]
     },
     "metadata": {},
     "output_type": "display_data"
    },
    {
     "data": {
      "text/html": [
       "<html><script type=\"math/tex; mode=display\">\\newcommand{\\Bold}[1]{\\mathbf{#1}}\\verb|District|\\phantom{\\verb!x!}\\verb|=|\\phantom{\\verb!x!}\\verb|1,|\\phantom{\\verb!x!}\\verb|Floor|\\phantom{\\verb!x!}\\verb|Area|\\phantom{\\verb!x!}\\verb|=|\\phantom{\\verb!x!}\\verb|13,|\\phantom{\\verb!x!}\\verb|Predicted|\\phantom{\\verb!x!}\\verb|Resale|\\phantom{\\verb!x!}\\verb|Price|\\phantom{\\verb!x!}\\verb|=| -4236.3</script></html>"
      ],
      "text/latex": [
       "\\begin{math}\n",
       "\\newcommand{\\Bold}[1]{\\mathbf{#1}}\\verb|District|\\phantom{\\verb!x!}\\verb|=|\\phantom{\\verb!x!}\\verb|1,|\\phantom{\\verb!x!}\\verb|Floor|\\phantom{\\verb!x!}\\verb|Area|\\phantom{\\verb!x!}\\verb|=|\\phantom{\\verb!x!}\\verb|13,|\\phantom{\\verb!x!}\\verb|Predicted|\\phantom{\\verb!x!}\\verb|Resale|\\phantom{\\verb!x!}\\verb|Price|\\phantom{\\verb!x!}\\verb|=| -4236.3\n",
       "\\end{math}"
      ],
      "text/plain": [
       "'District = 1, Floor Area = 13, Predicted Resale Price = ' -4236.3"
      ]
     },
     "metadata": {},
     "output_type": "display_data"
    },
    {
     "name": "stdout",
     "output_type": "stream",
     "text": [
      "39\n"
     ]
    }
   ],
   "source": [
    "#Create the input matrix\n",
    "input = matrix(RDF, [[1, 4, 120], \n",
    "                     [1, 11, 220], \n",
    "                     [1, 13, 0]])\n",
    "#Compute corresponding b hat value\n",
    "bHat = input * Beta\n",
    "pretty_print(\"District = 4, Floor Area = 120, Predicted Resale Price = \", round(bHat[0], 1))\n",
    "pretty_print(\"District = 11, Floor Area = 220, Predicted Resale Price = \", round(bHat[1], 1))\n",
    "pretty_print(\"District = 1, Floor Area = 13, Predicted Resale Price = \", round(bHat[2], 1))\n",
    "\n",
    "marks += 2\n",
    "print(marks)"
   ]
  }
 ],
 "metadata": {
  "kernelspec": {
   "display_name": "SageMath 9.2",
   "language": "sage",
   "name": "sagemath"
  },
  "language_info": {
   "codemirror_mode": {
    "name": "ipython",
    "version": 3
   },
   "file_extension": ".py",
   "mimetype": "text/x-python",
   "name": "python",
   "nbconvert_exporter": "python",
   "pygments_lexer": "ipython3",
   "version": "3.7.7"
  }
 },
 "nbformat": 4,
 "nbformat_minor": 2
}

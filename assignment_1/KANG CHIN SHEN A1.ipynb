{
 "cells": [
  {
   "cell_type": "markdown",
   "metadata": {},
   "source": [
    "<div style=\"color:darkgreen;background-color:lightgreen;padding:10px\">\n",
    "\n",
    "# <center>Assignment 1</center>\n",
    "\n",
    "<div style=\"font-size: 1.3em; color:red;padding-top:10px\"><center></center></div>\n",
    "</div>\n",
    "\n",
    "</div>\n",
    "\n",
    "## Instructions\n",
    "1. Create a Jupyter notebook, using this file as the skeleton\n",
    "1. Please add extra code or markdown cells as needed for clarity and formatting\n",
    "1. You may be able to use the Labs, homeworks or practice exercises as samples to work out the solutions\n",
    "1. Please do not copy files from your classmates, or cut and paste\n",
    "1. Before submitting, make sure that everything recomputes properly\n",
    "    - Save and close the Jupyter notebook, restart *SageMath* and load the file again\n",
    "    - Clear all output from **Cell >> All Output >> Clear**\n",
    "    - Repopulate everything by  **Cell >> Run All**\n",
    "    - Check carefully to ensure that all answers are computed correcly\n",
    "1. Rename your file using your name, like: `manoj-A1.ipynb`\n",
    "1. Submit to **eLearn >> Assignments >> Assignment 1** folder\n",
    "    - You can submit as many times as you want, but only the last submission will be retained and graded\n",
    "    - To be clear, the previous versions will be *overwritten*\n",
    "    - All submissions are timestamped, and late submissions will be penalized\n",
    "    - After a short grace period, the Assignment folder will be locked\n",
    "    - Please do not try to submit by email or any other means\n",
    "\n",
    "## Valuation\n",
    "Assignment will be graded using the following criteria\n",
    "   - 70% : Correctness\n",
    "   - 10% : Brevity and elegance of the solutions\n",
    "   - 10% : Clarity and formatting\n",
    "   - 10% : Creativity  \n",
    "Do not ask us to specify what creativity is. If we were to specify it, it wouldn't be *creativity*, but *instructions*!\n",
    "\n",
    "## Hints\n",
    "   - Some of the questions require data entry, like defining matrices in **Q1**. In order to help you avoid typos, I have provided the numbers that can be copied and pasted.\n",
    "   - The names of the matrices and vectors (as in $Ax=b$) may be repeated between questions. In order to avoid using a wrong matrix (e.g., $A$ in **Q1** reused in **Q2**), I recommend you use `A1` ($A_1$) for **Q1**,  `A2` ($A_2$) for **Q2** and so on.\n",
    "   - In many places, you will be asked to compare answers. Wherever possible, the comparison should be done using `==` and answer should be printed out.  \n",
    "Example: Compare a and b: `print(\"Is a equal to b? \", a == b)`\n",
    "  \n"
   ]
  },
  {
   "cell_type": "markdown",
   "metadata": {},
   "source": [
    "<div style=\"color:darkgreen;background-color:lightgreen;padding:10px\">\n",
    "\n",
    "\n",
    "# Question 1\n",
    "<div style=\"text-align: right; font-size: 1.3em; color:red\"> Total 10 Marks for Q1</div>\n",
    "</div>"
   ]
  },
  {
   "cell_type": "markdown",
   "metadata": {},
   "source": [
    "### 1(a)\n",
    "<div style=\"text-align: right; font-size: 1.1em; color:red\"> [2 marks]</div>\n",
    "\n",
    "Check whether the three vectors given below are linearly independent. If not, find the relationship between these vectors.\n",
    "$$ x_1 = \\left(\\begin{array}{r}\n",
    "1 \\\\\n",
    "1 \\\\\n",
    "0\n",
    "\\end{array}\\right)\n",
    "\\qquad x_2 =\n",
    "\\left(\\begin{array}{r}\n",
    "0 \\\\\n",
    "1 \\\\\n",
    "2\n",
    "\\end{array}\\right)\n",
    "\\qquad x_3 =\n",
    "\\left(\\begin{array}{r}\n",
    "3 \\\\\n",
    "1 \\\\\n",
    "-4\n",
    "\\end{array}\\right)$$\n",
    "\n",
    "`Vectors: (1, 1, 0), (0, 1, 2), (3, 1, -4)`"
   ]
  },
  {
   "cell_type": "code",
   "execution_count": 70,
   "metadata": {},
   "outputs": [
    {
     "data": {
      "text/html": [
       "<html><script type=\"math/tex; mode=display\">\\newcommand{\\Bold}[1]{\\mathbf{#1}}\\verb|matrix|\\phantom{\\verb!x!}\\verb|A|\\phantom{\\verb!x!}\\verb|:| \\left(\\begin{array}{rrr}\n",
       "1 & 1 & 0 \\\\\n",
       "0 & 1 & 2 \\\\\n",
       "3 & 1 & -4\n",
       "\\end{array}\\right)</script></html>"
      ],
      "text/latex": [
       "\\begin{math}\n",
       "\\newcommand{\\Bold}[1]{\\mathbf{#1}}\\verb|matrix|\\phantom{\\verb!x!}\\verb|A|\\phantom{\\verb!x!}\\verb|:| \\left(\\begin{array}{rrr}\n",
       "1 & 1 & 0 \\\\\n",
       "0 & 1 & 2 \\\\\n",
       "3 & 1 & -4\n",
       "\\end{array}\\right)\n",
       "\\end{math}"
      ],
      "text/plain": [
       "'matrix A :' [ 1  1  0]\n",
       "[ 0  1  2]\n",
       "[ 3  1 -4]"
      ]
     },
     "metadata": {},
     "output_type": "display_data"
    },
    {
     "data": {
      "text/html": [
       "<html><script type=\"math/tex; mode=display\">\\newcommand{\\Bold}[1]{\\mathbf{#1}}\\verb|Rank|\\phantom{\\verb!x!}\\verb|of|\\phantom{\\verb!x!}\\verb|matrix|\\phantom{\\verb!x!}\\verb|A|\\phantom{\\verb!x!}\\verb|:| 2</script></html>"
      ],
      "text/latex": [
       "\\begin{math}\n",
       "\\newcommand{\\Bold}[1]{\\mathbf{#1}}\\verb|Rank|\\phantom{\\verb!x!}\\verb|of|\\phantom{\\verb!x!}\\verb|matrix|\\phantom{\\verb!x!}\\verb|A|\\phantom{\\verb!x!}\\verb|:| 2\n",
       "\\end{math}"
      ],
      "text/plain": [
       "'Rank of matrix A :' 2"
      ]
     },
     "metadata": {},
     "output_type": "display_data"
    }
   ],
   "source": [
    "#Create vectors x1, x2, x3\n",
    "x1 = vector([1, 1, 0])\n",
    "x2 = vector([0, 1, 2])\n",
    "x3 = vector([3, 1, -4])\n",
    "\n",
    "#Create matrix A composed of vectors x1, x2, x3\n",
    "A = matrix(QQ, [x1, x2, x3])\n",
    "\n",
    "#Show matrix A\n",
    "pretty_print(\"matrix A :\", A)\n",
    "\n",
    "#Show rank of matrix A\n",
    "pretty_print(\"Rank of matrix A :\", A.rank())"
   ]
  },
  {
   "cell_type": "markdown",
   "metadata": {},
   "source": [
    "No, the three vectors given are not linearly independent.\n",
    "\n",
    "The rank of A is 2, this indicates that A is not a full-rank matrix and there are only 2 (out of 3) linearly independent equations. In other words, there is one linearly dependent equation."
   ]
  },
  {
   "cell_type": "code",
   "execution_count": 71,
   "metadata": {},
   "outputs": [
    {
     "data": {
      "text/html": [
       "<html><script type=\"math/tex; mode=display\">\\newcommand{\\Bold}[1]{\\mathbf{#1}}\\verb|s1|\\phantom{\\verb!x!}\\verb|==|\\phantom{\\verb!x!}\\verb|3,|\\phantom{\\verb!x!}\\verb|s2|\\phantom{\\verb!x!}\\verb|==|\\phantom{\\verb!x!}\\verb|-2|</script></html>"
      ],
      "text/latex": [
       "\\begin{math}\n",
       "\\newcommand{\\Bold}[1]{\\mathbf{#1}}\\verb|s1|\\phantom{\\verb!x!}\\verb|==|\\phantom{\\verb!x!}\\verb|3,|\\phantom{\\verb!x!}\\verb|s2|\\phantom{\\verb!x!}\\verb|==|\\phantom{\\verb!x!}\\verb|-2|\n",
       "\\end{math}"
      ],
      "text/plain": [
       "'s1 == 3, s2 == -2'"
      ]
     },
     "metadata": {},
     "output_type": "display_data"
    }
   ],
   "source": [
    "#Find the scalars s1, s2 to show the linear dependency\n",
    "var('s1, s2')\n",
    "eq_1 = 1*s1 + 0*s2 == 3\n",
    "eq_2 = 1*s1 + 1*s2 == 1\n",
    "eq_3 = 0*s1 + 2*s2 == -4\n",
    "\n",
    "#Solve the equations to obtain s1, s2\n",
    "pretty_print(str(solve([eq_1, eq_2, eq_3], s1, s2))[3:-3])\n",
    "\n",
    "marks = 0\n",
    "marks += 2"
   ]
  },
  {
   "cell_type": "markdown",
   "metadata": {},
   "source": [
    "By solving the equations, we have s1 = 3, s2 = -2, such that (s1 * x1) + (s2 * x2) = x3. This implies that x3 is linearly dependent on x1 and x2 because it is, in fact, a linear combination of them."
   ]
  },
  {
   "cell_type": "markdown",
   "metadata": {},
   "source": [
    "### 1(b)\n",
    "<div style=\"text-align: right; font-size: 1.1em; color:red\"> [2 marks]</div>\n",
    "\n",
    "Here is a matrix $A$.\n",
    "$$ A =  \\left(\\begin{array}{rr}\n",
    "1 & 0 & 0 \\\\\n",
    "2 & 3 & 0 \\\\\n",
    "3 & 1 & 2\n",
    "\\end{array}\\right) $$\n",
    "\n",
    "Express vector $x$ as a linear combination of the column vectors of $A$.\n",
    "$$ x = \\left(\\begin{array}{r}\n",
    "1 \\\\\n",
    "1 \\\\\n",
    "2\n",
    "\\end{array}\\right) $$\n",
    "\n",
    "`A: [(1, 0, 0), (2, 3, 0), (3, 1, 2)]` \n",
    "`x: (1, 1, 2)`"
   ]
  },
  {
   "cell_type": "code",
   "execution_count": 72,
   "metadata": {},
   "outputs": [
    {
     "data": {
      "text/html": [
       "<html><script type=\"math/tex; mode=display\">\\newcommand{\\Bold}[1]{\\mathbf{#1}}\\verb|RREF|\\phantom{\\verb!x!}\\verb|of|\\phantom{\\verb!x!}\\verb|A_aug:|</script></html>"
      ],
      "text/latex": [
       "\\begin{math}\n",
       "\\newcommand{\\Bold}[1]{\\mathbf{#1}}\\verb|RREF|\\phantom{\\verb!x!}\\verb|of|\\phantom{\\verb!x!}\\verb|A_aug:|\n",
       "\\end{math}"
      ],
      "text/plain": [
       "'RREF of A_aug: '"
      ]
     },
     "metadata": {},
     "output_type": "display_data"
    },
    {
     "data": {
      "text/html": [
       "<html><script type=\"math/tex; mode=display\">\\newcommand{\\Bold}[1]{\\mathbf{#1}}\\left(\\begin{array}{rrr|r}\n",
       "1 & 0 & 0 & 1 \\\\\n",
       "0 & 1 & 0 & -\\frac{1}{3} \\\\\n",
       "0 & 0 & 1 & -\\frac{1}{3}\n",
       "\\end{array}\\right)</script></html>"
      ],
      "text/latex": [
       "\\begin{math}\n",
       "\\newcommand{\\Bold}[1]{\\mathbf{#1}}\\left(\\begin{array}{rrr|r}\n",
       "1 & 0 & 0 & 1 \\\\\n",
       "0 & 1 & 0 & -\\frac{1}{3} \\\\\n",
       "0 & 0 & 1 & -\\frac{1}{3}\n",
       "\\end{array}\\right)\n",
       "\\end{math}"
      ],
      "text/plain": [
       "[   1    0    0|   1]\n",
       "[   0    1    0|-1/3]\n",
       "[   0    0    1|-1/3]"
      ]
     },
     "metadata": {},
     "output_type": "display_data"
    }
   ],
   "source": [
    "#Create matrix A\n",
    "A = matrix([[1, 0, 0], [2, 3, 0], [3, 1, 2]])\n",
    "\n",
    "#Create vector x\n",
    "x = vector([1, 1, 2])\n",
    "\n",
    "#Create augmented matrix A_aug, composed of coefficient matrix A, and constant x\n",
    "A_x_aug = A.augment(x, subdivide = true)\n",
    "\n",
    "#Perform Gauss-Jordan Elimination to obtain RREF of A_aug\n",
    "pretty_print(\"RREF of A_aug: \")\n",
    "pretty_print(A_x_aug.rref())"
   ]
  },
  {
   "cell_type": "markdown",
   "metadata": {},
   "source": [
    "Let $a1, a2, a3$ be the columns of coefficient matrix A, from left to right. Then, we observe the column picture as below:"
   ]
  },
  {
   "cell_type": "code",
   "execution_count": 73,
   "metadata": {},
   "outputs": [
    {
     "data": {
      "text/html": [
       "<html><script type=\"math/tex; mode=display\">\\newcommand{\\Bold}[1]{\\mathbf{#1}}\\verb|vector|\\phantom{\\verb!x!}\\verb|x|\\phantom{\\verb!x!}\\verb|=| \\left(1,\\,1,\\,2\\right)</script></html>"
      ],
      "text/latex": [
       "\\begin{math}\n",
       "\\newcommand{\\Bold}[1]{\\mathbf{#1}}\\verb|vector|\\phantom{\\verb!x!}\\verb|x|\\phantom{\\verb!x!}\\verb|=| \\left(1,\\,1,\\,2\\right)\n",
       "\\end{math}"
      ],
      "text/plain": [
       "'vector x = ' (1, 1, 2)"
      ]
     },
     "metadata": {},
     "output_type": "display_data"
    },
    {
     "data": {
      "text/html": [
       "<html><script type=\"math/tex; mode=display\">\\newcommand{\\Bold}[1]{\\mathbf{#1}}\\verb|Expression|\\phantom{\\verb!x!}\\verb|vector|\\phantom{\\verb!x!}\\verb|x|\\phantom{\\verb!x!}\\verb|as|\\phantom{\\verb!x!}\\verb|linear|\\phantom{\\verb!x!}\\verb|combination|\\phantom{\\verb!x!}\\verb|of|\\phantom{\\verb!x!}\\verb|the|\\phantom{\\verb!x!}\\verb|column|\\phantom{\\verb!x!}\\verb|vectors|\\phantom{\\verb!x!}\\verb|of|\\phantom{\\verb!x!}\\verb|A|\\phantom{\\verb!x!}\\verb|:|\\phantom{\\verb!x!}\\verb|1*a1|\\phantom{\\verb!x!}\\verb|-|\\phantom{\\verb!x!}\\verb|(1/3)*a2|\\phantom{\\verb!x!}\\verb|-|\\phantom{\\verb!x!}\\verb|(1/3)*a3|\\phantom{\\verb!x!}\\verb|=| \\left(1,\\,1,\\,2\\right) \\phantom{\\verb!x!}\\verb|=|\\phantom{\\verb!x!}\\verb|x|</script></html>"
      ],
      "text/latex": [
       "\\begin{math}\n",
       "\\newcommand{\\Bold}[1]{\\mathbf{#1}}\\verb|Expression|\\phantom{\\verb!x!}\\verb|vector|\\phantom{\\verb!x!}\\verb|x|\\phantom{\\verb!x!}\\verb|as|\\phantom{\\verb!x!}\\verb|linear|\\phantom{\\verb!x!}\\verb|combination|\\phantom{\\verb!x!}\\verb|of|\\phantom{\\verb!x!}\\verb|the|\\phantom{\\verb!x!}\\verb|column|\\phantom{\\verb!x!}\\verb|vectors|\\phantom{\\verb!x!}\\verb|of|\\phantom{\\verb!x!}\\verb|A|\\phantom{\\verb!x!}\\verb|:|\\phantom{\\verb!x!}\\verb|1*a1|\\phantom{\\verb!x!}\\verb|-|\\phantom{\\verb!x!}\\verb|(1/3)*a2|\\phantom{\\verb!x!}\\verb|-|\\phantom{\\verb!x!}\\verb|(1/3)*a3|\\phantom{\\verb!x!}\\verb|=| \\left(1,\\,1,\\,2\\right) \\phantom{\\verb!x!}\\verb|=|\\phantom{\\verb!x!}\\verb|x|\n",
       "\\end{math}"
      ],
      "text/plain": [
       "'Expression vector x as linear combination of the column vectors of A : 1*a1 - (1/3)*a2 - (1/3)*a3 = ' (1, 1, 2) ' = x'"
      ]
     },
     "metadata": {},
     "output_type": "display_data"
    }
   ],
   "source": [
    "#Create the column vectors a1, a2, a3\n",
    "a1 = vector([1, 2, 3])\n",
    "a2 = vector([0, 3, 1])\n",
    "a3 = vector([0, 0, 2])\n",
    "\n",
    "#Verify the results of column picture with x\n",
    "pretty_print(\"vector x = \", x)\n",
    "pretty_print(\"Expression vector x as linear combination of the column vectors of A : 1*a1 - (1/3)*a2 - (1/3)*a3 = \", 1*a1 - (1/3)*a2 - (1/3)*a3, \" = x\")\n",
    "marks += 2"
   ]
  },
  {
   "cell_type": "markdown",
   "metadata": {},
   "source": [
    "### 1(c)\n",
    "<div style=\"text-align: right; font-size: 1.1em; color:red\"> [1 mark]</div>\n",
    "\n",
    "Here is another matrix $B$.\n",
    "$$ B =  \\left(\\begin{array}{rr}\n",
    "-1 & 2 & 13 \\\\\n",
    "14 & 3 & -1 \\\\\n",
    "1 & 4 & 0\n",
    "\\end{array}\\right) $$\n",
    "\n",
    "Check whether ($A$$B$)$A$ = $A$($B$$A$) and $(AB)^2$ = $A^2$$B^2$\n",
    "\n",
    "`B: [(-1, 2, 13), (14, 3, -1), (1, 4, 0)]` "
   ]
  },
  {
   "cell_type": "code",
   "execution_count": 74,
   "metadata": {},
   "outputs": [
    {
     "data": {
      "text/html": [
       "<html><script type=\"math/tex; mode=display\">\\newcommand{\\Bold}[1]{\\mathbf{#1}}\\verb|Is|\\phantom{\\verb!x!}\\verb|(AB)A|\\phantom{\\verb!x!}\\verb|equals|\\phantom{\\verb!x!}\\verb|to|\\phantom{\\verb!x!}\\verb|A(BA)?|\\phantom{\\verb!x!}\\verb|:| \\mathrm{True}</script></html>"
      ],
      "text/latex": [
       "\\begin{math}\n",
       "\\newcommand{\\Bold}[1]{\\mathbf{#1}}\\verb|Is|\\phantom{\\verb!x!}\\verb|(AB)A|\\phantom{\\verb!x!}\\verb|equals|\\phantom{\\verb!x!}\\verb|to|\\phantom{\\verb!x!}\\verb|A(BA)?|\\phantom{\\verb!x!}\\verb|:| \\mathrm{True}\n",
       "\\end{math}"
      ],
      "text/plain": [
       "'Is (AB)A equals to A(BA)? : ' True"
      ]
     },
     "metadata": {},
     "output_type": "display_data"
    },
    {
     "data": {
      "text/html": [
       "<html><script type=\"math/tex; mode=display\">\\newcommand{\\Bold}[1]{\\mathbf{#1}}\\verb|Is|\\phantom{\\verb!x!}\\verb|Equation|\\phantom{\\verb!x!}\\verb|(AB)^2|\\phantom{\\verb!x!}\\verb|equals|\\phantom{\\verb!x!}\\verb|to|\\phantom{\\verb!x!}\\verb|(A^2)(B^2)?|\\phantom{\\verb!x!}\\verb|:| \\mathrm{False}</script></html>"
      ],
      "text/latex": [
       "\\begin{math}\n",
       "\\newcommand{\\Bold}[1]{\\mathbf{#1}}\\verb|Is|\\phantom{\\verb!x!}\\verb|Equation|\\phantom{\\verb!x!}\\verb|(AB)^2|\\phantom{\\verb!x!}\\verb|equals|\\phantom{\\verb!x!}\\verb|to|\\phantom{\\verb!x!}\\verb|(A^2)(B^2)?|\\phantom{\\verb!x!}\\verb|:| \\mathrm{False}\n",
       "\\end{math}"
      ],
      "text/plain": [
       "'Is Equation (AB)^2 equals to (A^2)(B^2)? :' False"
      ]
     },
     "metadata": {},
     "output_type": "display_data"
    }
   ],
   "source": [
    "#Create matrix B\n",
    "B = matrix([[-1, 2, 13], [14, 3, -1], [1, 4, 0]])\n",
    "\n",
    "#Check if the statements are true\n",
    "pretty_print(\"Is (AB)A equals to A(BA)? : \", (A * B) * A == A * (B * A))\n",
    "pretty_print(\"Is Equation (AB)^2 equals to (A^2)(B^2)? :\", (A * B) ** 2 == (A ** 2) * (B ** 2))\n",
    "\n",
    "marks += 1"
   ]
  },
  {
   "cell_type": "markdown",
   "metadata": {},
   "source": [
    "### 1(d)\n",
    "<div style=\"text-align: right; font-size: 1.1em; color:red\"> [2 marks]</div>\n",
    "\n",
    "Is $B$ singular? Is it skew-symmetric? If not, find a possible skew-symmetric matrix using $B$?"
   ]
  },
  {
   "cell_type": "code",
   "execution_count": 75,
   "metadata": {},
   "outputs": [
    {
     "data": {
      "text/html": [
       "<html><script type=\"math/tex; mode=display\">\\newcommand{\\Bold}[1]{\\mathbf{#1}}\\verb|Is|\\phantom{\\verb!x!}\\verb|B|\\phantom{\\verb!x!}\\verb|singular?|\\phantom{\\verb!x!}\\verb|(determinant|\\phantom{\\verb!x!}\\verb|of|\\phantom{\\verb!x!}\\verb|matrix|\\phantom{\\verb!x!}\\verb|B|\\phantom{\\verb!x!}\\verb|equals|\\phantom{\\verb!x!}\\verb|to|\\phantom{\\verb!x!}\\verb|0)|\\phantom{\\verb!x!}\\verb|:| \\mathrm{False}</script></html>"
      ],
      "text/latex": [
       "\\begin{math}\n",
       "\\newcommand{\\Bold}[1]{\\mathbf{#1}}\\verb|Is|\\phantom{\\verb!x!}\\verb|B|\\phantom{\\verb!x!}\\verb|singular?|\\phantom{\\verb!x!}\\verb|(determinant|\\phantom{\\verb!x!}\\verb|of|\\phantom{\\verb!x!}\\verb|matrix|\\phantom{\\verb!x!}\\verb|B|\\phantom{\\verb!x!}\\verb|equals|\\phantom{\\verb!x!}\\verb|to|\\phantom{\\verb!x!}\\verb|0)|\\phantom{\\verb!x!}\\verb|:| \\mathrm{False}\n",
       "\\end{math}"
      ],
      "text/plain": [
       "'Is B singular? (determinant of matrix B equals to 0) :' False"
      ]
     },
     "metadata": {},
     "output_type": "display_data"
    },
    {
     "data": {
      "text/html": [
       "<html><script type=\"math/tex; mode=display\">\\newcommand{\\Bold}[1]{\\mathbf{#1}}\\verb|Is|\\phantom{\\verb!x!}\\verb|skew-symmetric?|\\phantom{\\verb!x!}\\verb|(B^T|\\phantom{\\verb!x!}\\verb|==|\\phantom{\\verb!x!}\\verb|-B)|\\phantom{\\verb!x!}\\verb|:| \\mathrm{False}</script></html>"
      ],
      "text/latex": [
       "\\begin{math}\n",
       "\\newcommand{\\Bold}[1]{\\mathbf{#1}}\\verb|Is|\\phantom{\\verb!x!}\\verb|skew-symmetric?|\\phantom{\\verb!x!}\\verb|(B^T|\\phantom{\\verb!x!}\\verb|==|\\phantom{\\verb!x!}\\verb|-B)|\\phantom{\\verb!x!}\\verb|:| \\mathrm{False}\n",
       "\\end{math}"
      ],
      "text/plain": [
       "'Is skew-symmetric? (B^T == -B) :' False"
      ]
     },
     "metadata": {},
     "output_type": "display_data"
    }
   ],
   "source": [
    "#Get the determinant of matrix B for singularity check\n",
    "pretty_print(\"Is B singular? (determinant of matrix B equals to 0) :\", B.det() == 0)\n",
    "\n",
    "#Check if the matrix B is skew-symmetric\n",
    "pretty_print(\"Is skew-symmetric? (B^T == -B) :\", B.T == -B)"
   ]
  },
  {
   "cell_type": "markdown",
   "metadata": {},
   "source": [
    "The first result indicates that B has a non-zero determinant. Hence, matrix B is not a singular matrix.\n",
    "\n",
    "The second result indicates that B is not a skew-symmetric matrix by performing a simple test, i.e., taking transpose of B and check if that is equal to negative of B."
   ]
  },
  {
   "cell_type": "code",
   "execution_count": 76,
   "metadata": {},
   "outputs": [
    {
     "data": {
      "text/html": [
       "<html><script type=\"math/tex; mode=display\">\\newcommand{\\Bold}[1]{\\mathbf{#1}}\\verb|Skew-symmetric|\\phantom{\\verb!x!}\\verb|matrix|\\phantom{\\verb!x!}\\verb|made|\\phantom{\\verb!x!}\\verb|based|\\phantom{\\verb!x!}\\verb|on|\\phantom{\\verb!x!}\\verb|matrix|\\phantom{\\verb!x!}\\verb|B|\\phantom{\\verb!x!}\\verb|:|</script></html>"
      ],
      "text/latex": [
       "\\begin{math}\n",
       "\\newcommand{\\Bold}[1]{\\mathbf{#1}}\\verb|Skew-symmetric|\\phantom{\\verb!x!}\\verb|matrix|\\phantom{\\verb!x!}\\verb|made|\\phantom{\\verb!x!}\\verb|based|\\phantom{\\verb!x!}\\verb|on|\\phantom{\\verb!x!}\\verb|matrix|\\phantom{\\verb!x!}\\verb|B|\\phantom{\\verb!x!}\\verb|:|\n",
       "\\end{math}"
      ],
      "text/plain": [
       "'Skew-symmetric matrix made based on matrix B :'"
      ]
     },
     "metadata": {},
     "output_type": "display_data"
    },
    {
     "data": {
      "text/html": [
       "<html><script type=\"math/tex; mode=display\">\\newcommand{\\Bold}[1]{\\mathbf{#1}}\\left(\\begin{array}{rrr}\n",
       "0 & -12 & 12 \\\\\n",
       "12 & 0 & -5 \\\\\n",
       "-12 & 5 & 0\n",
       "\\end{array}\\right)</script></html>"
      ],
      "text/latex": [
       "\\begin{math}\n",
       "\\newcommand{\\Bold}[1]{\\mathbf{#1}}\\left(\\begin{array}{rrr}\n",
       "0 & -12 & 12 \\\\\n",
       "12 & 0 & -5 \\\\\n",
       "-12 & 5 & 0\n",
       "\\end{array}\\right)\n",
       "\\end{math}"
      ],
      "text/plain": [
       "[  0 -12  12]\n",
       "[ 12   0  -5]\n",
       "[-12   5   0]"
      ]
     },
     "metadata": {},
     "output_type": "display_data"
    }
   ],
   "source": [
    "#Create a skew-symmetric matrix using B\n",
    "pretty_print(\"Skew-symmetric matrix made based on matrix B :\")\n",
    "pretty_print(B - B.T)\n",
    "\n",
    "marks += 2"
   ]
  },
  {
   "cell_type": "markdown",
   "metadata": {},
   "source": [
    "This creates a skew-symmetric matrix based on B, i.e., by taking B minus transpose of B."
   ]
  },
  {
   "cell_type": "markdown",
   "metadata": {},
   "source": [
    "### 1(e)\n",
    "<div style=\"text-align: right; font-size: 1.1em; color:red\"> [1 mark]</div>\n",
    "\n",
    "What is $A(A^{-1}+B^{-1})B(A+B)^{-1}A^T$?"
   ]
  },
  {
   "cell_type": "code",
   "execution_count": 77,
   "metadata": {},
   "outputs": [
    {
     "data": {
      "text/html": [
       "<html><script type=\"math/tex; mode=display\">\\newcommand{\\Bold}[1]{\\mathbf{#1}}\\verb|Result|\\phantom{\\verb!x!}\\verb|of|\\phantom{\\verb!x!}\\verb|computation:|</script></html>"
      ],
      "text/latex": [
       "\\begin{math}\n",
       "\\newcommand{\\Bold}[1]{\\mathbf{#1}}\\verb|Result|\\phantom{\\verb!x!}\\verb|of|\\phantom{\\verb!x!}\\verb|computation:|\n",
       "\\end{math}"
      ],
      "text/plain": [
       "'Result of computation: '"
      ]
     },
     "metadata": {},
     "output_type": "display_data"
    },
    {
     "data": {
      "text/html": [
       "<html><script type=\"math/tex; mode=display\">\\newcommand{\\Bold}[1]{\\mathbf{#1}}\\left(\\begin{array}{rrr}\n",
       "1 & 2 & 3 \\\\\n",
       "0 & 3 & 1 \\\\\n",
       "0 & 0 & 2\n",
       "\\end{array}\\right)</script></html>"
      ],
      "text/latex": [
       "\\begin{math}\n",
       "\\newcommand{\\Bold}[1]{\\mathbf{#1}}\\left(\\begin{array}{rrr}\n",
       "1 & 2 & 3 \\\\\n",
       "0 & 3 & 1 \\\\\n",
       "0 & 0 & 2\n",
       "\\end{array}\\right)\n",
       "\\end{math}"
      ],
      "text/plain": [
       "[1 2 3]\n",
       "[0 3 1]\n",
       "[0 0 2]"
      ]
     },
     "metadata": {},
     "output_type": "display_data"
    }
   ],
   "source": [
    "#Perform computation for ( A * (A^-1 + B^-1) * B * (A + B)^-1 * A^T ) using SageMath\n",
    "pretty_print(\"Result of computation: \")\n",
    "pretty_print(A * (A.inverse() + B.inverse()) * B * (A + B).inverse() * A.T)\n",
    "\n",
    "marks += 0.8\n",
    "#can simplify given expression to A.T using properties of inverses"
   ]
  },
  {
   "cell_type": "markdown",
   "metadata": {},
   "source": [
    "### 1(f)\n",
    "<div style=\"text-align: right; font-size: 1.1em; color:red\"> [2 marks]</div>\n",
    "\n",
    "What is $(A^TB)^T$? Illustrate using column picture of matrix multiplication."
   ]
  },
  {
   "cell_type": "markdown",
   "metadata": {},
   "source": [
    "Before performing any computation, we can simplify $(A^TB)^T = B^T(A^T)^T = B^TA$. Hence, first show what matrix $B^T$ is, as well as matrix $A$ for reference purpose."
   ]
  },
  {
   "cell_type": "code",
   "execution_count": 78,
   "metadata": {},
   "outputs": [
    {
     "data": {
      "text/html": [
       "<html><script type=\"math/tex; mode=display\">\\newcommand{\\Bold}[1]{\\mathbf{#1}}\\verb|Matrix|\\phantom{\\verb!x!}\\verb|B^T|\\phantom{\\verb!x!}\\verb|:|</script></html>"
      ],
      "text/latex": [
       "\\begin{math}\n",
       "\\newcommand{\\Bold}[1]{\\mathbf{#1}}\\verb|Matrix|\\phantom{\\verb!x!}\\verb|B^T|\\phantom{\\verb!x!}\\verb|:|\n",
       "\\end{math}"
      ],
      "text/plain": [
       "'Matrix B^T : '"
      ]
     },
     "metadata": {},
     "output_type": "display_data"
    },
    {
     "data": {
      "text/html": [
       "<html><script type=\"math/tex; mode=display\">\\newcommand{\\Bold}[1]{\\mathbf{#1}}\\left(\\begin{array}{rrr}\n",
       "-1 & 14 & 1 \\\\\n",
       "2 & 3 & 4 \\\\\n",
       "13 & -1 & 0\n",
       "\\end{array}\\right)</script></html>"
      ],
      "text/latex": [
       "\\begin{math}\n",
       "\\newcommand{\\Bold}[1]{\\mathbf{#1}}\\left(\\begin{array}{rrr}\n",
       "-1 & 14 & 1 \\\\\n",
       "2 & 3 & 4 \\\\\n",
       "13 & -1 & 0\n",
       "\\end{array}\\right)\n",
       "\\end{math}"
      ],
      "text/plain": [
       "[-1 14  1]\n",
       "[ 2  3  4]\n",
       "[13 -1  0]"
      ]
     },
     "metadata": {},
     "output_type": "display_data"
    },
    {
     "data": {
      "text/html": [
       "<html><script type=\"math/tex; mode=display\">\\newcommand{\\Bold}[1]{\\mathbf{#1}}\\verb|Matrix|\\phantom{\\verb!x!}\\verb|A|\\phantom{\\verb!x!}\\verb|:|</script></html>"
      ],
      "text/latex": [
       "\\begin{math}\n",
       "\\newcommand{\\Bold}[1]{\\mathbf{#1}}\\verb|Matrix|\\phantom{\\verb!x!}\\verb|A|\\phantom{\\verb!x!}\\verb|:|\n",
       "\\end{math}"
      ],
      "text/plain": [
       "'Matrix A : '"
      ]
     },
     "metadata": {},
     "output_type": "display_data"
    },
    {
     "data": {
      "text/html": [
       "<html><script type=\"math/tex; mode=display\">\\newcommand{\\Bold}[1]{\\mathbf{#1}}\\left(\\begin{array}{rrr}\n",
       "1 & 0 & 0 \\\\\n",
       "2 & 3 & 0 \\\\\n",
       "3 & 1 & 2\n",
       "\\end{array}\\right)</script></html>"
      ],
      "text/latex": [
       "\\begin{math}\n",
       "\\newcommand{\\Bold}[1]{\\mathbf{#1}}\\left(\\begin{array}{rrr}\n",
       "1 & 0 & 0 \\\\\n",
       "2 & 3 & 0 \\\\\n",
       "3 & 1 & 2\n",
       "\\end{array}\\right)\n",
       "\\end{math}"
      ],
      "text/plain": [
       "[1 0 0]\n",
       "[2 3 0]\n",
       "[3 1 2]"
      ]
     },
     "metadata": {},
     "output_type": "display_data"
    }
   ],
   "source": [
    "#Show Transpose of matrix B\n",
    "pretty_print(\"Matrix B^T : \")\n",
    "pretty_print(B.T)\n",
    "\n",
    "#Show matrix A\n",
    "pretty_print(\"Matrix A : \")\n",
    "pretty_print(A)"
   ]
  },
  {
   "cell_type": "markdown",
   "metadata": {},
   "source": [
    "The column picture of matrix multiplication for $B^TA$ is done by the following step:\n",
    "\n",
    "(1) Take each column vector in $B^T$, scaled by each scalar in the first column of $A$, the summation of these scaled column vectors gives the first column vector of $B^TA$. \n",
    "    \n",
    "(2) Repeat the first step until all column vectors in $A$ are exhausted (second column and third column) to get the full $B^TA$."
   ]
  },
  {
   "cell_type": "code",
   "execution_count": 79,
   "metadata": {},
   "outputs": [
    {
     "data": {
      "text/html": [
       "<html><script type=\"math/tex; mode=display\">\\newcommand{\\Bold}[1]{\\mathbf{#1}}\\verb|Result|\\phantom{\\verb!x!}\\verb|of|\\phantom{\\verb!x!}\\verb|B^T|\\phantom{\\verb!x!}\\verb|*|\\phantom{\\verb!x!}\\verb|A|\\phantom{\\verb!x!}\\verb|using|\\phantom{\\verb!x!}\\verb|column|\\phantom{\\verb!x!}\\verb|picture|\\phantom{\\verb!x!}\\verb|:|</script></html>"
      ],
      "text/latex": [
       "\\begin{math}\n",
       "\\newcommand{\\Bold}[1]{\\mathbf{#1}}\\verb|Result|\\phantom{\\verb!x!}\\verb|of|\\phantom{\\verb!x!}\\verb|B^T|\\phantom{\\verb!x!}\\verb|*|\\phantom{\\verb!x!}\\verb|A|\\phantom{\\verb!x!}\\verb|using|\\phantom{\\verb!x!}\\verb|column|\\phantom{\\verb!x!}\\verb|picture|\\phantom{\\verb!x!}\\verb|:|\n",
       "\\end{math}"
      ],
      "text/plain": [
       "'Result of B^T * A using column picture : '"
      ]
     },
     "metadata": {},
     "output_type": "display_data"
    },
    {
     "data": {
      "text/html": [
       "<html><script type=\"math/tex; mode=display\">\\newcommand{\\Bold}[1]{\\mathbf{#1}}\\left(\\begin{array}{rrr}\n",
       "30 & 43 & 2 \\\\\n",
       "20 & 13 & 8 \\\\\n",
       "11 & -3 & 0\n",
       "\\end{array}\\right)</script></html>"
      ],
      "text/latex": [
       "\\begin{math}\n",
       "\\newcommand{\\Bold}[1]{\\mathbf{#1}}\\left(\\begin{array}{rrr}\n",
       "30 & 43 & 2 \\\\\n",
       "20 & 13 & 8 \\\\\n",
       "11 & -3 & 0\n",
       "\\end{array}\\right)\n",
       "\\end{math}"
      ],
      "text/plain": [
       "[30 43  2]\n",
       "[20 13  8]\n",
       "[11 -3  0]"
      ]
     },
     "metadata": {},
     "output_type": "display_data"
    }
   ],
   "source": [
    "#Select the column vectors in A, as a1(first column), a2(second column), a3(third column) using unit vectors\n",
    "a1 = A * vector([1, 0, 0])\n",
    "a2 = A * vector([0, 1, 0])\n",
    "a3 = A * vector([0, 0, 1])\n",
    "\n",
    "#Perform matrix-vector multiplication using SageMath, as mentioned in the first step above\n",
    "#Create vectors for B^T * A, as bt_a1, bt_a2, bt_a3\n",
    "bt_a1 = B.T * a1\n",
    "bt_a2 = B.T * a2\n",
    "bt_a3 = B.T * a3\n",
    "\n",
    "#Store each vectors as rows in the matrix temp\n",
    "temp = matrix([bt_a1, bt_a2, bt_a3])\n",
    "\n",
    "#Convert temp to actual result, i.e., B^T * A\n",
    "bt_a = temp.T\n",
    "\n",
    "#Show the result of B^T * using column picture\n",
    "pretty_print(\"Result of B^T * A using column picture : \")\n",
    "pretty_print(bt_a)\n",
    "\n",
    "marks += 2"
   ]
  },
  {
   "cell_type": "markdown",
   "metadata": {},
   "source": [
    "<div style=\"color:darkgreen;background-color:lightgreen;padding:10px\">\n",
    "\n",
    "\n",
    "# Question 2\n",
    "<div style=\"text-align: right; font-size: 1.3em; color:red\"> Total 10 Marks for Q2</div>\n",
    "</div>\n",
    "\n",
    "Work with the system of linear equations given below to answer the questions ***2(a) - 2(c)***.\n",
    "$$ \\begin{array}{rr4}\n",
    " x + y + z + w &=& 13\\\\\n",
    " 2 \\, x + 3 \\, y - w &=& -1\\\\\n",
    "-3 \\, x + 4 \\, y + z + 2 \\, w &=& 10\\\\\n",
    " x + 2 \\, y - z + w &=& 1\n",
    "\\end{array}$$\n",
    "`Eqns: \n",
    " x + y + z + w == 13,\n",
    " 2*x + 3*y - w == -1,\n",
    "-3*x + 4*y + z + 2*w == 10,\n",
    " x + 2*y -z + w == 1`"
   ]
  },
  {
   "cell_type": "markdown",
   "metadata": {},
   "source": [
    "### 2(a)\n",
    "<div style=\"text-align: right; font-size: 1.1em; color:red\"> [1 mark]</div>\n",
    "\n",
    "If you were to write this system as $A_2x=b_2$, what is the coefficient matrix $A_2$? What is the RHS vector $b_2$?"
   ]
  },
  {
   "cell_type": "code",
   "execution_count": 80,
   "metadata": {},
   "outputs": [
    {
     "data": {
      "text/html": [
       "<html><script type=\"math/tex; mode=display\">\\newcommand{\\Bold}[1]{\\mathbf{#1}}\\verb|Coefficient|\\phantom{\\verb!x!}\\verb|matrix|\\phantom{\\verb!x!}\\verb|A2|\\phantom{\\verb!x!}\\verb|:|</script></html>"
      ],
      "text/latex": [
       "\\begin{math}\n",
       "\\newcommand{\\Bold}[1]{\\mathbf{#1}}\\verb|Coefficient|\\phantom{\\verb!x!}\\verb|matrix|\\phantom{\\verb!x!}\\verb|A2|\\phantom{\\verb!x!}\\verb|:|\n",
       "\\end{math}"
      ],
      "text/plain": [
       "'Coefficient matrix A2 : '"
      ]
     },
     "metadata": {},
     "output_type": "display_data"
    },
    {
     "data": {
      "text/html": [
       "<html><script type=\"math/tex; mode=display\">\\newcommand{\\Bold}[1]{\\mathbf{#1}}\\left(\\begin{array}{rrrr}\n",
       "1 & 1 & 1 & 1 \\\\\n",
       "2 & 3 & 0 & -1 \\\\\n",
       "-3 & 4 & 1 & 2 \\\\\n",
       "1 & 2 & -1 & 1\n",
       "\\end{array}\\right)</script></html>"
      ],
      "text/latex": [
       "\\begin{math}\n",
       "\\newcommand{\\Bold}[1]{\\mathbf{#1}}\\left(\\begin{array}{rrrr}\n",
       "1 & 1 & 1 & 1 \\\\\n",
       "2 & 3 & 0 & -1 \\\\\n",
       "-3 & 4 & 1 & 2 \\\\\n",
       "1 & 2 & -1 & 1\n",
       "\\end{array}\\right)\n",
       "\\end{math}"
      ],
      "text/plain": [
       "[ 1  1  1  1]\n",
       "[ 2  3  0 -1]\n",
       "[-3  4  1  2]\n",
       "[ 1  2 -1  1]"
      ]
     },
     "metadata": {},
     "output_type": "display_data"
    },
    {
     "data": {
      "text/html": [
       "<html><script type=\"math/tex; mode=display\">\\newcommand{\\Bold}[1]{\\mathbf{#1}}\\verb|RHS|\\phantom{\\verb!x!}\\verb|vector|\\phantom{\\verb!x!}\\verb|b2|\\phantom{\\verb!x!}\\verb|:| \\left(13,\\,-1,\\,10,\\,1\\right)</script></html>"
      ],
      "text/latex": [
       "\\begin{math}\n",
       "\\newcommand{\\Bold}[1]{\\mathbf{#1}}\\verb|RHS|\\phantom{\\verb!x!}\\verb|vector|\\phantom{\\verb!x!}\\verb|b2|\\phantom{\\verb!x!}\\verb|:| \\left(13,\\,-1,\\,10,\\,1\\right)\n",
       "\\end{math}"
      ],
      "text/plain": [
       "'RHS vector b2 : ' (13, -1, 10, 1)"
      ]
     },
     "metadata": {},
     "output_type": "display_data"
    }
   ],
   "source": [
    "#Create the matrix A2\n",
    "A2 = matrix([[1, 1, 1, 1], [2, 3, 0, -1], [-3, 4, 1, 2], [1, 2, -1, 1]])\n",
    "\n",
    "#Create the RHS vector b2\n",
    "b2 = vector([13, -1, 10, 1])\n",
    "\n",
    "#Show the matrix A2 and RHS vector b2\n",
    "pretty_print(\"Coefficient matrix A2 : \")\n",
    "pretty_print(A2)\n",
    "pretty_print(\"RHS vector b2 : \", b2)\n",
    "\n",
    "marks += 1"
   ]
  },
  {
   "cell_type": "markdown",
   "metadata": {},
   "source": [
    "### 2(b)\n",
    "<div style=\"text-align: right; font-size: 1.1em; color:red\"> [3 marks]</div>\n",
    "\n",
    "Compute the ***Row Echelon Form*** of the augmented matrix $[A_2|b_2]$ using the row reduction, step-by-step process and ***solve the given equations***.  \n",
    "(Use only the method `matrix.add_multiple_of_row()`)."
   ]
  },
  {
   "cell_type": "code",
   "execution_count": 81,
   "metadata": {},
   "outputs": [
    {
     "data": {
      "text/html": [
       "<html><script type=\"math/tex; mode=display\">\\newcommand{\\Bold}[1]{\\mathbf{#1}}\\verb\"Augmented\"\\phantom{\\verb!x!}\\verb\"matrix\"\\phantom{\\verb!x!}\\verb\"[A2|b2]\"\\phantom{\\verb!x!}\\verb\":\"</script></html>"
      ],
      "text/latex": [
       "\\begin{math}\n",
       "\\newcommand{\\Bold}[1]{\\mathbf{#1}}\\verb\"Augmented\"\\phantom{\\verb!x!}\\verb\"matrix\"\\phantom{\\verb!x!}\\verb\"[A2|b2]\"\\phantom{\\verb!x!}\\verb\":\"\n",
       "\\end{math}"
      ],
      "text/plain": [
       "'Augmented matrix [A2|b2] : '"
      ]
     },
     "metadata": {},
     "output_type": "display_data"
    },
    {
     "data": {
      "text/html": [
       "<html><script type=\"math/tex; mode=display\">\\newcommand{\\Bold}[1]{\\mathbf{#1}}\\left(\\begin{array}{rrrr|r}\n",
       "1 & 1 & 1 & 1 & 13 \\\\\n",
       "2 & 3 & 0 & -1 & -1 \\\\\n",
       "-3 & 4 & 1 & 2 & 10 \\\\\n",
       "1 & 2 & -1 & 1 & 1\n",
       "\\end{array}\\right)</script></html>"
      ],
      "text/latex": [
       "\\begin{math}\n",
       "\\newcommand{\\Bold}[1]{\\mathbf{#1}}\\left(\\begin{array}{rrrr|r}\n",
       "1 & 1 & 1 & 1 & 13 \\\\\n",
       "2 & 3 & 0 & -1 & -1 \\\\\n",
       "-3 & 4 & 1 & 2 & 10 \\\\\n",
       "1 & 2 & -1 & 1 & 1\n",
       "\\end{array}\\right)\n",
       "\\end{math}"
      ],
      "text/plain": [
       "[ 1  1  1  1|13]\n",
       "[ 2  3  0 -1|-1]\n",
       "[-3  4  1  2|10]\n",
       "[ 1  2 -1  1| 1]"
      ]
     },
     "metadata": {},
     "output_type": "display_data"
    },
    {
     "data": {
      "text/html": [
       "<html><script type=\"math/tex; mode=display\">\\newcommand{\\Bold}[1]{\\mathbf{#1}}\\verb\"Augmented\"\\phantom{\\verb!x!}\\verb\"matrix\"\\phantom{\\verb!x!}\\verb\"[A2|b2]\"\\phantom{\\verb!x!}\\verb\"(killed\"\\phantom{\\verb!x!}\\verb\"first\"\\phantom{\\verb!x!}\\verb\"column)\"\\phantom{\\verb!x!}\\verb\":\"</script></html>"
      ],
      "text/latex": [
       "\\begin{math}\n",
       "\\newcommand{\\Bold}[1]{\\mathbf{#1}}\\verb\"Augmented\"\\phantom{\\verb!x!}\\verb\"matrix\"\\phantom{\\verb!x!}\\verb\"[A2|b2]\"\\phantom{\\verb!x!}\\verb\"(killed\"\\phantom{\\verb!x!}\\verb\"first\"\\phantom{\\verb!x!}\\verb\"column)\"\\phantom{\\verb!x!}\\verb\":\"\n",
       "\\end{math}"
      ],
      "text/plain": [
       "'Augmented matrix [A2|b2] (killed first column) : '"
      ]
     },
     "metadata": {},
     "output_type": "display_data"
    },
    {
     "data": {
      "text/html": [
       "<html><script type=\"math/tex; mode=display\">\\newcommand{\\Bold}[1]{\\mathbf{#1}}\\left(\\begin{array}{rrrr|r}\n",
       "1 & 1 & 1 & 1 & 13 \\\\\n",
       "0 & 1 & -2 & -3 & -27 \\\\\n",
       "0 & 7 & 4 & 5 & 49 \\\\\n",
       "0 & 1 & -2 & 0 & -12\n",
       "\\end{array}\\right)</script></html>"
      ],
      "text/latex": [
       "\\begin{math}\n",
       "\\newcommand{\\Bold}[1]{\\mathbf{#1}}\\left(\\begin{array}{rrrr|r}\n",
       "1 & 1 & 1 & 1 & 13 \\\\\n",
       "0 & 1 & -2 & -3 & -27 \\\\\n",
       "0 & 7 & 4 & 5 & 49 \\\\\n",
       "0 & 1 & -2 & 0 & -12\n",
       "\\end{array}\\right)\n",
       "\\end{math}"
      ],
      "text/plain": [
       "[  1   1   1   1| 13]\n",
       "[  0   1  -2  -3|-27]\n",
       "[  0   7   4   5| 49]\n",
       "[  0   1  -2   0|-12]"
      ]
     },
     "metadata": {},
     "output_type": "display_data"
    },
    {
     "data": {
      "text/html": [
       "<html><script type=\"math/tex; mode=display\">\\newcommand{\\Bold}[1]{\\mathbf{#1}}\\verb\"Augmented\"\\phantom{\\verb!x!}\\verb\"matrix\"\\phantom{\\verb!x!}\\verb\"[A2|b2]\"\\phantom{\\verb!x!}\\verb\"(killed\"\\phantom{\\verb!x!}\\verb\"second\"\\phantom{\\verb!x!}\\verb\"column)\"\\phantom{\\verb!x!}\\verb\":\"</script></html>"
      ],
      "text/latex": [
       "\\begin{math}\n",
       "\\newcommand{\\Bold}[1]{\\mathbf{#1}}\\verb\"Augmented\"\\phantom{\\verb!x!}\\verb\"matrix\"\\phantom{\\verb!x!}\\verb\"[A2|b2]\"\\phantom{\\verb!x!}\\verb\"(killed\"\\phantom{\\verb!x!}\\verb\"second\"\\phantom{\\verb!x!}\\verb\"column)\"\\phantom{\\verb!x!}\\verb\":\"\n",
       "\\end{math}"
      ],
      "text/plain": [
       "'Augmented matrix [A2|b2] (killed second column) : '"
      ]
     },
     "metadata": {},
     "output_type": "display_data"
    },
    {
     "data": {
      "text/html": [
       "<html><script type=\"math/tex; mode=display\">\\newcommand{\\Bold}[1]{\\mathbf{#1}}\\left(\\begin{array}{rrrr|r}\n",
       "1 & 1 & 1 & 1 & 13 \\\\\n",
       "0 & 1 & -2 & -3 & -27 \\\\\n",
       "0 & 0 & 18 & 26 & 238 \\\\\n",
       "0 & 0 & 0 & 3 & 15\n",
       "\\end{array}\\right)</script></html>"
      ],
      "text/latex": [
       "\\begin{math}\n",
       "\\newcommand{\\Bold}[1]{\\mathbf{#1}}\\left(\\begin{array}{rrrr|r}\n",
       "1 & 1 & 1 & 1 & 13 \\\\\n",
       "0 & 1 & -2 & -3 & -27 \\\\\n",
       "0 & 0 & 18 & 26 & 238 \\\\\n",
       "0 & 0 & 0 & 3 & 15\n",
       "\\end{array}\\right)\n",
       "\\end{math}"
      ],
      "text/plain": [
       "[  1   1   1   1| 13]\n",
       "[  0   1  -2  -3|-27]\n",
       "[  0   0  18  26|238]\n",
       "[  0   0   0   3| 15]"
      ]
     },
     "metadata": {},
     "output_type": "display_data"
    },
    {
     "data": {
      "text/html": [
       "<html><script type=\"math/tex; mode=display\">\\newcommand{\\Bold}[1]{\\mathbf{#1}}\\verb|REF|\\phantom{\\verb!x!}\\verb|:|</script></html>"
      ],
      "text/latex": [
       "\\begin{math}\n",
       "\\newcommand{\\Bold}[1]{\\mathbf{#1}}\\verb|REF|\\phantom{\\verb!x!}\\verb|:|\n",
       "\\end{math}"
      ],
      "text/plain": [
       "'REF : '"
      ]
     },
     "metadata": {},
     "output_type": "display_data"
    },
    {
     "data": {
      "text/html": [
       "<html><script type=\"math/tex; mode=display\">\\newcommand{\\Bold}[1]{\\mathbf{#1}}\\left(\\begin{array}{rrrr|r}\n",
       "1 & 1 & 1 & 1 & 13 \\\\\n",
       "0 & 1 & -2 & -3 & -27 \\\\\n",
       "0 & 0 & 18 & 26 & 238 \\\\\n",
       "0 & 0 & 0 & 3 & 15\n",
       "\\end{array}\\right)</script></html>"
      ],
      "text/latex": [
       "\\begin{math}\n",
       "\\newcommand{\\Bold}[1]{\\mathbf{#1}}\\left(\\begin{array}{rrrr|r}\n",
       "1 & 1 & 1 & 1 & 13 \\\\\n",
       "0 & 1 & -2 & -3 & -27 \\\\\n",
       "0 & 0 & 18 & 26 & 238 \\\\\n",
       "0 & 0 & 0 & 3 & 15\n",
       "\\end{array}\\right)\n",
       "\\end{math}"
      ],
      "text/plain": [
       "[  1   1   1   1| 13]\n",
       "[  0   1  -2  -3|-27]\n",
       "[  0   0  18  26|238]\n",
       "[  0   0   0   3| 15]"
      ]
     },
     "metadata": {},
     "output_type": "display_data"
    },
    {
     "data": {
      "text/html": [
       "<html><script type=\"math/tex; mode=display\">\\newcommand{\\Bold}[1]{\\mathbf{#1}}\\verb|Results|\\phantom{\\verb!x!}\\verb|of|\\phantom{\\verb!x!}\\verb|Gaussian|\\phantom{\\verb!x!}\\verb|Elimination|\\phantom{\\verb!x!}\\verb|and|\\phantom{\\verb!x!}\\verb|Back-Substitution:|</script></html>"
      ],
      "text/latex": [
       "\\begin{math}\n",
       "\\newcommand{\\Bold}[1]{\\mathbf{#1}}\\verb|Results|\\phantom{\\verb!x!}\\verb|of|\\phantom{\\verb!x!}\\verb|Gaussian|\\phantom{\\verb!x!}\\verb|Elimination|\\phantom{\\verb!x!}\\verb|and|\\phantom{\\verb!x!}\\verb|Back-Substitution:|\n",
       "\\end{math}"
      ],
      "text/plain": [
       "'Results of Gaussian Elimination and Back-Substitution: '"
      ]
     },
     "metadata": {},
     "output_type": "display_data"
    },
    {
     "data": {
      "text/html": [
       "<html><script type=\"math/tex; mode=display\">\\newcommand{\\Bold}[1]{\\mathbf{#1}}\\verb|x|\\phantom{\\verb!x!}\\verb|=| 2 \\verb|,|\\phantom{\\verb!x!}\\verb|y|\\phantom{\\verb!x!}\\verb|=| 0 \\verb|,|\\phantom{\\verb!x!}\\verb|z|\\phantom{\\verb!x!}\\verb|=| 6 \\verb|,|\\phantom{\\verb!x!}\\verb|w|\\phantom{\\verb!x!}\\verb|=| 5</script></html>"
      ],
      "text/latex": [
       "\\begin{math}\n",
       "\\newcommand{\\Bold}[1]{\\mathbf{#1}}\\verb|x|\\phantom{\\verb!x!}\\verb|=| 2 \\verb|,|\\phantom{\\verb!x!}\\verb|y|\\phantom{\\verb!x!}\\verb|=| 0 \\verb|,|\\phantom{\\verb!x!}\\verb|z|\\phantom{\\verb!x!}\\verb|=| 6 \\verb|,|\\phantom{\\verb!x!}\\verb|w|\\phantom{\\verb!x!}\\verb|=| 5\n",
       "\\end{math}"
      ],
      "text/plain": [
       "'x = ' 2 ', y = ' 0 ', z = ' 6 ', w = ' 5"
      ]
     },
     "metadata": {},
     "output_type": "display_data"
    }
   ],
   "source": [
    "#Create augmented matrix A2_aug, composed of coefficient matrix A2, and RHS vector b2\n",
    "A2_aug = A2.augment(b2, subdivide = true)\n",
    "\n",
    "#Show matrix A2_aug\n",
    "pretty_print(\"Augmented matrix [A2|b2] : \")\n",
    "pretty_print(A2_aug)\n",
    "\n",
    "#Perform Gaussian Elimination to obtain Row Echelon Form (stepwise operation)\n",
    "#Firstly, from second row(inclusive) onwards, kill the non-zero elements in the first column of coefficient matrix A2, using ERO on first row of A2_aug\n",
    "A2_aug.add_multiple_of_row(1, 0, -2)\n",
    "A2_aug.add_multiple_of_row(2, 0, 3)\n",
    "A2_aug.add_multiple_of_row(3, 0, -1)\n",
    "pretty_print(\"Augmented matrix [A2|b2] (killed first column) : \")\n",
    "pretty_print(A2_aug)\n",
    "\n",
    "#Secondly, from third row(inclusive) onwards, kill the non-zero elements in the second column of coefficient matrix A2, using ERO on second row of A2_aug\n",
    "A2_aug.add_multiple_of_row(2, 1, -7)\n",
    "A2_aug.add_multiple_of_row(3, 1, -1)\n",
    "pretty_print(\"Augmented matrix [A2|b2] (killed second column) : \")\n",
    "pretty_print(A2_aug)\n",
    "\n",
    "#From forth row(inclusive) onwards, the element in the third column of coefficient matrix A2 is already zero, no ERO is needed\n",
    "#Show final REF\n",
    "pretty_print(\"REF : \")\n",
    "pretty_print(A2_aug)\n",
    "\n",
    "#Solve the equations by back-substitution\n",
    "ref_w = 15 / 3\n",
    "ref_z = (238 - 26 * ref_w) / 18\n",
    "ref_y = - 27 + 3 * ref_w + 2 * ref_z\n",
    "ref_x = 13 - ref_w - ref_z - ref_y\n",
    "\n",
    "#Show the results for x, y, z and w using Gaussian Elimination and Back-Substition\n",
    "pretty_print(\"Results of Gaussian Elimination and Back-Substitution: \")\n",
    "pretty_print(\"x = \", ref_x, \", y = \", ref_y, \", z = \", ref_z, \", w = \", ref_w)\n",
    "\n",
    "marks += 3"
   ]
  },
  {
   "cell_type": "markdown",
   "metadata": {},
   "source": [
    "### 2(c)\n",
    "<div style=\"text-align: right; font-size: 1.1em; color:red\"> [1 mark]</div>\n",
    "\n",
    "Use the built-in SageMath method `solve()` to solve the given system of linear equations. Verify that the solution is the same as you got in **2(b)**."
   ]
  },
  {
   "cell_type": "code",
   "execution_count": 82,
   "metadata": {},
   "outputs": [
    {
     "data": {
      "text/html": [
       "<html><script type=\"math/tex; mode=display\">\\newcommand{\\Bold}[1]{\\mathbf{#1}}\\verb|Results|\\phantom{\\verb!x!}\\verb|of|\\phantom{\\verb!x!}\\verb|Gaussian|\\phantom{\\verb!x!}\\verb|Elimination|\\phantom{\\verb!x!}\\verb|and|\\phantom{\\verb!x!}\\verb|Back-Substitution(2b):|</script></html>"
      ],
      "text/latex": [
       "\\begin{math}\n",
       "\\newcommand{\\Bold}[1]{\\mathbf{#1}}\\verb|Results|\\phantom{\\verb!x!}\\verb|of|\\phantom{\\verb!x!}\\verb|Gaussian|\\phantom{\\verb!x!}\\verb|Elimination|\\phantom{\\verb!x!}\\verb|and|\\phantom{\\verb!x!}\\verb|Back-Substitution(2b):|\n",
       "\\end{math}"
      ],
      "text/plain": [
       "'Results of Gaussian Elimination and Back-Substitution(2b): '"
      ]
     },
     "metadata": {},
     "output_type": "display_data"
    },
    {
     "data": {
      "text/html": [
       "<html><script type=\"math/tex; mode=display\">\\newcommand{\\Bold}[1]{\\mathbf{#1}}\\verb|x|\\phantom{\\verb!x!}\\verb|=| 2 \\verb|,|\\phantom{\\verb!x!}\\verb|y|\\phantom{\\verb!x!}\\verb|=| 0 \\verb|,|\\phantom{\\verb!x!}\\verb|z|\\phantom{\\verb!x!}\\verb|=| 6 \\verb|,|\\phantom{\\verb!x!}\\verb|w|\\phantom{\\verb!x!}\\verb|=| 5</script></html>"
      ],
      "text/latex": [
       "\\begin{math}\n",
       "\\newcommand{\\Bold}[1]{\\mathbf{#1}}\\verb|x|\\phantom{\\verb!x!}\\verb|=| 2 \\verb|,|\\phantom{\\verb!x!}\\verb|y|\\phantom{\\verb!x!}\\verb|=| 0 \\verb|,|\\phantom{\\verb!x!}\\verb|z|\\phantom{\\verb!x!}\\verb|=| 6 \\verb|,|\\phantom{\\verb!x!}\\verb|w|\\phantom{\\verb!x!}\\verb|=| 5\n",
       "\\end{math}"
      ],
      "text/plain": [
       "'x = ' 2 ', y = ' 0 ', z = ' 6 ', w = ' 5"
      ]
     },
     "metadata": {},
     "output_type": "display_data"
    },
    {
     "data": {
      "text/html": [
       "<html><script type=\"math/tex; mode=display\">\\newcommand{\\Bold}[1]{\\mathbf{#1}}\\verb|Results|\\phantom{\\verb!x!}\\verb|using|\\phantom{\\verb!x!}\\verb|SageMath:|</script></html>"
      ],
      "text/latex": [
       "\\begin{math}\n",
       "\\newcommand{\\Bold}[1]{\\mathbf{#1}}\\verb|Results|\\phantom{\\verb!x!}\\verb|using|\\phantom{\\verb!x!}\\verb|SageMath:|\n",
       "\\end{math}"
      ],
      "text/plain": [
       "'Results using SageMath:'"
      ]
     },
     "metadata": {},
     "output_type": "display_data"
    },
    {
     "data": {
      "text/html": [
       "<html><script type=\"math/tex; mode=display\">\\newcommand{\\Bold}[1]{\\mathbf{#1}}\\verb|x|\\phantom{\\verb!x!}\\verb|==|\\phantom{\\verb!x!}\\verb|2,|\\phantom{\\verb!x!}\\verb|y|\\phantom{\\verb!x!}\\verb|==|\\phantom{\\verb!x!}\\verb|0,|\\phantom{\\verb!x!}\\verb|z|\\phantom{\\verb!x!}\\verb|==|\\phantom{\\verb!x!}\\verb|6,|\\phantom{\\verb!x!}\\verb|w|\\phantom{\\verb!x!}\\verb|==|\\phantom{\\verb!x!}\\verb|5|</script></html>"
      ],
      "text/latex": [
       "\\begin{math}\n",
       "\\newcommand{\\Bold}[1]{\\mathbf{#1}}\\verb|x|\\phantom{\\verb!x!}\\verb|==|\\phantom{\\verb!x!}\\verb|2,|\\phantom{\\verb!x!}\\verb|y|\\phantom{\\verb!x!}\\verb|==|\\phantom{\\verb!x!}\\verb|0,|\\phantom{\\verb!x!}\\verb|z|\\phantom{\\verb!x!}\\verb|==|\\phantom{\\verb!x!}\\verb|6,|\\phantom{\\verb!x!}\\verb|w|\\phantom{\\verb!x!}\\verb|==|\\phantom{\\verb!x!}\\verb|5|\n",
       "\\end{math}"
      ],
      "text/plain": [
       "'x == 2, y == 0, z == 6, w == 5'"
      ]
     },
     "metadata": {},
     "output_type": "display_data"
    },
    {
     "data": {
      "text/html": [
       "<html><script type=\"math/tex; mode=display\">\\newcommand{\\Bold}[1]{\\mathbf{#1}}\\verb|Hence,|\\phantom{\\verb!x!}\\verb|the|\\phantom{\\verb!x!}\\verb|results|\\phantom{\\verb!x!}\\verb|in|\\phantom{\\verb!x!}\\verb|2(b)|\\phantom{\\verb!x!}\\verb|is|\\phantom{\\verb!x!}\\verb|the|\\phantom{\\verb!x!}\\verb|same|\\phantom{\\verb!x!}\\verb|as|\\phantom{\\verb!x!}\\verb|SageMath's|\\phantom{\\verb!x!}\\verb|computation.|</script></html>"
      ],
      "text/latex": [
       "\\begin{math}\n",
       "\\newcommand{\\Bold}[1]{\\mathbf{#1}}\\verb|Hence,|\\phantom{\\verb!x!}\\verb|the|\\phantom{\\verb!x!}\\verb|results|\\phantom{\\verb!x!}\\verb|in|\\phantom{\\verb!x!}\\verb|2(b)|\\phantom{\\verb!x!}\\verb|is|\\phantom{\\verb!x!}\\verb|the|\\phantom{\\verb!x!}\\verb|same|\\phantom{\\verb!x!}\\verb|as|\\phantom{\\verb!x!}\\verb|SageMath's|\\phantom{\\verb!x!}\\verb|computation.|\n",
       "\\end{math}"
      ],
      "text/plain": [
       "\"Hence, the results in 2(b) is the same as SageMath's computation.\""
      ]
     },
     "metadata": {},
     "output_type": "display_data"
    }
   ],
   "source": [
    "#Create equations for simultaneous substitution\n",
    "var('x, y, z, w')\n",
    "eq_1 = x + y + z + w == 13\n",
    "eq_2 = 2*x + 3*y - w == -1\n",
    "eq_3 = -3*x + 4*y + z + 2*w == 10\n",
    "eq_4 = x + 2*y - z + w == 1\n",
    "solve([eq_1, eq_2, eq_3, eq_4], x, y, z, w)\n",
    "\n",
    "#Verify the results of Gaussian Elimination and Back-Substitution with built-in SageMath function\n",
    "pretty_print(\"Results of Gaussian Elimination and Back-Substitution(2b): \")\n",
    "pretty_print(\"x = \", ref_x, \", y = \", ref_y, \", z = \", ref_z, \", w = \", ref_w)\n",
    "\n",
    "pretty_print(\"Results using SageMath:\")\n",
    "pretty_print(str(solve([eq_1, eq_2, eq_3, eq_4], x, y, z, w))[3:-3])\n",
    "\n",
    "pretty_print(\"Hence, the results in 2(b) is the same as SageMath's computation.\")\n",
    "\n",
    "marks += 0.8\n",
    "#can use == for verification"
   ]
  },
  {
   "cell_type": "markdown",
   "metadata": {},
   "source": [
    "### 2(d)\n",
    "<div style=\"text-align: right; font-size: 1.1em; color:red\"> [3 marks]</div>\n",
    "\n",
    "Compute the ***LU decomposition*** for the matrix given below.\n",
    "(Use only the method `matrix.add_multiple_of_row())`\n",
    "$$ C_2 =  \\left(\\begin{array}{rr}\n",
    "2 & 3 & 1 & 5 \\\\\n",
    "6 & 13 & 5 & 19 \\\\\n",
    "2 & 19 & 10 & 23 \\\\\n",
    "4 & 10 & 11 & 31\n",
    "\\end{array}\\right) $$"
   ]
  },
  {
   "cell_type": "code",
   "execution_count": 83,
   "metadata": {},
   "outputs": [
    {
     "data": {
      "text/html": [
       "<html><script type=\"math/tex; mode=display\">\\newcommand{\\Bold}[1]{\\mathbf{#1}}\\verb|U|\\phantom{\\verb!x!}\\verb|before|\\phantom{\\verb!x!}\\verb|Gaussian|\\phantom{\\verb!x!}\\verb|Elimination|\\phantom{\\verb!x!}\\verb|:|</script></html>"
      ],
      "text/latex": [
       "\\begin{math}\n",
       "\\newcommand{\\Bold}[1]{\\mathbf{#1}}\\verb|U|\\phantom{\\verb!x!}\\verb|before|\\phantom{\\verb!x!}\\verb|Gaussian|\\phantom{\\verb!x!}\\verb|Elimination|\\phantom{\\verb!x!}\\verb|:|\n",
       "\\end{math}"
      ],
      "text/plain": [
       "'U before Gaussian Elimination :'"
      ]
     },
     "metadata": {},
     "output_type": "display_data"
    },
    {
     "data": {
      "text/html": [
       "<html><script type=\"math/tex; mode=display\">\\newcommand{\\Bold}[1]{\\mathbf{#1}}\\left(\\begin{array}{rrrr}\n",
       "2 & 3 & 1 & 5 \\\\\n",
       "6 & 13 & 5 & 19 \\\\\n",
       "2 & 19 & 10 & 23 \\\\\n",
       "4 & 10 & 11 & 31\n",
       "\\end{array}\\right)</script></html>"
      ],
      "text/latex": [
       "\\begin{math}\n",
       "\\newcommand{\\Bold}[1]{\\mathbf{#1}}\\left(\\begin{array}{rrrr}\n",
       "2 & 3 & 1 & 5 \\\\\n",
       "6 & 13 & 5 & 19 \\\\\n",
       "2 & 19 & 10 & 23 \\\\\n",
       "4 & 10 & 11 & 31\n",
       "\\end{array}\\right)\n",
       "\\end{math}"
      ],
      "text/plain": [
       "[ 2  3  1  5]\n",
       "[ 6 13  5 19]\n",
       "[ 2 19 10 23]\n",
       "[ 4 10 11 31]"
      ]
     },
     "metadata": {},
     "output_type": "display_data"
    },
    {
     "data": {
      "text/html": [
       "<html><script type=\"math/tex; mode=display\">\\newcommand{\\Bold}[1]{\\mathbf{#1}}\\verb|Matrix|\\phantom{\\verb!x!}\\verb|U|\\phantom{\\verb!x!}\\verb|(killed|\\phantom{\\verb!x!}\\verb|first|\\phantom{\\verb!x!}\\verb|column)|\\phantom{\\verb!x!}\\verb|:|</script></html>"
      ],
      "text/latex": [
       "\\begin{math}\n",
       "\\newcommand{\\Bold}[1]{\\mathbf{#1}}\\verb|Matrix|\\phantom{\\verb!x!}\\verb|U|\\phantom{\\verb!x!}\\verb|(killed|\\phantom{\\verb!x!}\\verb|first|\\phantom{\\verb!x!}\\verb|column)|\\phantom{\\verb!x!}\\verb|:|\n",
       "\\end{math}"
      ],
      "text/plain": [
       "'Matrix U (killed first column) : '"
      ]
     },
     "metadata": {},
     "output_type": "display_data"
    },
    {
     "data": {
      "text/html": [
       "<html><script type=\"math/tex; mode=display\">\\newcommand{\\Bold}[1]{\\mathbf{#1}}\\left(\\begin{array}{rrrr}\n",
       "2 & 3 & 1 & 5 \\\\\n",
       "0 & 4 & 2 & 4 \\\\\n",
       "0 & 16 & 9 & 18 \\\\\n",
       "0 & 4 & 9 & 21\n",
       "\\end{array}\\right)</script></html>"
      ],
      "text/latex": [
       "\\begin{math}\n",
       "\\newcommand{\\Bold}[1]{\\mathbf{#1}}\\left(\\begin{array}{rrrr}\n",
       "2 & 3 & 1 & 5 \\\\\n",
       "0 & 4 & 2 & 4 \\\\\n",
       "0 & 16 & 9 & 18 \\\\\n",
       "0 & 4 & 9 & 21\n",
       "\\end{array}\\right)\n",
       "\\end{math}"
      ],
      "text/plain": [
       "[ 2  3  1  5]\n",
       "[ 0  4  2  4]\n",
       "[ 0 16  9 18]\n",
       "[ 0  4  9 21]"
      ]
     },
     "metadata": {},
     "output_type": "display_data"
    },
    {
     "data": {
      "text/html": [
       "<html><script type=\"math/tex; mode=display\">\\newcommand{\\Bold}[1]{\\mathbf{#1}}\\verb|Matrix|\\phantom{\\verb!x!}\\verb|U|\\phantom{\\verb!x!}\\verb|(killed|\\phantom{\\verb!x!}\\verb|second|\\phantom{\\verb!x!}\\verb|column)|\\phantom{\\verb!x!}\\verb|:|</script></html>"
      ],
      "text/latex": [
       "\\begin{math}\n",
       "\\newcommand{\\Bold}[1]{\\mathbf{#1}}\\verb|Matrix|\\phantom{\\verb!x!}\\verb|U|\\phantom{\\verb!x!}\\verb|(killed|\\phantom{\\verb!x!}\\verb|second|\\phantom{\\verb!x!}\\verb|column)|\\phantom{\\verb!x!}\\verb|:|\n",
       "\\end{math}"
      ],
      "text/plain": [
       "'Matrix U (killed second column) : '"
      ]
     },
     "metadata": {},
     "output_type": "display_data"
    },
    {
     "data": {
      "text/html": [
       "<html><script type=\"math/tex; mode=display\">\\newcommand{\\Bold}[1]{\\mathbf{#1}}\\left(\\begin{array}{rrrr}\n",
       "2 & 3 & 1 & 5 \\\\\n",
       "0 & 4 & 2 & 4 \\\\\n",
       "0 & 0 & 1 & 2 \\\\\n",
       "0 & 0 & 7 & 17\n",
       "\\end{array}\\right)</script></html>"
      ],
      "text/latex": [
       "\\begin{math}\n",
       "\\newcommand{\\Bold}[1]{\\mathbf{#1}}\\left(\\begin{array}{rrrr}\n",
       "2 & 3 & 1 & 5 \\\\\n",
       "0 & 4 & 2 & 4 \\\\\n",
       "0 & 0 & 1 & 2 \\\\\n",
       "0 & 0 & 7 & 17\n",
       "\\end{array}\\right)\n",
       "\\end{math}"
      ],
      "text/plain": [
       "[ 2  3  1  5]\n",
       "[ 0  4  2  4]\n",
       "[ 0  0  1  2]\n",
       "[ 0  0  7 17]"
      ]
     },
     "metadata": {},
     "output_type": "display_data"
    },
    {
     "data": {
      "text/html": [
       "<html><script type=\"math/tex; mode=display\">\\newcommand{\\Bold}[1]{\\mathbf{#1}}\\verb|Matrix|\\phantom{\\verb!x!}\\verb|U|\\phantom{\\verb!x!}\\verb|after|\\phantom{\\verb!x!}\\verb|Gaussian|\\phantom{\\verb!x!}\\verb|Elimination|\\phantom{\\verb!x!}\\verb|:|</script></html>"
      ],
      "text/latex": [
       "\\begin{math}\n",
       "\\newcommand{\\Bold}[1]{\\mathbf{#1}}\\verb|Matrix|\\phantom{\\verb!x!}\\verb|U|\\phantom{\\verb!x!}\\verb|after|\\phantom{\\verb!x!}\\verb|Gaussian|\\phantom{\\verb!x!}\\verb|Elimination|\\phantom{\\verb!x!}\\verb|:|\n",
       "\\end{math}"
      ],
      "text/plain": [
       "'Matrix U after Gaussian Elimination :'"
      ]
     },
     "metadata": {},
     "output_type": "display_data"
    },
    {
     "data": {
      "text/html": [
       "<html><script type=\"math/tex; mode=display\">\\newcommand{\\Bold}[1]{\\mathbf{#1}}\\left(\\begin{array}{rrrr}\n",
       "2 & 3 & 1 & 5 \\\\\n",
       "0 & 4 & 2 & 4 \\\\\n",
       "0 & 0 & 1 & 2 \\\\\n",
       "0 & 0 & 0 & 3\n",
       "\\end{array}\\right)</script></html>"
      ],
      "text/latex": [
       "\\begin{math}\n",
       "\\newcommand{\\Bold}[1]{\\mathbf{#1}}\\left(\\begin{array}{rrrr}\n",
       "2 & 3 & 1 & 5 \\\\\n",
       "0 & 4 & 2 & 4 \\\\\n",
       "0 & 0 & 1 & 2 \\\\\n",
       "0 & 0 & 0 & 3\n",
       "\\end{array}\\right)\n",
       "\\end{math}"
      ],
      "text/plain": [
       "[2 3 1 5]\n",
       "[0 4 2 4]\n",
       "[0 0 1 2]\n",
       "[0 0 0 3]"
      ]
     },
     "metadata": {},
     "output_type": "display_data"
    },
    {
     "data": {
      "text/html": [
       "<html><script type=\"math/tex; mode=display\">\\newcommand{\\Bold}[1]{\\mathbf{#1}}\\verb|We|\\phantom{\\verb!x!}\\verb|have|\\phantom{\\verb!x!}\\verb|the|\\phantom{\\verb!x!}\\verb|final|\\phantom{\\verb!x!}\\verb|results:|</script></html>"
      ],
      "text/latex": [
       "\\begin{math}\n",
       "\\newcommand{\\Bold}[1]{\\mathbf{#1}}\\verb|We|\\phantom{\\verb!x!}\\verb|have|\\phantom{\\verb!x!}\\verb|the|\\phantom{\\verb!x!}\\verb|final|\\phantom{\\verb!x!}\\verb|results:|\n",
       "\\end{math}"
      ],
      "text/plain": [
       "'We have the final results: '"
      ]
     },
     "metadata": {},
     "output_type": "display_data"
    },
    {
     "data": {
      "text/html": [
       "<html><script type=\"math/tex; mode=display\">\\newcommand{\\Bold}[1]{\\mathbf{#1}}\\verb|U|\\phantom{\\verb!x!}\\verb|:| \\left(\\begin{array}{rrrr}\n",
       "2 & 3 & 1 & 5 \\\\\n",
       "0 & 4 & 2 & 4 \\\\\n",
       "0 & 0 & 1 & 2 \\\\\n",
       "0 & 0 & 0 & 3\n",
       "\\end{array}\\right) \\verb|L|\\phantom{\\verb!x!}\\verb|:| \\left(\\begin{array}{rrrr}\n",
       "1 & 0 & 0 & 0 \\\\\n",
       "3 & 1 & 0 & 0 \\\\\n",
       "1 & 4 & 1 & 0 \\\\\n",
       "2 & 1 & 7 & 1\n",
       "\\end{array}\\right)</script></html>"
      ],
      "text/latex": [
       "\\begin{math}\n",
       "\\newcommand{\\Bold}[1]{\\mathbf{#1}}\\verb|U|\\phantom{\\verb!x!}\\verb|:| \\left(\\begin{array}{rrrr}\n",
       "2 & 3 & 1 & 5 \\\\\n",
       "0 & 4 & 2 & 4 \\\\\n",
       "0 & 0 & 1 & 2 \\\\\n",
       "0 & 0 & 0 & 3\n",
       "\\end{array}\\right) \\verb|L|\\phantom{\\verb!x!}\\verb|:| \\left(\\begin{array}{rrrr}\n",
       "1 & 0 & 0 & 0 \\\\\n",
       "3 & 1 & 0 & 0 \\\\\n",
       "1 & 4 & 1 & 0 \\\\\n",
       "2 & 1 & 7 & 1\n",
       "\\end{array}\\right)\n",
       "\\end{math}"
      ],
      "text/plain": [
       "'U :' [2 3 1 5]\n",
       "[0 4 2 4]\n",
       "[0 0 1 2]\n",
       "[0 0 0 3] 'L :' [1 0 0 0]\n",
       "[3 1 0 0]\n",
       "[1 4 1 0]\n",
       "[2 1 7 1]"
      ]
     },
     "metadata": {},
     "output_type": "display_data"
    }
   ],
   "source": [
    "#Create matrix C2\n",
    "C2 = matrix([[2, 3, 1, 5], [6, 13, 5, 19], [2, 19, 10, 23], [4, 10, 11, 31]])\n",
    "\n",
    "#Make a copy of C2, name it as U and perform Gaussian Elimination on U\n",
    "U = copy(C2)\n",
    "pretty_print(\"U before Gaussian Elimination :\")\n",
    "pretty_print(U)\n",
    "\n",
    "#Perform Gaussian Elimination\n",
    "#Firstly, from second row(inclusive) onwards, kill the non-zero elements in the first column of matrix U, using ERO on first row of matrix U\n",
    "U.add_multiple_of_row(1, 0, -3)\n",
    "U.add_multiple_of_row(2, 0, -1)\n",
    "U.add_multiple_of_row(3, 0, -2)\n",
    "pretty_print(\"Matrix U (killed first column) : \")\n",
    "pretty_print(U)\n",
    "\n",
    "#Secondly, from third row(inclusive) onwards, kill the non-zero elements in the second column of matrix U, using ERO on second row of matrix U\n",
    "U.add_multiple_of_row(2, 1, -4)\n",
    "U.add_multiple_of_row(3, 1, -1)\n",
    "pretty_print(\"Matrix U (killed second column) : \")\n",
    "pretty_print(U)\n",
    "\n",
    "#Thirdly, from forth row(inclusive) onwards, kill the non-zero elements in the third column of matrix U, using ERO on third row of matrix U\n",
    "U.add_multiple_of_row(3, 2, -7)\n",
    "pretty_print(\"Matrix U after Gaussian Elimination :\")\n",
    "pretty_print(U)\n",
    "\n",
    "#Since det(U) is non-zero (diagonal are all non-zero elements, it has an inverse)\n",
    "#Hence, we can get L by taking matrix C2 multiplied by inverse of matrix U\n",
    "L = C2 * U.inverse()\n",
    "\n",
    "#Show the results\n",
    "pretty_print(\"We have the final results: \")\n",
    "pretty_print(\"U :\", U, \"L :\", L)\n",
    "\n",
    "marks += 1.8\n",
    "\n",
    "# don't use inverse to find L"
   ]
  },
  {
   "cell_type": "markdown",
   "metadata": {},
   "source": [
    "### 2(e)\n",
    "<div style=\"text-align: right; font-size: 1.1em; color:red\"> [2 marks]</div>\n",
    "\n",
    "Calculate the determinant of $C_2$ using $L$ and $U$ matrices. Verify that the value is the same when calculated using built-in Sagemath method.(Use the built-in SageMath method `matrix.det()`)"
   ]
  },
  {
   "cell_type": "code",
   "execution_count": 84,
   "metadata": {},
   "outputs": [
    {
     "data": {
      "text/html": [
       "<html><script type=\"math/tex; mode=display\">\\newcommand{\\Bold}[1]{\\mathbf{#1}}\\verb|Result|\\phantom{\\verb!x!}\\verb|of|\\phantom{\\verb!x!}\\verb|computation|\\phantom{\\verb!x!}\\verb|of|\\phantom{\\verb!x!}\\verb|C2's|\\phantom{\\verb!x!}\\verb|determinant|\\phantom{\\verb!x!}\\verb|using|\\phantom{\\verb!x!}\\verb|L|\\phantom{\\verb!x!}\\verb|and|\\phantom{\\verb!x!}\\verb|U|\\phantom{\\verb!x!}\\verb|matrices|\\phantom{\\verb!x!}\\verb|:| 24</script></html>"
      ],
      "text/latex": [
       "\\begin{math}\n",
       "\\newcommand{\\Bold}[1]{\\mathbf{#1}}\\verb|Result|\\phantom{\\verb!x!}\\verb|of|\\phantom{\\verb!x!}\\verb|computation|\\phantom{\\verb!x!}\\verb|of|\\phantom{\\verb!x!}\\verb|C2's|\\phantom{\\verb!x!}\\verb|determinant|\\phantom{\\verb!x!}\\verb|using|\\phantom{\\verb!x!}\\verb|L|\\phantom{\\verb!x!}\\verb|and|\\phantom{\\verb!x!}\\verb|U|\\phantom{\\verb!x!}\\verb|matrices|\\phantom{\\verb!x!}\\verb|:| 24\n",
       "\\end{math}"
      ],
      "text/plain": [
       "\"Result of computation of C2's determinant using L and U matrices : \" 24"
      ]
     },
     "metadata": {},
     "output_type": "display_data"
    },
    {
     "data": {
      "text/html": [
       "<html><script type=\"math/tex; mode=display\">\\newcommand{\\Bold}[1]{\\mathbf{#1}}\\verb|Result|\\phantom{\\verb!x!}\\verb|of|\\phantom{\\verb!x!}\\verb|C2's|\\phantom{\\verb!x!}\\verb|determinant|\\phantom{\\verb!x!}\\verb|using|\\phantom{\\verb!x!}\\verb|built-in|\\phantom{\\verb!x!}\\verb|SageMath|\\phantom{\\verb!x!}\\verb|function|\\phantom{\\verb!x!}\\verb|:| 24</script></html>"
      ],
      "text/latex": [
       "\\begin{math}\n",
       "\\newcommand{\\Bold}[1]{\\mathbf{#1}}\\verb|Result|\\phantom{\\verb!x!}\\verb|of|\\phantom{\\verb!x!}\\verb|C2's|\\phantom{\\verb!x!}\\verb|determinant|\\phantom{\\verb!x!}\\verb|using|\\phantom{\\verb!x!}\\verb|built-in|\\phantom{\\verb!x!}\\verb|SageMath|\\phantom{\\verb!x!}\\verb|function|\\phantom{\\verb!x!}\\verb|:| 24\n",
       "\\end{math}"
      ],
      "text/plain": [
       "\"Result of C2's determinant using built-in SageMath function : \" 24"
      ]
     },
     "metadata": {},
     "output_type": "display_data"
    },
    {
     "data": {
      "text/html": [
       "<html><script type=\"math/tex; mode=display\">\\newcommand{\\Bold}[1]{\\mathbf{#1}}\\verb|Is|\\phantom{\\verb!x!}\\verb|result|\\phantom{\\verb!x!}\\verb|in|\\phantom{\\verb!x!}\\verb|2(e)|\\phantom{\\verb!x!}\\verb|equals|\\phantom{\\verb!x!}\\verb|to|\\phantom{\\verb!x!}\\verb|SageMath's|\\phantom{\\verb!x!}\\verb|computation?|\\phantom{\\verb!x!}\\verb|:| \\mathrm{True}</script></html>"
      ],
      "text/latex": [
       "\\begin{math}\n",
       "\\newcommand{\\Bold}[1]{\\mathbf{#1}}\\verb|Is|\\phantom{\\verb!x!}\\verb|result|\\phantom{\\verb!x!}\\verb|in|\\phantom{\\verb!x!}\\verb|2(e)|\\phantom{\\verb!x!}\\verb|equals|\\phantom{\\verb!x!}\\verb|to|\\phantom{\\verb!x!}\\verb|SageMath's|\\phantom{\\verb!x!}\\verb|computation?|\\phantom{\\verb!x!}\\verb|:| \\mathrm{True}\n",
       "\\end{math}"
      ],
      "text/plain": [
       "\"Is result in 2(e) equals to SageMath's computation? :\" True"
      ]
     },
     "metadata": {},
     "output_type": "display_data"
    }
   ],
   "source": [
    "# Computation of C2's determinant from multiplying the diagonal elemnents of U as it is a Upper Triangular Matrix\n",
    "det_C2 = 2 * 4 * 1 * 3\n",
    "\n",
    "#Verify the value of C2's determinant using built-in SageMath function\n",
    "pretty_print(\"Result of computation of C2's determinant using L and U matrices : \", det_C2)\n",
    "pretty_print(\"Result of C2's determinant using built-in SageMath function : \", C2.det())\n",
    "pretty_print(\"Is result in 2(e) equals to SageMath's computation? :\", det_C2 == C2.det())\n",
    "\n",
    "marks += 2"
   ]
  },
  {
   "cell_type": "markdown",
   "metadata": {},
   "source": [
    "<div style=\"color:darkgreen;background-color:lightgreen;padding:10px\">\n",
    "\n",
    "\n",
    "# Question 3\n",
    "<div style=\"text-align: right; font-size: 1.3em; color:red\"> Total 20 Marks for Q3</div>\n",
    "</div>"
   ]
  },
  {
   "cell_type": "markdown",
   "metadata": {},
   "source": [
    "Work with the system of linear equations $A_3x = b_3$ below to answer the questions that follow.\n",
    "$$ \\begin{array}{rr4}\n",
    " 2 \\, x + y + 2 \\, z + w &=& 6\\\\\n",
    " 6 \\, x - 6 \\, y + 6 \\, z + 12 \\, w &=& 36\\\\\n",
    " 4 \\, x + 3 \\, y + 3 \\, z - 3 \\, w &=& -1\\\\\n",
    " 2 \\, x + 2 \\, y - z + w &=& 10\n",
    "\\end{array}$$\n",
    "`Eqns: \n",
    " 2*x + y+ 2*z + w == 6,\n",
    " 6*x - 6*y + 6*z + 12*w == 36,\n",
    " 4*x + 3*y + 3*z -3*w == -1,\n",
    " 2*x + 2*y -z + w == 10`"
   ]
  },
  {
   "cell_type": "markdown",
   "metadata": {},
   "source": [
    "### 3(a)\n",
    "<div style=\"text-align: right; font-size: 1.1em; color:red\"> [3 marks]</div>\n",
    "\n",
    "Find the inverse of coefficient matrix ($A_3$) using Gauss-Jordan method. Show the steps using `A3.add_multiple_of_row()`."
   ]
  },
  {
   "cell_type": "code",
   "execution_count": 85,
   "metadata": {
    "scrolled": true
   },
   "outputs": [
    {
     "data": {
      "text/html": [
       "<html><script type=\"math/tex; mode=display\">\\newcommand{\\Bold}[1]{\\mathbf{#1}}\\verb\"Matrix\"\\phantom{\\verb!x!}\\verb\"[A3|I]\"\\phantom{\\verb!x!}\\verb\"(Before\"\\phantom{\\verb!x!}\\verb\"Gauss-Jordan\"\\phantom{\\verb!x!}\\verb\"Elimination)\"\\phantom{\\verb!x!}\\verb\":\"</script></html>"
      ],
      "text/latex": [
       "\\begin{math}\n",
       "\\newcommand{\\Bold}[1]{\\mathbf{#1}}\\verb\"Matrix\"\\phantom{\\verb!x!}\\verb\"[A3|I]\"\\phantom{\\verb!x!}\\verb\"(Before\"\\phantom{\\verb!x!}\\verb\"Gauss-Jordan\"\\phantom{\\verb!x!}\\verb\"Elimination)\"\\phantom{\\verb!x!}\\verb\":\"\n",
       "\\end{math}"
      ],
      "text/plain": [
       "'Matrix [A3|I] (Before Gauss-Jordan Elimination) : '"
      ]
     },
     "metadata": {},
     "output_type": "display_data"
    },
    {
     "data": {
      "text/html": [
       "<html><script type=\"math/tex; mode=display\">\\newcommand{\\Bold}[1]{\\mathbf{#1}}\\left(\\begin{array}{rrrr|rrrr}\n",
       "2 & 1 & 2 & 1 & 1 & 0 & 0 & 0 \\\\\n",
       "6 & -6 & 6 & 12 & 0 & 1 & 0 & 0 \\\\\n",
       "4 & 3 & 3 & -3 & 0 & 0 & 1 & 0 \\\\\n",
       "2 & 2 & -1 & 1 & 0 & 0 & 0 & 1\n",
       "\\end{array}\\right)</script></html>"
      ],
      "text/latex": [
       "\\begin{math}\n",
       "\\newcommand{\\Bold}[1]{\\mathbf{#1}}\\left(\\begin{array}{rrrr|rrrr}\n",
       "2 & 1 & 2 & 1 & 1 & 0 & 0 & 0 \\\\\n",
       "6 & -6 & 6 & 12 & 0 & 1 & 0 & 0 \\\\\n",
       "4 & 3 & 3 & -3 & 0 & 0 & 1 & 0 \\\\\n",
       "2 & 2 & -1 & 1 & 0 & 0 & 0 & 1\n",
       "\\end{array}\\right)\n",
       "\\end{math}"
      ],
      "text/plain": [
       "[ 2  1  2  1| 1  0  0  0]\n",
       "[ 6 -6  6 12| 0  1  0  0]\n",
       "[ 4  3  3 -3| 0  0  1  0]\n",
       "[ 2  2 -1  1| 0  0  0  1]"
      ]
     },
     "metadata": {},
     "output_type": "display_data"
    },
    {
     "data": {
      "text/html": [
       "<html><script type=\"math/tex; mode=display\">\\newcommand{\\Bold}[1]{\\mathbf{#1}}\\verb\"Matrix\"\\phantom{\\verb!x!}\\verb\"[A3|I]\"\\phantom{\\verb!x!}\\verb\"(killed\"\\phantom{\\verb!x!}\\verb\"first\"\\phantom{\\verb!x!}\\verb\"column)\"\\phantom{\\verb!x!}\\verb\":\"</script></html>"
      ],
      "text/latex": [
       "\\begin{math}\n",
       "\\newcommand{\\Bold}[1]{\\mathbf{#1}}\\verb\"Matrix\"\\phantom{\\verb!x!}\\verb\"[A3|I]\"\\phantom{\\verb!x!}\\verb\"(killed\"\\phantom{\\verb!x!}\\verb\"first\"\\phantom{\\verb!x!}\\verb\"column)\"\\phantom{\\verb!x!}\\verb\":\"\n",
       "\\end{math}"
      ],
      "text/plain": [
       "'Matrix [A3|I] (killed first column) : '"
      ]
     },
     "metadata": {},
     "output_type": "display_data"
    },
    {
     "data": {
      "text/html": [
       "<html><script type=\"math/tex; mode=display\">\\newcommand{\\Bold}[1]{\\mathbf{#1}}\\left(\\begin{array}{rrrr|rrrr}\n",
       "2 & 1 & 2 & 1 & 1 & 0 & 0 & 0 \\\\\n",
       "0 & -9 & 0 & 9 & -3 & 1 & 0 & 0 \\\\\n",
       "0 & 1 & -1 & -5 & -2 & 0 & 1 & 0 \\\\\n",
       "0 & 1 & -3 & 0 & -1 & 0 & 0 & 1\n",
       "\\end{array}\\right)</script></html>"
      ],
      "text/latex": [
       "\\begin{math}\n",
       "\\newcommand{\\Bold}[1]{\\mathbf{#1}}\\left(\\begin{array}{rrrr|rrrr}\n",
       "2 & 1 & 2 & 1 & 1 & 0 & 0 & 0 \\\\\n",
       "0 & -9 & 0 & 9 & -3 & 1 & 0 & 0 \\\\\n",
       "0 & 1 & -1 & -5 & -2 & 0 & 1 & 0 \\\\\n",
       "0 & 1 & -3 & 0 & -1 & 0 & 0 & 1\n",
       "\\end{array}\\right)\n",
       "\\end{math}"
      ],
      "text/plain": [
       "[ 2  1  2  1| 1  0  0  0]\n",
       "[ 0 -9  0  9|-3  1  0  0]\n",
       "[ 0  1 -1 -5|-2  0  1  0]\n",
       "[ 0  1 -3  0|-1  0  0  1]"
      ]
     },
     "metadata": {},
     "output_type": "display_data"
    },
    {
     "data": {
      "text/html": [
       "<html><script type=\"math/tex; mode=display\">\\newcommand{\\Bold}[1]{\\mathbf{#1}}\\verb\"Matrix\"\\phantom{\\verb!x!}\\verb\"[A3|I]\"\\phantom{\\verb!x!}\\verb\"(killed\"\\phantom{\\verb!x!}\\verb\"second\"\\phantom{\\verb!x!}\\verb\"column)\"\\phantom{\\verb!x!}\\verb\":\"</script></html>"
      ],
      "text/latex": [
       "\\begin{math}\n",
       "\\newcommand{\\Bold}[1]{\\mathbf{#1}}\\verb\"Matrix\"\\phantom{\\verb!x!}\\verb\"[A3|I]\"\\phantom{\\verb!x!}\\verb\"(killed\"\\phantom{\\verb!x!}\\verb\"second\"\\phantom{\\verb!x!}\\verb\"column)\"\\phantom{\\verb!x!}\\verb\":\"\n",
       "\\end{math}"
      ],
      "text/plain": [
       "'Matrix [A3|I] (killed second column) : '"
      ]
     },
     "metadata": {},
     "output_type": "display_data"
    },
    {
     "data": {
      "text/html": [
       "<html><script type=\"math/tex; mode=display\">\\newcommand{\\Bold}[1]{\\mathbf{#1}}\\left(\\begin{array}{rrrr|rrrr}\n",
       "2 & 1 & 2 & 1 & 1 & 0 & 0 & 0 \\\\\n",
       "0 & -9 & 0 & 9 & -3 & 1 & 0 & 0 \\\\\n",
       "0 & 0 & -1 & -4 & -\\frac{7}{3} & \\frac{1}{9} & 1 & 0 \\\\\n",
       "0 & 0 & -3 & 1 & -\\frac{4}{3} & \\frac{1}{9} & 0 & 1\n",
       "\\end{array}\\right)</script></html>"
      ],
      "text/latex": [
       "\\begin{math}\n",
       "\\newcommand{\\Bold}[1]{\\mathbf{#1}}\\left(\\begin{array}{rrrr|rrrr}\n",
       "2 & 1 & 2 & 1 & 1 & 0 & 0 & 0 \\\\\n",
       "0 & -9 & 0 & 9 & -3 & 1 & 0 & 0 \\\\\n",
       "0 & 0 & -1 & -4 & -\\frac{7}{3} & \\frac{1}{9} & 1 & 0 \\\\\n",
       "0 & 0 & -3 & 1 & -\\frac{4}{3} & \\frac{1}{9} & 0 & 1\n",
       "\\end{array}\\right)\n",
       "\\end{math}"
      ],
      "text/plain": [
       "[   2    1    2    1|   1    0    0    0]\n",
       "[   0   -9    0    9|  -3    1    0    0]\n",
       "[   0    0   -1   -4|-7/3  1/9    1    0]\n",
       "[   0    0   -3    1|-4/3  1/9    0    1]"
      ]
     },
     "metadata": {},
     "output_type": "display_data"
    },
    {
     "data": {
      "text/html": [
       "<html><script type=\"math/tex; mode=display\">\\newcommand{\\Bold}[1]{\\mathbf{#1}}\\verb\"Matrix\"\\phantom{\\verb!x!}\\verb\"[A3|I]\"\\phantom{\\verb!x!}\\verb\"after\"\\phantom{\\verb!x!}\\verb\"Gaussian\"\\phantom{\\verb!x!}\\verb\"Elimination\"\\phantom{\\verb!x!}\\verb\":\"</script></html>"
      ],
      "text/latex": [
       "\\begin{math}\n",
       "\\newcommand{\\Bold}[1]{\\mathbf{#1}}\\verb\"Matrix\"\\phantom{\\verb!x!}\\verb\"[A3|I]\"\\phantom{\\verb!x!}\\verb\"after\"\\phantom{\\verb!x!}\\verb\"Gaussian\"\\phantom{\\verb!x!}\\verb\"Elimination\"\\phantom{\\verb!x!}\\verb\":\"\n",
       "\\end{math}"
      ],
      "text/plain": [
       "'Matrix [A3|I] after Gaussian Elimination :'"
      ]
     },
     "metadata": {},
     "output_type": "display_data"
    },
    {
     "data": {
      "text/html": [
       "<html><script type=\"math/tex; mode=display\">\\newcommand{\\Bold}[1]{\\mathbf{#1}}\\left(\\begin{array}{rrrr|rrrr}\n",
       "2 & 1 & 2 & 1 & 1 & 0 & 0 & 0 \\\\\n",
       "0 & -9 & 0 & 9 & -3 & 1 & 0 & 0 \\\\\n",
       "0 & 0 & -1 & -4 & -\\frac{7}{3} & \\frac{1}{9} & 1 & 0 \\\\\n",
       "0 & 0 & 0 & 13 & \\frac{17}{3} & -\\frac{2}{9} & -3 & 1\n",
       "\\end{array}\\right)</script></html>"
      ],
      "text/latex": [
       "\\begin{math}\n",
       "\\newcommand{\\Bold}[1]{\\mathbf{#1}}\\left(\\begin{array}{rrrr|rrrr}\n",
       "2 & 1 & 2 & 1 & 1 & 0 & 0 & 0 \\\\\n",
       "0 & -9 & 0 & 9 & -3 & 1 & 0 & 0 \\\\\n",
       "0 & 0 & -1 & -4 & -\\frac{7}{3} & \\frac{1}{9} & 1 & 0 \\\\\n",
       "0 & 0 & 0 & 13 & \\frac{17}{3} & -\\frac{2}{9} & -3 & 1\n",
       "\\end{array}\\right)\n",
       "\\end{math}"
      ],
      "text/plain": [
       "[   2    1    2    1|   1    0    0    0]\n",
       "[   0   -9    0    9|  -3    1    0    0]\n",
       "[   0    0   -1   -4|-7/3  1/9    1    0]\n",
       "[   0    0    0   13|17/3 -2/9   -3    1]"
      ]
     },
     "metadata": {},
     "output_type": "display_data"
    },
    {
     "data": {
      "text/html": [
       "<html><script type=\"math/tex; mode=display\">\\newcommand{\\Bold}[1]{\\mathbf{#1}}\\verb\"Matrix\"\\phantom{\\verb!x!}\\verb\"[A3|I]\"\\phantom{\\verb!x!}\\verb\"(scaled\"\\phantom{\\verb!x!}\\verb\"forth\"\\phantom{\\verb!x!}\\verb\"row's\"\\phantom{\\verb!x!}\\verb\"diagonal\"\\phantom{\\verb!x!}\\verb\"and\"\\phantom{\\verb!x!}\\verb\"killed\"\\phantom{\\verb!x!}\\verb\"forth\"\\phantom{\\verb!x!}\\verb\"column)\"\\phantom{\\verb!x!}\\verb\":\"</script></html>"
      ],
      "text/latex": [
       "\\begin{math}\n",
       "\\newcommand{\\Bold}[1]{\\mathbf{#1}}\\verb\"Matrix\"\\phantom{\\verb!x!}\\verb\"[A3|I]\"\\phantom{\\verb!x!}\\verb\"(scaled\"\\phantom{\\verb!x!}\\verb\"forth\"\\phantom{\\verb!x!}\\verb\"row's\"\\phantom{\\verb!x!}\\verb\"diagonal\"\\phantom{\\verb!x!}\\verb\"and\"\\phantom{\\verb!x!}\\verb\"killed\"\\phantom{\\verb!x!}\\verb\"forth\"\\phantom{\\verb!x!}\\verb\"column)\"\\phantom{\\verb!x!}\\verb\":\"\n",
       "\\end{math}"
      ],
      "text/plain": [
       "\"Matrix [A3|I] (scaled forth row's diagonal and killed forth column) :\""
      ]
     },
     "metadata": {},
     "output_type": "display_data"
    },
    {
     "data": {
      "text/html": [
       "<html><script type=\"math/tex; mode=display\">\\newcommand{\\Bold}[1]{\\mathbf{#1}}\\left(\\begin{array}{rrrr|rrrr}\n",
       "2 & 1 & 2 & 0 & \\frac{22}{39} & \\frac{2}{117} & \\frac{3}{13} & -\\frac{1}{13} \\\\\n",
       "0 & -9 & 0 & 0 & -\\frac{90}{13} & \\frac{15}{13} & \\frac{27}{13} & -\\frac{9}{13} \\\\\n",
       "0 & 0 & -1 & 0 & -\\frac{23}{39} & \\frac{5}{117} & \\frac{1}{13} & \\frac{4}{13} \\\\\n",
       "0 & 0 & 0 & 1 & \\frac{17}{39} & -\\frac{2}{117} & -\\frac{3}{13} & \\frac{1}{13}\n",
       "\\end{array}\\right)</script></html>"
      ],
      "text/latex": [
       "\\begin{math}\n",
       "\\newcommand{\\Bold}[1]{\\mathbf{#1}}\\left(\\begin{array}{rrrr|rrrr}\n",
       "2 & 1 & 2 & 0 & \\frac{22}{39} & \\frac{2}{117} & \\frac{3}{13} & -\\frac{1}{13} \\\\\n",
       "0 & -9 & 0 & 0 & -\\frac{90}{13} & \\frac{15}{13} & \\frac{27}{13} & -\\frac{9}{13} \\\\\n",
       "0 & 0 & -1 & 0 & -\\frac{23}{39} & \\frac{5}{117} & \\frac{1}{13} & \\frac{4}{13} \\\\\n",
       "0 & 0 & 0 & 1 & \\frac{17}{39} & -\\frac{2}{117} & -\\frac{3}{13} & \\frac{1}{13}\n",
       "\\end{array}\\right)\n",
       "\\end{math}"
      ],
      "text/plain": [
       "[     2      1      2      0| 22/39  2/117   3/13  -1/13]\n",
       "[     0     -9      0      0|-90/13  15/13  27/13  -9/13]\n",
       "[     0      0     -1      0|-23/39  5/117   1/13   4/13]\n",
       "[     0      0      0      1| 17/39 -2/117  -3/13   1/13]"
      ]
     },
     "metadata": {},
     "output_type": "display_data"
    },
    {
     "data": {
      "text/html": [
       "<html><script type=\"math/tex; mode=display\">\\newcommand{\\Bold}[1]{\\mathbf{#1}}\\verb\"Matrix\"\\phantom{\\verb!x!}\\verb\"[A3|I]\"\\phantom{\\verb!x!}\\verb\"(scaled\"\\phantom{\\verb!x!}\\verb\"third\"\\phantom{\\verb!x!}\\verb\"row's\"\\phantom{\\verb!x!}\\verb\"diagonal\"\\phantom{\\verb!x!}\\verb\"and\"\\phantom{\\verb!x!}\\verb\"killed\"\\phantom{\\verb!x!}\\verb\"third\"\\phantom{\\verb!x!}\\verb\"column)\"\\phantom{\\verb!x!}\\verb\":\"</script></html>"
      ],
      "text/latex": [
       "\\begin{math}\n",
       "\\newcommand{\\Bold}[1]{\\mathbf{#1}}\\verb\"Matrix\"\\phantom{\\verb!x!}\\verb\"[A3|I]\"\\phantom{\\verb!x!}\\verb\"(scaled\"\\phantom{\\verb!x!}\\verb\"third\"\\phantom{\\verb!x!}\\verb\"row's\"\\phantom{\\verb!x!}\\verb\"diagonal\"\\phantom{\\verb!x!}\\verb\"and\"\\phantom{\\verb!x!}\\verb\"killed\"\\phantom{\\verb!x!}\\verb\"third\"\\phantom{\\verb!x!}\\verb\"column)\"\\phantom{\\verb!x!}\\verb\":\"\n",
       "\\end{math}"
      ],
      "text/plain": [
       "\"Matrix [A3|I] (scaled third row's diagonal and killed third column) :\""
      ]
     },
     "metadata": {},
     "output_type": "display_data"
    },
    {
     "data": {
      "text/html": [
       "<html><script type=\"math/tex; mode=display\">\\newcommand{\\Bold}[1]{\\mathbf{#1}}\\left(\\begin{array}{rrrr|rrrr}\n",
       "2 & 1 & 0 & 0 & -\\frac{8}{13} & \\frac{4}{39} & \\frac{5}{13} & \\frac{7}{13} \\\\\n",
       "0 & -9 & 0 & 0 & -\\frac{90}{13} & \\frac{15}{13} & \\frac{27}{13} & -\\frac{9}{13} \\\\\n",
       "0 & 0 & 1 & 0 & \\frac{23}{39} & -\\frac{5}{117} & -\\frac{1}{13} & -\\frac{4}{13} \\\\\n",
       "0 & 0 & 0 & 1 & \\frac{17}{39} & -\\frac{2}{117} & -\\frac{3}{13} & \\frac{1}{13}\n",
       "\\end{array}\\right)</script></html>"
      ],
      "text/latex": [
       "\\begin{math}\n",
       "\\newcommand{\\Bold}[1]{\\mathbf{#1}}\\left(\\begin{array}{rrrr|rrrr}\n",
       "2 & 1 & 0 & 0 & -\\frac{8}{13} & \\frac{4}{39} & \\frac{5}{13} & \\frac{7}{13} \\\\\n",
       "0 & -9 & 0 & 0 & -\\frac{90}{13} & \\frac{15}{13} & \\frac{27}{13} & -\\frac{9}{13} \\\\\n",
       "0 & 0 & 1 & 0 & \\frac{23}{39} & -\\frac{5}{117} & -\\frac{1}{13} & -\\frac{4}{13} \\\\\n",
       "0 & 0 & 0 & 1 & \\frac{17}{39} & -\\frac{2}{117} & -\\frac{3}{13} & \\frac{1}{13}\n",
       "\\end{array}\\right)\n",
       "\\end{math}"
      ],
      "text/plain": [
       "[     2      1      0      0| -8/13   4/39   5/13   7/13]\n",
       "[     0     -9      0      0|-90/13  15/13  27/13  -9/13]\n",
       "[     0      0      1      0| 23/39 -5/117  -1/13  -4/13]\n",
       "[     0      0      0      1| 17/39 -2/117  -3/13   1/13]"
      ]
     },
     "metadata": {},
     "output_type": "display_data"
    },
    {
     "data": {
      "text/html": [
       "<html><script type=\"math/tex; mode=display\">\\newcommand{\\Bold}[1]{\\mathbf{#1}}\\verb\"Matrix\"\\phantom{\\verb!x!}\\verb\"[A3|I]\"\\phantom{\\verb!x!}\\verb\"(scaled\"\\phantom{\\verb!x!}\\verb\"second\"\\phantom{\\verb!x!}\\verb\"row's\"\\phantom{\\verb!x!}\\verb\"diagonal\"\\phantom{\\verb!x!}\\verb\"and\"\\phantom{\\verb!x!}\\verb\"killed\"\\phantom{\\verb!x!}\\verb\"second\"\\phantom{\\verb!x!}\\verb\"column)\"\\phantom{\\verb!x!}\\verb\":\"</script></html>"
      ],
      "text/latex": [
       "\\begin{math}\n",
       "\\newcommand{\\Bold}[1]{\\mathbf{#1}}\\verb\"Matrix\"\\phantom{\\verb!x!}\\verb\"[A3|I]\"\\phantom{\\verb!x!}\\verb\"(scaled\"\\phantom{\\verb!x!}\\verb\"second\"\\phantom{\\verb!x!}\\verb\"row's\"\\phantom{\\verb!x!}\\verb\"diagonal\"\\phantom{\\verb!x!}\\verb\"and\"\\phantom{\\verb!x!}\\verb\"killed\"\\phantom{\\verb!x!}\\verb\"second\"\\phantom{\\verb!x!}\\verb\"column)\"\\phantom{\\verb!x!}\\verb\":\"\n",
       "\\end{math}"
      ],
      "text/plain": [
       "\"Matrix [A3|I] (scaled second row's diagonal and killed second column) :\""
      ]
     },
     "metadata": {},
     "output_type": "display_data"
    },
    {
     "data": {
      "text/html": [
       "<html><script type=\"math/tex; mode=display\">\\newcommand{\\Bold}[1]{\\mathbf{#1}}\\left(\\begin{array}{rrrr|rrrr}\n",
       "2 & 0 & 0 & 0 & -\\frac{18}{13} & \\frac{3}{13} & \\frac{8}{13} & \\frac{6}{13} \\\\\n",
       "0 & 1 & 0 & 0 & \\frac{10}{13} & -\\frac{5}{39} & -\\frac{3}{13} & \\frac{1}{13} \\\\\n",
       "0 & 0 & 1 & 0 & \\frac{23}{39} & -\\frac{5}{117} & -\\frac{1}{13} & -\\frac{4}{13} \\\\\n",
       "0 & 0 & 0 & 1 & \\frac{17}{39} & -\\frac{2}{117} & -\\frac{3}{13} & \\frac{1}{13}\n",
       "\\end{array}\\right)</script></html>"
      ],
      "text/latex": [
       "\\begin{math}\n",
       "\\newcommand{\\Bold}[1]{\\mathbf{#1}}\\left(\\begin{array}{rrrr|rrrr}\n",
       "2 & 0 & 0 & 0 & -\\frac{18}{13} & \\frac{3}{13} & \\frac{8}{13} & \\frac{6}{13} \\\\\n",
       "0 & 1 & 0 & 0 & \\frac{10}{13} & -\\frac{5}{39} & -\\frac{3}{13} & \\frac{1}{13} \\\\\n",
       "0 & 0 & 1 & 0 & \\frac{23}{39} & -\\frac{5}{117} & -\\frac{1}{13} & -\\frac{4}{13} \\\\\n",
       "0 & 0 & 0 & 1 & \\frac{17}{39} & -\\frac{2}{117} & -\\frac{3}{13} & \\frac{1}{13}\n",
       "\\end{array}\\right)\n",
       "\\end{math}"
      ],
      "text/plain": [
       "[     2      0      0      0|-18/13   3/13   8/13   6/13]\n",
       "[     0      1      0      0| 10/13  -5/39  -3/13   1/13]\n",
       "[     0      0      1      0| 23/39 -5/117  -1/13  -4/13]\n",
       "[     0      0      0      1| 17/39 -2/117  -3/13   1/13]"
      ]
     },
     "metadata": {},
     "output_type": "display_data"
    },
    {
     "data": {
      "text/html": [
       "<html><script type=\"math/tex; mode=display\">\\newcommand{\\Bold}[1]{\\mathbf{#1}}\\verb\"Matrix\"\\phantom{\\verb!x!}\\verb\"[A3|I]\"\\phantom{\\verb!x!}\\verb\"(scaled\"\\phantom{\\verb!x!}\\verb\"first\"\\phantom{\\verb!x!}\\verb\"row's\"\\phantom{\\verb!x!}\\verb\"diagonal)\"\\phantom{\\verb!x!}\\verb\":\"</script></html>"
      ],
      "text/latex": [
       "\\begin{math}\n",
       "\\newcommand{\\Bold}[1]{\\mathbf{#1}}\\verb\"Matrix\"\\phantom{\\verb!x!}\\verb\"[A3|I]\"\\phantom{\\verb!x!}\\verb\"(scaled\"\\phantom{\\verb!x!}\\verb\"first\"\\phantom{\\verb!x!}\\verb\"row's\"\\phantom{\\verb!x!}\\verb\"diagonal)\"\\phantom{\\verb!x!}\\verb\":\"\n",
       "\\end{math}"
      ],
      "text/plain": [
       "\"Matrix [A3|I] (scaled first row's diagonal) :\""
      ]
     },
     "metadata": {},
     "output_type": "display_data"
    },
    {
     "data": {
      "text/html": [
       "<html><script type=\"math/tex; mode=display\">\\newcommand{\\Bold}[1]{\\mathbf{#1}}\\left(\\begin{array}{rrrr|rrrr}\n",
       "1 & 0 & 0 & 0 & -\\frac{9}{13} & \\frac{3}{26} & \\frac{4}{13} & \\frac{3}{13} \\\\\n",
       "0 & 1 & 0 & 0 & \\frac{10}{13} & -\\frac{5}{39} & -\\frac{3}{13} & \\frac{1}{13} \\\\\n",
       "0 & 0 & 1 & 0 & \\frac{23}{39} & -\\frac{5}{117} & -\\frac{1}{13} & -\\frac{4}{13} \\\\\n",
       "0 & 0 & 0 & 1 & \\frac{17}{39} & -\\frac{2}{117} & -\\frac{3}{13} & \\frac{1}{13}\n",
       "\\end{array}\\right)</script></html>"
      ],
      "text/latex": [
       "\\begin{math}\n",
       "\\newcommand{\\Bold}[1]{\\mathbf{#1}}\\left(\\begin{array}{rrrr|rrrr}\n",
       "1 & 0 & 0 & 0 & -\\frac{9}{13} & \\frac{3}{26} & \\frac{4}{13} & \\frac{3}{13} \\\\\n",
       "0 & 1 & 0 & 0 & \\frac{10}{13} & -\\frac{5}{39} & -\\frac{3}{13} & \\frac{1}{13} \\\\\n",
       "0 & 0 & 1 & 0 & \\frac{23}{39} & -\\frac{5}{117} & -\\frac{1}{13} & -\\frac{4}{13} \\\\\n",
       "0 & 0 & 0 & 1 & \\frac{17}{39} & -\\frac{2}{117} & -\\frac{3}{13} & \\frac{1}{13}\n",
       "\\end{array}\\right)\n",
       "\\end{math}"
      ],
      "text/plain": [
       "[     1      0      0      0| -9/13   3/26   4/13   3/13]\n",
       "[     0      1      0      0| 10/13  -5/39  -3/13   1/13]\n",
       "[     0      0      1      0| 23/39 -5/117  -1/13  -4/13]\n",
       "[     0      0      0      1| 17/39 -2/117  -3/13   1/13]"
      ]
     },
     "metadata": {},
     "output_type": "display_data"
    },
    {
     "data": {
      "text/html": [
       "<html><script type=\"math/tex; mode=display\">\\newcommand{\\Bold}[1]{\\mathbf{#1}}\\verb\"Matrix\"\\phantom{\\verb!x!}\\verb\"[A3|I]\"\\phantom{\\verb!x!}\\verb\"after\"\\phantom{\\verb!x!}\\verb\"Gauss-Jordan\"\\phantom{\\verb!x!}\\verb\"Elimination\"\\phantom{\\verb!x!}\\verb\":\"</script></html>"
      ],
      "text/latex": [
       "\\begin{math}\n",
       "\\newcommand{\\Bold}[1]{\\mathbf{#1}}\\verb\"Matrix\"\\phantom{\\verb!x!}\\verb\"[A3|I]\"\\phantom{\\verb!x!}\\verb\"after\"\\phantom{\\verb!x!}\\verb\"Gauss-Jordan\"\\phantom{\\verb!x!}\\verb\"Elimination\"\\phantom{\\verb!x!}\\verb\":\"\n",
       "\\end{math}"
      ],
      "text/plain": [
       "'Matrix [A3|I] after Gauss-Jordan Elimination :'"
      ]
     },
     "metadata": {},
     "output_type": "display_data"
    },
    {
     "data": {
      "text/html": [
       "<html><script type=\"math/tex; mode=display\">\\newcommand{\\Bold}[1]{\\mathbf{#1}}\\left(\\begin{array}{rrrr|rrrr}\n",
       "1 & 0 & 0 & 0 & -\\frac{9}{13} & \\frac{3}{26} & \\frac{4}{13} & \\frac{3}{13} \\\\\n",
       "0 & 1 & 0 & 0 & \\frac{10}{13} & -\\frac{5}{39} & -\\frac{3}{13} & \\frac{1}{13} \\\\\n",
       "0 & 0 & 1 & 0 & \\frac{23}{39} & -\\frac{5}{117} & -\\frac{1}{13} & -\\frac{4}{13} \\\\\n",
       "0 & 0 & 0 & 1 & \\frac{17}{39} & -\\frac{2}{117} & -\\frac{3}{13} & \\frac{1}{13}\n",
       "\\end{array}\\right)</script></html>"
      ],
      "text/latex": [
       "\\begin{math}\n",
       "\\newcommand{\\Bold}[1]{\\mathbf{#1}}\\left(\\begin{array}{rrrr|rrrr}\n",
       "1 & 0 & 0 & 0 & -\\frac{9}{13} & \\frac{3}{26} & \\frac{4}{13} & \\frac{3}{13} \\\\\n",
       "0 & 1 & 0 & 0 & \\frac{10}{13} & -\\frac{5}{39} & -\\frac{3}{13} & \\frac{1}{13} \\\\\n",
       "0 & 0 & 1 & 0 & \\frac{23}{39} & -\\frac{5}{117} & -\\frac{1}{13} & -\\frac{4}{13} \\\\\n",
       "0 & 0 & 0 & 1 & \\frac{17}{39} & -\\frac{2}{117} & -\\frac{3}{13} & \\frac{1}{13}\n",
       "\\end{array}\\right)\n",
       "\\end{math}"
      ],
      "text/plain": [
       "[     1      0      0      0| -9/13   3/26   4/13   3/13]\n",
       "[     0      1      0      0| 10/13  -5/39  -3/13   1/13]\n",
       "[     0      0      1      0| 23/39 -5/117  -1/13  -4/13]\n",
       "[     0      0      0      1| 17/39 -2/117  -3/13   1/13]"
      ]
     },
     "metadata": {},
     "output_type": "display_data"
    },
    {
     "data": {
      "text/html": [
       "<html><script type=\"math/tex; mode=display\">\\newcommand{\\Bold}[1]{\\mathbf{#1}}\\verb\"Hence,\"\\phantom{\\verb!x!}\\verb\"the\"\\phantom{\\verb!x!}\\verb\"inverse\"\\phantom{\\verb!x!}\\verb\"of\"\\phantom{\\verb!x!}\\verb\"A3\"\\phantom{\\verb!x!}\\verb\"is\"\\phantom{\\verb!x!}\\verb\"on\"\\phantom{\\verb!x!}\\verb\"the\"\\phantom{\\verb!x!}\\verb\"right\"\\phantom{\\verb!x!}\\verb\"of\"\\phantom{\\verb!x!}\\verb\"RREF\"\\phantom{\\verb!x!}\\verb\"of\"\\phantom{\\verb!x!}\\verb\"[A3|I]\"\\phantom{\\verb!x!}\\verb\"after\"\\phantom{\\verb!x!}\\verb\"Gauss-Jordan\"\\phantom{\\verb!x!}\\verb\"Elimination\"\\phantom{\\verb!x!}\\verb\":\"</script></html>"
      ],
      "text/latex": [
       "\\begin{math}\n",
       "\\newcommand{\\Bold}[1]{\\mathbf{#1}}\\verb\"Hence,\"\\phantom{\\verb!x!}\\verb\"the\"\\phantom{\\verb!x!}\\verb\"inverse\"\\phantom{\\verb!x!}\\verb\"of\"\\phantom{\\verb!x!}\\verb\"A3\"\\phantom{\\verb!x!}\\verb\"is\"\\phantom{\\verb!x!}\\verb\"on\"\\phantom{\\verb!x!}\\verb\"the\"\\phantom{\\verb!x!}\\verb\"right\"\\phantom{\\verb!x!}\\verb\"of\"\\phantom{\\verb!x!}\\verb\"RREF\"\\phantom{\\verb!x!}\\verb\"of\"\\phantom{\\verb!x!}\\verb\"[A3|I]\"\\phantom{\\verb!x!}\\verb\"after\"\\phantom{\\verb!x!}\\verb\"Gauss-Jordan\"\\phantom{\\verb!x!}\\verb\"Elimination\"\\phantom{\\verb!x!}\\verb\":\"\n",
       "\\end{math}"
      ],
      "text/plain": [
       "'Hence, the inverse of A3 is on the right of RREF of [A3|I] after Gauss-Jordan Elimination :'"
      ]
     },
     "metadata": {},
     "output_type": "display_data"
    },
    {
     "data": {
      "text/html": [
       "<html><script type=\"math/tex; mode=display\">\\newcommand{\\Bold}[1]{\\mathbf{#1}}\\left(\\begin{array}{rrrr}\n",
       "-\\frac{9}{13} & \\frac{3}{26} & \\frac{4}{13} & \\frac{3}{13} \\\\\n",
       "\\frac{10}{13} & -\\frac{5}{39} & -\\frac{3}{13} & \\frac{1}{13} \\\\\n",
       "\\frac{23}{39} & -\\frac{5}{117} & -\\frac{1}{13} & -\\frac{4}{13} \\\\\n",
       "\\frac{17}{39} & -\\frac{2}{117} & -\\frac{3}{13} & \\frac{1}{13}\n",
       "\\end{array}\\right)</script></html>"
      ],
      "text/latex": [
       "\\begin{math}\n",
       "\\newcommand{\\Bold}[1]{\\mathbf{#1}}\\left(\\begin{array}{rrrr}\n",
       "-\\frac{9}{13} & \\frac{3}{26} & \\frac{4}{13} & \\frac{3}{13} \\\\\n",
       "\\frac{10}{13} & -\\frac{5}{39} & -\\frac{3}{13} & \\frac{1}{13} \\\\\n",
       "\\frac{23}{39} & -\\frac{5}{117} & -\\frac{1}{13} & -\\frac{4}{13} \\\\\n",
       "\\frac{17}{39} & -\\frac{2}{117} & -\\frac{3}{13} & \\frac{1}{13}\n",
       "\\end{array}\\right)\n",
       "\\end{math}"
      ],
      "text/plain": [
       "[ -9/13   3/26   4/13   3/13]\n",
       "[ 10/13  -5/39  -3/13   1/13]\n",
       "[ 23/39 -5/117  -1/13  -4/13]\n",
       "[ 17/39 -2/117  -3/13   1/13]"
      ]
     },
     "metadata": {},
     "output_type": "display_data"
    }
   ],
   "source": [
    "#Create matrix A3\n",
    "A3 = matrix(QQ, [[2, 1, 2, 1], [6, -6, 6, 12], [4, 3, 3, -3], [2, 2, -1, 1]])\n",
    "\n",
    "#Create Identity matrix of 4 by 4\n",
    "I = identity_matrix(4)\n",
    "\n",
    "#Create Augmented matrix [A3|I]\n",
    "A3_I_aug = A3.augment(I, subdivide = true)\n",
    "pretty_print(\"Matrix [A3|I] (Before Gauss-Jordan Elimination) : \")\n",
    "pretty_print(A3_I_aug)\n",
    "\n",
    "#Perform Gauss-Jordan Elimination\n",
    "#Start with Gaussian Elimination\n",
    "#Firstly, from second row(inclusive) onwards, kill the non-zero elements in the first column of matrix A3, using ERO on first row of matrix A3_I_aug\n",
    "A3_I_aug.add_multiple_of_row(1, 0, -3)\n",
    "A3_I_aug.add_multiple_of_row(2, 0, -2)\n",
    "A3_I_aug.add_multiple_of_row(3, 0, -1)\n",
    "pretty_print(\"Matrix [A3|I] (killed first column) : \")\n",
    "pretty_print(A3_I_aug)\n",
    "\n",
    "#Secondly, from third row(inclusive) onwards, kill the non-zero elements in the second column of matrix A3, using ERO on second row of matrix A3_I_aug\n",
    "A3_I_aug.add_multiple_of_row(2, 1, 1/9)\n",
    "A3_I_aug.add_multiple_of_row(3, 1, 1/9)\n",
    "pretty_print(\"Matrix [A3|I] (killed second column) : \")\n",
    "pretty_print(A3_I_aug)\n",
    "\n",
    "#Thirdly, from forth row(inclusive) onwards, kill the non-zero elements in the third column of matrix A3, using ERO on third row of matrix A3_I_aug\n",
    "A3_I_aug.add_multiple_of_row(3, 2, -3)\n",
    "pretty_print(\"Matrix [A3|I] after Gaussian Elimination :\")\n",
    "pretty_print(A3_I_aug)\n",
    "\n",
    "#Perform Scaling to make all diagonal elements 1's and kill the non-zero elements of upper triangular from bottom upwards\n",
    "\n",
    "#Scale the forth row's diagonal to 1\n",
    "A3_I_aug.add_multiple_of_row(3, 3, -12/13)\n",
    "#From third row(inclusive) backwards(from bottom), kill the non-zero elements in the forth column of matrix A3, using ERO on forth row of matrix A3_I_aug\n",
    "A3_I_aug.add_multiple_of_row(2, 3, 4)\n",
    "A3_I_aug.add_multiple_of_row(1, 3, -9)\n",
    "A3_I_aug.add_multiple_of_row(0, 3, -1)\n",
    "pretty_print(\"Matrix [A3|I] (scaled forth row's diagonal and killed forth column) :\")\n",
    "pretty_print(A3_I_aug)\n",
    "\n",
    "#Scale the third row's diagonal to 1\n",
    "A3_I_aug.add_multiple_of_row(2, 2, -2)\n",
    "#From second row(inclusive) backwards(from bottom), kill the non-zero elements in the third column of matrix A3, using ERO on third row of matrix A3_I_aug\n",
    "A3_I_aug.add_multiple_of_row(0, 2, -2)\n",
    "pretty_print(\"Matrix [A3|I] (scaled third row's diagonal and killed third column) :\")\n",
    "pretty_print(A3_I_aug)\n",
    "\n",
    "#Scale the second row's diagonal to 1\n",
    "A3_I_aug.add_multiple_of_row(1, 1, -10/9)\n",
    "#From first row(inclusive) backwards(from bottom), kill the non-zero elements in the second column of matrix A3, using ERO on second row of matrix A3_I_aug\n",
    "A3_I_aug.add_multiple_of_row(0, 1, -1)\n",
    "pretty_print(\"Matrix [A3|I] (scaled second row's diagonal and killed second column) :\")\n",
    "pretty_print(A3_I_aug)\n",
    "\n",
    "#Scale the first row's diagonal to 1\n",
    "A3_I_aug.add_multiple_of_row(0, 0, -1/2)\n",
    "pretty_print(\"Matrix [A3|I] (scaled first row's diagonal) :\")\n",
    "pretty_print(A3_I_aug)\n",
    "\n",
    "#Show the final [A3|I] after Gauss-Jordan Elimination\n",
    "pretty_print(\"Matrix [A3|I] after Gauss-Jordan Elimination :\")\n",
    "pretty_print(A3_I_aug)\n",
    "pretty_print(\"Hence, the inverse of A3 is on the right of RREF of [A3|I] after Gauss-Jordan Elimination :\")\n",
    "\n",
    "#Create the inverse matrix A3^-1\n",
    "A3_inv_GJ = A3_I_aug.submatrix(0,4,4,4)\n",
    "pretty_print(A3_inv_GJ)\n",
    "\n",
    "marks += 3"
   ]
  },
  {
   "cell_type": "markdown",
   "metadata": {},
   "source": [
    "### 3(b)\n",
    "<div style=\"text-align: right; font-size: 1.1em; color:red\"> [2 marks]</div>\n",
    "\n",
    "Find the adjoint matrix of $A_3$ and calculate $A_3^{-1}$ using it. Compare with your results in $3(a)$"
   ]
  },
  {
   "cell_type": "code",
   "execution_count": 86,
   "metadata": {},
   "outputs": [
    {
     "data": {
      "text/html": [
       "<html><script type=\"math/tex; mode=display\">\\newcommand{\\Bold}[1]{\\mathbf{#1}}\\verb|Inverse|\\phantom{\\verb!x!}\\verb|of|\\phantom{\\verb!x!}\\verb|A3|\\phantom{\\verb!x!}\\verb|using|\\phantom{\\verb!x!}\\verb|adjoint|\\phantom{\\verb!x!}\\verb|matrix|\\phantom{\\verb!x!}\\verb|in|\\phantom{\\verb!x!}\\verb|3(b):|</script></html>"
      ],
      "text/latex": [
       "\\begin{math}\n",
       "\\newcommand{\\Bold}[1]{\\mathbf{#1}}\\verb|Inverse|\\phantom{\\verb!x!}\\verb|of|\\phantom{\\verb!x!}\\verb|A3|\\phantom{\\verb!x!}\\verb|using|\\phantom{\\verb!x!}\\verb|adjoint|\\phantom{\\verb!x!}\\verb|matrix|\\phantom{\\verb!x!}\\verb|in|\\phantom{\\verb!x!}\\verb|3(b):|\n",
       "\\end{math}"
      ],
      "text/plain": [
       "'Inverse of A3 using adjoint matrix in 3(b):'"
      ]
     },
     "metadata": {},
     "output_type": "display_data"
    },
    {
     "data": {
      "text/html": [
       "<html><script type=\"math/tex; mode=display\">\\newcommand{\\Bold}[1]{\\mathbf{#1}}\\left(\\begin{array}{rrrr}\n",
       "-\\frac{9}{13} & \\frac{3}{26} & \\frac{4}{13} & \\frac{3}{13} \\\\\n",
       "\\frac{10}{13} & -\\frac{5}{39} & -\\frac{3}{13} & \\frac{1}{13} \\\\\n",
       "\\frac{23}{39} & -\\frac{5}{117} & -\\frac{1}{13} & -\\frac{4}{13} \\\\\n",
       "\\frac{17}{39} & -\\frac{2}{117} & -\\frac{3}{13} & \\frac{1}{13}\n",
       "\\end{array}\\right)</script></html>"
      ],
      "text/latex": [
       "\\begin{math}\n",
       "\\newcommand{\\Bold}[1]{\\mathbf{#1}}\\left(\\begin{array}{rrrr}\n",
       "-\\frac{9}{13} & \\frac{3}{26} & \\frac{4}{13} & \\frac{3}{13} \\\\\n",
       "\\frac{10}{13} & -\\frac{5}{39} & -\\frac{3}{13} & \\frac{1}{13} \\\\\n",
       "\\frac{23}{39} & -\\frac{5}{117} & -\\frac{1}{13} & -\\frac{4}{13} \\\\\n",
       "\\frac{17}{39} & -\\frac{2}{117} & -\\frac{3}{13} & \\frac{1}{13}\n",
       "\\end{array}\\right)\n",
       "\\end{math}"
      ],
      "text/plain": [
       "[ -9/13   3/26   4/13   3/13]\n",
       "[ 10/13  -5/39  -3/13   1/13]\n",
       "[ 23/39 -5/117  -1/13  -4/13]\n",
       "[ 17/39 -2/117  -3/13   1/13]"
      ]
     },
     "metadata": {},
     "output_type": "display_data"
    },
    {
     "data": {
      "text/html": [
       "<html><script type=\"math/tex; mode=display\">\\newcommand{\\Bold}[1]{\\mathbf{#1}}\\verb|Inverse|\\phantom{\\verb!x!}\\verb|of|\\phantom{\\verb!x!}\\verb|A3|\\phantom{\\verb!x!}\\verb|using|\\phantom{\\verb!x!}\\verb|Gauss-Jordan|\\phantom{\\verb!x!}\\verb|method|\\phantom{\\verb!x!}\\verb|in|\\phantom{\\verb!x!}\\verb|3(a):|</script></html>"
      ],
      "text/latex": [
       "\\begin{math}\n",
       "\\newcommand{\\Bold}[1]{\\mathbf{#1}}\\verb|Inverse|\\phantom{\\verb!x!}\\verb|of|\\phantom{\\verb!x!}\\verb|A3|\\phantom{\\verb!x!}\\verb|using|\\phantom{\\verb!x!}\\verb|Gauss-Jordan|\\phantom{\\verb!x!}\\verb|method|\\phantom{\\verb!x!}\\verb|in|\\phantom{\\verb!x!}\\verb|3(a):|\n",
       "\\end{math}"
      ],
      "text/plain": [
       "'Inverse of A3 using Gauss-Jordan method in 3(a):'"
      ]
     },
     "metadata": {},
     "output_type": "display_data"
    },
    {
     "data": {
      "text/html": [
       "<html><script type=\"math/tex; mode=display\">\\newcommand{\\Bold}[1]{\\mathbf{#1}}\\left(\\begin{array}{rrrr}\n",
       "-\\frac{9}{13} & \\frac{3}{26} & \\frac{4}{13} & \\frac{3}{13} \\\\\n",
       "\\frac{10}{13} & -\\frac{5}{39} & -\\frac{3}{13} & \\frac{1}{13} \\\\\n",
       "\\frac{23}{39} & -\\frac{5}{117} & -\\frac{1}{13} & -\\frac{4}{13} \\\\\n",
       "\\frac{17}{39} & -\\frac{2}{117} & -\\frac{3}{13} & \\frac{1}{13}\n",
       "\\end{array}\\right)</script></html>"
      ],
      "text/latex": [
       "\\begin{math}\n",
       "\\newcommand{\\Bold}[1]{\\mathbf{#1}}\\left(\\begin{array}{rrrr}\n",
       "-\\frac{9}{13} & \\frac{3}{26} & \\frac{4}{13} & \\frac{3}{13} \\\\\n",
       "\\frac{10}{13} & -\\frac{5}{39} & -\\frac{3}{13} & \\frac{1}{13} \\\\\n",
       "\\frac{23}{39} & -\\frac{5}{117} & -\\frac{1}{13} & -\\frac{4}{13} \\\\\n",
       "\\frac{17}{39} & -\\frac{2}{117} & -\\frac{3}{13} & \\frac{1}{13}\n",
       "\\end{array}\\right)\n",
       "\\end{math}"
      ],
      "text/plain": [
       "[ -9/13   3/26   4/13   3/13]\n",
       "[ 10/13  -5/39  -3/13   1/13]\n",
       "[ 23/39 -5/117  -1/13  -4/13]\n",
       "[ 17/39 -2/117  -3/13   1/13]"
      ]
     },
     "metadata": {},
     "output_type": "display_data"
    },
    {
     "data": {
      "text/html": [
       "<html><script type=\"math/tex; mode=display\">\\newcommand{\\Bold}[1]{\\mathbf{#1}}\\verb|Is|\\phantom{\\verb!x!}\\verb|result|\\phantom{\\verb!x!}\\verb|in|\\phantom{\\verb!x!}\\verb|3(b)|\\phantom{\\verb!x!}\\verb|equals|\\phantom{\\verb!x!}\\verb|to|\\phantom{\\verb!x!}\\verb|3(a)?|\\phantom{\\verb!x!}\\verb|:| \\mathrm{True}</script></html>"
      ],
      "text/latex": [
       "\\begin{math}\n",
       "\\newcommand{\\Bold}[1]{\\mathbf{#1}}\\verb|Is|\\phantom{\\verb!x!}\\verb|result|\\phantom{\\verb!x!}\\verb|in|\\phantom{\\verb!x!}\\verb|3(b)|\\phantom{\\verb!x!}\\verb|equals|\\phantom{\\verb!x!}\\verb|to|\\phantom{\\verb!x!}\\verb|3(a)?|\\phantom{\\verb!x!}\\verb|:| \\mathrm{True}\n",
       "\\end{math}"
      ],
      "text/plain": [
       "'Is result in 3(b) equals to 3(a)? :' True"
      ]
     },
     "metadata": {},
     "output_type": "display_data"
    }
   ],
   "source": [
    "#Create the adjoint matrix of A3\n",
    "A3_adj = A3.adjugate()\n",
    "\n",
    "#Compute the inverse of A3 using its adjoint matrix, i.e., taking (1/(det(A3))) * A3_adj\n",
    "A3_inv_adj = 1/A3.det() * A3_adj\n",
    "\n",
    "#Show the result of computation of A3^-1 using its adjugate matrix in 3(b)\n",
    "pretty_print(\"Inverse of A3 using adjoint matrix in 3(b):\")\n",
    "pretty_print(A3_inv_adj)\n",
    "\n",
    "#Compare the result of computation of inverse of A3 using Gauss-Jordan Elimination method in 3(a)\n",
    "pretty_print(\"Inverse of A3 using Gauss-Jordan method in 3(a):\")\n",
    "pretty_print(A3_inv_GJ)\n",
    "pretty_print(\"Is result in 3(b) equals to 3(a)? :\", A3_inv_adj == A3_inv_GJ)\n",
    "\n",
    "marks += 2"
   ]
  },
  {
   "cell_type": "markdown",
   "metadata": {},
   "source": [
    "### 3(c)\n",
    "<div style=\"text-align: right; font-size: 1.1em; color:red\"> [2 marks]</div>\n",
    "\n",
    "\n",
    "Using $A_3^{-1}$ (from **3(a)** or **3(b)**), solve the system of linear equations.\n"
   ]
  },
  {
   "cell_type": "code",
   "execution_count": 87,
   "metadata": {},
   "outputs": [
    {
     "data": {
      "text/html": [
       "<html><script type=\"math/tex; mode=display\">\\newcommand{\\Bold}[1]{\\mathbf{#1}}\\left(2,\\,1,\\,-1,\\,3\\right)</script></html>"
      ],
      "text/latex": [
       "\\begin{math}\n",
       "\\newcommand{\\Bold}[1]{\\mathbf{#1}}\\left(2,\\,1,\\,-1,\\,3\\right)\n",
       "\\end{math}"
      ],
      "text/plain": [
       "(2, 1, -1, 3)"
      ]
     },
     "metadata": {},
     "output_type": "display_data"
    }
   ],
   "source": [
    "#Create the RHS vector b\n",
    "b3 = vector([6, 36, -1, 10])\n",
    "\n",
    "#A3x = b3, x = A3^-1 * b3, solve x using answer from 3(b)\n",
    "x = A3_inv_adj * b3\n",
    "\n",
    "#Show the components of vector x\n",
    "pretty_print(x)\n",
    "\n",
    "marks += 2"
   ]
  },
  {
   "cell_type": "markdown",
   "metadata": {},
   "source": [
    "Therefore, the value for each component of vector x is $x = 2, y = 1, z = -1, w = 3$"
   ]
  },
  {
   "cell_type": "markdown",
   "metadata": {},
   "source": [
    "### 3(d)\n",
    "<div style=\"text-align: right; font-size: 1.1em; color:red\"> [1 mark]</div>\n",
    "\n",
    "Compare your answer to the one from *SageMath* directly. (Use *SageMath built-in* method to compute inverse and use it to solve equations)"
   ]
  },
  {
   "cell_type": "code",
   "execution_count": 88,
   "metadata": {},
   "outputs": [
    {
     "data": {
      "text/html": [
       "<html><script type=\"math/tex; mode=display\">\\newcommand{\\Bold}[1]{\\mathbf{#1}}\\verb|Result|\\phantom{\\verb!x!}\\verb|of|\\phantom{\\verb!x!}\\verb|x|\\phantom{\\verb!x!}\\verb|using|\\phantom{\\verb!x!}\\verb|inverse|\\phantom{\\verb!x!}\\verb|computed|\\phantom{\\verb!x!}\\verb|from|\\phantom{\\verb!x!}\\verb|adjugate|\\phantom{\\verb!x!}\\verb|matrix|\\phantom{\\verb!x!}\\verb|of|\\phantom{\\verb!x!}\\verb|A3|\\phantom{\\verb!x!}\\verb|:| \\left(2,\\,1,\\,-1,\\,3\\right)</script></html>"
      ],
      "text/latex": [
       "\\begin{math}\n",
       "\\newcommand{\\Bold}[1]{\\mathbf{#1}}\\verb|Result|\\phantom{\\verb!x!}\\verb|of|\\phantom{\\verb!x!}\\verb|x|\\phantom{\\verb!x!}\\verb|using|\\phantom{\\verb!x!}\\verb|inverse|\\phantom{\\verb!x!}\\verb|computed|\\phantom{\\verb!x!}\\verb|from|\\phantom{\\verb!x!}\\verb|adjugate|\\phantom{\\verb!x!}\\verb|matrix|\\phantom{\\verb!x!}\\verb|of|\\phantom{\\verb!x!}\\verb|A3|\\phantom{\\verb!x!}\\verb|:| \\left(2,\\,1,\\,-1,\\,3\\right)\n",
       "\\end{math}"
      ],
      "text/plain": [
       "'Result of x using inverse computed from adjugate matrix of A3 :' (2, 1, -1, 3)"
      ]
     },
     "metadata": {},
     "output_type": "display_data"
    },
    {
     "data": {
      "text/html": [
       "<html><script type=\"math/tex; mode=display\">\\newcommand{\\Bold}[1]{\\mathbf{#1}}\\verb|Result|\\phantom{\\verb!x!}\\verb|of|\\phantom{\\verb!x!}\\verb|x|\\phantom{\\verb!x!}\\verb|using|\\phantom{\\verb!x!}\\verb|SageMath's|\\phantom{\\verb!x!}\\verb|function|\\phantom{\\verb!x!}\\verb|:| \\left(2,\\,1,\\,-1,\\,3\\right)</script></html>"
      ],
      "text/latex": [
       "\\begin{math}\n",
       "\\newcommand{\\Bold}[1]{\\mathbf{#1}}\\verb|Result|\\phantom{\\verb!x!}\\verb|of|\\phantom{\\verb!x!}\\verb|x|\\phantom{\\verb!x!}\\verb|using|\\phantom{\\verb!x!}\\verb|SageMath's|\\phantom{\\verb!x!}\\verb|function|\\phantom{\\verb!x!}\\verb|:| \\left(2,\\,1,\\,-1,\\,3\\right)\n",
       "\\end{math}"
      ],
      "text/plain": [
       "\"Result of x using SageMath's function : \" (2, 1, -1, 3)"
      ]
     },
     "metadata": {},
     "output_type": "display_data"
    }
   ],
   "source": [
    "marks += 0.5\n",
    "\n",
    "#Compare the result3(c) with SageMath's built-in .inverse() function\n",
    "x_sm = A3.inverse() * b3\n",
    "pretty_print(\"Result of x using inverse computed from adjugate matrix of A3 :\", x)\n",
    "pretty_print(\"Result of x using SageMath's function : \",x_sm)\n",
    "#pretty_print(\"Is result in 3(c) same as SageMath's computation? :\", x == x_sm1)\n",
    "# compilation error in above line\n"
   ]
  },
  {
   "cell_type": "markdown",
   "metadata": {},
   "source": [
    "### 3(e)\n",
    "<div style=\"text-align: right; font-size: 1.1em; color:red\"> [3 marks]</div>\n",
    "\n",
    "Use **Cramer's Rule** to solve the system of linear equations above."
   ]
  },
  {
   "cell_type": "code",
   "execution_count": 89,
   "metadata": {},
   "outputs": [
    {
     "data": {
      "text/html": [
       "<html><script type=\"math/tex; mode=display\">\\newcommand{\\Bold}[1]{\\mathbf{#1}}\\verb|A3|\\phantom{\\verb!x!}\\verb|:| \\left(\\begin{array}{rrrr}\n",
       "2 & 1 & 2 & 1 \\\\\n",
       "6 & -6 & 6 & 12 \\\\\n",
       "4 & 3 & 3 & -3 \\\\\n",
       "2 & 2 & -1 & 1\n",
       "\\end{array}\\right) \\phantom{\\verb!x!}\\verb|b3|\\phantom{\\verb!x!}\\verb|:| \\left(6,\\,36,\\,-1,\\,10\\right)</script></html>"
      ],
      "text/latex": [
       "\\begin{math}\n",
       "\\newcommand{\\Bold}[1]{\\mathbf{#1}}\\verb|A3|\\phantom{\\verb!x!}\\verb|:| \\left(\\begin{array}{rrrr}\n",
       "2 & 1 & 2 & 1 \\\\\n",
       "6 & -6 & 6 & 12 \\\\\n",
       "4 & 3 & 3 & -3 \\\\\n",
       "2 & 2 & -1 & 1\n",
       "\\end{array}\\right) \\phantom{\\verb!x!}\\verb|b3|\\phantom{\\verb!x!}\\verb|:| \\left(6,\\,36,\\,-1,\\,10\\right)\n",
       "\\end{math}"
      ],
      "text/plain": [
       "'A3 :' [ 2  1  2  1]\n",
       "[ 6 -6  6 12]\n",
       "[ 4  3  3 -3]\n",
       "[ 2  2 -1  1] ' b3 :' (6, 36, -1, 10)"
      ]
     },
     "metadata": {},
     "output_type": "display_data"
    },
    {
     "data": {
      "text/html": [
       "<html><script type=\"math/tex; mode=display\">\\newcommand{\\Bold}[1]{\\mathbf{#1}}\\verb|Replacing|\\phantom{\\verb!x!}\\verb|the|\\phantom{\\verb!x!}\\verb|column|\\phantom{\\verb!x!}\\verb|1|\\phantom{\\verb!x!}\\verb|of|\\phantom{\\verb!x!}\\verb|A3|\\phantom{\\verb!x!}\\verb|with|\\phantom{\\verb!x!}\\verb|b3.|\\phantom{\\verb!x!}\\verb|Solution|\\phantom{\\verb!x!}\\verb|for|\\phantom{\\verb!x!}\\verb|x|\\phantom{\\verb!x!}\\verb|:|\\phantom{\\verb!x!}\\verb|2|</script></html>"
      ],
      "text/latex": [
       "\\begin{math}\n",
       "\\newcommand{\\Bold}[1]{\\mathbf{#1}}\\verb|Replacing|\\phantom{\\verb!x!}\\verb|the|\\phantom{\\verb!x!}\\verb|column|\\phantom{\\verb!x!}\\verb|1|\\phantom{\\verb!x!}\\verb|of|\\phantom{\\verb!x!}\\verb|A3|\\phantom{\\verb!x!}\\verb|with|\\phantom{\\verb!x!}\\verb|b3.|\\phantom{\\verb!x!}\\verb|Solution|\\phantom{\\verb!x!}\\verb|for|\\phantom{\\verb!x!}\\verb|x|\\phantom{\\verb!x!}\\verb|:|\\phantom{\\verb!x!}\\verb|2|\n",
       "\\end{math}"
      ],
      "text/plain": [
       "'Replacing the column 1 of A3 with b3. Solution for x : 2'"
      ]
     },
     "metadata": {},
     "output_type": "display_data"
    },
    {
     "data": {
      "text/html": [
       "<html><script type=\"math/tex; mode=display\">\\newcommand{\\Bold}[1]{\\mathbf{#1}}\\left(\\begin{array}{rrrr}\n",
       "6 & 1 & 2 & 1 \\\\\n",
       "36 & -6 & 6 & 12 \\\\\n",
       "-1 & 3 & 3 & -3 \\\\\n",
       "10 & 2 & -1 & 1\n",
       "\\end{array}\\right)</script></html>"
      ],
      "text/latex": [
       "\\begin{math}\n",
       "\\newcommand{\\Bold}[1]{\\mathbf{#1}}\\left(\\begin{array}{rrrr}\n",
       "6 & 1 & 2 & 1 \\\\\n",
       "36 & -6 & 6 & 12 \\\\\n",
       "-1 & 3 & 3 & -3 \\\\\n",
       "10 & 2 & -1 & 1\n",
       "\\end{array}\\right)\n",
       "\\end{math}"
      ],
      "text/plain": [
       "[ 6  1  2  1]\n",
       "[36 -6  6 12]\n",
       "[-1  3  3 -3]\n",
       "[10  2 -1  1]"
      ]
     },
     "metadata": {},
     "output_type": "display_data"
    },
    {
     "data": {
      "text/html": [
       "<html><script type=\"math/tex; mode=display\">\\newcommand{\\Bold}[1]{\\mathbf{#1}}\\verb|Replacing|\\phantom{\\verb!x!}\\verb|the|\\phantom{\\verb!x!}\\verb|column|\\phantom{\\verb!x!}\\verb|2|\\phantom{\\verb!x!}\\verb|of|\\phantom{\\verb!x!}\\verb|A3|\\phantom{\\verb!x!}\\verb|with|\\phantom{\\verb!x!}\\verb|b3.|\\phantom{\\verb!x!}\\verb|Solution|\\phantom{\\verb!x!}\\verb|for|\\phantom{\\verb!x!}\\verb|y|\\phantom{\\verb!x!}\\verb|:|\\phantom{\\verb!x!}\\verb|1|</script></html>"
      ],
      "text/latex": [
       "\\begin{math}\n",
       "\\newcommand{\\Bold}[1]{\\mathbf{#1}}\\verb|Replacing|\\phantom{\\verb!x!}\\verb|the|\\phantom{\\verb!x!}\\verb|column|\\phantom{\\verb!x!}\\verb|2|\\phantom{\\verb!x!}\\verb|of|\\phantom{\\verb!x!}\\verb|A3|\\phantom{\\verb!x!}\\verb|with|\\phantom{\\verb!x!}\\verb|b3.|\\phantom{\\verb!x!}\\verb|Solution|\\phantom{\\verb!x!}\\verb|for|\\phantom{\\verb!x!}\\verb|y|\\phantom{\\verb!x!}\\verb|:|\\phantom{\\verb!x!}\\verb|1|\n",
       "\\end{math}"
      ],
      "text/plain": [
       "'Replacing the column 2 of A3 with b3. Solution for y : 1'"
      ]
     },
     "metadata": {},
     "output_type": "display_data"
    },
    {
     "data": {
      "text/html": [
       "<html><script type=\"math/tex; mode=display\">\\newcommand{\\Bold}[1]{\\mathbf{#1}}\\left(\\begin{array}{rrrr}\n",
       "2 & 6 & 2 & 1 \\\\\n",
       "6 & 36 & 6 & 12 \\\\\n",
       "4 & -1 & 3 & -3 \\\\\n",
       "2 & 10 & -1 & 1\n",
       "\\end{array}\\right)</script></html>"
      ],
      "text/latex": [
       "\\begin{math}\n",
       "\\newcommand{\\Bold}[1]{\\mathbf{#1}}\\left(\\begin{array}{rrrr}\n",
       "2 & 6 & 2 & 1 \\\\\n",
       "6 & 36 & 6 & 12 \\\\\n",
       "4 & -1 & 3 & -3 \\\\\n",
       "2 & 10 & -1 & 1\n",
       "\\end{array}\\right)\n",
       "\\end{math}"
      ],
      "text/plain": [
       "[ 2  6  2  1]\n",
       "[ 6 36  6 12]\n",
       "[ 4 -1  3 -3]\n",
       "[ 2 10 -1  1]"
      ]
     },
     "metadata": {},
     "output_type": "display_data"
    },
    {
     "data": {
      "text/html": [
       "<html><script type=\"math/tex; mode=display\">\\newcommand{\\Bold}[1]{\\mathbf{#1}}\\verb|Replacing|\\phantom{\\verb!x!}\\verb|the|\\phantom{\\verb!x!}\\verb|column|\\phantom{\\verb!x!}\\verb|3|\\phantom{\\verb!x!}\\verb|of|\\phantom{\\verb!x!}\\verb|A3|\\phantom{\\verb!x!}\\verb|with|\\phantom{\\verb!x!}\\verb|b3.|\\phantom{\\verb!x!}\\verb|Solution|\\phantom{\\verb!x!}\\verb|for|\\phantom{\\verb!x!}\\verb|z|\\phantom{\\verb!x!}\\verb|:|\\phantom{\\verb!x!}\\verb|-1|</script></html>"
      ],
      "text/latex": [
       "\\begin{math}\n",
       "\\newcommand{\\Bold}[1]{\\mathbf{#1}}\\verb|Replacing|\\phantom{\\verb!x!}\\verb|the|\\phantom{\\verb!x!}\\verb|column|\\phantom{\\verb!x!}\\verb|3|\\phantom{\\verb!x!}\\verb|of|\\phantom{\\verb!x!}\\verb|A3|\\phantom{\\verb!x!}\\verb|with|\\phantom{\\verb!x!}\\verb|b3.|\\phantom{\\verb!x!}\\verb|Solution|\\phantom{\\verb!x!}\\verb|for|\\phantom{\\verb!x!}\\verb|z|\\phantom{\\verb!x!}\\verb|:|\\phantom{\\verb!x!}\\verb|-1|\n",
       "\\end{math}"
      ],
      "text/plain": [
       "'Replacing the column 3 of A3 with b3. Solution for z : -1'"
      ]
     },
     "metadata": {},
     "output_type": "display_data"
    },
    {
     "data": {
      "text/html": [
       "<html><script type=\"math/tex; mode=display\">\\newcommand{\\Bold}[1]{\\mathbf{#1}}\\left(\\begin{array}{rrrr}\n",
       "2 & 1 & 6 & 1 \\\\\n",
       "6 & -6 & 36 & 12 \\\\\n",
       "4 & 3 & -1 & -3 \\\\\n",
       "2 & 2 & 10 & 1\n",
       "\\end{array}\\right)</script></html>"
      ],
      "text/latex": [
       "\\begin{math}\n",
       "\\newcommand{\\Bold}[1]{\\mathbf{#1}}\\left(\\begin{array}{rrrr}\n",
       "2 & 1 & 6 & 1 \\\\\n",
       "6 & -6 & 36 & 12 \\\\\n",
       "4 & 3 & -1 & -3 \\\\\n",
       "2 & 2 & 10 & 1\n",
       "\\end{array}\\right)\n",
       "\\end{math}"
      ],
      "text/plain": [
       "[ 2  1  6  1]\n",
       "[ 6 -6 36 12]\n",
       "[ 4  3 -1 -3]\n",
       "[ 2  2 10  1]"
      ]
     },
     "metadata": {},
     "output_type": "display_data"
    },
    {
     "data": {
      "text/html": [
       "<html><script type=\"math/tex; mode=display\">\\newcommand{\\Bold}[1]{\\mathbf{#1}}\\verb|Replacing|\\phantom{\\verb!x!}\\verb|the|\\phantom{\\verb!x!}\\verb|column|\\phantom{\\verb!x!}\\verb|4|\\phantom{\\verb!x!}\\verb|of|\\phantom{\\verb!x!}\\verb|A3|\\phantom{\\verb!x!}\\verb|with|\\phantom{\\verb!x!}\\verb|b3.|\\phantom{\\verb!x!}\\verb|Solution|\\phantom{\\verb!x!}\\verb|for|\\phantom{\\verb!x!}\\verb|w|\\phantom{\\verb!x!}\\verb|:|\\phantom{\\verb!x!}\\verb|3|</script></html>"
      ],
      "text/latex": [
       "\\begin{math}\n",
       "\\newcommand{\\Bold}[1]{\\mathbf{#1}}\\verb|Replacing|\\phantom{\\verb!x!}\\verb|the|\\phantom{\\verb!x!}\\verb|column|\\phantom{\\verb!x!}\\verb|4|\\phantom{\\verb!x!}\\verb|of|\\phantom{\\verb!x!}\\verb|A3|\\phantom{\\verb!x!}\\verb|with|\\phantom{\\verb!x!}\\verb|b3.|\\phantom{\\verb!x!}\\verb|Solution|\\phantom{\\verb!x!}\\verb|for|\\phantom{\\verb!x!}\\verb|w|\\phantom{\\verb!x!}\\verb|:|\\phantom{\\verb!x!}\\verb|3|\n",
       "\\end{math}"
      ],
      "text/plain": [
       "'Replacing the column 4 of A3 with b3. Solution for w : 3'"
      ]
     },
     "metadata": {},
     "output_type": "display_data"
    },
    {
     "data": {
      "text/html": [
       "<html><script type=\"math/tex; mode=display\">\\newcommand{\\Bold}[1]{\\mathbf{#1}}\\left(\\begin{array}{rrrr}\n",
       "2 & 1 & 2 & 6 \\\\\n",
       "6 & -6 & 6 & 36 \\\\\n",
       "4 & 3 & 3 & -1 \\\\\n",
       "2 & 2 & -1 & 10\n",
       "\\end{array}\\right)</script></html>"
      ],
      "text/latex": [
       "\\begin{math}\n",
       "\\newcommand{\\Bold}[1]{\\mathbf{#1}}\\left(\\begin{array}{rrrr}\n",
       "2 & 1 & 2 & 6 \\\\\n",
       "6 & -6 & 6 & 36 \\\\\n",
       "4 & 3 & 3 & -1 \\\\\n",
       "2 & 2 & -1 & 10\n",
       "\\end{array}\\right)\n",
       "\\end{math}"
      ],
      "text/plain": [
       "[ 2  1  2  6]\n",
       "[ 6 -6  6 36]\n",
       "[ 4  3  3 -1]\n",
       "[ 2  2 -1 10]"
      ]
     },
     "metadata": {},
     "output_type": "display_data"
    },
    {
     "data": {
      "text/html": [
       "<html><script type=\"math/tex; mode=display\">\\newcommand{\\Bold}[1]{\\mathbf{#1}}\\verb|x|\\phantom{\\verb!x!}\\verb|of|\\phantom{\\verb!x!}\\verb|A3x|\\phantom{\\verb!x!}\\verb|=|\\phantom{\\verb!x!}\\verb|b3|\\phantom{\\verb!x!}\\verb|:| \\left(2,\\,1,\\,-1,\\,3\\right)</script></html>"
      ],
      "text/latex": [
       "\\begin{math}\n",
       "\\newcommand{\\Bold}[1]{\\mathbf{#1}}\\verb|x|\\phantom{\\verb!x!}\\verb|of|\\phantom{\\verb!x!}\\verb|A3x|\\phantom{\\verb!x!}\\verb|=|\\phantom{\\verb!x!}\\verb|b3|\\phantom{\\verb!x!}\\verb|:| \\left(2,\\,1,\\,-1,\\,3\\right)\n",
       "\\end{math}"
      ],
      "text/plain": [
       "'x of A3x = b3 :' (2, 1, -1, 3)"
      ]
     },
     "metadata": {},
     "output_type": "display_data"
    }
   ],
   "source": [
    "#Show A3 and b3 for reference\n",
    "pretty_print(\"A3 :\", A3, \" b3 :\", b3)\n",
    "\n",
    "#Cramer's Rule\n",
    "#Create a list for holding the results of computation\n",
    "cramer_sol = []\n",
    "\n",
    "#Create a list for holding the x's elements' names (printing purposes)\n",
    "names = [\"x\", \"y\", \"z\", \"w\"]\n",
    "\n",
    "#To compute the value for x, replace the first column vector in A3 with b3, divide the determinant of A3_1 by determinant of A3\n",
    "#To compute the value for y, replace the second column vector in A3 with b3, divide the determinant of A3_2 by determinant of A3\n",
    "#To compute the value for z, replace the third column vector in A3 with b3, divide the determinant of A3_3 by determinant of A3\n",
    "#To compute the value for w, replace the forth column vector in A3 with b3, divide the determinant of A3_4 by determinant of A3\n",
    "\n",
    "#The four repetitive steps show above can be implemented using a for loop as below\n",
    "\n",
    "#The for loop executes 4 times (1 to 4 inclusive)\n",
    "for i in range(1,5):\n",
    "    #Create a temporary matrix that is same as A3  \n",
    "    A3_i = copy(A3)\n",
    "    \n",
    "    #Replace the i-th column of A3_i with column vector b3\n",
    "    A3_i[:,i-1] = b3\n",
    "    \n",
    "    #Compute the solution and append it to sol\n",
    "    cramer_sol.append(A3_i.det() / A3.det())\n",
    "    \n",
    "    #Show the results of x, y, z, w\n",
    "    pretty_print('Replacing the column %d of A3 with b3. Solution for %s : %d' % (i, names[i-1], cramer_sol[i-1]))\n",
    "    pretty_print(A3_i)\n",
    "\n",
    "#Create the vector x of A3x = b3\n",
    "x = vector([cramer_sol[0], cramer_sol[1], cramer_sol[2], cramer_sol[3]])\n",
    "\n",
    "#Show vector x\n",
    "pretty_print(\"x of A3x = b3 :\", x)\n",
    "\n",
    "marks += 3"
   ]
  },
  {
   "cell_type": "markdown",
   "metadata": {},
   "source": [
    "### 3(f)\n",
    "<div style=\"text-align: right; font-size: 1.1em; color:red\"> [2 marks]</div>\n",
    "\n",
    "Solve the system of linear equations again using `solve()` and compare with your answers in **3(e)**."
   ]
  },
  {
   "cell_type": "code",
   "execution_count": 90,
   "metadata": {},
   "outputs": [
    {
     "data": {
      "text/html": [
       "<html><script type=\"math/tex; mode=display\">\\newcommand{\\Bold}[1]{\\mathbf{#1}}\\verb|The|\\phantom{\\verb!x!}\\verb|elements|\\phantom{\\verb!x!}\\verb|of|\\phantom{\\verb!x!}\\verb|x|\\phantom{\\verb!x!}\\verb|computed|\\phantom{\\verb!x!}\\verb|using|\\phantom{\\verb!x!}\\verb|Cramer's|\\phantom{\\verb!x!}\\verb|Rule|\\phantom{\\verb!x!}\\verb|3(e)|\\phantom{\\verb!x!}\\verb|:|</script></html>"
      ],
      "text/latex": [
       "\\begin{math}\n",
       "\\newcommand{\\Bold}[1]{\\mathbf{#1}}\\verb|The|\\phantom{\\verb!x!}\\verb|elements|\\phantom{\\verb!x!}\\verb|of|\\phantom{\\verb!x!}\\verb|x|\\phantom{\\verb!x!}\\verb|computed|\\phantom{\\verb!x!}\\verb|using|\\phantom{\\verb!x!}\\verb|Cramer's|\\phantom{\\verb!x!}\\verb|Rule|\\phantom{\\verb!x!}\\verb|3(e)|\\phantom{\\verb!x!}\\verb|:|\n",
       "\\end{math}"
      ],
      "text/plain": [
       "\"The elements of x computed using Cramer's Rule 3(e) :\""
      ]
     },
     "metadata": {},
     "output_type": "display_data"
    },
    {
     "data": {
      "text/html": [
       "<html><script type=\"math/tex; mode=display\">\\newcommand{\\Bold}[1]{\\mathbf{#1}}\\verb|x|\\phantom{\\verb!x!}\\verb|=| 2 \\verb|,|\\phantom{\\verb!x!}\\verb|y|\\phantom{\\verb!x!}\\verb|=| 1 \\verb|,|\\phantom{\\verb!x!}\\verb|z|\\phantom{\\verb!x!}\\verb|=| -1 \\verb|,|\\phantom{\\verb!x!}\\verb|w|\\phantom{\\verb!x!}\\verb|=| 3</script></html>"
      ],
      "text/latex": [
       "\\begin{math}\n",
       "\\newcommand{\\Bold}[1]{\\mathbf{#1}}\\verb|x|\\phantom{\\verb!x!}\\verb|=| 2 \\verb|,|\\phantom{\\verb!x!}\\verb|y|\\phantom{\\verb!x!}\\verb|=| 1 \\verb|,|\\phantom{\\verb!x!}\\verb|z|\\phantom{\\verb!x!}\\verb|=| -1 \\verb|,|\\phantom{\\verb!x!}\\verb|w|\\phantom{\\verb!x!}\\verb|=| 3\n",
       "\\end{math}"
      ],
      "text/plain": [
       "'x = ' 2 ', y = ' 1 ', z = ' -1 ', w = ' 3"
      ]
     },
     "metadata": {},
     "output_type": "display_data"
    },
    {
     "data": {
      "text/html": [
       "<html><script type=\"math/tex; mode=display\">\\newcommand{\\Bold}[1]{\\mathbf{#1}}\\verb|The|\\phantom{\\verb!x!}\\verb|elements|\\phantom{\\verb!x!}\\verb|of|\\phantom{\\verb!x!}\\verb|x|\\phantom{\\verb!x!}\\verb|computed|\\phantom{\\verb!x!}\\verb|using|\\phantom{\\verb!x!}\\verb|SageMath|\\phantom{\\verb!x!}\\verb|3(f)|\\phantom{\\verb!x!}\\verb|:|</script></html>"
      ],
      "text/latex": [
       "\\begin{math}\n",
       "\\newcommand{\\Bold}[1]{\\mathbf{#1}}\\verb|The|\\phantom{\\verb!x!}\\verb|elements|\\phantom{\\verb!x!}\\verb|of|\\phantom{\\verb!x!}\\verb|x|\\phantom{\\verb!x!}\\verb|computed|\\phantom{\\verb!x!}\\verb|using|\\phantom{\\verb!x!}\\verb|SageMath|\\phantom{\\verb!x!}\\verb|3(f)|\\phantom{\\verb!x!}\\verb|:|\n",
       "\\end{math}"
      ],
      "text/plain": [
       "'The elements of x computed using SageMath 3(f) :'"
      ]
     },
     "metadata": {},
     "output_type": "display_data"
    },
    {
     "data": {
      "text/html": [
       "<html><script type=\"math/tex; mode=display\">\\newcommand{\\Bold}[1]{\\mathbf{#1}}\\verb|x|\\phantom{\\verb!x!}\\verb|==|\\phantom{\\verb!x!}\\verb|2,|\\phantom{\\verb!x!}\\verb|y|\\phantom{\\verb!x!}\\verb|==|\\phantom{\\verb!x!}\\verb|1,|\\phantom{\\verb!x!}\\verb|z|\\phantom{\\verb!x!}\\verb|==|\\phantom{\\verb!x!}\\verb|-1,|\\phantom{\\verb!x!}\\verb|w|\\phantom{\\verb!x!}\\verb|==|\\phantom{\\verb!x!}\\verb|3|</script></html>"
      ],
      "text/latex": [
       "\\begin{math}\n",
       "\\newcommand{\\Bold}[1]{\\mathbf{#1}}\\verb|x|\\phantom{\\verb!x!}\\verb|==|\\phantom{\\verb!x!}\\verb|2,|\\phantom{\\verb!x!}\\verb|y|\\phantom{\\verb!x!}\\verb|==|\\phantom{\\verb!x!}\\verb|1,|\\phantom{\\verb!x!}\\verb|z|\\phantom{\\verb!x!}\\verb|==|\\phantom{\\verb!x!}\\verb|-1,|\\phantom{\\verb!x!}\\verb|w|\\phantom{\\verb!x!}\\verb|==|\\phantom{\\verb!x!}\\verb|3|\n",
       "\\end{math}"
      ],
      "text/plain": [
       "'x == 2, y == 1, z == -1, w == 3'"
      ]
     },
     "metadata": {},
     "output_type": "display_data"
    },
    {
     "data": {
      "text/html": [
       "<html><script type=\"math/tex; mode=display\">\\newcommand{\\Bold}[1]{\\mathbf{#1}}\\verb|The|\\phantom{\\verb!x!}\\verb|results|\\phantom{\\verb!x!}\\verb|in|\\phantom{\\verb!x!}\\verb|3(e)|\\phantom{\\verb!x!}\\verb|is|\\phantom{\\verb!x!}\\verb|same|\\phantom{\\verb!x!}\\verb|as|\\phantom{\\verb!x!}\\verb|SageMath's|\\phantom{\\verb!x!}\\verb|solution|\\phantom{\\verb!x!}\\verb|in|\\phantom{\\verb!x!}\\verb|3(f)|</script></html>"
      ],
      "text/latex": [
       "\\begin{math}\n",
       "\\newcommand{\\Bold}[1]{\\mathbf{#1}}\\verb|The|\\phantom{\\verb!x!}\\verb|results|\\phantom{\\verb!x!}\\verb|in|\\phantom{\\verb!x!}\\verb|3(e)|\\phantom{\\verb!x!}\\verb|is|\\phantom{\\verb!x!}\\verb|same|\\phantom{\\verb!x!}\\verb|as|\\phantom{\\verb!x!}\\verb|SageMath's|\\phantom{\\verb!x!}\\verb|solution|\\phantom{\\verb!x!}\\verb|in|\\phantom{\\verb!x!}\\verb|3(f)|\n",
       "\\end{math}"
      ],
      "text/plain": [
       "\"The results in 3(e) is same as SageMath's solution in 3(f)\""
      ]
     },
     "metadata": {},
     "output_type": "display_data"
    }
   ],
   "source": [
    "#Create equations for simultaneous substitution\n",
    "var('x, y, z, w')\n",
    "eq_1 = 2*x + y + 2*z + w == 6\n",
    "eq_2 = 6*x - 6*y + 6*z + 12*w == 36\n",
    "eq_3 = 4*x + 3*y + 3*z - 3*w == -1\n",
    "eq_4 = 2*x + 2*y - z + w == 10\n",
    "solve([eq_1, eq_2, eq_3, eq_4], x, y, z, w)\n",
    "\n",
    "#Verify the results of x, y, z, w in x of A3x = b using Cramer's Rule with that using built-in SageMath function\n",
    "pretty_print(\"The elements of x computed using Cramer's Rule 3(e) :\")\n",
    "pretty_print(\"x = \", cramer_sol[0], \", y = \", cramer_sol[1], \", z = \", cramer_sol[2], \", w = \", cramer_sol[3])\n",
    "\n",
    "pretty_print(\"The elements of x computed using SageMath 3(f) :\")\n",
    "pretty_print(str(solve([eq_1, eq_2, eq_3, eq_4], x, y, z, w))[3:-3])\n",
    "\n",
    "pretty_print(\"The results in 3(e) is same as SageMath's solution in 3(f)\")\n",
    "\n",
    "marks += 1.6\n",
    "\n",
    "#can do comparison using =="
   ]
  },
  {
   "cell_type": "markdown",
   "metadata": {},
   "source": [
    "### 3(g)\n",
    "<div style=\"text-align: right; font-size: 1.1em; color:red\"> [2 marks]</div>\n",
    "\n",
    "Can you find one vector $b_3$ (the RHS) for which the system becomes unsolvable? If not, why not?"
   ]
  },
  {
   "cell_type": "code",
   "execution_count": 91,
   "metadata": {},
   "outputs": [
    {
     "data": {
      "text/html": [
       "<html><script type=\"math/tex; mode=display\">\\newcommand{\\Bold}[1]{\\mathbf{#1}}\\verb|Rank|\\phantom{\\verb!x!}\\verb|of|\\phantom{\\verb!x!}\\verb|coefficient|\\phantom{\\verb!x!}\\verb|matrix|\\phantom{\\verb!x!}\\verb|A3|\\phantom{\\verb!x!}\\verb|:| 4</script></html>"
      ],
      "text/latex": [
       "\\begin{math}\n",
       "\\newcommand{\\Bold}[1]{\\mathbf{#1}}\\verb|Rank|\\phantom{\\verb!x!}\\verb|of|\\phantom{\\verb!x!}\\verb|coefficient|\\phantom{\\verb!x!}\\verb|matrix|\\phantom{\\verb!x!}\\verb|A3|\\phantom{\\verb!x!}\\verb|:| 4\n",
       "\\end{math}"
      ],
      "text/plain": [
       "'Rank of coefficient matrix A3 :' 4"
      ]
     },
     "metadata": {},
     "output_type": "display_data"
    }
   ],
   "source": [
    "#Show the rank of coefficient matrix A3\n",
    "pretty_print(\"Rank of coefficient matrix A3 :\", A3.rank())\n",
    "\n",
    "marks += 2"
   ]
  },
  {
   "cell_type": "markdown",
   "metadata": {},
   "source": [
    "Since matrix A3 is a full-rank matrix (rank of 4 and A3 is a 4 by 4 matrix), it is impossible to have a b3 that makes the system unsolvable. This is because the inconsistent condition will never occurs, i.e., a row with 0 = b in RREF form."
   ]
  },
  {
   "cell_type": "markdown",
   "metadata": {},
   "source": [
    "### 3(h)\n",
    "<div style=\"text-align: right; font-size: 1.1em; color:red\"> [2 marks]</div>\n",
    "\n",
    "Here is another matrix $C_3$\n",
    "$$ C_3 =  \\left(\\begin{array}{rr}\n",
    "1 & 0 & 0 & 2\\\\\n",
    "0 & -1 & 1 & 4\n",
    "\\end{array}\\right) $$\n",
    "\n",
    "Calculate $C_3^{-1}$ "
   ]
  },
  {
   "cell_type": "markdown",
   "metadata": {},
   "source": [
    "Since C3 is not a square matrix, it is guaranteed that C3 does not have an inverse.\n",
    "\n",
    "# can find right inverse\n"
   ]
  },
  {
   "cell_type": "code",
   "execution_count": 92,
   "metadata": {},
   "outputs": [
    {
     "data": {
      "text/html": [
       "<html><script type=\"math/tex; mode=display\">\\newcommand{\\Bold}[1]{\\mathbf{#1}}\\verb|The|\\phantom{\\verb!x!}\\verb|answer|\\phantom{\\verb!x!}\\verb|statement|\\phantom{\\verb!x!}\\verb|is|\\phantom{\\verb!x!}\\verb|correct.|\\phantom{\\verb!x!}\\verb|C3|\\phantom{\\verb!x!}\\verb|does|\\phantom{\\verb!x!}\\verb|not|\\phantom{\\verb!x!}\\verb|have|\\phantom{\\verb!x!}\\verb|an|\\phantom{\\verb!x!}\\verb|inverse.|</script></html>"
      ],
      "text/latex": [
       "\\begin{math}\n",
       "\\newcommand{\\Bold}[1]{\\mathbf{#1}}\\verb|The|\\phantom{\\verb!x!}\\verb|answer|\\phantom{\\verb!x!}\\verb|statement|\\phantom{\\verb!x!}\\verb|is|\\phantom{\\verb!x!}\\verb|correct.|\\phantom{\\verb!x!}\\verb|C3|\\phantom{\\verb!x!}\\verb|does|\\phantom{\\verb!x!}\\verb|not|\\phantom{\\verb!x!}\\verb|have|\\phantom{\\verb!x!}\\verb|an|\\phantom{\\verb!x!}\\verb|inverse.|\n",
       "\\end{math}"
      ],
      "text/plain": [
       "'The answer statement is correct. C3 does not have an inverse.'"
      ]
     },
     "metadata": {},
     "output_type": "display_data"
    }
   ],
   "source": [
    "#Verify the answer statement in 3(h) with SageMath built-in function\n",
    "C3 = matrix([[1, 0, 0, 2], [0, -1, 1, 4]])\n",
    "\n",
    "\n",
    "\n",
    "try:\n",
    "    C3_inv = C3.inverse()\n",
    "    pretty_print(\"The answer statement is incorrect. C3 has an inverse. The inverse is :\", C3_inv)\n",
    "except Exception as excpt:\n",
    "    pretty_print(\"The answer statement is correct. C3 does not have an inverse.\")\n",
    "    \n",
    "    "
   ]
  },
  {
   "cell_type": "markdown",
   "metadata": {},
   "source": [
    "### 3(i)\n",
    "<div style=\"text-align: right; font-size: 1.1em; color:red\"> [2 marks]</div>\n",
    "\n",
    "Calculate $(C_3^T)^{-1}$"
   ]
  },
  {
   "cell_type": "markdown",
   "metadata": {},
   "source": [
    "Since C3 is a wide matrix (and not a square matrix), the transpose of C3 is a tall matrix, so it is guaranteed that the transpose does not have an inverse.\n",
    "\n",
    "# can find left inverse"
   ]
  },
  {
   "cell_type": "code",
   "execution_count": 93,
   "metadata": {},
   "outputs": [
    {
     "data": {
      "text/html": [
       "<html><script type=\"math/tex; mode=display\">\\newcommand{\\Bold}[1]{\\mathbf{#1}}\\verb|The|\\phantom{\\verb!x!}\\verb|answer|\\phantom{\\verb!x!}\\verb|statement|\\phantom{\\verb!x!}\\verb|is|\\phantom{\\verb!x!}\\verb|correct.|\\phantom{\\verb!x!}\\verb|Transpose|\\phantom{\\verb!x!}\\verb|of|\\phantom{\\verb!x!}\\verb|C3|\\phantom{\\verb!x!}\\verb|does|\\phantom{\\verb!x!}\\verb|not|\\phantom{\\verb!x!}\\verb|have|\\phantom{\\verb!x!}\\verb|an|\\phantom{\\verb!x!}\\verb|inverse.|</script></html>"
      ],
      "text/latex": [
       "\\begin{math}\n",
       "\\newcommand{\\Bold}[1]{\\mathbf{#1}}\\verb|The|\\phantom{\\verb!x!}\\verb|answer|\\phantom{\\verb!x!}\\verb|statement|\\phantom{\\verb!x!}\\verb|is|\\phantom{\\verb!x!}\\verb|correct.|\\phantom{\\verb!x!}\\verb|Transpose|\\phantom{\\verb!x!}\\verb|of|\\phantom{\\verb!x!}\\verb|C3|\\phantom{\\verb!x!}\\verb|does|\\phantom{\\verb!x!}\\verb|not|\\phantom{\\verb!x!}\\verb|have|\\phantom{\\verb!x!}\\verb|an|\\phantom{\\verb!x!}\\verb|inverse.|\n",
       "\\end{math}"
      ],
      "text/plain": [
       "'The answer statement is correct. Transpose of C3 does not have an inverse.'"
      ]
     },
     "metadata": {},
     "output_type": "display_data"
    }
   ],
   "source": [
    "#Verify the answer statement in 3(i) with SageMath built-in function\n",
    "try:\n",
    "    C3_T_inv = (C3.T).inverse()\n",
    "    pretty_print(\"The answer statement is incorrect. Transpose of C3 has an inverse. The inverse is :\", C3_T_inv)\n",
    "except Exception as excpt:\n",
    "    pretty_print(\"The answer statement is correct. Transpose of C3 does not have an inverse.\")"
   ]
  },
  {
   "cell_type": "markdown",
   "metadata": {},
   "source": [
    "### 3(j)\n",
    "<div style=\"text-align: right; font-size: 1.1em; color:red\"> [1 mark]</div>\n",
    "\n",
    "Is $C_3$ a rank deficient matrix? Are the column vectors of $C_3$ linearly independent? If not, why?"
   ]
  },
  {
   "cell_type": "code",
   "execution_count": 94,
   "metadata": {},
   "outputs": [
    {
     "data": {
      "text/html": [
       "<html><script type=\"math/tex; mode=display\">\\newcommand{\\Bold}[1]{\\mathbf{#1}}\\verb|Rank(C3)|\\phantom{\\verb!x!}\\verb|:| 2</script></html>"
      ],
      "text/latex": [
       "\\begin{math}\n",
       "\\newcommand{\\Bold}[1]{\\mathbf{#1}}\\verb|Rank(C3)|\\phantom{\\verb!x!}\\verb|:| 2\n",
       "\\end{math}"
      ],
      "text/plain": [
       "'Rank(C3) :' 2"
      ]
     },
     "metadata": {},
     "output_type": "display_data"
    }
   ],
   "source": [
    "#Show the rank of C3\n",
    "pretty_print(\"Rank(C3) :\", C3.rank())"
   ]
  },
  {
   "cell_type": "markdown",
   "metadata": {},
   "source": [
    "C3 is not a rank deficient matrix, in fact, C3, as a 2 by 4 matrix is a full-rank (full-row-rank) matrix.\n",
    "\n",
    "The column vectors of C3 are guaranteed to be linearly dependent because C3 is not full column rank. This implies that there are only 2 column vectors are linearly independent of each other, the other two column vectors are linear combinations of the first two column vectors."
   ]
  },
  {
   "cell_type": "code",
   "execution_count": 95,
   "metadata": {},
   "outputs": [
    {
     "name": "stdout",
     "output_type": "stream",
     "text": [
      "33.5000000000000\n"
     ]
    },
    {
     "data": {
      "text/html": [
       "<html><script type=\"math/tex; mode=display\">\\newcommand{\\Bold}[1]{\\mathbf{#1}}\\verb|2|\\phantom{\\verb!x!}\\verb|*|\\phantom{\\verb!x!}\\verb|c1|\\phantom{\\verb!x!}\\verb|+|\\phantom{\\verb!x!}\\verb|4|\\phantom{\\verb!x!}\\verb|*|\\phantom{\\verb!x!}\\verb|c3|\\phantom{\\verb!x!}\\verb|=|\\phantom{\\verb!x!}\\verb|c4|\\phantom{\\verb!x!}\\verb|is|\\phantom{\\verb!x!}\\verb|true|</script></html>"
      ],
      "text/latex": [
       "\\begin{math}\n",
       "\\newcommand{\\Bold}[1]{\\mathbf{#1}}\\verb|2|\\phantom{\\verb!x!}\\verb|*|\\phantom{\\verb!x!}\\verb|c1|\\phantom{\\verb!x!}\\verb|+|\\phantom{\\verb!x!}\\verb|4|\\phantom{\\verb!x!}\\verb|*|\\phantom{\\verb!x!}\\verb|c3|\\phantom{\\verb!x!}\\verb|=|\\phantom{\\verb!x!}\\verb|c4|\\phantom{\\verb!x!}\\verb|is|\\phantom{\\verb!x!}\\verb|true|\n",
       "\\end{math}"
      ],
      "text/plain": [
       "'2 * c1 + 4 * c3 = c4 is true'"
      ]
     },
     "metadata": {},
     "output_type": "display_data"
    },
    {
     "data": {
      "text/html": [
       "<html><script type=\"math/tex; mode=display\">\\newcommand{\\Bold}[1]{\\mathbf{#1}}\\verb|0|\\phantom{\\verb!x!}\\verb|*|\\phantom{\\verb!x!}\\verb|c1|\\phantom{\\verb!x!}\\verb|-|\\phantom{\\verb!x!}\\verb|1|\\phantom{\\verb!x!}\\verb|*|\\phantom{\\verb!x!}\\verb|c3|\\phantom{\\verb!x!}\\verb|=|\\phantom{\\verb!x!}\\verb|c2|\\phantom{\\verb!x!}\\verb|is|\\phantom{\\verb!x!}\\verb|true|</script></html>"
      ],
      "text/latex": [
       "\\begin{math}\n",
       "\\newcommand{\\Bold}[1]{\\mathbf{#1}}\\verb|0|\\phantom{\\verb!x!}\\verb|*|\\phantom{\\verb!x!}\\verb|c1|\\phantom{\\verb!x!}\\verb|-|\\phantom{\\verb!x!}\\verb|1|\\phantom{\\verb!x!}\\verb|*|\\phantom{\\verb!x!}\\verb|c3|\\phantom{\\verb!x!}\\verb|=|\\phantom{\\verb!x!}\\verb|c2|\\phantom{\\verb!x!}\\verb|is|\\phantom{\\verb!x!}\\verb|true|\n",
       "\\end{math}"
      ],
      "text/plain": [
       "'0 * c1 - 1 * c3 = c2 is true'"
      ]
     },
     "metadata": {},
     "output_type": "display_data"
    }
   ],
   "source": [
    "marks += 1\n",
    "print(marks)\n",
    "\n",
    "\n",
    "#For example, let's name the column vectors of C3, from left to right, as c1, c2, c3 and c4.\n",
    "c1 = C3 * vector([1, 0, 0, 0])\n",
    "c2 = C3 * vector([0, 1, 0, 0])\n",
    "c3 = C3 * vector([0, 0, 1, 0])\n",
    "c4 = C3 * vector([0, 0, 0, 1])\n",
    "\n",
    "test1 = 2 * c1 + 4 * c3 == c4\n",
    "test2 = 0 * c1 - 1 * c3 == c2\n",
    "\n",
    "#Verify the results\n",
    "if(test1 and test2):\n",
    "    pretty_print(\"2 * c1 + 4 * c3 = c4 is true\")\n",
    "    pretty_print(\"0 * c1 - 1 * c3 = c2 is true\")\n",
    "    \n",
    "    "
   ]
  },
  {
   "cell_type": "markdown",
   "metadata": {},
   "source": [
    "<div style=\"color:white;background-color:red;padding:5px\">\n",
    "\n",
    "\n",
    "### <center>End of Assignment 1</center>\n",
    "</div>"
   ]
  }
 ],
 "metadata": {
  "kernelspec": {
   "display_name": "SageMath 9.2",
   "language": "sage",
   "name": "sagemath"
  },
  "language_info": {
   "codemirror_mode": {
    "name": "ipython",
    "version": 3
   },
   "file_extension": ".py",
   "mimetype": "text/x-python",
   "name": "python",
   "nbconvert_exporter": "python",
   "pygments_lexer": "ipython3",
   "version": "3.7.7"
  }
 },
 "nbformat": 4,
 "nbformat_minor": 4
}
